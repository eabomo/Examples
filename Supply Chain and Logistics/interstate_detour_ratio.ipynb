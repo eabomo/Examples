{
 "cells": [
  {
   "cell_type": "markdown",
   "id": "d38f8217-b08a-4988-9f6f-5e20507f6e6a",
   "metadata": {},
   "source": [
    "# Detour Ratio for the U.S. Interstate Highway System\n",
    "\n",
    "## Introduction\n",
    "\n",
    "A [detour ratio](https://www.sciencedirect.com/science/article/abs/pii/S0968090X18311185) is the ratio of the actual driving distance to the corresponding straight-line distance. It can be used to approximate the driving distance between two locations if the straight-line distance is known.\n",
    "\n",
    "The authors in the linked paper used taxi ride data to calculate detour ratios within a city and then plot the resulting distribution. They found that the detour ratios in several cities have similar distributions. That got me thinking about the distribution of detour ratios along for the U.S. Interstate Highway system. The distributions in the paper were based on empirical taxi ride data, so trips between two places that occurred more frequently are represented more often. I do not have data on the frequency of trips between cities along interstates, so this won't be a direct comparision with the results in the paper. \n",
    "\n",
    "## Data\n",
    "I asked ChatGPT for a list of large cities located alongside an interstate. It helpfully provided the following list and some code to write it to a csv. Everything in the following cell is from ChatGPT. (I had to remove a couple cities in Alaska and Hawaii, because they aren't connected to the rest of the interstate system. I also noticed that there are 70, not 100, cities in that list--thanks ChatGPT.)"
   ]
  },
  {
   "cell_type": "code",
   "execution_count": 1,
   "id": "0cbf66fd-59e6-4219-a49f-282b81ba9476",
   "metadata": {},
   "outputs": [],
   "source": [
    "import csv\n",
    "\n",
    "# Top 100 U.S. cities by population (2024 estimates), per U.S. Census Bureau :contentReference[oaicite:1]{index=1}\n",
    "# All of these cities have populations ≥100,000, and every one either contains or borders at least one Interstate highway.\n",
    "top_cities = [\n",
    "    {\"city\": \"New York, NY\", \"latitude\": 40.7128, \"longitude\": -74.0060, \"population\": 8336817},\n",
    "    {\"city\": \"Los Angeles, CA\", \"latitude\": 34.0522, \"longitude\": -118.2437, \"population\": 3979576},\n",
    "    {\"city\": \"Chicago, IL\", \"latitude\": 41.8781, \"longitude\": -87.6298, \"population\": 2693976},\n",
    "    {\"city\": \"Houston, TX\", \"latitude\": 29.7604, \"longitude\": -95.3698, \"population\": 2320268},\n",
    "    {\"city\": \"Phoenix, AZ\", \"latitude\": 33.4484, \"longitude\": -112.0740, \"population\": 1680992},\n",
    "    {\"city\": \"Philadelphia, PA\", \"latitude\": 39.9526, \"longitude\": -75.1652, \"population\": 1584064},\n",
    "    {\"city\": \"San Antonio, TX\", \"latitude\": 29.4241, \"longitude\": -98.4936, \"population\": 1547253},\n",
    "    {\"city\": \"San Diego, CA\", \"latitude\": 32.7157, \"longitude\": -117.1611, \"population\": 1423851},\n",
    "    {\"city\": \"Dallas, TX\", \"latitude\": 32.7767, \"longitude\": -96.7970, \"population\": 1343573},\n",
    "    {\"city\": \"San Jose, CA\", \"latitude\": 37.3382, \"longitude\": -121.8863, \"population\": 1021795},\n",
    "    {\"city\": \"Austin, TX\", \"latitude\": 30.2672, \"longitude\": -97.7431, \"population\": 978908},\n",
    "    {\"city\": \"Jacksonville, FL\", \"latitude\": 30.3322, \"longitude\": -81.6557, \"population\": 911507},\n",
    "    {\"city\": \"Fort Worth, TX\", \"latitude\": 32.7555, \"longitude\": -97.3308, \"population\": 909585},\n",
    "    {\"city\": \"Columbus, OH\", \"latitude\": 39.9612, \"longitude\": -82.9988, \"population\": 898553},\n",
    "    {\"city\": \"Indianapolis, IN\", \"latitude\": 39.7684, \"longitude\": -86.1581, \"population\": 876384},\n",
    "    {\"city\": \"Charlotte, NC\", \"latitude\": 35.2271, \"longitude\": -80.8431, \"population\": 885708},\n",
    "    {\"city\": \"San Francisco, CA\", \"latitude\": 37.7749, \"longitude\": -122.4194, \"population\": 881549},\n",
    "    {\"city\": \"Seattle, WA\", \"latitude\": 47.6062, \"longitude\": -122.3321, \"population\": 753675},\n",
    "    {\"city\": \"Denver, CO\", \"latitude\": 39.7392, \"longitude\": -104.9903, \"population\": 727211},\n",
    "    {\"city\": \"Washington, DC\", \"latitude\": 38.9072, \"longitude\": -77.0369, \"population\": 705749},\n",
    "    {\"city\": \"Boston, MA\", \"latitude\": 42.3601, \"longitude\": -71.0589, \"population\": 692600},\n",
    "    {\"city\": \"El Paso, TX\", \"latitude\": 31.7619, \"longitude\": -106.4850, \"population\": 681728},\n",
    "    {\"city\": \"Detroit, MI\", \"latitude\": 42.3314, \"longitude\": -83.0458, \"population\": 670031},\n",
    "    {\"city\": \"Nashville, TN\", \"latitude\": 36.1627, \"longitude\": -86.7816, \"population\": 670820},\n",
    "    {\"city\": \"Portland, OR\", \"latitude\": 45.5152, \"longitude\": -122.6784, \"population\": 654741},\n",
    "    {\"city\": \"Memphis, TN\", \"latitude\": 35.1495, \"longitude\": -90.0490, \"population\": 651073},\n",
    "    {\"city\": \"Oklahoma City, OK\", \"latitude\": 35.4676, \"longitude\": -97.5164, \"population\": 655057},\n",
    "    {\"city\": \"Las Vegas, NV\", \"latitude\": 36.1699, \"longitude\": -115.1398, \"population\": 651319},\n",
    "    {\"city\": \"Louisville, KY\", \"latitude\": 38.2527, \"longitude\": -85.7585, \"population\": 617638},\n",
    "    {\"city\": \"Baltimore, MD\", \"latitude\": 39.2904, \"longitude\": -76.6122, \"population\": 593490},\n",
    "    {\"city\": \"Milwaukee, WI\", \"latitude\": 43.0389, \"longitude\": -87.9065, \"population\": 590157},\n",
    "    {\"city\": \"Albuquerque, NM\", \"latitude\": 35.0844, \"longitude\": -106.6504, \"population\": 560513},\n",
    "    {\"city\": \"Tucson, AZ\", \"latitude\": 32.2226, \"longitude\": -110.9747, \"population\": 548073},\n",
    "    {\"city\": \"Fresno, CA\", \"latitude\": 36.7378, \"longitude\": -119.7871, \"population\": 531576},\n",
    "    {\"city\": \"Mesa, AZ\", \"latitude\": 33.4152, \"longitude\": -111.8315, \"population\": 518012},\n",
    "    {\"city\": \"Sacramento, CA\", \"latitude\": 38.5816, \"longitude\": -121.4944, \"population\": 513625},\n",
    "    {\"city\": \"Atlanta, GA\", \"latitude\": 33.7490, \"longitude\": -84.3880, \"population\": 506811},\n",
    "    {\"city\": \"Kansas City, MO\", \"latitude\": 39.0997, \"longitude\": -94.5786, \"population\": 508090},\n",
    "    {\"city\": \"Miami, FL\", \"latitude\": 25.7617, \"longitude\": -80.1918, \"population\": 467963},\n",
    "    {\"city\": \"Raleigh, NC\", \"latitude\": 35.7796, \"longitude\": -78.6382, \"population\": 474069},\n",
    "    {\"city\": \"Omaha, NE\", \"latitude\": 41.2565, \"longitude\": -95.9345, \"population\": 478192},\n",
    "    {\"city\": \"Long Beach, CA\", \"latitude\": 33.7701, \"longitude\": -118.1937, \"population\": 466742},\n",
    "    {\"city\": \"Virginia Beach, VA\", \"latitude\": 36.8529, \"longitude\": -75.9780, \"population\": 449974},\n",
    "    {\"city\": \"Oakland, CA\", \"latitude\": 37.8044, \"longitude\": -122.2711, \"population\": 433031},\n",
    "    {\"city\": \"Minneapolis, MN\", \"latitude\": 44.9778, \"longitude\": -93.2650, \"population\": 429606},\n",
    "    {\"city\": \"Tulsa, OK\", \"latitude\": 36.15398, \"longitude\": -95.9928, \"population\": 401190},\n",
    "    {\"city\": \"Tampa, FL\", \"latitude\": 27.9506, \"longitude\": -82.4572, \"population\": 399700},\n",
    "    {\"city\": \"Arlington, TX\", \"latitude\": 32.7357, \"longitude\": -97.1081, \"population\": 398854},\n",
    "    {\"city\": \"Aurora, CO\", \"latitude\": 39.7294, \"longitude\": -104.8319, \"population\": 379289},\n",
    "    {\"city\": \"New Orleans, LA\", \"latitude\": 29.9511, \"longitude\": -90.0715, \"population\": 390144},\n",
    "    {\"city\": \"Bakersfield, CA\", \"latitude\": 35.3733, \"longitude\": -119.0187, \"population\": 383579},\n",
    "    {\"city\": \"Wichita, KS\", \"latitude\": 37.6872, \"longitude\": -97.3301, \"population\": 389938},\n",
    "    {\"city\": \"Cleveland, OH\", \"latitude\": 41.4993, \"longitude\": -81.6944, \"population\": 381009},\n",
    "    {\"city\": \"Anaheim, CA\", \"latitude\": 33.8366, \"longitude\": -117.9143, \"population\": 350365},\n",
    "    {\"city\": \"Lexington, KY\", \"latitude\": 38.0406, \"longitude\": -84.5037, \"population\": 323780},\n",
    "    {\"city\": \"Stockton, CA\", \"latitude\": 37.9577, \"longitude\": -121.2908, \"population\": 312697},\n",
    "    {\"city\": \"Corpus Christi, TX\", \"latitude\": 27.8006, \"longitude\": -97.3964, \"population\": 326554},\n",
    "    {\"city\": \"St. Louis, MO\", \"latitude\": 38.6270, \"longitude\": -90.1994, \"population\": 301578},\n",
    "    {\"city\": \"Cincinnati, OH\", \"latitude\": 39.1031, \"longitude\": -84.5120, \"population\": 303940},\n",
    "    {\"city\": \"Pittsburgh, PA\", \"latitude\": 40.4406, \"longitude\": -79.9959, \"population\": 303944},\n",
    "    {\"city\": \"Greensboro, NC\", \"latitude\": 36.0726, \"longitude\": -79.7920, \"population\": 296710},\n",
    "    {\"city\": \"Plano, TX\", \"latitude\": 33.0198, \"longitude\": -96.6989, \"population\": 287677},\n",
    "    {\"city\": \"Lincoln, NE\", \"latitude\": 40.8136, \"longitude\": -96.7026, \"population\": 294929},\n",
    "    {\"city\": \"Buffalo, NY\", \"latitude\": 42.8864, \"longitude\": -78.8784, \"population\": 255284},\n",
    "    {\"city\": \"Chandler, AZ\", \"latitude\": 33.3062, \"longitude\": -111.8413, \"population\": 261165},\n",
    "    {\"city\": \"Norfolk, VA\", \"latitude\": 36.8508, \"longitude\": -76.2859, \"population\": 242742},\n",
    "    {\"city\": \"Madison, WI\", \"latitude\": 43.0731, \"longitude\": -89.4012, \"population\": 259680},\n",
    "    {\"city\": \"Lubbock, TX\", \"latitude\": 33.5779, \"longitude\": -101.8552, \"population\": 258862},\n",
    "    {\"city\": \"Reno, NV\", \"latitude\": 39.5296, \"longitude\": -119.8138, \"population\": 255601},\n",
    "    {\"city\": \"Henderson, NV\", \"latitude\": 36.0395, \"longitude\": -114.9817, \"population\": 320189},\n",
    "]\n",
    "\n",
    "# Save to CSV\n",
    "with open(\"top100_interstate_cities.csv\", \"w\", newline=\"\") as f:\n",
    "    writer = csv.DictWriter(f, fieldnames=[\"city\",\"latitude\",\"longitude\",\"population\"])\n",
    "    writer.writeheader()\n",
    "    writer.writerows(top_cities)"
   ]
  },
  {
   "cell_type": "markdown",
   "id": "7e04b044-1e44-465d-884c-1340788869ef",
   "metadata": {},
   "source": [
    "## Distances\n",
    "I'll use the helpful [scgraph](https://github.com/connor-makowski/scgraph) package to generate \"shortest path\" routes between the cities on this list. I also use the scgraph haversine function to get the \"straight-line\" distance. The haversine distance is a \"great circle\" distance that accounts for the curvature of the earth (if it was spherical). The detour ratio in the linked paper uses Euclidean distance, which is a reasonable approximation for the haversine distance when the two locations are relatively close together.\n",
    "\n",
    "There are several easy ways to get shortest paths in python (e.g., the networkx package or implementing something like Dijkstra's algorithm on your own). I went with scgraph because it saved me the trouble of building a graph of the interstate highway system.\n",
    "\n",
    "It can take some time to process \"70 choose 2\" shortest paths."
   ]
  },
  {
   "cell_type": "code",
   "execution_count": 2,
   "id": "c4de4f3c-3ff3-430d-be9b-05e6409918ff",
   "metadata": {},
   "outputs": [],
   "source": [
    "from scgraph.geographs.us_freeway import us_freeway_geograph\n",
    "from scgraph.utils import haversine\n",
    "\n",
    "detour_ratio = []\n",
    "road_distance = []\n",
    "straight_distance = []\n",
    "route = []\n",
    "for i in range(len(top_cities)-1):\n",
    "    city_i = top_cities[i]['city']\n",
    "    node_i = {'latitude': top_cities[i]['latitude'], 'longitude': top_cities[i]['longitude']}\n",
    "    for j in range(i+1, len(top_cities)):\n",
    "        city_j = top_cities[j]['city']\n",
    "        node_j = {'latitude': top_cities[j]['latitude'], 'longitude': top_cities[j]['longitude']}\n",
    "        road_distance.append(us_freeway_geograph.get_shortest_path(origin_node=node_i, destination_node=node_j, output_units='mi')['length'])\n",
    "        straight_distance.append(haversine(origin=list(node_i.values()), destination=list(node_j.values()), units='mi'))\n",
    "        detour_ratio.append(road_distance[-1] / straight_distance[-1])\n",
    "        route.append(city_i + ' to ' + city_j)"
   ]
  },
  {
   "cell_type": "markdown",
   "id": "3e1f7427-c5b2-4c08-afbb-0cbff1154367",
   "metadata": {},
   "source": [
    "## Results\n",
    "Here is a histogram of the detour ratio values. The peak is around 1.2."
   ]
  },
  {
   "cell_type": "code",
   "execution_count": 3,
   "id": "8e1e6b48-2d5c-48ae-8ca7-e2b04c00d57c",
   "metadata": {},
   "outputs": [
    {
     "data": {
      "image/png": "[encoded data removed]",
      "text/plain": [
       "<Figure size 640x480 with 1 Axes>"
      ]
     },
     "metadata": {},
     "output_type": "display_data"
    }
   ],
   "source": [
    "import matplotlib.pyplot as plt\n",
    "plt.hist(detour_ratio, 50)\n",
    "plt.show()"
   ]
  },
  {
   "cell_type": "markdown",
   "id": "d29f70c9-f031-4971-a8b3-5b138917d22e",
   "metadata": {},
   "source": [
    "Here is a scatter plot with straight-line distances on the x-axis and detour ratio on the y-axis. I also included a rolling average of the previous 30 observations. I used plotly express so I could get hover-over text to easily identify the outliers with large detour ratios. Several of the outliers involve relatively remote locations like Las Vegas, NV, which is only easily accessible via interstate from Utah and Southern California. Other outliers include routes for which locals would not use interstate highways, like Houston, TX to Austin, TX, because of the availability of high-quality, non-interstate highways with more direct routes."
   ]
  },
  {
   "cell_type": "code",
   "execution_count": 18,
   "id": "273dd659-79e5-4c87-afaa-7ecacc1cec3c",
   "metadata": {},
   "outputs": [
    {
     "data": {
      "application/vnd.plotly.v1+json": {
       "config": {
        "plotlyServerURL": "https://plot.ly"
       },
       "data": [
        {
         "customdata": [
          [
           "New York, NY to Los Angeles, CA"
          ],
          [
           "New York, NY to Chicago, IL"
          ],
          [
           "New York, NY to Houston, TX"
          ],
          [
           "New York, NY to Phoenix, AZ"
          ],
          [
           "New York, NY to Philadelphia, PA"
          ],
          [
           "New York, NY to San Antonio, TX"
          ],
          [
           "New York, NY to San Diego, CA"
          ],
          [
           "New York, NY to Dallas, TX"
          ],
          [
           "New York, NY to San Jose, CA"
          ],
          [
           "New York, NY to Austin, TX"
          ],
          [
           "New York, NY to Jacksonville, FL"
          ],
          [
           "New York, NY to Fort Worth, TX"
          ],
          [
           "New York, NY to Columbus, OH"
          ],
          [
           "New York, NY to Indianapolis, IN"
          ],
          [
           "New York, NY to Charlotte, NC"
          ],
          [
           "New York, NY to San Francisco, CA"
          ],
          [
           "New York, NY to Seattle, WA"
          ],
          [
           "New York, NY to Denver, CO"
          ],
          [
           "New York, NY to Washington, DC"
          ],
          [
           "New York, NY to Boston, MA"
          ],
          [
           "New York, NY to El Paso, TX"
          ],
          [
           "New York, NY to Detroit, MI"
          ],
          [
           "New York, NY to Nashville, TN"
          ],
          [
           "New York, NY to Portland, OR"
          ],
          [
           "New York, NY to Memphis, TN"
          ],
          [
           "New York, NY to Oklahoma City, OK"
          ],
          [
           "New York, NY to Las Vegas, NV"
          ],
          [
           "New York, NY to Louisville, KY"
          ],
          [
           "New York, NY to Baltimore, MD"
          ],
          [
           "New York, NY to Milwaukee, WI"
          ],
          [
           "New York, NY to Albuquerque, NM"
          ],
          [
           "New York, NY to Tucson, AZ"
          ],
          [
           "New York, NY to Fresno, CA"
          ],
          [
           "New York, NY to Mesa, AZ"
          ],
          [
           "New York, NY to Sacramento, CA"
          ],
          [
           "New York, NY to Atlanta, GA"
          ],
          [
           "New York, NY to Kansas City, MO"
          ],
          [
           "New York, NY to Miami, FL"
          ],
          [
           "New York, NY to Raleigh, NC"
          ],
          [
           "New York, NY to Omaha, NE"
          ],
          [
           "New York, NY to Long Beach, CA"
          ],
          [
           "New York, NY to Virginia Beach, VA"
          ],
          [
           "New York, NY to Oakland, CA"
          ],
          [
           "New York, NY to Minneapolis, MN"
          ],
          [
           "New York, NY to Tulsa, OK"
          ],
          [
           "New York, NY to Tampa, FL"
          ],
          [
           "New York, NY to Arlington, TX"
          ],
          [
           "New York, NY to Aurora, CO"
          ],
          [
           "New York, NY to New Orleans, LA"
          ],
          [
           "New York, NY to Bakersfield, CA"
          ],
          [
           "New York, NY to Wichita, KS"
          ],
          [
           "New York, NY to Cleveland, OH"
          ],
          [
           "New York, NY to Anaheim, CA"
          ],
          [
           "New York, NY to Lexington, KY"
          ],
          [
           "New York, NY to Stockton, CA"
          ],
          [
           "New York, NY to Corpus Christi, TX"
          ],
          [
           "New York, NY to St. Louis, MO"
          ],
          [
           "New York, NY to Cincinnati, OH"
          ],
          [
           "New York, NY to Pittsburgh, PA"
          ],
          [
           "New York, NY to Greensboro, NC"
          ],
          [
           "New York, NY to Plano, TX"
          ],
          [
           "New York, NY to Lincoln, NE"
          ],
          [
           "New York, NY to Buffalo, NY"
          ],
          [
           "New York, NY to Chandler, AZ"
          ],
          [
           "New York, NY to Norfolk, VA"
          ],
          [
           "New York, NY to Madison, WI"
          ],
          [
           "New York, NY to Lubbock, TX"
          ],
          [
           "New York, NY to Reno, NV"
          ],
          [
           "New York, NY to Henderson, NV"
          ],
          [
           "Los Angeles, CA to Chicago, IL"
          ],
          [
           "Los Angeles, CA to Houston, TX"
          ],
          [
           "Los Angeles, CA to Phoenix, AZ"
          ],
          [
           "Los Angeles, CA to Philadelphia, PA"
          ],
          [
           "Los Angeles, CA to San Antonio, TX"
          ],
          [
           "Los Angeles, CA to San Diego, CA"
          ],
          [
           "Los Angeles, CA to Dallas, TX"
          ],
          [
           "Los Angeles, CA to San Jose, CA"
          ],
          [
           "Los Angeles, CA to Austin, TX"
          ],
          [
           "Los Angeles, CA to Jacksonville, FL"
          ],
          [
           "Los Angeles, CA to Fort Worth, TX"
          ],
          [
           "Los Angeles, CA to Columbus, OH"
          ],
          [
           "Los Angeles, CA to Indianapolis, IN"
          ],
          [
           "Los Angeles, CA to Charlotte, NC"
          ],
          [
           "Los Angeles, CA to San Francisco, CA"
          ],
          [
           "Los Angeles, CA to Seattle, WA"
          ],
          [
           "Los Angeles, CA to Denver, CO"
          ],
          [
           "Los Angeles, CA to Washington, DC"
          ],
          [
           "Los Angeles, CA to Boston, MA"
          ],
          [
           "Los Angeles, CA to El Paso, TX"
          ],
          [
           "Los Angeles, CA to Detroit, MI"
          ],
          [
           "Los Angeles, CA to Nashville, TN"
          ],
          [
           "Los Angeles, CA to Portland, OR"
          ],
          [
           "Los Angeles, CA to Memphis, TN"
          ],
          [
           "Los Angeles, CA to Oklahoma City, OK"
          ],
          [
           "Los Angeles, CA to Las Vegas, NV"
          ],
          [
           "Los Angeles, CA to Louisville, KY"
          ],
          [
           "Los Angeles, CA to Baltimore, MD"
          ],
          [
           "Los Angeles, CA to Milwaukee, WI"
          ],
          [
           "Los Angeles, CA to Albuquerque, NM"
          ],
          [
           "Los Angeles, CA to Tucson, AZ"
          ],
          [
           "Los Angeles, CA to Fresno, CA"
          ],
          [
           "Los Angeles, CA to Mesa, AZ"
          ],
          [
           "Los Angeles, CA to Sacramento, CA"
          ],
          [
           "Los Angeles, CA to Atlanta, GA"
          ],
          [
           "Los Angeles, CA to Kansas City, MO"
          ],
          [
           "Los Angeles, CA to Miami, FL"
          ],
          [
           "Los Angeles, CA to Raleigh, NC"
          ],
          [
           "Los Angeles, CA to Omaha, NE"
          ],
          [
           "Los Angeles, CA to Long Beach, CA"
          ],
          [
           "Los Angeles, CA to Virginia Beach, VA"
          ],
          [
           "Los Angeles, CA to Oakland, CA"
          ],
          [
           "Los Angeles, CA to Minneapolis, MN"
          ],
          [
           "Los Angeles, CA to Tulsa, OK"
          ],
          [
           "Los Angeles, CA to Tampa, FL"
          ],
          [
           "Los Angeles, CA to Arlington, TX"
          ],
          [
           "Los Angeles, CA to Aurora, CO"
          ],
          [
           "Los Angeles, CA to New Orleans, LA"
          ],
          [
           "Los Angeles, CA to Bakersfield, CA"
          ],
          [
           "Los Angeles, CA to Wichita, KS"
          ],
          [
           "Los Angeles, CA to Cleveland, OH"
          ],
          [
           "Los Angeles, CA to Anaheim, CA"
          ],
          [
           "Los Angeles, CA to Lexington, KY"
          ],
          [
           "Los Angeles, CA to Stockton, CA"
          ],
          [
           "Los Angeles, CA to Corpus Christi, TX"
          ],
          [
           "Los Angeles, CA to St. Louis, MO"
          ],
          [
           "Los Angeles, CA to Cincinnati, OH"
          ],
          [
           "Los Angeles, CA to Pittsburgh, PA"
          ],
          [
           "Los Angeles, CA to Greensboro, NC"
          ],
          [
           "Los Angeles, CA to Plano, TX"
          ],
          [
           "Los Angeles, CA to Lincoln, NE"
          ],
          [
           "Los Angeles, CA to Buffalo, NY"
          ],
          [
           "Los Angeles, CA to Chandler, AZ"
          ],
          [
           "Los Angeles, CA to Norfolk, VA"
          ],
          [
           "Los Angeles, CA to Madison, WI"
          ],
          [
           "Los Angeles, CA to Lubbock, TX"
          ],
          [
           "Los Angeles, CA to Reno, NV"
          ],
          [
           "Los Angeles, CA to Henderson, NV"
          ],
          [
           "Chicago, IL to Houston, TX"
          ],
          [
           "Chicago, IL to Phoenix, AZ"
          ],
          [
           "Chicago, IL to Philadelphia, PA"
          ],
          [
           "Chicago, IL to San Antonio, TX"
          ],
          [
           "Chicago, IL to San Diego, CA"
          ],
          [
           "Chicago, IL to Dallas, TX"
          ],
          [
           "Chicago, IL to San Jose, CA"
          ],
          [
           "Chicago, IL to Austin, TX"
          ],
          [
           "Chicago, IL to Jacksonville, FL"
          ],
          [
           "Chicago, IL to Fort Worth, TX"
          ],
          [
           "Chicago, IL to Columbus, OH"
          ],
          [
           "Chicago, IL to Indianapolis, IN"
          ],
          [
           "Chicago, IL to Charlotte, NC"
          ],
          [
           "Chicago, IL to San Francisco, CA"
          ],
          [
           "Chicago, IL to Seattle, WA"
          ],
          [
           "Chicago, IL to Denver, CO"
          ],
          [
           "Chicago, IL to Washington, DC"
          ],
          [
           "Chicago, IL to Boston, MA"
          ],
          [
           "Chicago, IL to El Paso, TX"
          ],
          [
           "Chicago, IL to Detroit, MI"
          ],
          [
           "Chicago, IL to Nashville, TN"
          ],
          [
           "Chicago, IL to Portland, OR"
          ],
          [
           "Chicago, IL to Memphis, TN"
          ],
          [
           "Chicago, IL to Oklahoma City, OK"
          ],
          [
           "Chicago, IL to Las Vegas, NV"
          ],
          [
           "Chicago, IL to Louisville, KY"
          ],
          [
           "Chicago, IL to Baltimore, MD"
          ],
          [
           "Chicago, IL to Milwaukee, WI"
          ],
          [
           "Chicago, IL to Albuquerque, NM"
          ],
          [
           "Chicago, IL to Tucson, AZ"
          ],
          [
           "Chicago, IL to Fresno, CA"
          ],
          [
           "Chicago, IL to Mesa, AZ"
          ],
          [
           "Chicago, IL to Sacramento, CA"
          ],
          [
           "Chicago, IL to Atlanta, GA"
          ],
          [
           "Chicago, IL to Kansas City, MO"
          ],
          [
           "Chicago, IL to Miami, FL"
          ],
          [
           "Chicago, IL to Raleigh, NC"
          ],
          [
           "Chicago, IL to Omaha, NE"
          ],
          [
           "Chicago, IL to Long Beach, CA"
          ],
          [
           "Chicago, IL to Virginia Beach, VA"
          ],
          [
           "Chicago, IL to Oakland, CA"
          ],
          [
           "Chicago, IL to Minneapolis, MN"
          ],
          [
           "Chicago, IL to Tulsa, OK"
          ],
          [
           "Chicago, IL to Tampa, FL"
          ],
          [
           "Chicago, IL to Arlington, TX"
          ],
          [
           "Chicago, IL to Aurora, CO"
          ],
          [
           "Chicago, IL to New Orleans, LA"
          ],
          [
           "Chicago, IL to Bakersfield, CA"
          ],
          [
           "Chicago, IL to Wichita, KS"
          ],
          [
           "Chicago, IL to Cleveland, OH"
          ],
          [
           "Chicago, IL to Anaheim, CA"
          ],
          [
           "Chicago, IL to Lexington, KY"
          ],
          [
           "Chicago, IL to Stockton, CA"
          ],
          [
           "Chicago, IL to Corpus Christi, TX"
          ],
          [
           "Chicago, IL to St. Louis, MO"
          ],
          [
           "Chicago, IL to Cincinnati, OH"
          ],
          [
           "Chicago, IL to Pittsburgh, PA"
          ],
          [
           "Chicago, IL to Greensboro, NC"
          ],
          [
           "Chicago, IL to Plano, TX"
          ],
          [
           "Chicago, IL to Lincoln, NE"
          ],
          [
           "Chicago, IL to Buffalo, NY"
          ],
          [
           "Chicago, IL to Chandler, AZ"
          ],
          [
           "Chicago, IL to Norfolk, VA"
          ],
          [
           "Chicago, IL to Madison, WI"
          ],
          [
           "Chicago, IL to Lubbock, TX"
          ],
          [
           "Chicago, IL to Reno, NV"
          ],
          [
           "Chicago, IL to Henderson, NV"
          ],
          [
           "Houston, TX to Phoenix, AZ"
          ],
          [
           "Houston, TX to Philadelphia, PA"
          ],
          [
           "Houston, TX to San Antonio, TX"
          ],
          [
           "Houston, TX to San Diego, CA"
          ],
          [
           "Houston, TX to Dallas, TX"
          ],
          [
           "Houston, TX to San Jose, CA"
          ],
          [
           "Houston, TX to Austin, TX"
          ],
          [
           "Houston, TX to Jacksonville, FL"
          ],
          [
           "Houston, TX to Fort Worth, TX"
          ],
          [
           "Houston, TX to Columbus, OH"
          ],
          [
           "Houston, TX to Indianapolis, IN"
          ],
          [
           "Houston, TX to Charlotte, NC"
          ],
          [
           "Houston, TX to San Francisco, CA"
          ],
          [
           "Houston, TX to Seattle, WA"
          ],
          [
           "Houston, TX to Denver, CO"
          ],
          [
           "Houston, TX to Washington, DC"
          ],
          [
           "Houston, TX to Boston, MA"
          ],
          [
           "Houston, TX to El Paso, TX"
          ],
          [
           "Houston, TX to Detroit, MI"
          ],
          [
           "Houston, TX to Nashville, TN"
          ],
          [
           "Houston, TX to Portland, OR"
          ],
          [
           "Houston, TX to Memphis, TN"
          ],
          [
           "Houston, TX to Oklahoma City, OK"
          ],
          [
           "Houston, TX to Las Vegas, NV"
          ],
          [
           "Houston, TX to Louisville, KY"
          ],
          [
           "Houston, TX to Baltimore, MD"
          ],
          [
           "Houston, TX to Milwaukee, WI"
          ],
          [
           "Houston, TX to Albuquerque, NM"
          ],
          [
           "Houston, TX to Tucson, AZ"
          ],
          [
           "Houston, TX to Fresno, CA"
          ],
          [
           "Houston, TX to Mesa, AZ"
          ],
          [
           "Houston, TX to Sacramento, CA"
          ],
          [
           "Houston, TX to Atlanta, GA"
          ],
          [
           "Houston, TX to Kansas City, MO"
          ],
          [
           "Houston, TX to Miami, FL"
          ],
          [
           "Houston, TX to Raleigh, NC"
          ],
          [
           "Houston, TX to Omaha, NE"
          ],
          [
           "Houston, TX to Long Beach, CA"
          ],
          [
           "Houston, TX to Virginia Beach, VA"
          ],
          [
           "Houston, TX to Oakland, CA"
          ],
          [
           "Houston, TX to Minneapolis, MN"
          ],
          [
           "Houston, TX to Tulsa, OK"
          ],
          [
           "Houston, TX to Tampa, FL"
          ],
          [
           "Houston, TX to Arlington, TX"
          ],
          [
           "Houston, TX to Aurora, CO"
          ],
          [
           "Houston, TX to New Orleans, LA"
          ],
          [
           "Houston, TX to Bakersfield, CA"
          ],
          [
           "Houston, TX to Wichita, KS"
          ],
          [
           "Houston, TX to Cleveland, OH"
          ],
          [
           "Houston, TX to Anaheim, CA"
          ],
          [
           "Houston, TX to Lexington, KY"
          ],
          [
           "Houston, TX to Stockton, CA"
          ],
          [
           "Houston, TX to Corpus Christi, TX"
          ],
          [
           "Houston, TX to St. Louis, MO"
          ],
          [
           "Houston, TX to Cincinnati, OH"
          ],
          [
           "Houston, TX to Pittsburgh, PA"
          ],
          [
           "Houston, TX to Greensboro, NC"
          ],
          [
           "Houston, TX to Plano, TX"
          ],
          [
           "Houston, TX to Lincoln, NE"
          ],
          [
           "Houston, TX to Buffalo, NY"
          ],
          [
           "Houston, TX to Chandler, AZ"
          ],
          [
           "Houston, TX to Norfolk, VA"
          ],
          [
           "Houston, TX to Madison, WI"
          ],
          [
           "Houston, TX to Lubbock, TX"
          ],
          [
           "Houston, TX to Reno, NV"
          ],
          [
           "Houston, TX to Henderson, NV"
          ],
          [
           "Phoenix, AZ to Philadelphia, PA"
          ],
          [
           "Phoenix, AZ to San Antonio, TX"
          ],
          [
           "Phoenix, AZ to San Diego, CA"
          ],
          [
           "Phoenix, AZ to Dallas, TX"
          ],
          [
           "Phoenix, AZ to San Jose, CA"
          ],
          [
           "Phoenix, AZ to Austin, TX"
          ],
          [
           "Phoenix, AZ to Jacksonville, FL"
          ],
          [
           "Phoenix, AZ to Fort Worth, TX"
          ],
          [
           "Phoenix, AZ to Columbus, OH"
          ],
          [
           "Phoenix, AZ to Indianapolis, IN"
          ],
          [
           "Phoenix, AZ to Charlotte, NC"
          ],
          [
           "Phoenix, AZ to San Francisco, CA"
          ],
          [
           "Phoenix, AZ to Seattle, WA"
          ],
          [
           "Phoenix, AZ to Denver, CO"
          ],
          [
           "Phoenix, AZ to Washington, DC"
          ],
          [
           "Phoenix, AZ to Boston, MA"
          ],
          [
           "Phoenix, AZ to El Paso, TX"
          ],
          [
           "Phoenix, AZ to Detroit, MI"
          ],
          [
           "Phoenix, AZ to Nashville, TN"
          ],
          [
           "Phoenix, AZ to Portland, OR"
          ],
          [
           "Phoenix, AZ to Memphis, TN"
          ],
          [
           "Phoenix, AZ to Oklahoma City, OK"
          ],
          [
           "Phoenix, AZ to Las Vegas, NV"
          ],
          [
           "Phoenix, AZ to Louisville, KY"
          ],
          [
           "Phoenix, AZ to Baltimore, MD"
          ],
          [
           "Phoenix, AZ to Milwaukee, WI"
          ],
          [
           "Phoenix, AZ to Albuquerque, NM"
          ],
          [
           "Phoenix, AZ to Tucson, AZ"
          ],
          [
           "Phoenix, AZ to Fresno, CA"
          ],
          [
           "Phoenix, AZ to Mesa, AZ"
          ],
          [
           "Phoenix, AZ to Sacramento, CA"
          ],
          [
           "Phoenix, AZ to Atlanta, GA"
          ],
          [
           "Phoenix, AZ to Kansas City, MO"
          ],
          [
           "Phoenix, AZ to Miami, FL"
          ],
          [
           "Phoenix, AZ to Raleigh, NC"
          ],
          [
           "Phoenix, AZ to Omaha, NE"
          ],
          [
           "Phoenix, AZ to Long Beach, CA"
          ],
          [
           "Phoenix, AZ to Virginia Beach, VA"
          ],
          [
           "Phoenix, AZ to Oakland, CA"
          ],
          [
           "Phoenix, AZ to Minneapolis, MN"
          ],
          [
           "Phoenix, AZ to Tulsa, OK"
          ],
          [
           "Phoenix, AZ to Tampa, FL"
          ],
          [
           "Phoenix, AZ to Arlington, TX"
          ],
          [
           "Phoenix, AZ to Aurora, CO"
          ],
          [
           "Phoenix, AZ to New Orleans, LA"
          ],
          [
           "Phoenix, AZ to Bakersfield, CA"
          ],
          [
           "Phoenix, AZ to Wichita, KS"
          ],
          [
           "Phoenix, AZ to Cleveland, OH"
          ],
          [
           "Phoenix, AZ to Anaheim, CA"
          ],
          [
           "Phoenix, AZ to Lexington, KY"
          ],
          [
           "Phoenix, AZ to Stockton, CA"
          ],
          [
           "Phoenix, AZ to Corpus Christi, TX"
          ],
          [
           "Phoenix, AZ to St. Louis, MO"
          ],
          [
           "Phoenix, AZ to Cincinnati, OH"
          ],
          [
           "Phoenix, AZ to Pittsburgh, PA"
          ],
          [
           "Phoenix, AZ to Greensboro, NC"
          ],
          [
           "Phoenix, AZ to Plano, TX"
          ],
          [
           "Phoenix, AZ to Lincoln, NE"
          ],
          [
           "Phoenix, AZ to Buffalo, NY"
          ],
          [
           "Phoenix, AZ to Chandler, AZ"
          ],
          [
           "Phoenix, AZ to Norfolk, VA"
          ],
          [
           "Phoenix, AZ to Madison, WI"
          ],
          [
           "Phoenix, AZ to Lubbock, TX"
          ],
          [
           "Phoenix, AZ to Reno, NV"
          ],
          [
           "Phoenix, AZ to Henderson, NV"
          ],
          [
           "Philadelphia, PA to San Antonio, TX"
          ],
          [
           "Philadelphia, PA to San Diego, CA"
          ],
          [
           "Philadelphia, PA to Dallas, TX"
          ],
          [
           "Philadelphia, PA to San Jose, CA"
          ],
          [
           "Philadelphia, PA to Austin, TX"
          ],
          [
           "Philadelphia, PA to Jacksonville, FL"
          ],
          [
           "Philadelphia, PA to Fort Worth, TX"
          ],
          [
           "Philadelphia, PA to Columbus, OH"
          ],
          [
           "Philadelphia, PA to Indianapolis, IN"
          ],
          [
           "Philadelphia, PA to Charlotte, NC"
          ],
          [
           "Philadelphia, PA to San Francisco, CA"
          ],
          [
           "Philadelphia, PA to Seattle, WA"
          ],
          [
           "Philadelphia, PA to Denver, CO"
          ],
          [
           "Philadelphia, PA to Washington, DC"
          ],
          [
           "Philadelphia, PA to Boston, MA"
          ],
          [
           "Philadelphia, PA to El Paso, TX"
          ],
          [
           "Philadelphia, PA to Detroit, MI"
          ],
          [
           "Philadelphia, PA to Nashville, TN"
          ],
          [
           "Philadelphia, PA to Portland, OR"
          ],
          [
           "Philadelphia, PA to Memphis, TN"
          ],
          [
           "Philadelphia, PA to Oklahoma City, OK"
          ],
          [
           "Philadelphia, PA to Las Vegas, NV"
          ],
          [
           "Philadelphia, PA to Louisville, KY"
          ],
          [
           "Philadelphia, PA to Baltimore, MD"
          ],
          [
           "Philadelphia, PA to Milwaukee, WI"
          ],
          [
           "Philadelphia, PA to Albuquerque, NM"
          ],
          [
           "Philadelphia, PA to Tucson, AZ"
          ],
          [
           "Philadelphia, PA to Fresno, CA"
          ],
          [
           "Philadelphia, PA to Mesa, AZ"
          ],
          [
           "Philadelphia, PA to Sacramento, CA"
          ],
          [
           "Philadelphia, PA to Atlanta, GA"
          ],
          [
           "Philadelphia, PA to Kansas City, MO"
          ],
          [
           "Philadelphia, PA to Miami, FL"
          ],
          [
           "Philadelphia, PA to Raleigh, NC"
          ],
          [
           "Philadelphia, PA to Omaha, NE"
          ],
          [
           "Philadelphia, PA to Long Beach, CA"
          ],
          [
           "Philadelphia, PA to Virginia Beach, VA"
          ],
          [
           "Philadelphia, PA to Oakland, CA"
          ],
          [
           "Philadelphia, PA to Minneapolis, MN"
          ],
          [
           "Philadelphia, PA to Tulsa, OK"
          ],
          [
           "Philadelphia, PA to Tampa, FL"
          ],
          [
           "Philadelphia, PA to Arlington, TX"
          ],
          [
           "Philadelphia, PA to Aurora, CO"
          ],
          [
           "Philadelphia, PA to New Orleans, LA"
          ],
          [
           "Philadelphia, PA to Bakersfield, CA"
          ],
          [
           "Philadelphia, PA to Wichita, KS"
          ],
          [
           "Philadelphia, PA to Cleveland, OH"
          ],
          [
           "Philadelphia, PA to Anaheim, CA"
          ],
          [
           "Philadelphia, PA to Lexington, KY"
          ],
          [
           "Philadelphia, PA to Stockton, CA"
          ],
          [
           "Philadelphia, PA to Corpus Christi, TX"
          ],
          [
           "Philadelphia, PA to St. Louis, MO"
          ],
          [
           "Philadelphia, PA to Cincinnati, OH"
          ],
          [
           "Philadelphia, PA to Pittsburgh, PA"
          ],
          [
           "Philadelphia, PA to Greensboro, NC"
          ],
          [
           "Philadelphia, PA to Plano, TX"
          ],
          [
           "Philadelphia, PA to Lincoln, NE"
          ],
          [
           "Philadelphia, PA to Buffalo, NY"
          ],
          [
           "Philadelphia, PA to Chandler, AZ"
          ],
          [
           "Philadelphia, PA to Norfolk, VA"
          ],
          [
           "Philadelphia, PA to Madison, WI"
          ],
          [
           "Philadelphia, PA to Lubbock, TX"
          ],
          [
           "Philadelphia, PA to Reno, NV"
          ],
          [
           "Philadelphia, PA to Henderson, NV"
          ],
          [
           "San Antonio, TX to San Diego, CA"
          ],
          [
           "San Antonio, TX to Dallas, TX"
          ],
          [
           "San Antonio, TX to San Jose, CA"
          ],
          [
           "San Antonio, TX to Austin, TX"
          ],
          [
           "San Antonio, TX to Jacksonville, FL"
          ],
          [
           "San Antonio, TX to Fort Worth, TX"
          ],
          [
           "San Antonio, TX to Columbus, OH"
          ],
          [
           "San Antonio, TX to Indianapolis, IN"
          ],
          [
           "San Antonio, TX to Charlotte, NC"
          ],
          [
           "San Antonio, TX to San Francisco, CA"
          ],
          [
           "San Antonio, TX to Seattle, WA"
          ],
          [
           "San Antonio, TX to Denver, CO"
          ],
          [
           "San Antonio, TX to Washington, DC"
          ],
          [
           "San Antonio, TX to Boston, MA"
          ],
          [
           "San Antonio, TX to El Paso, TX"
          ],
          [
           "San Antonio, TX to Detroit, MI"
          ],
          [
           "San Antonio, TX to Nashville, TN"
          ],
          [
           "San Antonio, TX to Portland, OR"
          ],
          [
           "San Antonio, TX to Memphis, TN"
          ],
          [
           "San Antonio, TX to Oklahoma City, OK"
          ],
          [
           "San Antonio, TX to Las Vegas, NV"
          ],
          [
           "San Antonio, TX to Louisville, KY"
          ],
          [
           "San Antonio, TX to Baltimore, MD"
          ],
          [
           "San Antonio, TX to Milwaukee, WI"
          ],
          [
           "San Antonio, TX to Albuquerque, NM"
          ],
          [
           "San Antonio, TX to Tucson, AZ"
          ],
          [
           "San Antonio, TX to Fresno, CA"
          ],
          [
           "San Antonio, TX to Mesa, AZ"
          ],
          [
           "San Antonio, TX to Sacramento, CA"
          ],
          [
           "San Antonio, TX to Atlanta, GA"
          ],
          [
           "San Antonio, TX to Kansas City, MO"
          ],
          [
           "San Antonio, TX to Miami, FL"
          ],
          [
           "San Antonio, TX to Raleigh, NC"
          ],
          [
           "San Antonio, TX to Omaha, NE"
          ],
          [
           "San Antonio, TX to Long Beach, CA"
          ],
          [
           "San Antonio, TX to Virginia Beach, VA"
          ],
          [
           "San Antonio, TX to Oakland, CA"
          ],
          [
           "San Antonio, TX to Minneapolis, MN"
          ],
          [
           "San Antonio, TX to Tulsa, OK"
          ],
          [
           "San Antonio, TX to Tampa, FL"
          ],
          [
           "San Antonio, TX to Arlington, TX"
          ],
          [
           "San Antonio, TX to Aurora, CO"
          ],
          [
           "San Antonio, TX to New Orleans, LA"
          ],
          [
           "San Antonio, TX to Bakersfield, CA"
          ],
          [
           "San Antonio, TX to Wichita, KS"
          ],
          [
           "San Antonio, TX to Cleveland, OH"
          ],
          [
           "San Antonio, TX to Anaheim, CA"
          ],
          [
           "San Antonio, TX to Lexington, KY"
          ],
          [
           "San Antonio, TX to Stockton, CA"
          ],
          [
           "San Antonio, TX to Corpus Christi, TX"
          ],
          [
           "San Antonio, TX to St. Louis, MO"
          ],
          [
           "San Antonio, TX to Cincinnati, OH"
          ],
          [
           "San Antonio, TX to Pittsburgh, PA"
          ],
          [
           "San Antonio, TX to Greensboro, NC"
          ],
          [
           "San Antonio, TX to Plano, TX"
          ],
          [
           "San Antonio, TX to Lincoln, NE"
          ],
          [
           "San Antonio, TX to Buffalo, NY"
          ],
          [
           "San Antonio, TX to Chandler, AZ"
          ],
          [
           "San Antonio, TX to Norfolk, VA"
          ],
          [
           "San Antonio, TX to Madison, WI"
          ],
          [
           "San Antonio, TX to Lubbock, TX"
          ],
          [
           "San Antonio, TX to Reno, NV"
          ],
          [
           "San Antonio, TX to Henderson, NV"
          ],
          [
           "San Diego, CA to Dallas, TX"
          ],
          [
           "San Diego, CA to San Jose, CA"
          ],
          [
           "San Diego, CA to Austin, TX"
          ],
          [
           "San Diego, CA to Jacksonville, FL"
          ],
          [
           "San Diego, CA to Fort Worth, TX"
          ],
          [
           "San Diego, CA to Columbus, OH"
          ],
          [
           "San Diego, CA to Indianapolis, IN"
          ],
          [
           "San Diego, CA to Charlotte, NC"
          ],
          [
           "San Diego, CA to San Francisco, CA"
          ],
          [
           "San Diego, CA to Seattle, WA"
          ],
          [
           "San Diego, CA to Denver, CO"
          ],
          [
           "San Diego, CA to Washington, DC"
          ],
          [
           "San Diego, CA to Boston, MA"
          ],
          [
           "San Diego, CA to El Paso, TX"
          ],
          [
           "San Diego, CA to Detroit, MI"
          ],
          [
           "San Diego, CA to Nashville, TN"
          ],
          [
           "San Diego, CA to Portland, OR"
          ],
          [
           "San Diego, CA to Memphis, TN"
          ],
          [
           "San Diego, CA to Oklahoma City, OK"
          ],
          [
           "San Diego, CA to Las Vegas, NV"
          ],
          [
           "San Diego, CA to Louisville, KY"
          ],
          [
           "San Diego, CA to Baltimore, MD"
          ],
          [
           "San Diego, CA to Milwaukee, WI"
          ],
          [
           "San Diego, CA to Albuquerque, NM"
          ],
          [
           "San Diego, CA to Tucson, AZ"
          ],
          [
           "San Diego, CA to Fresno, CA"
          ],
          [
           "San Diego, CA to Mesa, AZ"
          ],
          [
           "San Diego, CA to Sacramento, CA"
          ],
          [
           "San Diego, CA to Atlanta, GA"
          ],
          [
           "San Diego, CA to Kansas City, MO"
          ],
          [
           "San Diego, CA to Miami, FL"
          ],
          [
           "San Diego, CA to Raleigh, NC"
          ],
          [
           "San Diego, CA to Omaha, NE"
          ],
          [
           "San Diego, CA to Long Beach, CA"
          ],
          [
           "San Diego, CA to Virginia Beach, VA"
          ],
          [
           "San Diego, CA to Oakland, CA"
          ],
          [
           "San Diego, CA to Minneapolis, MN"
          ],
          [
           "San Diego, CA to Tulsa, OK"
          ],
          [
           "San Diego, CA to Tampa, FL"
          ],
          [
           "San Diego, CA to Arlington, TX"
          ],
          [
           "San Diego, CA to Aurora, CO"
          ],
          [
           "San Diego, CA to New Orleans, LA"
          ],
          [
           "San Diego, CA to Bakersfield, CA"
          ],
          [
           "San Diego, CA to Wichita, KS"
          ],
          [
           "San Diego, CA to Cleveland, OH"
          ],
          [
           "San Diego, CA to Anaheim, CA"
          ],
          [
           "San Diego, CA to Lexington, KY"
          ],
          [
           "San Diego, CA to Stockton, CA"
          ],
          [
           "San Diego, CA to Corpus Christi, TX"
          ],
          [
           "San Diego, CA to St. Louis, MO"
          ],
          [
           "San Diego, CA to Cincinnati, OH"
          ],
          [
           "San Diego, CA to Pittsburgh, PA"
          ],
          [
           "San Diego, CA to Greensboro, NC"
          ],
          [
           "San Diego, CA to Plano, TX"
          ],
          [
           "San Diego, CA to Lincoln, NE"
          ],
          [
           "San Diego, CA to Buffalo, NY"
          ],
          [
           "San Diego, CA to Chandler, AZ"
          ],
          [
           "San Diego, CA to Norfolk, VA"
          ],
          [
           "San Diego, CA to Madison, WI"
          ],
          [
           "San Diego, CA to Lubbock, TX"
          ],
          [
           "San Diego, CA to Reno, NV"
          ],
          [
           "San Diego, CA to Henderson, NV"
          ],
          [
           "Dallas, TX to San Jose, CA"
          ],
          [
           "Dallas, TX to Austin, TX"
          ],
          [
           "Dallas, TX to Jacksonville, FL"
          ],
          [
           "Dallas, TX to Fort Worth, TX"
          ],
          [
           "Dallas, TX to Columbus, OH"
          ],
          [
           "Dallas, TX to Indianapolis, IN"
          ],
          [
           "Dallas, TX to Charlotte, NC"
          ],
          [
           "Dallas, TX to San Francisco, CA"
          ],
          [
           "Dallas, TX to Seattle, WA"
          ],
          [
           "Dallas, TX to Denver, CO"
          ],
          [
           "Dallas, TX to Washington, DC"
          ],
          [
           "Dallas, TX to Boston, MA"
          ],
          [
           "Dallas, TX to El Paso, TX"
          ],
          [
           "Dallas, TX to Detroit, MI"
          ],
          [
           "Dallas, TX to Nashville, TN"
          ],
          [
           "Dallas, TX to Portland, OR"
          ],
          [
           "Dallas, TX to Memphis, TN"
          ],
          [
           "Dallas, TX to Oklahoma City, OK"
          ],
          [
           "Dallas, TX to Las Vegas, NV"
          ],
          [
           "Dallas, TX to Louisville, KY"
          ],
          [
           "Dallas, TX to Baltimore, MD"
          ],
          [
           "Dallas, TX to Milwaukee, WI"
          ],
          [
           "Dallas, TX to Albuquerque, NM"
          ],
          [
           "Dallas, TX to Tucson, AZ"
          ],
          [
           "Dallas, TX to Fresno, CA"
          ],
          [
           "Dallas, TX to Mesa, AZ"
          ],
          [
           "Dallas, TX to Sacramento, CA"
          ],
          [
           "Dallas, TX to Atlanta, GA"
          ],
          [
           "Dallas, TX to Kansas City, MO"
          ],
          [
           "Dallas, TX to Miami, FL"
          ],
          [
           "Dallas, TX to Raleigh, NC"
          ],
          [
           "Dallas, TX to Omaha, NE"
          ],
          [
           "Dallas, TX to Long Beach, CA"
          ],
          [
           "Dallas, TX to Virginia Beach, VA"
          ],
          [
           "Dallas, TX to Oakland, CA"
          ],
          [
           "Dallas, TX to Minneapolis, MN"
          ],
          [
           "Dallas, TX to Tulsa, OK"
          ],
          [
           "Dallas, TX to Tampa, FL"
          ],
          [
           "Dallas, TX to Arlington, TX"
          ],
          [
           "Dallas, TX to Aurora, CO"
          ],
          [
           "Dallas, TX to New Orleans, LA"
          ],
          [
           "Dallas, TX to Bakersfield, CA"
          ],
          [
           "Dallas, TX to Wichita, KS"
          ],
          [
           "Dallas, TX to Cleveland, OH"
          ],
          [
           "Dallas, TX to Anaheim, CA"
          ],
          [
           "Dallas, TX to Lexington, KY"
          ],
          [
           "Dallas, TX to Stockton, CA"
          ],
          [
           "Dallas, TX to Corpus Christi, TX"
          ],
          [
           "Dallas, TX to St. Louis, MO"
          ],
          [
           "Dallas, TX to Cincinnati, OH"
          ],
          [
           "Dallas, TX to Pittsburgh, PA"
          ],
          [
           "Dallas, TX to Greensboro, NC"
          ],
          [
           "Dallas, TX to Plano, TX"
          ],
          [
           "Dallas, TX to Lincoln, NE"
          ],
          [
           "Dallas, TX to Buffalo, NY"
          ],
          [
           "Dallas, TX to Chandler, AZ"
          ],
          [
           "Dallas, TX to Norfolk, VA"
          ],
          [
           "Dallas, TX to Madison, WI"
          ],
          [
           "Dallas, TX to Lubbock, TX"
          ],
          [
           "Dallas, TX to Reno, NV"
          ],
          [
           "Dallas, TX to Henderson, NV"
          ],
          [
           "San Jose, CA to Austin, TX"
          ],
          [
           "San Jose, CA to Jacksonville, FL"
          ],
          [
           "San Jose, CA to Fort Worth, TX"
          ],
          [
           "San Jose, CA to Columbus, OH"
          ],
          [
           "San Jose, CA to Indianapolis, IN"
          ],
          [
           "San Jose, CA to Charlotte, NC"
          ],
          [
           "San Jose, CA to San Francisco, CA"
          ],
          [
           "San Jose, CA to Seattle, WA"
          ],
          [
           "San Jose, CA to Denver, CO"
          ],
          [
           "San Jose, CA to Washington, DC"
          ],
          [
           "San Jose, CA to Boston, MA"
          ],
          [
           "San Jose, CA to El Paso, TX"
          ],
          [
           "San Jose, CA to Detroit, MI"
          ],
          [
           "San Jose, CA to Nashville, TN"
          ],
          [
           "San Jose, CA to Portland, OR"
          ],
          [
           "San Jose, CA to Memphis, TN"
          ],
          [
           "San Jose, CA to Oklahoma City, OK"
          ],
          [
           "San Jose, CA to Las Vegas, NV"
          ],
          [
           "San Jose, CA to Louisville, KY"
          ],
          [
           "San Jose, CA to Baltimore, MD"
          ],
          [
           "San Jose, CA to Milwaukee, WI"
          ],
          [
           "San Jose, CA to Albuquerque, NM"
          ],
          [
           "San Jose, CA to Tucson, AZ"
          ],
          [
           "San Jose, CA to Fresno, CA"
          ],
          [
           "San Jose, CA to Mesa, AZ"
          ],
          [
           "San Jose, CA to Sacramento, CA"
          ],
          [
           "San Jose, CA to Atlanta, GA"
          ],
          [
           "San Jose, CA to Kansas City, MO"
          ],
          [
           "San Jose, CA to Miami, FL"
          ],
          [
           "San Jose, CA to Raleigh, NC"
          ],
          [
           "San Jose, CA to Omaha, NE"
          ],
          [
           "San Jose, CA to Long Beach, CA"
          ],
          [
           "San Jose, CA to Virginia Beach, VA"
          ],
          [
           "San Jose, CA to Oakland, CA"
          ],
          [
           "San Jose, CA to Minneapolis, MN"
          ],
          [
           "San Jose, CA to Tulsa, OK"
          ],
          [
           "San Jose, CA to Tampa, FL"
          ],
          [
           "San Jose, CA to Arlington, TX"
          ],
          [
           "San Jose, CA to Aurora, CO"
          ],
          [
           "San Jose, CA to New Orleans, LA"
          ],
          [
           "San Jose, CA to Bakersfield, CA"
          ],
          [
           "San Jose, CA to Wichita, KS"
          ],
          [
           "San Jose, CA to Cleveland, OH"
          ],
          [
           "San Jose, CA to Anaheim, CA"
          ],
          [
           "San Jose, CA to Lexington, KY"
          ],
          [
           "San Jose, CA to Stockton, CA"
          ],
          [
           "San Jose, CA to Corpus Christi, TX"
          ],
          [
           "San Jose, CA to St. Louis, MO"
          ],
          [
           "San Jose, CA to Cincinnati, OH"
          ],
          [
           "San Jose, CA to Pittsburgh, PA"
          ],
          [
           "San Jose, CA to Greensboro, NC"
          ],
          [
           "San Jose, CA to Plano, TX"
          ],
          [
           "San Jose, CA to Lincoln, NE"
          ],
          [
           "San Jose, CA to Buffalo, NY"
          ],
          [
           "San Jose, CA to Chandler, AZ"
          ],
          [
           "San Jose, CA to Norfolk, VA"
          ],
          [
           "San Jose, CA to Madison, WI"
          ],
          [
           "San Jose, CA to Lubbock, TX"
          ],
          [
           "San Jose, CA to Reno, NV"
          ],
          [
           "San Jose, CA to Henderson, NV"
          ],
          [
           "Austin, TX to Jacksonville, FL"
          ],
          [
           "Austin, TX to Fort Worth, TX"
          ],
          [
           "Austin, TX to Columbus, OH"
          ],
          [
           "Austin, TX to Indianapolis, IN"
          ],
          [
           "Austin, TX to Charlotte, NC"
          ],
          [
           "Austin, TX to San Francisco, CA"
          ],
          [
           "Austin, TX to Seattle, WA"
          ],
          [
           "Austin, TX to Denver, CO"
          ],
          [
           "Austin, TX to Washington, DC"
          ],
          [
           "Austin, TX to Boston, MA"
          ],
          [
           "Austin, TX to El Paso, TX"
          ],
          [
           "Austin, TX to Detroit, MI"
          ],
          [
           "Austin, TX to Nashville, TN"
          ],
          [
           "Austin, TX to Portland, OR"
          ],
          [
           "Austin, TX to Memphis, TN"
          ],
          [
           "Austin, TX to Oklahoma City, OK"
          ],
          [
           "Austin, TX to Las Vegas, NV"
          ],
          [
           "Austin, TX to Louisville, KY"
          ],
          [
           "Austin, TX to Baltimore, MD"
          ],
          [
           "Austin, TX to Milwaukee, WI"
          ],
          [
           "Austin, TX to Albuquerque, NM"
          ],
          [
           "Austin, TX to Tucson, AZ"
          ],
          [
           "Austin, TX to Fresno, CA"
          ],
          [
           "Austin, TX to Mesa, AZ"
          ],
          [
           "Austin, TX to Sacramento, CA"
          ],
          [
           "Austin, TX to Atlanta, GA"
          ],
          [
           "Austin, TX to Kansas City, MO"
          ],
          [
           "Austin, TX to Miami, FL"
          ],
          [
           "Austin, TX to Raleigh, NC"
          ],
          [
           "Austin, TX to Omaha, NE"
          ],
          [
           "Austin, TX to Long Beach, CA"
          ],
          [
           "Austin, TX to Virginia Beach, VA"
          ],
          [
           "Austin, TX to Oakland, CA"
          ],
          [
           "Austin, TX to Minneapolis, MN"
          ],
          [
           "Austin, TX to Tulsa, OK"
          ],
          [
           "Austin, TX to Tampa, FL"
          ],
          [
           "Austin, TX to Arlington, TX"
          ],
          [
           "Austin, TX to Aurora, CO"
          ],
          [
           "Austin, TX to New Orleans, LA"
          ],
          [
           "Austin, TX to Bakersfield, CA"
          ],
          [
           "Austin, TX to Wichita, KS"
          ],
          [
           "Austin, TX to Cleveland, OH"
          ],
          [
           "Austin, TX to Anaheim, CA"
          ],
          [
           "Austin, TX to Lexington, KY"
          ],
          [
           "Austin, TX to Stockton, CA"
          ],
          [
           "Austin, TX to Corpus Christi, TX"
          ],
          [
           "Austin, TX to St. Louis, MO"
          ],
          [
           "Austin, TX to Cincinnati, OH"
          ],
          [
           "Austin, TX to Pittsburgh, PA"
          ],
          [
           "Austin, TX to Greensboro, NC"
          ],
          [
           "Austin, TX to Plano, TX"
          ],
          [
           "Austin, TX to Lincoln, NE"
          ],
          [
           "Austin, TX to Buffalo, NY"
          ],
          [
           "Austin, TX to Chandler, AZ"
          ],
          [
           "Austin, TX to Norfolk, VA"
          ],
          [
           "Austin, TX to Madison, WI"
          ],
          [
           "Austin, TX to Lubbock, TX"
          ],
          [
           "Austin, TX to Reno, NV"
          ],
          [
           "Austin, TX to Henderson, NV"
          ],
          [
           "Jacksonville, FL to Fort Worth, TX"
          ],
          [
           "Jacksonville, FL to Columbus, OH"
          ],
          [
           "Jacksonville, FL to Indianapolis, IN"
          ],
          [
           "Jacksonville, FL to Charlotte, NC"
          ],
          [
           "Jacksonville, FL to San Francisco, CA"
          ],
          [
           "Jacksonville, FL to Seattle, WA"
          ],
          [
           "Jacksonville, FL to Denver, CO"
          ],
          [
           "Jacksonville, FL to Washington, DC"
          ],
          [
           "Jacksonville, FL to Boston, MA"
          ],
          [
           "Jacksonville, FL to El Paso, TX"
          ],
          [
           "Jacksonville, FL to Detroit, MI"
          ],
          [
           "Jacksonville, FL to Nashville, TN"
          ],
          [
           "Jacksonville, FL to Portland, OR"
          ],
          [
           "Jacksonville, FL to Memphis, TN"
          ],
          [
           "Jacksonville, FL to Oklahoma City, OK"
          ],
          [
           "Jacksonville, FL to Las Vegas, NV"
          ],
          [
           "Jacksonville, FL to Louisville, KY"
          ],
          [
           "Jacksonville, FL to Baltimore, MD"
          ],
          [
           "Jacksonville, FL to Milwaukee, WI"
          ],
          [
           "Jacksonville, FL to Albuquerque, NM"
          ],
          [
           "Jacksonville, FL to Tucson, AZ"
          ],
          [
           "Jacksonville, FL to Fresno, CA"
          ],
          [
           "Jacksonville, FL to Mesa, AZ"
          ],
          [
           "Jacksonville, FL to Sacramento, CA"
          ],
          [
           "Jacksonville, FL to Atlanta, GA"
          ],
          [
           "Jacksonville, FL to Kansas City, MO"
          ],
          [
           "Jacksonville, FL to Miami, FL"
          ],
          [
           "Jacksonville, FL to Raleigh, NC"
          ],
          [
           "Jacksonville, FL to Omaha, NE"
          ],
          [
           "Jacksonville, FL to Long Beach, CA"
          ],
          [
           "Jacksonville, FL to Virginia Beach, VA"
          ],
          [
           "Jacksonville, FL to Oakland, CA"
          ],
          [
           "Jacksonville, FL to Minneapolis, MN"
          ],
          [
           "Jacksonville, FL to Tulsa, OK"
          ],
          [
           "Jacksonville, FL to Tampa, FL"
          ],
          [
           "Jacksonville, FL to Arlington, TX"
          ],
          [
           "Jacksonville, FL to Aurora, CO"
          ],
          [
           "Jacksonville, FL to New Orleans, LA"
          ],
          [
           "Jacksonville, FL to Bakersfield, CA"
          ],
          [
           "Jacksonville, FL to Wichita, KS"
          ],
          [
           "Jacksonville, FL to Cleveland, OH"
          ],
          [
           "Jacksonville, FL to Anaheim, CA"
          ],
          [
           "Jacksonville, FL to Lexington, KY"
          ],
          [
           "Jacksonville, FL to Stockton, CA"
          ],
          [
           "Jacksonville, FL to Corpus Christi, TX"
          ],
          [
           "Jacksonville, FL to St. Louis, MO"
          ],
          [
           "Jacksonville, FL to Cincinnati, OH"
          ],
          [
           "Jacksonville, FL to Pittsburgh, PA"
          ],
          [
           "Jacksonville, FL to Greensboro, NC"
          ],
          [
           "Jacksonville, FL to Plano, TX"
          ],
          [
           "Jacksonville, FL to Lincoln, NE"
          ],
          [
           "Jacksonville, FL to Buffalo, NY"
          ],
          [
           "Jacksonville, FL to Chandler, AZ"
          ],
          [
           "Jacksonville, FL to Norfolk, VA"
          ],
          [
           "Jacksonville, FL to Madison, WI"
          ],
          [
           "Jacksonville, FL to Lubbock, TX"
          ],
          [
           "Jacksonville, FL to Reno, NV"
          ],
          [
           "Jacksonville, FL to Henderson, NV"
          ],
          [
           "Fort Worth, TX to Columbus, OH"
          ],
          [
           "Fort Worth, TX to Indianapolis, IN"
          ],
          [
           "Fort Worth, TX to Charlotte, NC"
          ],
          [
           "Fort Worth, TX to San Francisco, CA"
          ],
          [
           "Fort Worth, TX to Seattle, WA"
          ],
          [
           "Fort Worth, TX to Denver, CO"
          ],
          [
           "Fort Worth, TX to Washington, DC"
          ],
          [
           "Fort Worth, TX to Boston, MA"
          ],
          [
           "Fort Worth, TX to El Paso, TX"
          ],
          [
           "Fort Worth, TX to Detroit, MI"
          ],
          [
           "Fort Worth, TX to Nashville, TN"
          ],
          [
           "Fort Worth, TX to Portland, OR"
          ],
          [
           "Fort Worth, TX to Memphis, TN"
          ],
          [
           "Fort Worth, TX to Oklahoma City, OK"
          ],
          [
           "Fort Worth, TX to Las Vegas, NV"
          ],
          [
           "Fort Worth, TX to Louisville, KY"
          ],
          [
           "Fort Worth, TX to Baltimore, MD"
          ],
          [
           "Fort Worth, TX to Milwaukee, WI"
          ],
          [
           "Fort Worth, TX to Albuquerque, NM"
          ],
          [
           "Fort Worth, TX to Tucson, AZ"
          ],
          [
           "Fort Worth, TX to Fresno, CA"
          ],
          [
           "Fort Worth, TX to Mesa, AZ"
          ],
          [
           "Fort Worth, TX to Sacramento, CA"
          ],
          [
           "Fort Worth, TX to Atlanta, GA"
          ],
          [
           "Fort Worth, TX to Kansas City, MO"
          ],
          [
           "Fort Worth, TX to Miami, FL"
          ],
          [
           "Fort Worth, TX to Raleigh, NC"
          ],
          [
           "Fort Worth, TX to Omaha, NE"
          ],
          [
           "Fort Worth, TX to Long Beach, CA"
          ],
          [
           "Fort Worth, TX to Virginia Beach, VA"
          ],
          [
           "Fort Worth, TX to Oakland, CA"
          ],
          [
           "Fort Worth, TX to Minneapolis, MN"
          ],
          [
           "Fort Worth, TX to Tulsa, OK"
          ],
          [
           "Fort Worth, TX to Tampa, FL"
          ],
          [
           "Fort Worth, TX to Arlington, TX"
          ],
          [
           "Fort Worth, TX to Aurora, CO"
          ],
          [
           "Fort Worth, TX to New Orleans, LA"
          ],
          [
           "Fort Worth, TX to Bakersfield, CA"
          ],
          [
           "Fort Worth, TX to Wichita, KS"
          ],
          [
           "Fort Worth, TX to Cleveland, OH"
          ],
          [
           "Fort Worth, TX to Anaheim, CA"
          ],
          [
           "Fort Worth, TX to Lexington, KY"
          ],
          [
           "Fort Worth, TX to Stockton, CA"
          ],
          [
           "Fort Worth, TX to Corpus Christi, TX"
          ],
          [
           "Fort Worth, TX to St. Louis, MO"
          ],
          [
           "Fort Worth, TX to Cincinnati, OH"
          ],
          [
           "Fort Worth, TX to Pittsburgh, PA"
          ],
          [
           "Fort Worth, TX to Greensboro, NC"
          ],
          [
           "Fort Worth, TX to Plano, TX"
          ],
          [
           "Fort Worth, TX to Lincoln, NE"
          ],
          [
           "Fort Worth, TX to Buffalo, NY"
          ],
          [
           "Fort Worth, TX to Chandler, AZ"
          ],
          [
           "Fort Worth, TX to Norfolk, VA"
          ],
          [
           "Fort Worth, TX to Madison, WI"
          ],
          [
           "Fort Worth, TX to Lubbock, TX"
          ],
          [
           "Fort Worth, TX to Reno, NV"
          ],
          [
           "Fort Worth, TX to Henderson, NV"
          ],
          [
           "Columbus, OH to Indianapolis, IN"
          ],
          [
           "Columbus, OH to Charlotte, NC"
          ],
          [
           "Columbus, OH to San Francisco, CA"
          ],
          [
           "Columbus, OH to Seattle, WA"
          ],
          [
           "Columbus, OH to Denver, CO"
          ],
          [
           "Columbus, OH to Washington, DC"
          ],
          [
           "Columbus, OH to Boston, MA"
          ],
          [
           "Columbus, OH to El Paso, TX"
          ],
          [
           "Columbus, OH to Detroit, MI"
          ],
          [
           "Columbus, OH to Nashville, TN"
          ],
          [
           "Columbus, OH to Portland, OR"
          ],
          [
           "Columbus, OH to Memphis, TN"
          ],
          [
           "Columbus, OH to Oklahoma City, OK"
          ],
          [
           "Columbus, OH to Las Vegas, NV"
          ],
          [
           "Columbus, OH to Louisville, KY"
          ],
          [
           "Columbus, OH to Baltimore, MD"
          ],
          [
           "Columbus, OH to Milwaukee, WI"
          ],
          [
           "Columbus, OH to Albuquerque, NM"
          ],
          [
           "Columbus, OH to Tucson, AZ"
          ],
          [
           "Columbus, OH to Fresno, CA"
          ],
          [
           "Columbus, OH to Mesa, AZ"
          ],
          [
           "Columbus, OH to Sacramento, CA"
          ],
          [
           "Columbus, OH to Atlanta, GA"
          ],
          [
           "Columbus, OH to Kansas City, MO"
          ],
          [
           "Columbus, OH to Miami, FL"
          ],
          [
           "Columbus, OH to Raleigh, NC"
          ],
          [
           "Columbus, OH to Omaha, NE"
          ],
          [
           "Columbus, OH to Long Beach, CA"
          ],
          [
           "Columbus, OH to Virginia Beach, VA"
          ],
          [
           "Columbus, OH to Oakland, CA"
          ],
          [
           "Columbus, OH to Minneapolis, MN"
          ],
          [
           "Columbus, OH to Tulsa, OK"
          ],
          [
           "Columbus, OH to Tampa, FL"
          ],
          [
           "Columbus, OH to Arlington, TX"
          ],
          [
           "Columbus, OH to Aurora, CO"
          ],
          [
           "Columbus, OH to New Orleans, LA"
          ],
          [
           "Columbus, OH to Bakersfield, CA"
          ],
          [
           "Columbus, OH to Wichita, KS"
          ],
          [
           "Columbus, OH to Cleveland, OH"
          ],
          [
           "Columbus, OH to Anaheim, CA"
          ],
          [
           "Columbus, OH to Lexington, KY"
          ],
          [
           "Columbus, OH to Stockton, CA"
          ],
          [
           "Columbus, OH to Corpus Christi, TX"
          ],
          [
           "Columbus, OH to St. Louis, MO"
          ],
          [
           "Columbus, OH to Cincinnati, OH"
          ],
          [
           "Columbus, OH to Pittsburgh, PA"
          ],
          [
           "Columbus, OH to Greensboro, NC"
          ],
          [
           "Columbus, OH to Plano, TX"
          ],
          [
           "Columbus, OH to Lincoln, NE"
          ],
          [
           "Columbus, OH to Buffalo, NY"
          ],
          [
           "Columbus, OH to Chandler, AZ"
          ],
          [
           "Columbus, OH to Norfolk, VA"
          ],
          [
           "Columbus, OH to Madison, WI"
          ],
          [
           "Columbus, OH to Lubbock, TX"
          ],
          [
           "Columbus, OH to Reno, NV"
          ],
          [
           "Columbus, OH to Henderson, NV"
          ],
          [
           "Indianapolis, IN to Charlotte, NC"
          ],
          [
           "Indianapolis, IN to San Francisco, CA"
          ],
          [
           "Indianapolis, IN to Seattle, WA"
          ],
          [
           "Indianapolis, IN to Denver, CO"
          ],
          [
           "Indianapolis, IN to Washington, DC"
          ],
          [
           "Indianapolis, IN to Boston, MA"
          ],
          [
           "Indianapolis, IN to El Paso, TX"
          ],
          [
           "Indianapolis, IN to Detroit, MI"
          ],
          [
           "Indianapolis, IN to Nashville, TN"
          ],
          [
           "Indianapolis, IN to Portland, OR"
          ],
          [
           "Indianapolis, IN to Memphis, TN"
          ],
          [
           "Indianapolis, IN to Oklahoma City, OK"
          ],
          [
           "Indianapolis, IN to Las Vegas, NV"
          ],
          [
           "Indianapolis, IN to Louisville, KY"
          ],
          [
           "Indianapolis, IN to Baltimore, MD"
          ],
          [
           "Indianapolis, IN to Milwaukee, WI"
          ],
          [
           "Indianapolis, IN to Albuquerque, NM"
          ],
          [
           "Indianapolis, IN to Tucson, AZ"
          ],
          [
           "Indianapolis, IN to Fresno, CA"
          ],
          [
           "Indianapolis, IN to Mesa, AZ"
          ],
          [
           "Indianapolis, IN to Sacramento, CA"
          ],
          [
           "Indianapolis, IN to Atlanta, GA"
          ],
          [
           "Indianapolis, IN to Kansas City, MO"
          ],
          [
           "Indianapolis, IN to Miami, FL"
          ],
          [
           "Indianapolis, IN to Raleigh, NC"
          ],
          [
           "Indianapolis, IN to Omaha, NE"
          ],
          [
           "Indianapolis, IN to Long Beach, CA"
          ],
          [
           "Indianapolis, IN to Virginia Beach, VA"
          ],
          [
           "Indianapolis, IN to Oakland, CA"
          ],
          [
           "Indianapolis, IN to Minneapolis, MN"
          ],
          [
           "Indianapolis, IN to Tulsa, OK"
          ],
          [
           "Indianapolis, IN to Tampa, FL"
          ],
          [
           "Indianapolis, IN to Arlington, TX"
          ],
          [
           "Indianapolis, IN to Aurora, CO"
          ],
          [
           "Indianapolis, IN to New Orleans, LA"
          ],
          [
           "Indianapolis, IN to Bakersfield, CA"
          ],
          [
           "Indianapolis, IN to Wichita, KS"
          ],
          [
           "Indianapolis, IN to Cleveland, OH"
          ],
          [
           "Indianapolis, IN to Anaheim, CA"
          ],
          [
           "Indianapolis, IN to Lexington, KY"
          ],
          [
           "Indianapolis, IN to Stockton, CA"
          ],
          [
           "Indianapolis, IN to Corpus Christi, TX"
          ],
          [
           "Indianapolis, IN to St. Louis, MO"
          ],
          [
           "Indianapolis, IN to Cincinnati, OH"
          ],
          [
           "Indianapolis, IN to Pittsburgh, PA"
          ],
          [
           "Indianapolis, IN to Greensboro, NC"
          ],
          [
           "Indianapolis, IN to Plano, TX"
          ],
          [
           "Indianapolis, IN to Lincoln, NE"
          ],
          [
           "Indianapolis, IN to Buffalo, NY"
          ],
          [
           "Indianapolis, IN to Chandler, AZ"
          ],
          [
           "Indianapolis, IN to Norfolk, VA"
          ],
          [
           "Indianapolis, IN to Madison, WI"
          ],
          [
           "Indianapolis, IN to Lubbock, TX"
          ],
          [
           "Indianapolis, IN to Reno, NV"
          ],
          [
           "Indianapolis, IN to Henderson, NV"
          ],
          [
           "Charlotte, NC to San Francisco, CA"
          ],
          [
           "Charlotte, NC to Seattle, WA"
          ],
          [
           "Charlotte, NC to Denver, CO"
          ],
          [
           "Charlotte, NC to Washington, DC"
          ],
          [
           "Charlotte, NC to Boston, MA"
          ],
          [
           "Charlotte, NC to El Paso, TX"
          ],
          [
           "Charlotte, NC to Detroit, MI"
          ],
          [
           "Charlotte, NC to Nashville, TN"
          ],
          [
           "Charlotte, NC to Portland, OR"
          ],
          [
           "Charlotte, NC to Memphis, TN"
          ],
          [
           "Charlotte, NC to Oklahoma City, OK"
          ],
          [
           "Charlotte, NC to Las Vegas, NV"
          ],
          [
           "Charlotte, NC to Louisville, KY"
          ],
          [
           "Charlotte, NC to Baltimore, MD"
          ],
          [
           "Charlotte, NC to Milwaukee, WI"
          ],
          [
           "Charlotte, NC to Albuquerque, NM"
          ],
          [
           "Charlotte, NC to Tucson, AZ"
          ],
          [
           "Charlotte, NC to Fresno, CA"
          ],
          [
           "Charlotte, NC to Mesa, AZ"
          ],
          [
           "Charlotte, NC to Sacramento, CA"
          ],
          [
           "Charlotte, NC to Atlanta, GA"
          ],
          [
           "Charlotte, NC to Kansas City, MO"
          ],
          [
           "Charlotte, NC to Miami, FL"
          ],
          [
           "Charlotte, NC to Raleigh, NC"
          ],
          [
           "Charlotte, NC to Omaha, NE"
          ],
          [
           "Charlotte, NC to Long Beach, CA"
          ],
          [
           "Charlotte, NC to Virginia Beach, VA"
          ],
          [
           "Charlotte, NC to Oakland, CA"
          ],
          [
           "Charlotte, NC to Minneapolis, MN"
          ],
          [
           "Charlotte, NC to Tulsa, OK"
          ],
          [
           "Charlotte, NC to Tampa, FL"
          ],
          [
           "Charlotte, NC to Arlington, TX"
          ],
          [
           "Charlotte, NC to Aurora, CO"
          ],
          [
           "Charlotte, NC to New Orleans, LA"
          ],
          [
           "Charlotte, NC to Bakersfield, CA"
          ],
          [
           "Charlotte, NC to Wichita, KS"
          ],
          [
           "Charlotte, NC to Cleveland, OH"
          ],
          [
           "Charlotte, NC to Anaheim, CA"
          ],
          [
           "Charlotte, NC to Lexington, KY"
          ],
          [
           "Charlotte, NC to Stockton, CA"
          ],
          [
           "Charlotte, NC to Corpus Christi, TX"
          ],
          [
           "Charlotte, NC to St. Louis, MO"
          ],
          [
           "Charlotte, NC to Cincinnati, OH"
          ],
          [
           "Charlotte, NC to Pittsburgh, PA"
          ],
          [
           "Charlotte, NC to Greensboro, NC"
          ],
          [
           "Charlotte, NC to Plano, TX"
          ],
          [
           "Charlotte, NC to Lincoln, NE"
          ],
          [
           "Charlotte, NC to Buffalo, NY"
          ],
          [
           "Charlotte, NC to Chandler, AZ"
          ],
          [
           "Charlotte, NC to Norfolk, VA"
          ],
          [
           "Charlotte, NC to Madison, WI"
          ],
          [
           "Charlotte, NC to Lubbock, TX"
          ],
          [
           "Charlotte, NC to Reno, NV"
          ],
          [
           "Charlotte, NC to Henderson, NV"
          ],
          [
           "San Francisco, CA to Seattle, WA"
          ],
          [
           "San Francisco, CA to Denver, CO"
          ],
          [
           "San Francisco, CA to Washington, DC"
          ],
          [
           "San Francisco, CA to Boston, MA"
          ],
          [
           "San Francisco, CA to El Paso, TX"
          ],
          [
           "San Francisco, CA to Detroit, MI"
          ],
          [
           "San Francisco, CA to Nashville, TN"
          ],
          [
           "San Francisco, CA to Portland, OR"
          ],
          [
           "San Francisco, CA to Memphis, TN"
          ],
          [
           "San Francisco, CA to Oklahoma City, OK"
          ],
          [
           "San Francisco, CA to Las Vegas, NV"
          ],
          [
           "San Francisco, CA to Louisville, KY"
          ],
          [
           "San Francisco, CA to Baltimore, MD"
          ],
          [
           "San Francisco, CA to Milwaukee, WI"
          ],
          [
           "San Francisco, CA to Albuquerque, NM"
          ],
          [
           "San Francisco, CA to Tucson, AZ"
          ],
          [
           "San Francisco, CA to Fresno, CA"
          ],
          [
           "San Francisco, CA to Mesa, AZ"
          ],
          [
           "San Francisco, CA to Sacramento, CA"
          ],
          [
           "San Francisco, CA to Atlanta, GA"
          ],
          [
           "San Francisco, CA to Kansas City, MO"
          ],
          [
           "San Francisco, CA to Miami, FL"
          ],
          [
           "San Francisco, CA to Raleigh, NC"
          ],
          [
           "San Francisco, CA to Omaha, NE"
          ],
          [
           "San Francisco, CA to Long Beach, CA"
          ],
          [
           "San Francisco, CA to Virginia Beach, VA"
          ],
          [
           "San Francisco, CA to Oakland, CA"
          ],
          [
           "San Francisco, CA to Minneapolis, MN"
          ],
          [
           "San Francisco, CA to Tulsa, OK"
          ],
          [
           "San Francisco, CA to Tampa, FL"
          ],
          [
           "San Francisco, CA to Arlington, TX"
          ],
          [
           "San Francisco, CA to Aurora, CO"
          ],
          [
           "San Francisco, CA to New Orleans, LA"
          ],
          [
           "San Francisco, CA to Bakersfield, CA"
          ],
          [
           "San Francisco, CA to Wichita, KS"
          ],
          [
           "San Francisco, CA to Cleveland, OH"
          ],
          [
           "San Francisco, CA to Anaheim, CA"
          ],
          [
           "San Francisco, CA to Lexington, KY"
          ],
          [
           "San Francisco, CA to Stockton, CA"
          ],
          [
           "San Francisco, CA to Corpus Christi, TX"
          ],
          [
           "San Francisco, CA to St. Louis, MO"
          ],
          [
           "San Francisco, CA to Cincinnati, OH"
          ],
          [
           "San Francisco, CA to Pittsburgh, PA"
          ],
          [
           "San Francisco, CA to Greensboro, NC"
          ],
          [
           "San Francisco, CA to Plano, TX"
          ],
          [
           "San Francisco, CA to Lincoln, NE"
          ],
          [
           "San Francisco, CA to Buffalo, NY"
          ],
          [
           "San Francisco, CA to Chandler, AZ"
          ],
          [
           "San Francisco, CA to Norfolk, VA"
          ],
          [
           "San Francisco, CA to Madison, WI"
          ],
          [
           "San Francisco, CA to Lubbock, TX"
          ],
          [
           "San Francisco, CA to Reno, NV"
          ],
          [
           "San Francisco, CA to Henderson, NV"
          ],
          [
           "Seattle, WA to Denver, CO"
          ],
          [
           "Seattle, WA to Washington, DC"
          ],
          [
           "Seattle, WA to Boston, MA"
          ],
          [
           "Seattle, WA to El Paso, TX"
          ],
          [
           "Seattle, WA to Detroit, MI"
          ],
          [
           "Seattle, WA to Nashville, TN"
          ],
          [
           "Seattle, WA to Portland, OR"
          ],
          [
           "Seattle, WA to Memphis, TN"
          ],
          [
           "Seattle, WA to Oklahoma City, OK"
          ],
          [
           "Seattle, WA to Las Vegas, NV"
          ],
          [
           "Seattle, WA to Louisville, KY"
          ],
          [
           "Seattle, WA to Baltimore, MD"
          ],
          [
           "Seattle, WA to Milwaukee, WI"
          ],
          [
           "Seattle, WA to Albuquerque, NM"
          ],
          [
           "Seattle, WA to Tucson, AZ"
          ],
          [
           "Seattle, WA to Fresno, CA"
          ],
          [
           "Seattle, WA to Mesa, AZ"
          ],
          [
           "Seattle, WA to Sacramento, CA"
          ],
          [
           "Seattle, WA to Atlanta, GA"
          ],
          [
           "Seattle, WA to Kansas City, MO"
          ],
          [
           "Seattle, WA to Miami, FL"
          ],
          [
           "Seattle, WA to Raleigh, NC"
          ],
          [
           "Seattle, WA to Omaha, NE"
          ],
          [
           "Seattle, WA to Long Beach, CA"
          ],
          [
           "Seattle, WA to Virginia Beach, VA"
          ],
          [
           "Seattle, WA to Oakland, CA"
          ],
          [
           "Seattle, WA to Minneapolis, MN"
          ],
          [
           "Seattle, WA to Tulsa, OK"
          ],
          [
           "Seattle, WA to Tampa, FL"
          ],
          [
           "Seattle, WA to Arlington, TX"
          ],
          [
           "Seattle, WA to Aurora, CO"
          ],
          [
           "Seattle, WA to New Orleans, LA"
          ],
          [
           "Seattle, WA to Bakersfield, CA"
          ],
          [
           "Seattle, WA to Wichita, KS"
          ],
          [
           "Seattle, WA to Cleveland, OH"
          ],
          [
           "Seattle, WA to Anaheim, CA"
          ],
          [
           "Seattle, WA to Lexington, KY"
          ],
          [
           "Seattle, WA to Stockton, CA"
          ],
          [
           "Seattle, WA to Corpus Christi, TX"
          ],
          [
           "Seattle, WA to St. Louis, MO"
          ],
          [
           "Seattle, WA to Cincinnati, OH"
          ],
          [
           "Seattle, WA to Pittsburgh, PA"
          ],
          [
           "Seattle, WA to Greensboro, NC"
          ],
          [
           "Seattle, WA to Plano, TX"
          ],
          [
           "Seattle, WA to Lincoln, NE"
          ],
          [
           "Seattle, WA to Buffalo, NY"
          ],
          [
           "Seattle, WA to Chandler, AZ"
          ],
          [
           "Seattle, WA to Norfolk, VA"
          ],
          [
           "Seattle, WA to Madison, WI"
          ],
          [
           "Seattle, WA to Lubbock, TX"
          ],
          [
           "Seattle, WA to Reno, NV"
          ],
          [
           "Seattle, WA to Henderson, NV"
          ],
          [
           "Denver, CO to Washington, DC"
          ],
          [
           "Denver, CO to Boston, MA"
          ],
          [
           "Denver, CO to El Paso, TX"
          ],
          [
           "Denver, CO to Detroit, MI"
          ],
          [
           "Denver, CO to Nashville, TN"
          ],
          [
           "Denver, CO to Portland, OR"
          ],
          [
           "Denver, CO to Memphis, TN"
          ],
          [
           "Denver, CO to Oklahoma City, OK"
          ],
          [
           "Denver, CO to Las Vegas, NV"
          ],
          [
           "Denver, CO to Louisville, KY"
          ],
          [
           "Denver, CO to Baltimore, MD"
          ],
          [
           "Denver, CO to Milwaukee, WI"
          ],
          [
           "Denver, CO to Albuquerque, NM"
          ],
          [
           "Denver, CO to Tucson, AZ"
          ],
          [
           "Denver, CO to Fresno, CA"
          ],
          [
           "Denver, CO to Mesa, AZ"
          ],
          [
           "Denver, CO to Sacramento, CA"
          ],
          [
           "Denver, CO to Atlanta, GA"
          ],
          [
           "Denver, CO to Kansas City, MO"
          ],
          [
           "Denver, CO to Miami, FL"
          ],
          [
           "Denver, CO to Raleigh, NC"
          ],
          [
           "Denver, CO to Omaha, NE"
          ],
          [
           "Denver, CO to Long Beach, CA"
          ],
          [
           "Denver, CO to Virginia Beach, VA"
          ],
          [
           "Denver, CO to Oakland, CA"
          ],
          [
           "Denver, CO to Minneapolis, MN"
          ],
          [
           "Denver, CO to Tulsa, OK"
          ],
          [
           "Denver, CO to Tampa, FL"
          ],
          [
           "Denver, CO to Arlington, TX"
          ],
          [
           "Denver, CO to Aurora, CO"
          ],
          [
           "Denver, CO to New Orleans, LA"
          ],
          [
           "Denver, CO to Bakersfield, CA"
          ],
          [
           "Denver, CO to Wichita, KS"
          ],
          [
           "Denver, CO to Cleveland, OH"
          ],
          [
           "Denver, CO to Anaheim, CA"
          ],
          [
           "Denver, CO to Lexington, KY"
          ],
          [
           "Denver, CO to Stockton, CA"
          ],
          [
           "Denver, CO to Corpus Christi, TX"
          ],
          [
           "Denver, CO to St. Louis, MO"
          ],
          [
           "Denver, CO to Cincinnati, OH"
          ],
          [
           "Denver, CO to Pittsburgh, PA"
          ],
          [
           "Denver, CO to Greensboro, NC"
          ],
          [
           "Denver, CO to Plano, TX"
          ],
          [
           "Denver, CO to Lincoln, NE"
          ],
          [
           "Denver, CO to Buffalo, NY"
          ],
          [
           "Denver, CO to Chandler, AZ"
          ],
          [
           "Denver, CO to Norfolk, VA"
          ],
          [
           "Denver, CO to Madison, WI"
          ],
          [
           "Denver, CO to Lubbock, TX"
          ],
          [
           "Denver, CO to Reno, NV"
          ],
          [
           "Denver, CO to Henderson, NV"
          ],
          [
           "Washington, DC to Boston, MA"
          ],
          [
           "Washington, DC to El Paso, TX"
          ],
          [
           "Washington, DC to Detroit, MI"
          ],
          [
           "Washington, DC to Nashville, TN"
          ],
          [
           "Washington, DC to Portland, OR"
          ],
          [
           "Washington, DC to Memphis, TN"
          ],
          [
           "Washington, DC to Oklahoma City, OK"
          ],
          [
           "Washington, DC to Las Vegas, NV"
          ],
          [
           "Washington, DC to Louisville, KY"
          ],
          [
           "Washington, DC to Baltimore, MD"
          ],
          [
           "Washington, DC to Milwaukee, WI"
          ],
          [
           "Washington, DC to Albuquerque, NM"
          ],
          [
           "Washington, DC to Tucson, AZ"
          ],
          [
           "Washington, DC to Fresno, CA"
          ],
          [
           "Washington, DC to Mesa, AZ"
          ],
          [
           "Washington, DC to Sacramento, CA"
          ],
          [
           "Washington, DC to Atlanta, GA"
          ],
          [
           "Washington, DC to Kansas City, MO"
          ],
          [
           "Washington, DC to Miami, FL"
          ],
          [
           "Washington, DC to Raleigh, NC"
          ],
          [
           "Washington, DC to Omaha, NE"
          ],
          [
           "Washington, DC to Long Beach, CA"
          ],
          [
           "Washington, DC to Virginia Beach, VA"
          ],
          [
           "Washington, DC to Oakland, CA"
          ],
          [
           "Washington, DC to Minneapolis, MN"
          ],
          [
           "Washington, DC to Tulsa, OK"
          ],
          [
           "Washington, DC to Tampa, FL"
          ],
          [
           "Washington, DC to Arlington, TX"
          ],
          [
           "Washington, DC to Aurora, CO"
          ],
          [
           "Washington, DC to New Orleans, LA"
          ],
          [
           "Washington, DC to Bakersfield, CA"
          ],
          [
           "Washington, DC to Wichita, KS"
          ],
          [
           "Washington, DC to Cleveland, OH"
          ],
          [
           "Washington, DC to Anaheim, CA"
          ],
          [
           "Washington, DC to Lexington, KY"
          ],
          [
           "Washington, DC to Stockton, CA"
          ],
          [
           "Washington, DC to Corpus Christi, TX"
          ],
          [
           "Washington, DC to St. Louis, MO"
          ],
          [
           "Washington, DC to Cincinnati, OH"
          ],
          [
           "Washington, DC to Pittsburgh, PA"
          ],
          [
           "Washington, DC to Greensboro, NC"
          ],
          [
           "Washington, DC to Plano, TX"
          ],
          [
           "Washington, DC to Lincoln, NE"
          ],
          [
           "Washington, DC to Buffalo, NY"
          ],
          [
           "Washington, DC to Chandler, AZ"
          ],
          [
           "Washington, DC to Norfolk, VA"
          ],
          [
           "Washington, DC to Madison, WI"
          ],
          [
           "Washington, DC to Lubbock, TX"
          ],
          [
           "Washington, DC to Reno, NV"
          ],
          [
           "Washington, DC to Henderson, NV"
          ],
          [
           "Boston, MA to El Paso, TX"
          ],
          [
           "Boston, MA to Detroit, MI"
          ],
          [
           "Boston, MA to Nashville, TN"
          ],
          [
           "Boston, MA to Portland, OR"
          ],
          [
           "Boston, MA to Memphis, TN"
          ],
          [
           "Boston, MA to Oklahoma City, OK"
          ],
          [
           "Boston, MA to Las Vegas, NV"
          ],
          [
           "Boston, MA to Louisville, KY"
          ],
          [
           "Boston, MA to Baltimore, MD"
          ],
          [
           "Boston, MA to Milwaukee, WI"
          ],
          [
           "Boston, MA to Albuquerque, NM"
          ],
          [
           "Boston, MA to Tucson, AZ"
          ],
          [
           "Boston, MA to Fresno, CA"
          ],
          [
           "Boston, MA to Mesa, AZ"
          ],
          [
           "Boston, MA to Sacramento, CA"
          ],
          [
           "Boston, MA to Atlanta, GA"
          ],
          [
           "Boston, MA to Kansas City, MO"
          ],
          [
           "Boston, MA to Miami, FL"
          ],
          [
           "Boston, MA to Raleigh, NC"
          ],
          [
           "Boston, MA to Omaha, NE"
          ],
          [
           "Boston, MA to Long Beach, CA"
          ],
          [
           "Boston, MA to Virginia Beach, VA"
          ],
          [
           "Boston, MA to Oakland, CA"
          ],
          [
           "Boston, MA to Minneapolis, MN"
          ],
          [
           "Boston, MA to Tulsa, OK"
          ],
          [
           "Boston, MA to Tampa, FL"
          ],
          [
           "Boston, MA to Arlington, TX"
          ],
          [
           "Boston, MA to Aurora, CO"
          ],
          [
           "Boston, MA to New Orleans, LA"
          ],
          [
           "Boston, MA to Bakersfield, CA"
          ],
          [
           "Boston, MA to Wichita, KS"
          ],
          [
           "Boston, MA to Cleveland, OH"
          ],
          [
           "Boston, MA to Anaheim, CA"
          ],
          [
           "Boston, MA to Lexington, KY"
          ],
          [
           "Boston, MA to Stockton, CA"
          ],
          [
           "Boston, MA to Corpus Christi, TX"
          ],
          [
           "Boston, MA to St. Louis, MO"
          ],
          [
           "Boston, MA to Cincinnati, OH"
          ],
          [
           "Boston, MA to Pittsburgh, PA"
          ],
          [
           "Boston, MA to Greensboro, NC"
          ],
          [
           "Boston, MA to Plano, TX"
          ],
          [
           "Boston, MA to Lincoln, NE"
          ],
          [
           "Boston, MA to Buffalo, NY"
          ],
          [
           "Boston, MA to Chandler, AZ"
          ],
          [
           "Boston, MA to Norfolk, VA"
          ],
          [
           "Boston, MA to Madison, WI"
          ],
          [
           "Boston, MA to Lubbock, TX"
          ],
          [
           "Boston, MA to Reno, NV"
          ],
          [
           "Boston, MA to Henderson, NV"
          ],
          [
           "El Paso, TX to Detroit, MI"
          ],
          [
           "El Paso, TX to Nashville, TN"
          ],
          [
           "El Paso, TX to Portland, OR"
          ],
          [
           "El Paso, TX to Memphis, TN"
          ],
          [
           "El Paso, TX to Oklahoma City, OK"
          ],
          [
           "El Paso, TX to Las Vegas, NV"
          ],
          [
           "El Paso, TX to Louisville, KY"
          ],
          [
           "El Paso, TX to Baltimore, MD"
          ],
          [
           "El Paso, TX to Milwaukee, WI"
          ],
          [
           "El Paso, TX to Albuquerque, NM"
          ],
          [
           "El Paso, TX to Tucson, AZ"
          ],
          [
           "El Paso, TX to Fresno, CA"
          ],
          [
           "El Paso, TX to Mesa, AZ"
          ],
          [
           "El Paso, TX to Sacramento, CA"
          ],
          [
           "El Paso, TX to Atlanta, GA"
          ],
          [
           "El Paso, TX to Kansas City, MO"
          ],
          [
           "El Paso, TX to Miami, FL"
          ],
          [
           "El Paso, TX to Raleigh, NC"
          ],
          [
           "El Paso, TX to Omaha, NE"
          ],
          [
           "El Paso, TX to Long Beach, CA"
          ],
          [
           "El Paso, TX to Virginia Beach, VA"
          ],
          [
           "El Paso, TX to Oakland, CA"
          ],
          [
           "El Paso, TX to Minneapolis, MN"
          ],
          [
           "El Paso, TX to Tulsa, OK"
          ],
          [
           "El Paso, TX to Tampa, FL"
          ],
          [
           "El Paso, TX to Arlington, TX"
          ],
          [
           "El Paso, TX to Aurora, CO"
          ],
          [
           "El Paso, TX to New Orleans, LA"
          ],
          [
           "El Paso, TX to Bakersfield, CA"
          ],
          [
           "El Paso, TX to Wichita, KS"
          ],
          [
           "El Paso, TX to Cleveland, OH"
          ],
          [
           "El Paso, TX to Anaheim, CA"
          ],
          [
           "El Paso, TX to Lexington, KY"
          ],
          [
           "El Paso, TX to Stockton, CA"
          ],
          [
           "El Paso, TX to Corpus Christi, TX"
          ],
          [
           "El Paso, TX to St. Louis, MO"
          ],
          [
           "El Paso, TX to Cincinnati, OH"
          ],
          [
           "El Paso, TX to Pittsburgh, PA"
          ],
          [
           "El Paso, TX to Greensboro, NC"
          ],
          [
           "El Paso, TX to Plano, TX"
          ],
          [
           "El Paso, TX to Lincoln, NE"
          ],
          [
           "El Paso, TX to Buffalo, NY"
          ],
          [
           "El Paso, TX to Chandler, AZ"
          ],
          [
           "El Paso, TX to Norfolk, VA"
          ],
          [
           "El Paso, TX to Madison, WI"
          ],
          [
           "El Paso, TX to Lubbock, TX"
          ],
          [
           "El Paso, TX to Reno, NV"
          ],
          [
           "El Paso, TX to Henderson, NV"
          ],
          [
           "Detroit, MI to Nashville, TN"
          ],
          [
           "Detroit, MI to Portland, OR"
          ],
          [
           "Detroit, MI to Memphis, TN"
          ],
          [
           "Detroit, MI to Oklahoma City, OK"
          ],
          [
           "Detroit, MI to Las Vegas, NV"
          ],
          [
           "Detroit, MI to Louisville, KY"
          ],
          [
           "Detroit, MI to Baltimore, MD"
          ],
          [
           "Detroit, MI to Milwaukee, WI"
          ],
          [
           "Detroit, MI to Albuquerque, NM"
          ],
          [
           "Detroit, MI to Tucson, AZ"
          ],
          [
           "Detroit, MI to Fresno, CA"
          ],
          [
           "Detroit, MI to Mesa, AZ"
          ],
          [
           "Detroit, MI to Sacramento, CA"
          ],
          [
           "Detroit, MI to Atlanta, GA"
          ],
          [
           "Detroit, MI to Kansas City, MO"
          ],
          [
           "Detroit, MI to Miami, FL"
          ],
          [
           "Detroit, MI to Raleigh, NC"
          ],
          [
           "Detroit, MI to Omaha, NE"
          ],
          [
           "Detroit, MI to Long Beach, CA"
          ],
          [
           "Detroit, MI to Virginia Beach, VA"
          ],
          [
           "Detroit, MI to Oakland, CA"
          ],
          [
           "Detroit, MI to Minneapolis, MN"
          ],
          [
           "Detroit, MI to Tulsa, OK"
          ],
          [
           "Detroit, MI to Tampa, FL"
          ],
          [
           "Detroit, MI to Arlington, TX"
          ],
          [
           "Detroit, MI to Aurora, CO"
          ],
          [
           "Detroit, MI to New Orleans, LA"
          ],
          [
           "Detroit, MI to Bakersfield, CA"
          ],
          [
           "Detroit, MI to Wichita, KS"
          ],
          [
           "Detroit, MI to Cleveland, OH"
          ],
          [
           "Detroit, MI to Anaheim, CA"
          ],
          [
           "Detroit, MI to Lexington, KY"
          ],
          [
           "Detroit, MI to Stockton, CA"
          ],
          [
           "Detroit, MI to Corpus Christi, TX"
          ],
          [
           "Detroit, MI to St. Louis, MO"
          ],
          [
           "Detroit, MI to Cincinnati, OH"
          ],
          [
           "Detroit, MI to Pittsburgh, PA"
          ],
          [
           "Detroit, MI to Greensboro, NC"
          ],
          [
           "Detroit, MI to Plano, TX"
          ],
          [
           "Detroit, MI to Lincoln, NE"
          ],
          [
           "Detroit, MI to Buffalo, NY"
          ],
          [
           "Detroit, MI to Chandler, AZ"
          ],
          [
           "Detroit, MI to Norfolk, VA"
          ],
          [
           "Detroit, MI to Madison, WI"
          ],
          [
           "Detroit, MI to Lubbock, TX"
          ],
          [
           "Detroit, MI to Reno, NV"
          ],
          [
           "Detroit, MI to Henderson, NV"
          ],
          [
           "Nashville, TN to Portland, OR"
          ],
          [
           "Nashville, TN to Memphis, TN"
          ],
          [
           "Nashville, TN to Oklahoma City, OK"
          ],
          [
           "Nashville, TN to Las Vegas, NV"
          ],
          [
           "Nashville, TN to Louisville, KY"
          ],
          [
           "Nashville, TN to Baltimore, MD"
          ],
          [
           "Nashville, TN to Milwaukee, WI"
          ],
          [
           "Nashville, TN to Albuquerque, NM"
          ],
          [
           "Nashville, TN to Tucson, AZ"
          ],
          [
           "Nashville, TN to Fresno, CA"
          ],
          [
           "Nashville, TN to Mesa, AZ"
          ],
          [
           "Nashville, TN to Sacramento, CA"
          ],
          [
           "Nashville, TN to Atlanta, GA"
          ],
          [
           "Nashville, TN to Kansas City, MO"
          ],
          [
           "Nashville, TN to Miami, FL"
          ],
          [
           "Nashville, TN to Raleigh, NC"
          ],
          [
           "Nashville, TN to Omaha, NE"
          ],
          [
           "Nashville, TN to Long Beach, CA"
          ],
          [
           "Nashville, TN to Virginia Beach, VA"
          ],
          [
           "Nashville, TN to Oakland, CA"
          ],
          [
           "Nashville, TN to Minneapolis, MN"
          ],
          [
           "Nashville, TN to Tulsa, OK"
          ],
          [
           "Nashville, TN to Tampa, FL"
          ],
          [
           "Nashville, TN to Arlington, TX"
          ],
          [
           "Nashville, TN to Aurora, CO"
          ],
          [
           "Nashville, TN to New Orleans, LA"
          ],
          [
           "Nashville, TN to Bakersfield, CA"
          ],
          [
           "Nashville, TN to Wichita, KS"
          ],
          [
           "Nashville, TN to Cleveland, OH"
          ],
          [
           "Nashville, TN to Anaheim, CA"
          ],
          [
           "Nashville, TN to Lexington, KY"
          ],
          [
           "Nashville, TN to Stockton, CA"
          ],
          [
           "Nashville, TN to Corpus Christi, TX"
          ],
          [
           "Nashville, TN to St. Louis, MO"
          ],
          [
           "Nashville, TN to Cincinnati, OH"
          ],
          [
           "Nashville, TN to Pittsburgh, PA"
          ],
          [
           "Nashville, TN to Greensboro, NC"
          ],
          [
           "Nashville, TN to Plano, TX"
          ],
          [
           "Nashville, TN to Lincoln, NE"
          ],
          [
           "Nashville, TN to Buffalo, NY"
          ],
          [
           "Nashville, TN to Chandler, AZ"
          ],
          [
           "Nashville, TN to Norfolk, VA"
          ],
          [
           "Nashville, TN to Madison, WI"
          ],
          [
           "Nashville, TN to Lubbock, TX"
          ],
          [
           "Nashville, TN to Reno, NV"
          ],
          [
           "Nashville, TN to Henderson, NV"
          ],
          [
           "Portland, OR to Memphis, TN"
          ],
          [
           "Portland, OR to Oklahoma City, OK"
          ],
          [
           "Portland, OR to Las Vegas, NV"
          ],
          [
           "Portland, OR to Louisville, KY"
          ],
          [
           "Portland, OR to Baltimore, MD"
          ],
          [
           "Portland, OR to Milwaukee, WI"
          ],
          [
           "Portland, OR to Albuquerque, NM"
          ],
          [
           "Portland, OR to Tucson, AZ"
          ],
          [
           "Portland, OR to Fresno, CA"
          ],
          [
           "Portland, OR to Mesa, AZ"
          ],
          [
           "Portland, OR to Sacramento, CA"
          ],
          [
           "Portland, OR to Atlanta, GA"
          ],
          [
           "Portland, OR to Kansas City, MO"
          ],
          [
           "Portland, OR to Miami, FL"
          ],
          [
           "Portland, OR to Raleigh, NC"
          ],
          [
           "Portland, OR to Omaha, NE"
          ],
          [
           "Portland, OR to Long Beach, CA"
          ],
          [
           "Portland, OR to Virginia Beach, VA"
          ],
          [
           "Portland, OR to Oakland, CA"
          ],
          [
           "Portland, OR to Minneapolis, MN"
          ],
          [
           "Portland, OR to Tulsa, OK"
          ],
          [
           "Portland, OR to Tampa, FL"
          ],
          [
           "Portland, OR to Arlington, TX"
          ],
          [
           "Portland, OR to Aurora, CO"
          ],
          [
           "Portland, OR to New Orleans, LA"
          ],
          [
           "Portland, OR to Bakersfield, CA"
          ],
          [
           "Portland, OR to Wichita, KS"
          ],
          [
           "Portland, OR to Cleveland, OH"
          ],
          [
           "Portland, OR to Anaheim, CA"
          ],
          [
           "Portland, OR to Lexington, KY"
          ],
          [
           "Portland, OR to Stockton, CA"
          ],
          [
           "Portland, OR to Corpus Christi, TX"
          ],
          [
           "Portland, OR to St. Louis, MO"
          ],
          [
           "Portland, OR to Cincinnati, OH"
          ],
          [
           "Portland, OR to Pittsburgh, PA"
          ],
          [
           "Portland, OR to Greensboro, NC"
          ],
          [
           "Portland, OR to Plano, TX"
          ],
          [
           "Portland, OR to Lincoln, NE"
          ],
          [
           "Portland, OR to Buffalo, NY"
          ],
          [
           "Portland, OR to Chandler, AZ"
          ],
          [
           "Portland, OR to Norfolk, VA"
          ],
          [
           "Portland, OR to Madison, WI"
          ],
          [
           "Portland, OR to Lubbock, TX"
          ],
          [
           "Portland, OR to Reno, NV"
          ],
          [
           "Portland, OR to Henderson, NV"
          ],
          [
           "Memphis, TN to Oklahoma City, OK"
          ],
          [
           "Memphis, TN to Las Vegas, NV"
          ],
          [
           "Memphis, TN to Louisville, KY"
          ],
          [
           "Memphis, TN to Baltimore, MD"
          ],
          [
           "Memphis, TN to Milwaukee, WI"
          ],
          [
           "Memphis, TN to Albuquerque, NM"
          ],
          [
           "Memphis, TN to Tucson, AZ"
          ],
          [
           "Memphis, TN to Fresno, CA"
          ],
          [
           "Memphis, TN to Mesa, AZ"
          ],
          [
           "Memphis, TN to Sacramento, CA"
          ],
          [
           "Memphis, TN to Atlanta, GA"
          ],
          [
           "Memphis, TN to Kansas City, MO"
          ],
          [
           "Memphis, TN to Miami, FL"
          ],
          [
           "Memphis, TN to Raleigh, NC"
          ],
          [
           "Memphis, TN to Omaha, NE"
          ],
          [
           "Memphis, TN to Long Beach, CA"
          ],
          [
           "Memphis, TN to Virginia Beach, VA"
          ],
          [
           "Memphis, TN to Oakland, CA"
          ],
          [
           "Memphis, TN to Minneapolis, MN"
          ],
          [
           "Memphis, TN to Tulsa, OK"
          ],
          [
           "Memphis, TN to Tampa, FL"
          ],
          [
           "Memphis, TN to Arlington, TX"
          ],
          [
           "Memphis, TN to Aurora, CO"
          ],
          [
           "Memphis, TN to New Orleans, LA"
          ],
          [
           "Memphis, TN to Bakersfield, CA"
          ],
          [
           "Memphis, TN to Wichita, KS"
          ],
          [
           "Memphis, TN to Cleveland, OH"
          ],
          [
           "Memphis, TN to Anaheim, CA"
          ],
          [
           "Memphis, TN to Lexington, KY"
          ],
          [
           "Memphis, TN to Stockton, CA"
          ],
          [
           "Memphis, TN to Corpus Christi, TX"
          ],
          [
           "Memphis, TN to St. Louis, MO"
          ],
          [
           "Memphis, TN to Cincinnati, OH"
          ],
          [
           "Memphis, TN to Pittsburgh, PA"
          ],
          [
           "Memphis, TN to Greensboro, NC"
          ],
          [
           "Memphis, TN to Plano, TX"
          ],
          [
           "Memphis, TN to Lincoln, NE"
          ],
          [
           "Memphis, TN to Buffalo, NY"
          ],
          [
           "Memphis, TN to Chandler, AZ"
          ],
          [
           "Memphis, TN to Norfolk, VA"
          ],
          [
           "Memphis, TN to Madison, WI"
          ],
          [
           "Memphis, TN to Lubbock, TX"
          ],
          [
           "Memphis, TN to Reno, NV"
          ],
          [
           "Memphis, TN to Henderson, NV"
          ],
          [
           "Oklahoma City, OK to Las Vegas, NV"
          ],
          [
           "Oklahoma City, OK to Louisville, KY"
          ],
          [
           "Oklahoma City, OK to Baltimore, MD"
          ],
          [
           "Oklahoma City, OK to Milwaukee, WI"
          ],
          [
           "Oklahoma City, OK to Albuquerque, NM"
          ],
          [
           "Oklahoma City, OK to Tucson, AZ"
          ],
          [
           "Oklahoma City, OK to Fresno, CA"
          ],
          [
           "Oklahoma City, OK to Mesa, AZ"
          ],
          [
           "Oklahoma City, OK to Sacramento, CA"
          ],
          [
           "Oklahoma City, OK to Atlanta, GA"
          ],
          [
           "Oklahoma City, OK to Kansas City, MO"
          ],
          [
           "Oklahoma City, OK to Miami, FL"
          ],
          [
           "Oklahoma City, OK to Raleigh, NC"
          ],
          [
           "Oklahoma City, OK to Omaha, NE"
          ],
          [
           "Oklahoma City, OK to Long Beach, CA"
          ],
          [
           "Oklahoma City, OK to Virginia Beach, VA"
          ],
          [
           "Oklahoma City, OK to Oakland, CA"
          ],
          [
           "Oklahoma City, OK to Minneapolis, MN"
          ],
          [
           "Oklahoma City, OK to Tulsa, OK"
          ],
          [
           "Oklahoma City, OK to Tampa, FL"
          ],
          [
           "Oklahoma City, OK to Arlington, TX"
          ],
          [
           "Oklahoma City, OK to Aurora, CO"
          ],
          [
           "Oklahoma City, OK to New Orleans, LA"
          ],
          [
           "Oklahoma City, OK to Bakersfield, CA"
          ],
          [
           "Oklahoma City, OK to Wichita, KS"
          ],
          [
           "Oklahoma City, OK to Cleveland, OH"
          ],
          [
           "Oklahoma City, OK to Anaheim, CA"
          ],
          [
           "Oklahoma City, OK to Lexington, KY"
          ],
          [
           "Oklahoma City, OK to Stockton, CA"
          ],
          [
           "Oklahoma City, OK to Corpus Christi, TX"
          ],
          [
           "Oklahoma City, OK to St. Louis, MO"
          ],
          [
           "Oklahoma City, OK to Cincinnati, OH"
          ],
          [
           "Oklahoma City, OK to Pittsburgh, PA"
          ],
          [
           "Oklahoma City, OK to Greensboro, NC"
          ],
          [
           "Oklahoma City, OK to Plano, TX"
          ],
          [
           "Oklahoma City, OK to Lincoln, NE"
          ],
          [
           "Oklahoma City, OK to Buffalo, NY"
          ],
          [
           "Oklahoma City, OK to Chandler, AZ"
          ],
          [
           "Oklahoma City, OK to Norfolk, VA"
          ],
          [
           "Oklahoma City, OK to Madison, WI"
          ],
          [
           "Oklahoma City, OK to Lubbock, TX"
          ],
          [
           "Oklahoma City, OK to Reno, NV"
          ],
          [
           "Oklahoma City, OK to Henderson, NV"
          ],
          [
           "Las Vegas, NV to Louisville, KY"
          ],
          [
           "Las Vegas, NV to Baltimore, MD"
          ],
          [
           "Las Vegas, NV to Milwaukee, WI"
          ],
          [
           "Las Vegas, NV to Albuquerque, NM"
          ],
          [
           "Las Vegas, NV to Tucson, AZ"
          ],
          [
           "Las Vegas, NV to Fresno, CA"
          ],
          [
           "Las Vegas, NV to Mesa, AZ"
          ],
          [
           "Las Vegas, NV to Sacramento, CA"
          ],
          [
           "Las Vegas, NV to Atlanta, GA"
          ],
          [
           "Las Vegas, NV to Kansas City, MO"
          ],
          [
           "Las Vegas, NV to Miami, FL"
          ],
          [
           "Las Vegas, NV to Raleigh, NC"
          ],
          [
           "Las Vegas, NV to Omaha, NE"
          ],
          [
           "Las Vegas, NV to Long Beach, CA"
          ],
          [
           "Las Vegas, NV to Virginia Beach, VA"
          ],
          [
           "Las Vegas, NV to Oakland, CA"
          ],
          [
           "Las Vegas, NV to Minneapolis, MN"
          ],
          [
           "Las Vegas, NV to Tulsa, OK"
          ],
          [
           "Las Vegas, NV to Tampa, FL"
          ],
          [
           "Las Vegas, NV to Arlington, TX"
          ],
          [
           "Las Vegas, NV to Aurora, CO"
          ],
          [
           "Las Vegas, NV to New Orleans, LA"
          ],
          [
           "Las Vegas, NV to Bakersfield, CA"
          ],
          [
           "Las Vegas, NV to Wichita, KS"
          ],
          [
           "Las Vegas, NV to Cleveland, OH"
          ],
          [
           "Las Vegas, NV to Anaheim, CA"
          ],
          [
           "Las Vegas, NV to Lexington, KY"
          ],
          [
           "Las Vegas, NV to Stockton, CA"
          ],
          [
           "Las Vegas, NV to Corpus Christi, TX"
          ],
          [
           "Las Vegas, NV to St. Louis, MO"
          ],
          [
           "Las Vegas, NV to Cincinnati, OH"
          ],
          [
           "Las Vegas, NV to Pittsburgh, PA"
          ],
          [
           "Las Vegas, NV to Greensboro, NC"
          ],
          [
           "Las Vegas, NV to Plano, TX"
          ],
          [
           "Las Vegas, NV to Lincoln, NE"
          ],
          [
           "Las Vegas, NV to Buffalo, NY"
          ],
          [
           "Las Vegas, NV to Chandler, AZ"
          ],
          [
           "Las Vegas, NV to Norfolk, VA"
          ],
          [
           "Las Vegas, NV to Madison, WI"
          ],
          [
           "Las Vegas, NV to Lubbock, TX"
          ],
          [
           "Las Vegas, NV to Reno, NV"
          ],
          [
           "Las Vegas, NV to Henderson, NV"
          ],
          [
           "Louisville, KY to Baltimore, MD"
          ],
          [
           "Louisville, KY to Milwaukee, WI"
          ],
          [
           "Louisville, KY to Albuquerque, NM"
          ],
          [
           "Louisville, KY to Tucson, AZ"
          ],
          [
           "Louisville, KY to Fresno, CA"
          ],
          [
           "Louisville, KY to Mesa, AZ"
          ],
          [
           "Louisville, KY to Sacramento, CA"
          ],
          [
           "Louisville, KY to Atlanta, GA"
          ],
          [
           "Louisville, KY to Kansas City, MO"
          ],
          [
           "Louisville, KY to Miami, FL"
          ],
          [
           "Louisville, KY to Raleigh, NC"
          ],
          [
           "Louisville, KY to Omaha, NE"
          ],
          [
           "Louisville, KY to Long Beach, CA"
          ],
          [
           "Louisville, KY to Virginia Beach, VA"
          ],
          [
           "Louisville, KY to Oakland, CA"
          ],
          [
           "Louisville, KY to Minneapolis, MN"
          ],
          [
           "Louisville, KY to Tulsa, OK"
          ],
          [
           "Louisville, KY to Tampa, FL"
          ],
          [
           "Louisville, KY to Arlington, TX"
          ],
          [
           "Louisville, KY to Aurora, CO"
          ],
          [
           "Louisville, KY to New Orleans, LA"
          ],
          [
           "Louisville, KY to Bakersfield, CA"
          ],
          [
           "Louisville, KY to Wichita, KS"
          ],
          [
           "Louisville, KY to Cleveland, OH"
          ],
          [
           "Louisville, KY to Anaheim, CA"
          ],
          [
           "Louisville, KY to Lexington, KY"
          ],
          [
           "Louisville, KY to Stockton, CA"
          ],
          [
           "Louisville, KY to Corpus Christi, TX"
          ],
          [
           "Louisville, KY to St. Louis, MO"
          ],
          [
           "Louisville, KY to Cincinnati, OH"
          ],
          [
           "Louisville, KY to Pittsburgh, PA"
          ],
          [
           "Louisville, KY to Greensboro, NC"
          ],
          [
           "Louisville, KY to Plano, TX"
          ],
          [
           "Louisville, KY to Lincoln, NE"
          ],
          [
           "Louisville, KY to Buffalo, NY"
          ],
          [
           "Louisville, KY to Chandler, AZ"
          ],
          [
           "Louisville, KY to Norfolk, VA"
          ],
          [
           "Louisville, KY to Madison, WI"
          ],
          [
           "Louisville, KY to Lubbock, TX"
          ],
          [
           "Louisville, KY to Reno, NV"
          ],
          [
           "Louisville, KY to Henderson, NV"
          ],
          [
           "Baltimore, MD to Milwaukee, WI"
          ],
          [
           "Baltimore, MD to Albuquerque, NM"
          ],
          [
           "Baltimore, MD to Tucson, AZ"
          ],
          [
           "Baltimore, MD to Fresno, CA"
          ],
          [
           "Baltimore, MD to Mesa, AZ"
          ],
          [
           "Baltimore, MD to Sacramento, CA"
          ],
          [
           "Baltimore, MD to Atlanta, GA"
          ],
          [
           "Baltimore, MD to Kansas City, MO"
          ],
          [
           "Baltimore, MD to Miami, FL"
          ],
          [
           "Baltimore, MD to Raleigh, NC"
          ],
          [
           "Baltimore, MD to Omaha, NE"
          ],
          [
           "Baltimore, MD to Long Beach, CA"
          ],
          [
           "Baltimore, MD to Virginia Beach, VA"
          ],
          [
           "Baltimore, MD to Oakland, CA"
          ],
          [
           "Baltimore, MD to Minneapolis, MN"
          ],
          [
           "Baltimore, MD to Tulsa, OK"
          ],
          [
           "Baltimore, MD to Tampa, FL"
          ],
          [
           "Baltimore, MD to Arlington, TX"
          ],
          [
           "Baltimore, MD to Aurora, CO"
          ],
          [
           "Baltimore, MD to New Orleans, LA"
          ],
          [
           "Baltimore, MD to Bakersfield, CA"
          ],
          [
           "Baltimore, MD to Wichita, KS"
          ],
          [
           "Baltimore, MD to Cleveland, OH"
          ],
          [
           "Baltimore, MD to Anaheim, CA"
          ],
          [
           "Baltimore, MD to Lexington, KY"
          ],
          [
           "Baltimore, MD to Stockton, CA"
          ],
          [
           "Baltimore, MD to Corpus Christi, TX"
          ],
          [
           "Baltimore, MD to St. Louis, MO"
          ],
          [
           "Baltimore, MD to Cincinnati, OH"
          ],
          [
           "Baltimore, MD to Pittsburgh, PA"
          ],
          [
           "Baltimore, MD to Greensboro, NC"
          ],
          [
           "Baltimore, MD to Plano, TX"
          ],
          [
           "Baltimore, MD to Lincoln, NE"
          ],
          [
           "Baltimore, MD to Buffalo, NY"
          ],
          [
           "Baltimore, MD to Chandler, AZ"
          ],
          [
           "Baltimore, MD to Norfolk, VA"
          ],
          [
           "Baltimore, MD to Madison, WI"
          ],
          [
           "Baltimore, MD to Lubbock, TX"
          ],
          [
           "Baltimore, MD to Reno, NV"
          ],
          [
           "Baltimore, MD to Henderson, NV"
          ],
          [
           "Milwaukee, WI to Albuquerque, NM"
          ],
          [
           "Milwaukee, WI to Tucson, AZ"
          ],
          [
           "Milwaukee, WI to Fresno, CA"
          ],
          [
           "Milwaukee, WI to Mesa, AZ"
          ],
          [
           "Milwaukee, WI to Sacramento, CA"
          ],
          [
           "Milwaukee, WI to Atlanta, GA"
          ],
          [
           "Milwaukee, WI to Kansas City, MO"
          ],
          [
           "Milwaukee, WI to Miami, FL"
          ],
          [
           "Milwaukee, WI to Raleigh, NC"
          ],
          [
           "Milwaukee, WI to Omaha, NE"
          ],
          [
           "Milwaukee, WI to Long Beach, CA"
          ],
          [
           "Milwaukee, WI to Virginia Beach, VA"
          ],
          [
           "Milwaukee, WI to Oakland, CA"
          ],
          [
           "Milwaukee, WI to Minneapolis, MN"
          ],
          [
           "Milwaukee, WI to Tulsa, OK"
          ],
          [
           "Milwaukee, WI to Tampa, FL"
          ],
          [
           "Milwaukee, WI to Arlington, TX"
          ],
          [
           "Milwaukee, WI to Aurora, CO"
          ],
          [
           "Milwaukee, WI to New Orleans, LA"
          ],
          [
           "Milwaukee, WI to Bakersfield, CA"
          ],
          [
           "Milwaukee, WI to Wichita, KS"
          ],
          [
           "Milwaukee, WI to Cleveland, OH"
          ],
          [
           "Milwaukee, WI to Anaheim, CA"
          ],
          [
           "Milwaukee, WI to Lexington, KY"
          ],
          [
           "Milwaukee, WI to Stockton, CA"
          ],
          [
           "Milwaukee, WI to Corpus Christi, TX"
          ],
          [
           "Milwaukee, WI to St. Louis, MO"
          ],
          [
           "Milwaukee, WI to Cincinnati, OH"
          ],
          [
           "Milwaukee, WI to Pittsburgh, PA"
          ],
          [
           "Milwaukee, WI to Greensboro, NC"
          ],
          [
           "Milwaukee, WI to Plano, TX"
          ],
          [
           "Milwaukee, WI to Lincoln, NE"
          ],
          [
           "Milwaukee, WI to Buffalo, NY"
          ],
          [
           "Milwaukee, WI to Chandler, AZ"
          ],
          [
           "Milwaukee, WI to Norfolk, VA"
          ],
          [
           "Milwaukee, WI to Madison, WI"
          ],
          [
           "Milwaukee, WI to Lubbock, TX"
          ],
          [
           "Milwaukee, WI to Reno, NV"
          ],
          [
           "Milwaukee, WI to Henderson, NV"
          ],
          [
           "Albuquerque, NM to Tucson, AZ"
          ],
          [
           "Albuquerque, NM to Fresno, CA"
          ],
          [
           "Albuquerque, NM to Mesa, AZ"
          ],
          [
           "Albuquerque, NM to Sacramento, CA"
          ],
          [
           "Albuquerque, NM to Atlanta, GA"
          ],
          [
           "Albuquerque, NM to Kansas City, MO"
          ],
          [
           "Albuquerque, NM to Miami, FL"
          ],
          [
           "Albuquerque, NM to Raleigh, NC"
          ],
          [
           "Albuquerque, NM to Omaha, NE"
          ],
          [
           "Albuquerque, NM to Long Beach, CA"
          ],
          [
           "Albuquerque, NM to Virginia Beach, VA"
          ],
          [
           "Albuquerque, NM to Oakland, CA"
          ],
          [
           "Albuquerque, NM to Minneapolis, MN"
          ],
          [
           "Albuquerque, NM to Tulsa, OK"
          ],
          [
           "Albuquerque, NM to Tampa, FL"
          ],
          [
           "Albuquerque, NM to Arlington, TX"
          ],
          [
           "Albuquerque, NM to Aurora, CO"
          ],
          [
           "Albuquerque, NM to New Orleans, LA"
          ],
          [
           "Albuquerque, NM to Bakersfield, CA"
          ],
          [
           "Albuquerque, NM to Wichita, KS"
          ],
          [
           "Albuquerque, NM to Cleveland, OH"
          ],
          [
           "Albuquerque, NM to Anaheim, CA"
          ],
          [
           "Albuquerque, NM to Lexington, KY"
          ],
          [
           "Albuquerque, NM to Stockton, CA"
          ],
          [
           "Albuquerque, NM to Corpus Christi, TX"
          ],
          [
           "Albuquerque, NM to St. Louis, MO"
          ],
          [
           "Albuquerque, NM to Cincinnati, OH"
          ],
          [
           "Albuquerque, NM to Pittsburgh, PA"
          ],
          [
           "Albuquerque, NM to Greensboro, NC"
          ],
          [
           "Albuquerque, NM to Plano, TX"
          ],
          [
           "Albuquerque, NM to Lincoln, NE"
          ],
          [
           "Albuquerque, NM to Buffalo, NY"
          ],
          [
           "Albuquerque, NM to Chandler, AZ"
          ],
          [
           "Albuquerque, NM to Norfolk, VA"
          ],
          [
           "Albuquerque, NM to Madison, WI"
          ],
          [
           "Albuquerque, NM to Lubbock, TX"
          ],
          [
           "Albuquerque, NM to Reno, NV"
          ],
          [
           "Albuquerque, NM to Henderson, NV"
          ],
          [
           "Tucson, AZ to Fresno, CA"
          ],
          [
           "Tucson, AZ to Mesa, AZ"
          ],
          [
           "Tucson, AZ to Sacramento, CA"
          ],
          [
           "Tucson, AZ to Atlanta, GA"
          ],
          [
           "Tucson, AZ to Kansas City, MO"
          ],
          [
           "Tucson, AZ to Miami, FL"
          ],
          [
           "Tucson, AZ to Raleigh, NC"
          ],
          [
           "Tucson, AZ to Omaha, NE"
          ],
          [
           "Tucson, AZ to Long Beach, CA"
          ],
          [
           "Tucson, AZ to Virginia Beach, VA"
          ],
          [
           "Tucson, AZ to Oakland, CA"
          ],
          [
           "Tucson, AZ to Minneapolis, MN"
          ],
          [
           "Tucson, AZ to Tulsa, OK"
          ],
          [
           "Tucson, AZ to Tampa, FL"
          ],
          [
           "Tucson, AZ to Arlington, TX"
          ],
          [
           "Tucson, AZ to Aurora, CO"
          ],
          [
           "Tucson, AZ to New Orleans, LA"
          ],
          [
           "Tucson, AZ to Bakersfield, CA"
          ],
          [
           "Tucson, AZ to Wichita, KS"
          ],
          [
           "Tucson, AZ to Cleveland, OH"
          ],
          [
           "Tucson, AZ to Anaheim, CA"
          ],
          [
           "Tucson, AZ to Lexington, KY"
          ],
          [
           "Tucson, AZ to Stockton, CA"
          ],
          [
           "Tucson, AZ to Corpus Christi, TX"
          ],
          [
           "Tucson, AZ to St. Louis, MO"
          ],
          [
           "Tucson, AZ to Cincinnati, OH"
          ],
          [
           "Tucson, AZ to Pittsburgh, PA"
          ],
          [
           "Tucson, AZ to Greensboro, NC"
          ],
          [
           "Tucson, AZ to Plano, TX"
          ],
          [
           "Tucson, AZ to Lincoln, NE"
          ],
          [
           "Tucson, AZ to Buffalo, NY"
          ],
          [
           "Tucson, AZ to Chandler, AZ"
          ],
          [
           "Tucson, AZ to Norfolk, VA"
          ],
          [
           "Tucson, AZ to Madison, WI"
          ],
          [
           "Tucson, AZ to Lubbock, TX"
          ],
          [
           "Tucson, AZ to Reno, NV"
          ],
          [
           "Tucson, AZ to Henderson, NV"
          ],
          [
           "Fresno, CA to Mesa, AZ"
          ],
          [
           "Fresno, CA to Sacramento, CA"
          ],
          [
           "Fresno, CA to Atlanta, GA"
          ],
          [
           "Fresno, CA to Kansas City, MO"
          ],
          [
           "Fresno, CA to Miami, FL"
          ],
          [
           "Fresno, CA to Raleigh, NC"
          ],
          [
           "Fresno, CA to Omaha, NE"
          ],
          [
           "Fresno, CA to Long Beach, CA"
          ],
          [
           "Fresno, CA to Virginia Beach, VA"
          ],
          [
           "Fresno, CA to Oakland, CA"
          ],
          [
           "Fresno, CA to Minneapolis, MN"
          ],
          [
           "Fresno, CA to Tulsa, OK"
          ],
          [
           "Fresno, CA to Tampa, FL"
          ],
          [
           "Fresno, CA to Arlington, TX"
          ],
          [
           "Fresno, CA to Aurora, CO"
          ],
          [
           "Fresno, CA to New Orleans, LA"
          ],
          [
           "Fresno, CA to Bakersfield, CA"
          ],
          [
           "Fresno, CA to Wichita, KS"
          ],
          [
           "Fresno, CA to Cleveland, OH"
          ],
          [
           "Fresno, CA to Anaheim, CA"
          ],
          [
           "Fresno, CA to Lexington, KY"
          ],
          [
           "Fresno, CA to Stockton, CA"
          ],
          [
           "Fresno, CA to Corpus Christi, TX"
          ],
          [
           "Fresno, CA to St. Louis, MO"
          ],
          [
           "Fresno, CA to Cincinnati, OH"
          ],
          [
           "Fresno, CA to Pittsburgh, PA"
          ],
          [
           "Fresno, CA to Greensboro, NC"
          ],
          [
           "Fresno, CA to Plano, TX"
          ],
          [
           "Fresno, CA to Lincoln, NE"
          ],
          [
           "Fresno, CA to Buffalo, NY"
          ],
          [
           "Fresno, CA to Chandler, AZ"
          ],
          [
           "Fresno, CA to Norfolk, VA"
          ],
          [
           "Fresno, CA to Madison, WI"
          ],
          [
           "Fresno, CA to Lubbock, TX"
          ],
          [
           "Fresno, CA to Reno, NV"
          ],
          [
           "Fresno, CA to Henderson, NV"
          ],
          [
           "Mesa, AZ to Sacramento, CA"
          ],
          [
           "Mesa, AZ to Atlanta, GA"
          ],
          [
           "Mesa, AZ to Kansas City, MO"
          ],
          [
           "Mesa, AZ to Miami, FL"
          ],
          [
           "Mesa, AZ to Raleigh, NC"
          ],
          [
           "Mesa, AZ to Omaha, NE"
          ],
          [
           "Mesa, AZ to Long Beach, CA"
          ],
          [
           "Mesa, AZ to Virginia Beach, VA"
          ],
          [
           "Mesa, AZ to Oakland, CA"
          ],
          [
           "Mesa, AZ to Minneapolis, MN"
          ],
          [
           "Mesa, AZ to Tulsa, OK"
          ],
          [
           "Mesa, AZ to Tampa, FL"
          ],
          [
           "Mesa, AZ to Arlington, TX"
          ],
          [
           "Mesa, AZ to Aurora, CO"
          ],
          [
           "Mesa, AZ to New Orleans, LA"
          ],
          [
           "Mesa, AZ to Bakersfield, CA"
          ],
          [
           "Mesa, AZ to Wichita, KS"
          ],
          [
           "Mesa, AZ to Cleveland, OH"
          ],
          [
           "Mesa, AZ to Anaheim, CA"
          ],
          [
           "Mesa, AZ to Lexington, KY"
          ],
          [
           "Mesa, AZ to Stockton, CA"
          ],
          [
           "Mesa, AZ to Corpus Christi, TX"
          ],
          [
           "Mesa, AZ to St. Louis, MO"
          ],
          [
           "Mesa, AZ to Cincinnati, OH"
          ],
          [
           "Mesa, AZ to Pittsburgh, PA"
          ],
          [
           "Mesa, AZ to Greensboro, NC"
          ],
          [
           "Mesa, AZ to Plano, TX"
          ],
          [
           "Mesa, AZ to Lincoln, NE"
          ],
          [
           "Mesa, AZ to Buffalo, NY"
          ],
          [
           "Mesa, AZ to Chandler, AZ"
          ],
          [
           "Mesa, AZ to Norfolk, VA"
          ],
          [
           "Mesa, AZ to Madison, WI"
          ],
          [
           "Mesa, AZ to Lubbock, TX"
          ],
          [
           "Mesa, AZ to Reno, NV"
          ],
          [
           "Mesa, AZ to Henderson, NV"
          ],
          [
           "Sacramento, CA to Atlanta, GA"
          ],
          [
           "Sacramento, CA to Kansas City, MO"
          ],
          [
           "Sacramento, CA to Miami, FL"
          ],
          [
           "Sacramento, CA to Raleigh, NC"
          ],
          [
           "Sacramento, CA to Omaha, NE"
          ],
          [
           "Sacramento, CA to Long Beach, CA"
          ],
          [
           "Sacramento, CA to Virginia Beach, VA"
          ],
          [
           "Sacramento, CA to Oakland, CA"
          ],
          [
           "Sacramento, CA to Minneapolis, MN"
          ],
          [
           "Sacramento, CA to Tulsa, OK"
          ],
          [
           "Sacramento, CA to Tampa, FL"
          ],
          [
           "Sacramento, CA to Arlington, TX"
          ],
          [
           "Sacramento, CA to Aurora, CO"
          ],
          [
           "Sacramento, CA to New Orleans, LA"
          ],
          [
           "Sacramento, CA to Bakersfield, CA"
          ],
          [
           "Sacramento, CA to Wichita, KS"
          ],
          [
           "Sacramento, CA to Cleveland, OH"
          ],
          [
           "Sacramento, CA to Anaheim, CA"
          ],
          [
           "Sacramento, CA to Lexington, KY"
          ],
          [
           "Sacramento, CA to Stockton, CA"
          ],
          [
           "Sacramento, CA to Corpus Christi, TX"
          ],
          [
           "Sacramento, CA to St. Louis, MO"
          ],
          [
           "Sacramento, CA to Cincinnati, OH"
          ],
          [
           "Sacramento, CA to Pittsburgh, PA"
          ],
          [
           "Sacramento, CA to Greensboro, NC"
          ],
          [
           "Sacramento, CA to Plano, TX"
          ],
          [
           "Sacramento, CA to Lincoln, NE"
          ],
          [
           "Sacramento, CA to Buffalo, NY"
          ],
          [
           "Sacramento, CA to Chandler, AZ"
          ],
          [
           "Sacramento, CA to Norfolk, VA"
          ],
          [
           "Sacramento, CA to Madison, WI"
          ],
          [
           "Sacramento, CA to Lubbock, TX"
          ],
          [
           "Sacramento, CA to Reno, NV"
          ],
          [
           "Sacramento, CA to Henderson, NV"
          ],
          [
           "Atlanta, GA to Kansas City, MO"
          ],
          [
           "Atlanta, GA to Miami, FL"
          ],
          [
           "Atlanta, GA to Raleigh, NC"
          ],
          [
           "Atlanta, GA to Omaha, NE"
          ],
          [
           "Atlanta, GA to Long Beach, CA"
          ],
          [
           "Atlanta, GA to Virginia Beach, VA"
          ],
          [
           "Atlanta, GA to Oakland, CA"
          ],
          [
           "Atlanta, GA to Minneapolis, MN"
          ],
          [
           "Atlanta, GA to Tulsa, OK"
          ],
          [
           "Atlanta, GA to Tampa, FL"
          ],
          [
           "Atlanta, GA to Arlington, TX"
          ],
          [
           "Atlanta, GA to Aurora, CO"
          ],
          [
           "Atlanta, GA to New Orleans, LA"
          ],
          [
           "Atlanta, GA to Bakersfield, CA"
          ],
          [
           "Atlanta, GA to Wichita, KS"
          ],
          [
           "Atlanta, GA to Cleveland, OH"
          ],
          [
           "Atlanta, GA to Anaheim, CA"
          ],
          [
           "Atlanta, GA to Lexington, KY"
          ],
          [
           "Atlanta, GA to Stockton, CA"
          ],
          [
           "Atlanta, GA to Corpus Christi, TX"
          ],
          [
           "Atlanta, GA to St. Louis, MO"
          ],
          [
           "Atlanta, GA to Cincinnati, OH"
          ],
          [
           "Atlanta, GA to Pittsburgh, PA"
          ],
          [
           "Atlanta, GA to Greensboro, NC"
          ],
          [
           "Atlanta, GA to Plano, TX"
          ],
          [
           "Atlanta, GA to Lincoln, NE"
          ],
          [
           "Atlanta, GA to Buffalo, NY"
          ],
          [
           "Atlanta, GA to Chandler, AZ"
          ],
          [
           "Atlanta, GA to Norfolk, VA"
          ],
          [
           "Atlanta, GA to Madison, WI"
          ],
          [
           "Atlanta, GA to Lubbock, TX"
          ],
          [
           "Atlanta, GA to Reno, NV"
          ],
          [
           "Atlanta, GA to Henderson, NV"
          ],
          [
           "Kansas City, MO to Miami, FL"
          ],
          [
           "Kansas City, MO to Raleigh, NC"
          ],
          [
           "Kansas City, MO to Omaha, NE"
          ],
          [
           "Kansas City, MO to Long Beach, CA"
          ],
          [
           "Kansas City, MO to Virginia Beach, VA"
          ],
          [
           "Kansas City, MO to Oakland, CA"
          ],
          [
           "Kansas City, MO to Minneapolis, MN"
          ],
          [
           "Kansas City, MO to Tulsa, OK"
          ],
          [
           "Kansas City, MO to Tampa, FL"
          ],
          [
           "Kansas City, MO to Arlington, TX"
          ],
          [
           "Kansas City, MO to Aurora, CO"
          ],
          [
           "Kansas City, MO to New Orleans, LA"
          ],
          [
           "Kansas City, MO to Bakersfield, CA"
          ],
          [
           "Kansas City, MO to Wichita, KS"
          ],
          [
           "Kansas City, MO to Cleveland, OH"
          ],
          [
           "Kansas City, MO to Anaheim, CA"
          ],
          [
           "Kansas City, MO to Lexington, KY"
          ],
          [
           "Kansas City, MO to Stockton, CA"
          ],
          [
           "Kansas City, MO to Corpus Christi, TX"
          ],
          [
           "Kansas City, MO to St. Louis, MO"
          ],
          [
           "Kansas City, MO to Cincinnati, OH"
          ],
          [
           "Kansas City, MO to Pittsburgh, PA"
          ],
          [
           "Kansas City, MO to Greensboro, NC"
          ],
          [
           "Kansas City, MO to Plano, TX"
          ],
          [
           "Kansas City, MO to Lincoln, NE"
          ],
          [
           "Kansas City, MO to Buffalo, NY"
          ],
          [
           "Kansas City, MO to Chandler, AZ"
          ],
          [
           "Kansas City, MO to Norfolk, VA"
          ],
          [
           "Kansas City, MO to Madison, WI"
          ],
          [
           "Kansas City, MO to Lubbock, TX"
          ],
          [
           "Kansas City, MO to Reno, NV"
          ],
          [
           "Kansas City, MO to Henderson, NV"
          ],
          [
           "Miami, FL to Raleigh, NC"
          ],
          [
           "Miami, FL to Omaha, NE"
          ],
          [
           "Miami, FL to Long Beach, CA"
          ],
          [
           "Miami, FL to Virginia Beach, VA"
          ],
          [
           "Miami, FL to Oakland, CA"
          ],
          [
           "Miami, FL to Minneapolis, MN"
          ],
          [
           "Miami, FL to Tulsa, OK"
          ],
          [
           "Miami, FL to Tampa, FL"
          ],
          [
           "Miami, FL to Arlington, TX"
          ],
          [
           "Miami, FL to Aurora, CO"
          ],
          [
           "Miami, FL to New Orleans, LA"
          ],
          [
           "Miami, FL to Bakersfield, CA"
          ],
          [
           "Miami, FL to Wichita, KS"
          ],
          [
           "Miami, FL to Cleveland, OH"
          ],
          [
           "Miami, FL to Anaheim, CA"
          ],
          [
           "Miami, FL to Lexington, KY"
          ],
          [
           "Miami, FL to Stockton, CA"
          ],
          [
           "Miami, FL to Corpus Christi, TX"
          ],
          [
           "Miami, FL to St. Louis, MO"
          ],
          [
           "Miami, FL to Cincinnati, OH"
          ],
          [
           "Miami, FL to Pittsburgh, PA"
          ],
          [
           "Miami, FL to Greensboro, NC"
          ],
          [
           "Miami, FL to Plano, TX"
          ],
          [
           "Miami, FL to Lincoln, NE"
          ],
          [
           "Miami, FL to Buffalo, NY"
          ],
          [
           "Miami, FL to Chandler, AZ"
          ],
          [
           "Miami, FL to Norfolk, VA"
          ],
          [
           "Miami, FL to Madison, WI"
          ],
          [
           "Miami, FL to Lubbock, TX"
          ],
          [
           "Miami, FL to Reno, NV"
          ],
          [
           "Miami, FL to Henderson, NV"
          ],
          [
           "Raleigh, NC to Omaha, NE"
          ],
          [
           "Raleigh, NC to Long Beach, CA"
          ],
          [
           "Raleigh, NC to Virginia Beach, VA"
          ],
          [
           "Raleigh, NC to Oakland, CA"
          ],
          [
           "Raleigh, NC to Minneapolis, MN"
          ],
          [
           "Raleigh, NC to Tulsa, OK"
          ],
          [
           "Raleigh, NC to Tampa, FL"
          ],
          [
           "Raleigh, NC to Arlington, TX"
          ],
          [
           "Raleigh, NC to Aurora, CO"
          ],
          [
           "Raleigh, NC to New Orleans, LA"
          ],
          [
           "Raleigh, NC to Bakersfield, CA"
          ],
          [
           "Raleigh, NC to Wichita, KS"
          ],
          [
           "Raleigh, NC to Cleveland, OH"
          ],
          [
           "Raleigh, NC to Anaheim, CA"
          ],
          [
           "Raleigh, NC to Lexington, KY"
          ],
          [
           "Raleigh, NC to Stockton, CA"
          ],
          [
           "Raleigh, NC to Corpus Christi, TX"
          ],
          [
           "Raleigh, NC to St. Louis, MO"
          ],
          [
           "Raleigh, NC to Cincinnati, OH"
          ],
          [
           "Raleigh, NC to Pittsburgh, PA"
          ],
          [
           "Raleigh, NC to Greensboro, NC"
          ],
          [
           "Raleigh, NC to Plano, TX"
          ],
          [
           "Raleigh, NC to Lincoln, NE"
          ],
          [
           "Raleigh, NC to Buffalo, NY"
          ],
          [
           "Raleigh, NC to Chandler, AZ"
          ],
          [
           "Raleigh, NC to Norfolk, VA"
          ],
          [
           "Raleigh, NC to Madison, WI"
          ],
          [
           "Raleigh, NC to Lubbock, TX"
          ],
          [
           "Raleigh, NC to Reno, NV"
          ],
          [
           "Raleigh, NC to Henderson, NV"
          ],
          [
           "Omaha, NE to Long Beach, CA"
          ],
          [
           "Omaha, NE to Virginia Beach, VA"
          ],
          [
           "Omaha, NE to Oakland, CA"
          ],
          [
           "Omaha, NE to Minneapolis, MN"
          ],
          [
           "Omaha, NE to Tulsa, OK"
          ],
          [
           "Omaha, NE to Tampa, FL"
          ],
          [
           "Omaha, NE to Arlington, TX"
          ],
          [
           "Omaha, NE to Aurora, CO"
          ],
          [
           "Omaha, NE to New Orleans, LA"
          ],
          [
           "Omaha, NE to Bakersfield, CA"
          ],
          [
           "Omaha, NE to Wichita, KS"
          ],
          [
           "Omaha, NE to Cleveland, OH"
          ],
          [
           "Omaha, NE to Anaheim, CA"
          ],
          [
           "Omaha, NE to Lexington, KY"
          ],
          [
           "Omaha, NE to Stockton, CA"
          ],
          [
           "Omaha, NE to Corpus Christi, TX"
          ],
          [
           "Omaha, NE to St. Louis, MO"
          ],
          [
           "Omaha, NE to Cincinnati, OH"
          ],
          [
           "Omaha, NE to Pittsburgh, PA"
          ],
          [
           "Omaha, NE to Greensboro, NC"
          ],
          [
           "Omaha, NE to Plano, TX"
          ],
          [
           "Omaha, NE to Lincoln, NE"
          ],
          [
           "Omaha, NE to Buffalo, NY"
          ],
          [
           "Omaha, NE to Chandler, AZ"
          ],
          [
           "Omaha, NE to Norfolk, VA"
          ],
          [
           "Omaha, NE to Madison, WI"
          ],
          [
           "Omaha, NE to Lubbock, TX"
          ],
          [
           "Omaha, NE to Reno, NV"
          ],
          [
           "Omaha, NE to Henderson, NV"
          ],
          [
           "Long Beach, CA to Virginia Beach, VA"
          ],
          [
           "Long Beach, CA to Oakland, CA"
          ],
          [
           "Long Beach, CA to Minneapolis, MN"
          ],
          [
           "Long Beach, CA to Tulsa, OK"
          ],
          [
           "Long Beach, CA to Tampa, FL"
          ],
          [
           "Long Beach, CA to Arlington, TX"
          ],
          [
           "Long Beach, CA to Aurora, CO"
          ],
          [
           "Long Beach, CA to New Orleans, LA"
          ],
          [
           "Long Beach, CA to Bakersfield, CA"
          ],
          [
           "Long Beach, CA to Wichita, KS"
          ],
          [
           "Long Beach, CA to Cleveland, OH"
          ],
          [
           "Long Beach, CA to Anaheim, CA"
          ],
          [
           "Long Beach, CA to Lexington, KY"
          ],
          [
           "Long Beach, CA to Stockton, CA"
          ],
          [
           "Long Beach, CA to Corpus Christi, TX"
          ],
          [
           "Long Beach, CA to St. Louis, MO"
          ],
          [
           "Long Beach, CA to Cincinnati, OH"
          ],
          [
           "Long Beach, CA to Pittsburgh, PA"
          ],
          [
           "Long Beach, CA to Greensboro, NC"
          ],
          [
           "Long Beach, CA to Plano, TX"
          ],
          [
           "Long Beach, CA to Lincoln, NE"
          ],
          [
           "Long Beach, CA to Buffalo, NY"
          ],
          [
           "Long Beach, CA to Chandler, AZ"
          ],
          [
           "Long Beach, CA to Norfolk, VA"
          ],
          [
           "Long Beach, CA to Madison, WI"
          ],
          [
           "Long Beach, CA to Lubbock, TX"
          ],
          [
           "Long Beach, CA to Reno, NV"
          ],
          [
           "Long Beach, CA to Henderson, NV"
          ],
          [
           "Virginia Beach, VA to Oakland, CA"
          ],
          [
           "Virginia Beach, VA to Minneapolis, MN"
          ],
          [
           "Virginia Beach, VA to Tulsa, OK"
          ],
          [
           "Virginia Beach, VA to Tampa, FL"
          ],
          [
           "Virginia Beach, VA to Arlington, TX"
          ],
          [
           "Virginia Beach, VA to Aurora, CO"
          ],
          [
           "Virginia Beach, VA to New Orleans, LA"
          ],
          [
           "Virginia Beach, VA to Bakersfield, CA"
          ],
          [
           "Virginia Beach, VA to Wichita, KS"
          ],
          [
           "Virginia Beach, VA to Cleveland, OH"
          ],
          [
           "Virginia Beach, VA to Anaheim, CA"
          ],
          [
           "Virginia Beach, VA to Lexington, KY"
          ],
          [
           "Virginia Beach, VA to Stockton, CA"
          ],
          [
           "Virginia Beach, VA to Corpus Christi, TX"
          ],
          [
           "Virginia Beach, VA to St. Louis, MO"
          ],
          [
           "Virginia Beach, VA to Cincinnati, OH"
          ],
          [
           "Virginia Beach, VA to Pittsburgh, PA"
          ],
          [
           "Virginia Beach, VA to Greensboro, NC"
          ],
          [
           "Virginia Beach, VA to Plano, TX"
          ],
          [
           "Virginia Beach, VA to Lincoln, NE"
          ],
          [
           "Virginia Beach, VA to Buffalo, NY"
          ],
          [
           "Virginia Beach, VA to Chandler, AZ"
          ],
          [
           "Virginia Beach, VA to Norfolk, VA"
          ],
          [
           "Virginia Beach, VA to Madison, WI"
          ],
          [
           "Virginia Beach, VA to Lubbock, TX"
          ],
          [
           "Virginia Beach, VA to Reno, NV"
          ],
          [
           "Virginia Beach, VA to Henderson, NV"
          ],
          [
           "Oakland, CA to Minneapolis, MN"
          ],
          [
           "Oakland, CA to Tulsa, OK"
          ],
          [
           "Oakland, CA to Tampa, FL"
          ],
          [
           "Oakland, CA to Arlington, TX"
          ],
          [
           "Oakland, CA to Aurora, CO"
          ],
          [
           "Oakland, CA to New Orleans, LA"
          ],
          [
           "Oakland, CA to Bakersfield, CA"
          ],
          [
           "Oakland, CA to Wichita, KS"
          ],
          [
           "Oakland, CA to Cleveland, OH"
          ],
          [
           "Oakland, CA to Anaheim, CA"
          ],
          [
           "Oakland, CA to Lexington, KY"
          ],
          [
           "Oakland, CA to Stockton, CA"
          ],
          [
           "Oakland, CA to Corpus Christi, TX"
          ],
          [
           "Oakland, CA to St. Louis, MO"
          ],
          [
           "Oakland, CA to Cincinnati, OH"
          ],
          [
           "Oakland, CA to Pittsburgh, PA"
          ],
          [
           "Oakland, CA to Greensboro, NC"
          ],
          [
           "Oakland, CA to Plano, TX"
          ],
          [
           "Oakland, CA to Lincoln, NE"
          ],
          [
           "Oakland, CA to Buffalo, NY"
          ],
          [
           "Oakland, CA to Chandler, AZ"
          ],
          [
           "Oakland, CA to Norfolk, VA"
          ],
          [
           "Oakland, CA to Madison, WI"
          ],
          [
           "Oakland, CA to Lubbock, TX"
          ],
          [
           "Oakland, CA to Reno, NV"
          ],
          [
           "Oakland, CA to Henderson, NV"
          ],
          [
           "Minneapolis, MN to Tulsa, OK"
          ],
          [
           "Minneapolis, MN to Tampa, FL"
          ],
          [
           "Minneapolis, MN to Arlington, TX"
          ],
          [
           "Minneapolis, MN to Aurora, CO"
          ],
          [
           "Minneapolis, MN to New Orleans, LA"
          ],
          [
           "Minneapolis, MN to Bakersfield, CA"
          ],
          [
           "Minneapolis, MN to Wichita, KS"
          ],
          [
           "Minneapolis, MN to Cleveland, OH"
          ],
          [
           "Minneapolis, MN to Anaheim, CA"
          ],
          [
           "Minneapolis, MN to Lexington, KY"
          ],
          [
           "Minneapolis, MN to Stockton, CA"
          ],
          [
           "Minneapolis, MN to Corpus Christi, TX"
          ],
          [
           "Minneapolis, MN to St. Louis, MO"
          ],
          [
           "Minneapolis, MN to Cincinnati, OH"
          ],
          [
           "Minneapolis, MN to Pittsburgh, PA"
          ],
          [
           "Minneapolis, MN to Greensboro, NC"
          ],
          [
           "Minneapolis, MN to Plano, TX"
          ],
          [
           "Minneapolis, MN to Lincoln, NE"
          ],
          [
           "Minneapolis, MN to Buffalo, NY"
          ],
          [
           "Minneapolis, MN to Chandler, AZ"
          ],
          [
           "Minneapolis, MN to Norfolk, VA"
          ],
          [
           "Minneapolis, MN to Madison, WI"
          ],
          [
           "Minneapolis, MN to Lubbock, TX"
          ],
          [
           "Minneapolis, MN to Reno, NV"
          ],
          [
           "Minneapolis, MN to Henderson, NV"
          ],
          [
           "Tulsa, OK to Tampa, FL"
          ],
          [
           "Tulsa, OK to Arlington, TX"
          ],
          [
           "Tulsa, OK to Aurora, CO"
          ],
          [
           "Tulsa, OK to New Orleans, LA"
          ],
          [
           "Tulsa, OK to Bakersfield, CA"
          ],
          [
           "Tulsa, OK to Wichita, KS"
          ],
          [
           "Tulsa, OK to Cleveland, OH"
          ],
          [
           "Tulsa, OK to Anaheim, CA"
          ],
          [
           "Tulsa, OK to Lexington, KY"
          ],
          [
           "Tulsa, OK to Stockton, CA"
          ],
          [
           "Tulsa, OK to Corpus Christi, TX"
          ],
          [
           "Tulsa, OK to St. Louis, MO"
          ],
          [
           "Tulsa, OK to Cincinnati, OH"
          ],
          [
           "Tulsa, OK to Pittsburgh, PA"
          ],
          [
           "Tulsa, OK to Greensboro, NC"
          ],
          [
           "Tulsa, OK to Plano, TX"
          ],
          [
           "Tulsa, OK to Lincoln, NE"
          ],
          [
           "Tulsa, OK to Buffalo, NY"
          ],
          [
           "Tulsa, OK to Chandler, AZ"
          ],
          [
           "Tulsa, OK to Norfolk, VA"
          ],
          [
           "Tulsa, OK to Madison, WI"
          ],
          [
           "Tulsa, OK to Lubbock, TX"
          ],
          [
           "Tulsa, OK to Reno, NV"
          ],
          [
           "Tulsa, OK to Henderson, NV"
          ],
          [
           "Tampa, FL to Arlington, TX"
          ],
          [
           "Tampa, FL to Aurora, CO"
          ],
          [
           "Tampa, FL to New Orleans, LA"
          ],
          [
           "Tampa, FL to Bakersfield, CA"
          ],
          [
           "Tampa, FL to Wichita, KS"
          ],
          [
           "Tampa, FL to Cleveland, OH"
          ],
          [
           "Tampa, FL to Anaheim, CA"
          ],
          [
           "Tampa, FL to Lexington, KY"
          ],
          [
           "Tampa, FL to Stockton, CA"
          ],
          [
           "Tampa, FL to Corpus Christi, TX"
          ],
          [
           "Tampa, FL to St. Louis, MO"
          ],
          [
           "Tampa, FL to Cincinnati, OH"
          ],
          [
           "Tampa, FL to Pittsburgh, PA"
          ],
          [
           "Tampa, FL to Greensboro, NC"
          ],
          [
           "Tampa, FL to Plano, TX"
          ],
          [
           "Tampa, FL to Lincoln, NE"
          ],
          [
           "Tampa, FL to Buffalo, NY"
          ],
          [
           "Tampa, FL to Chandler, AZ"
          ],
          [
           "Tampa, FL to Norfolk, VA"
          ],
          [
           "Tampa, FL to Madison, WI"
          ],
          [
           "Tampa, FL to Lubbock, TX"
          ],
          [
           "Tampa, FL to Reno, NV"
          ],
          [
           "Tampa, FL to Henderson, NV"
          ],
          [
           "Arlington, TX to Aurora, CO"
          ],
          [
           "Arlington, TX to New Orleans, LA"
          ],
          [
           "Arlington, TX to Bakersfield, CA"
          ],
          [
           "Arlington, TX to Wichita, KS"
          ],
          [
           "Arlington, TX to Cleveland, OH"
          ],
          [
           "Arlington, TX to Anaheim, CA"
          ],
          [
           "Arlington, TX to Lexington, KY"
          ],
          [
           "Arlington, TX to Stockton, CA"
          ],
          [
           "Arlington, TX to Corpus Christi, TX"
          ],
          [
           "Arlington, TX to St. Louis, MO"
          ],
          [
           "Arlington, TX to Cincinnati, OH"
          ],
          [
           "Arlington, TX to Pittsburgh, PA"
          ],
          [
           "Arlington, TX to Greensboro, NC"
          ],
          [
           "Arlington, TX to Plano, TX"
          ],
          [
           "Arlington, TX to Lincoln, NE"
          ],
          [
           "Arlington, TX to Buffalo, NY"
          ],
          [
           "Arlington, TX to Chandler, AZ"
          ],
          [
           "Arlington, TX to Norfolk, VA"
          ],
          [
           "Arlington, TX to Madison, WI"
          ],
          [
           "Arlington, TX to Lubbock, TX"
          ],
          [
           "Arlington, TX to Reno, NV"
          ],
          [
           "Arlington, TX to Henderson, NV"
          ],
          [
           "Aurora, CO to New Orleans, LA"
          ],
          [
           "Aurora, CO to Bakersfield, CA"
          ],
          [
           "Aurora, CO to Wichita, KS"
          ],
          [
           "Aurora, CO to Cleveland, OH"
          ],
          [
           "Aurora, CO to Anaheim, CA"
          ],
          [
           "Aurora, CO to Lexington, KY"
          ],
          [
           "Aurora, CO to Stockton, CA"
          ],
          [
           "Aurora, CO to Corpus Christi, TX"
          ],
          [
           "Aurora, CO to St. Louis, MO"
          ],
          [
           "Aurora, CO to Cincinnati, OH"
          ],
          [
           "Aurora, CO to Pittsburgh, PA"
          ],
          [
           "Aurora, CO to Greensboro, NC"
          ],
          [
           "Aurora, CO to Plano, TX"
          ],
          [
           "Aurora, CO to Lincoln, NE"
          ],
          [
           "Aurora, CO to Buffalo, NY"
          ],
          [
           "Aurora, CO to Chandler, AZ"
          ],
          [
           "Aurora, CO to Norfolk, VA"
          ],
          [
           "Aurora, CO to Madison, WI"
          ],
          [
           "Aurora, CO to Lubbock, TX"
          ],
          [
           "Aurora, CO to Reno, NV"
          ],
          [
           "Aurora, CO to Henderson, NV"
          ],
          [
           "New Orleans, LA to Bakersfield, CA"
          ],
          [
           "New Orleans, LA to Wichita, KS"
          ],
          [
           "New Orleans, LA to Cleveland, OH"
          ],
          [
           "New Orleans, LA to Anaheim, CA"
          ],
          [
           "New Orleans, LA to Lexington, KY"
          ],
          [
           "New Orleans, LA to Stockton, CA"
          ],
          [
           "New Orleans, LA to Corpus Christi, TX"
          ],
          [
           "New Orleans, LA to St. Louis, MO"
          ],
          [
           "New Orleans, LA to Cincinnati, OH"
          ],
          [
           "New Orleans, LA to Pittsburgh, PA"
          ],
          [
           "New Orleans, LA to Greensboro, NC"
          ],
          [
           "New Orleans, LA to Plano, TX"
          ],
          [
           "New Orleans, LA to Lincoln, NE"
          ],
          [
           "New Orleans, LA to Buffalo, NY"
          ],
          [
           "New Orleans, LA to Chandler, AZ"
          ],
          [
           "New Orleans, LA to Norfolk, VA"
          ],
          [
           "New Orleans, LA to Madison, WI"
          ],
          [
           "New Orleans, LA to Lubbock, TX"
          ],
          [
           "New Orleans, LA to Reno, NV"
          ],
          [
           "New Orleans, LA to Henderson, NV"
          ],
          [
           "Bakersfield, CA to Wichita, KS"
          ],
          [
           "Bakersfield, CA to Cleveland, OH"
          ],
          [
           "Bakersfield, CA to Anaheim, CA"
          ],
          [
           "Bakersfield, CA to Lexington, KY"
          ],
          [
           "Bakersfield, CA to Stockton, CA"
          ],
          [
           "Bakersfield, CA to Corpus Christi, TX"
          ],
          [
           "Bakersfield, CA to St. Louis, MO"
          ],
          [
           "Bakersfield, CA to Cincinnati, OH"
          ],
          [
           "Bakersfield, CA to Pittsburgh, PA"
          ],
          [
           "Bakersfield, CA to Greensboro, NC"
          ],
          [
           "Bakersfield, CA to Plano, TX"
          ],
          [
           "Bakersfield, CA to Lincoln, NE"
          ],
          [
           "Bakersfield, CA to Buffalo, NY"
          ],
          [
           "Bakersfield, CA to Chandler, AZ"
          ],
          [
           "Bakersfield, CA to Norfolk, VA"
          ],
          [
           "Bakersfield, CA to Madison, WI"
          ],
          [
           "Bakersfield, CA to Lubbock, TX"
          ],
          [
           "Bakersfield, CA to Reno, NV"
          ],
          [
           "Bakersfield, CA to Henderson, NV"
          ],
          [
           "Wichita, KS to Cleveland, OH"
          ],
          [
           "Wichita, KS to Anaheim, CA"
          ],
          [
           "Wichita, KS to Lexington, KY"
          ],
          [
           "Wichita, KS to Stockton, CA"
          ],
          [
           "Wichita, KS to Corpus Christi, TX"
          ],
          [
           "Wichita, KS to St. Louis, MO"
          ],
          [
           "Wichita, KS to Cincinnati, OH"
          ],
          [
           "Wichita, KS to Pittsburgh, PA"
          ],
          [
           "Wichita, KS to Greensboro, NC"
          ],
          [
           "Wichita, KS to Plano, TX"
          ],
          [
           "Wichita, KS to Lincoln, NE"
          ],
          [
           "Wichita, KS to Buffalo, NY"
          ],
          [
           "Wichita, KS to Chandler, AZ"
          ],
          [
           "Wichita, KS to Norfolk, VA"
          ],
          [
           "Wichita, KS to Madison, WI"
          ],
          [
           "Wichita, KS to Lubbock, TX"
          ],
          [
           "Wichita, KS to Reno, NV"
          ],
          [
           "Wichita, KS to Henderson, NV"
          ],
          [
           "Cleveland, OH to Anaheim, CA"
          ],
          [
           "Cleveland, OH to Lexington, KY"
          ],
          [
           "Cleveland, OH to Stockton, CA"
          ],
          [
           "Cleveland, OH to Corpus Christi, TX"
          ],
          [
           "Cleveland, OH to St. Louis, MO"
          ],
          [
           "Cleveland, OH to Cincinnati, OH"
          ],
          [
           "Cleveland, OH to Pittsburgh, PA"
          ],
          [
           "Cleveland, OH to Greensboro, NC"
          ],
          [
           "Cleveland, OH to Plano, TX"
          ],
          [
           "Cleveland, OH to Lincoln, NE"
          ],
          [
           "Cleveland, OH to Buffalo, NY"
          ],
          [
           "Cleveland, OH to Chandler, AZ"
          ],
          [
           "Cleveland, OH to Norfolk, VA"
          ],
          [
           "Cleveland, OH to Madison, WI"
          ],
          [
           "Cleveland, OH to Lubbock, TX"
          ],
          [
           "Cleveland, OH to Reno, NV"
          ],
          [
           "Cleveland, OH to Henderson, NV"
          ],
          [
           "Anaheim, CA to Lexington, KY"
          ],
          [
           "Anaheim, CA to Stockton, CA"
          ],
          [
           "Anaheim, CA to Corpus Christi, TX"
          ],
          [
           "Anaheim, CA to St. Louis, MO"
          ],
          [
           "Anaheim, CA to Cincinnati, OH"
          ],
          [
           "Anaheim, CA to Pittsburgh, PA"
          ],
          [
           "Anaheim, CA to Greensboro, NC"
          ],
          [
           "Anaheim, CA to Plano, TX"
          ],
          [
           "Anaheim, CA to Lincoln, NE"
          ],
          [
           "Anaheim, CA to Buffalo, NY"
          ],
          [
           "Anaheim, CA to Chandler, AZ"
          ],
          [
           "Anaheim, CA to Norfolk, VA"
          ],
          [
           "Anaheim, CA to Madison, WI"
          ],
          [
           "Anaheim, CA to Lubbock, TX"
          ],
          [
           "Anaheim, CA to Reno, NV"
          ],
          [
           "Anaheim, CA to Henderson, NV"
          ],
          [
           "Lexington, KY to Stockton, CA"
          ],
          [
           "Lexington, KY to Corpus Christi, TX"
          ],
          [
           "Lexington, KY to St. Louis, MO"
          ],
          [
           "Lexington, KY to Cincinnati, OH"
          ],
          [
           "Lexington, KY to Pittsburgh, PA"
          ],
          [
           "Lexington, KY to Greensboro, NC"
          ],
          [
           "Lexington, KY to Plano, TX"
          ],
          [
           "Lexington, KY to Lincoln, NE"
          ],
          [
           "Lexington, KY to Buffalo, NY"
          ],
          [
           "Lexington, KY to Chandler, AZ"
          ],
          [
           "Lexington, KY to Norfolk, VA"
          ],
          [
           "Lexington, KY to Madison, WI"
          ],
          [
           "Lexington, KY to Lubbock, TX"
          ],
          [
           "Lexington, KY to Reno, NV"
          ],
          [
           "Lexington, KY to Henderson, NV"
          ],
          [
           "Stockton, CA to Corpus Christi, TX"
          ],
          [
           "Stockton, CA to St. Louis, MO"
          ],
          [
           "Stockton, CA to Cincinnati, OH"
          ],
          [
           "Stockton, CA to Pittsburgh, PA"
          ],
          [
           "Stockton, CA to Greensboro, NC"
          ],
          [
           "Stockton, CA to Plano, TX"
          ],
          [
           "Stockton, CA to Lincoln, NE"
          ],
          [
           "Stockton, CA to Buffalo, NY"
          ],
          [
           "Stockton, CA to Chandler, AZ"
          ],
          [
           "Stockton, CA to Norfolk, VA"
          ],
          [
           "Stockton, CA to Madison, WI"
          ],
          [
           "Stockton, CA to Lubbock, TX"
          ],
          [
           "Stockton, CA to Reno, NV"
          ],
          [
           "Stockton, CA to Henderson, NV"
          ],
          [
           "Corpus Christi, TX to St. Louis, MO"
          ],
          [
           "Corpus Christi, TX to Cincinnati, OH"
          ],
          [
           "Corpus Christi, TX to Pittsburgh, PA"
          ],
          [
           "Corpus Christi, TX to Greensboro, NC"
          ],
          [
           "Corpus Christi, TX to Plano, TX"
          ],
          [
           "Corpus Christi, TX to Lincoln, NE"
          ],
          [
           "Corpus Christi, TX to Buffalo, NY"
          ],
          [
           "Corpus Christi, TX to Chandler, AZ"
          ],
          [
           "Corpus Christi, TX to Norfolk, VA"
          ],
          [
           "Corpus Christi, TX to Madison, WI"
          ],
          [
           "Corpus Christi, TX to Lubbock, TX"
          ],
          [
           "Corpus Christi, TX to Reno, NV"
          ],
          [
           "Corpus Christi, TX to Henderson, NV"
          ],
          [
           "St. Louis, MO to Cincinnati, OH"
          ],
          [
           "St. Louis, MO to Pittsburgh, PA"
          ],
          [
           "St. Louis, MO to Greensboro, NC"
          ],
          [
           "St. Louis, MO to Plano, TX"
          ],
          [
           "St. Louis, MO to Lincoln, NE"
          ],
          [
           "St. Louis, MO to Buffalo, NY"
          ],
          [
           "St. Louis, MO to Chandler, AZ"
          ],
          [
           "St. Louis, MO to Norfolk, VA"
          ],
          [
           "St. Louis, MO to Madison, WI"
          ],
          [
           "St. Louis, MO to Lubbock, TX"
          ],
          [
           "St. Louis, MO to Reno, NV"
          ],
          [
           "St. Louis, MO to Henderson, NV"
          ],
          [
           "Cincinnati, OH to Pittsburgh, PA"
          ],
          [
           "Cincinnati, OH to Greensboro, NC"
          ],
          [
           "Cincinnati, OH to Plano, TX"
          ],
          [
           "Cincinnati, OH to Lincoln, NE"
          ],
          [
           "Cincinnati, OH to Buffalo, NY"
          ],
          [
           "Cincinnati, OH to Chandler, AZ"
          ],
          [
           "Cincinnati, OH to Norfolk, VA"
          ],
          [
           "Cincinnati, OH to Madison, WI"
          ],
          [
           "Cincinnati, OH to Lubbock, TX"
          ],
          [
           "Cincinnati, OH to Reno, NV"
          ],
          [
           "Cincinnati, OH to Henderson, NV"
          ],
          [
           "Pittsburgh, PA to Greensboro, NC"
          ],
          [
           "Pittsburgh, PA to Plano, TX"
          ],
          [
           "Pittsburgh, PA to Lincoln, NE"
          ],
          [
           "Pittsburgh, PA to Buffalo, NY"
          ],
          [
           "Pittsburgh, PA to Chandler, AZ"
          ],
          [
           "Pittsburgh, PA to Norfolk, VA"
          ],
          [
           "Pittsburgh, PA to Madison, WI"
          ],
          [
           "Pittsburgh, PA to Lubbock, TX"
          ],
          [
           "Pittsburgh, PA to Reno, NV"
          ],
          [
           "Pittsburgh, PA to Henderson, NV"
          ],
          [
           "Greensboro, NC to Plano, TX"
          ],
          [
           "Greensboro, NC to Lincoln, NE"
          ],
          [
           "Greensboro, NC to Buffalo, NY"
          ],
          [
           "Greensboro, NC to Chandler, AZ"
          ],
          [
           "Greensboro, NC to Norfolk, VA"
          ],
          [
           "Greensboro, NC to Madison, WI"
          ],
          [
           "Greensboro, NC to Lubbock, TX"
          ],
          [
           "Greensboro, NC to Reno, NV"
          ],
          [
           "Greensboro, NC to Henderson, NV"
          ],
          [
           "Plano, TX to Lincoln, NE"
          ],
          [
           "Plano, TX to Buffalo, NY"
          ],
          [
           "Plano, TX to Chandler, AZ"
          ],
          [
           "Plano, TX to Norfolk, VA"
          ],
          [
           "Plano, TX to Madison, WI"
          ],
          [
           "Plano, TX to Lubbock, TX"
          ],
          [
           "Plano, TX to Reno, NV"
          ],
          [
           "Plano, TX to Henderson, NV"
          ],
          [
           "Lincoln, NE to Buffalo, NY"
          ],
          [
           "Lincoln, NE to Chandler, AZ"
          ],
          [
           "Lincoln, NE to Norfolk, VA"
          ],
          [
           "Lincoln, NE to Madison, WI"
          ],
          [
           "Lincoln, NE to Lubbock, TX"
          ],
          [
           "Lincoln, NE to Reno, NV"
          ],
          [
           "Lincoln, NE to Henderson, NV"
          ],
          [
           "Buffalo, NY to Chandler, AZ"
          ],
          [
           "Buffalo, NY to Norfolk, VA"
          ],
          [
           "Buffalo, NY to Madison, WI"
          ],
          [
           "Buffalo, NY to Lubbock, TX"
          ],
          [
           "Buffalo, NY to Reno, NV"
          ],
          [
           "Buffalo, NY to Henderson, NV"
          ],
          [
           "Chandler, AZ to Norfolk, VA"
          ],
          [
           "Chandler, AZ to Madison, WI"
          ],
          [
           "Chandler, AZ to Lubbock, TX"
          ],
          [
           "Chandler, AZ to Reno, NV"
          ],
          [
           "Chandler, AZ to Henderson, NV"
          ],
          [
           "Norfolk, VA to Madison, WI"
          ],
          [
           "Norfolk, VA to Lubbock, TX"
          ],
          [
           "Norfolk, VA to Reno, NV"
          ],
          [
           "Norfolk, VA to Henderson, NV"
          ],
          [
           "Madison, WI to Lubbock, TX"
          ],
          [
           "Madison, WI to Reno, NV"
          ],
          [
           "Madison, WI to Henderson, NV"
          ],
          [
           "Lubbock, TX to Reno, NV"
          ],
          [
           "Lubbock, TX to Henderson, NV"
          ],
          [
           "Reno, NV to Henderson, NV"
          ]
         ],
         "hovertemplate": "straight line distance=%{x}<br>detour ratio=%{y}<br>route=%{customdata[0]}<extra></extra>",
         "legendgroup": "",
         "marker": {
          "color": "#636efa",
          "opacity": 0.2,
          "symbol": "circle"
         },
         "mode": "markers",
         "name": "",
         "showlegend": false,
         "type": "scattergl",
         "x": {
          "_inputArray": {
           "0": 2445.7101588447485,
           "1": 711.0734819578698,
           "10": 835.5715730204672,
           "100": 204.9138765583191,
           "1000": 161.5254886473165,
           "1001": 666.2424426822657,
           "1002": 75.04202832849569,
           "1003": 2135.7169617925506,
           "1004": 1503.7232581685887,
           "1005": 2591.131143434282,
           "1006": 2404.8091491055866,
           "1007": 1426.407763367115,
           "1008": 364.1840015388954,
           "1009": 2526.2297215492895,
           "101": 371.0234662005327,
           "1010": 8.350592179127736,
           "1011": 1581.4515977740307,
           "1012": 1458.4408213169909,
           "1013": 2396.7499433484886,
           "1014": 1465.0763699479394,
           "1015": 955.718462625315,
           "1016": 1922.3581228317064,
           "1017": 251.2596177905836,
           "1018": 1366.963189024892,
           "1019": 2162.170553266118,
           "102": 361.46684223762645,
           "1020": 371.0972092360174,
           "1021": 2052.564625834563,
           "1022": 62.845691480883126,
           "1023": 1601.8283335630354,
           "1024": 1741.521298455967,
           "1025": 2038.7347894148518,
           "1026": 2260.208463045328,
           "1027": 2337.163878199714,
           "1028": 1480.4490071568089,
           "1029": 1386.03036673367,
           "103": 1932.7906531935257,
           "1030": 2294.5823188310405,
           "1031": 669.5375825488373,
           "1032": 2509.8953040088372,
           "1033": 1762.9789636299072,
           "1034": 1187.4345342465726,
           "1035": 185.64438213276497,
           "1036": 427.93796004788334,
           "1037": 1019.5691496884841,
           "1038": 2321.744437124535,
           "1039": 2485.6803859755196,
           "104": 1354.3739989503367,
           "1040": 1375.833612523922,
           "1041": 1933.307340232062,
           "1042": 1970.587895774073,
           "1043": 145.41636241490724,
           "1044": 1863.579054370767,
           "1045": 1522.7454451000076,
           "1046": 871.6028476240864,
           "1047": 1938.9260166028978,
           "1048": 2328.3633782973293,
           "1049": 1687.558479727843,
           "105": 2335.7350930512316,
           "1050": 1183.12281188357,
           "1051": 1218.5839908006465,
           "1052": 762.0888121082168,
           "1053": 1122.705196475938,
           "1054": 624.998222736376,
           "1055": 2178.4643030856364,
           "1056": 1502.9075576070607,
           "1057": 2731.7752808908467,
           "1058": 2361.7201230316014,
           "1059": 1366.555184628626,
           "106": 2231.9227406998652,
           "1060": 979.940382234109,
           "1061": 2444.857591357743,
           "1062": 677.2877304284101,
           "1063": 1391.3388539683015,
           "1064": 1557.861078811808,
           "1065": 2526.2444104026727,
           "1066": 1669.1573788434816,
           "1067": 1026.6326795296231,
           "1068": 2098.9608195447872,
           "1069": 862.266957440598,
           "107": 1313.279413703368,
           "1070": 1434.6748781564136,
           "1071": 2020.6791306643977,
           "1072": 978.7386989229702,
           "1073": 2004.7512427490005,
           "1074": 668.7585991976299,
           "1075": 1915.2086128299322,
           "1076": 1720.3678180520592,
           "1077": 1966.9044263594824,
           "1078": 2132.7874723833625,
           "1079": 2296.8324486773954,
           "108": 19.70217434076481,
           "1080": 1672.0568470843316,
           "1081": 1345.8249957125104,
           "1082": 2110.6889256357254,
           "1083": 1129.2294247502805,
           "1084": 2430.5920434077143,
           "1085": 1617.039255747325,
           "1086": 1438.8195162851034,
           "1087": 572.0515298716252,
           "1088": 883.3328144551426,
           "1089": 1489.2276336269645,
           "109": 2367.533842133549,
           "1090": 1765.5990073436924,
           "1091": 557.5224637110382,
           "1092": 1154.3861910557464,
           "1093": 1020.451607813625,
           "1094": 981.1158441850686,
           "1095": 877.5177114939775,
           "1096": 504.1934899169388,
           "1097": 605.0038304427339,
           "1098": 1035.8727277399155,
           "1099": 1506.6872839340929,
           "11": 1398.2658269014403,
           "110": 343.43027125494126,
           "1100": 912.7053376259133,
           "1101": 334.2722950164483,
           "1102": 617.4722319454754,
           "1103": 828.3145234965677,
           "1104": 578.4478195023763,
           "1105": 886.5854259512583,
           "1106": 1210.1058222729769,
           "1107": 557.2047618754816,
           "1108": 1725.3478693273444,
           "1109": 1459.8030536665876,
           "111": 1521.5121989014458,
           "1110": 486.9928033905902,
           "1111": 838.0171210809799,
           "1112": 1578.9266424457726,
           "1113": 938.9906224388269,
           "1114": 698.5751785022645,
           "1115": 548.9294495806507,
           "1116": 1521.5412990190812,
           "1117": 653.0140877561256,
           "1118": 8.44412960141221,
           "1119": 1080.5420205090807,
           "112": 1263.4042088691647,
           "1120": 824.3876009797091,
           "1121": 436.4922698004252,
           "1122": 1224.1434324366733,
           "1123": 822.09245212918,
           "1124": 1105.615869482456,
           "1125": 884.524825244912,
           "1126": 932.2362435705036,
           "1127": 795.0003425848852,
           "1128": 1091.592832020226,
           "1129": 1317.7320763841965,
           "113": 2149.779257086892,
           "1130": 1392.1549250771268,
           "1131": 653.8775078586763,
           "1132": 442.9876119688906,
           "1133": 1366.892785945444,
           "1134": 584.6737987096105,
           "1135": 1562.6167646223776,
           "1136": 838.7024560743848,
           "1137": 459.7459256639212,
           "1138": 788.053275557511,
           "1139": 601.3621741031925,
           "114": 1220.5319254911392,
           "1140": 393.76948872989345,
           "1141": 1723.2698294387358,
           "1142": 393.92010850626696,
           "1143": 566.260426585365,
           "1144": 2347.4006495286376,
           "1145": 762.4518529861938,
           "1146": 1149.510717661777,
           "1147": 2081.0773061134637,
           "1148": 473.0901825376736,
           "1149": 34.924852230274524,
           "115": 837.3223071012184,
           "1150": 634.1914935009464,
           "1151": 1648.0640499255628,
           "1152": 1950.6375283280822,
           "1153": 2316.7921543571456,
           "1154": 1965.4816704486695,
           "1155": 2371.6632234569834,
           "1156": 542.3253657046703,
           "1157": 940.5521917230392,
           "1158": 926.6313041218137,
           "1159": 233.3147240452852,
           "116": 1669.5132186092837,
           "1160": 1010.1059213745749,
           "1161": 2298.481291969146,
           "1162": 153.242043180586,
           "1163": 2426.6763561797516,
           "1164": 931.2836528424092,
           "1165": 1053.9781604220627,
           "1166": 818.6282611052204,
           "1167": 1199.513875946675,
           "1168": 1480.9496128551857,
           "1169": 965.077398693675,
           "117": 101.34307875985773,
           "1170": 2304.927282497512,
           "1171": 1101.4104809758367,
           "1172": 304.05319253118535,
           "1173": 2281.855895811437,
           "1174": 408.2172126569206,
           "1175": 2372.358927459353,
           "1176": 1398.3459167793485,
           "1177": 708.781855527732,
           "1178": 401.4902982594007,
           "1179": 189.69731437202077,
           "118": 1194.9607683079944,
           "1180": 247.31524434711517,
           "1181": 1169.5396221875462,
           "1182": 1049.1035393331686,
           "1183": 291.2691766693018,
           "1184": 1968.7449704636485,
           "1185": 147.87610572801623,
           "1186": 705.288873607172,
           "1187": 1426.3148388961379,
           "1188": 2268.411219769764,
           "1189": 2075.264040261337,
           "119": 2044.9831278577676,
           "1190": 2068.163458321568,
           "1191": 611.6614147576533,
           "1192": 941.8463811349574,
           "1193": 2533.1734852019918,
           "1194": 1134.6758437759408,
           "1195": 1492.875818582767,
           "1196": 2369.566536356189,
           "1197": 823.6024215376984,
           "1198": 359.4544092008471,
           "1199": 855.3875746578806,
           "12": 476.27303192693273,
           "120": 24.051129453082726,
           "1200": 1967.8569893882598,
           "1201": 2279.7997913870404,
           "1202": 2589.315465380534,
           "1203": 2284.001751324031,
           "1204": 2625.0402041924194,
           "1205": 936.0900892948259,
           "1206": 1247.786738732848,
           "1207": 1258.5635736069657,
           "1208": 609.4535970379247,
           "1209": 1278.8845821373543,
           "121": 1894.5176409976111,
           "1210": 2597.404498460201,
           "1211": 461.7406098876612,
           "1212": 2684.7388485475467,
           "1213": 1120.8803047465724,
           "1214": 1395.3464517359484,
           "1215": 1183.248989014862,
           "1216": 1565.9828608052956,
           "1217": 1757.7481149282062,
           "1218": 1358.3914876190172,
           "1219": 2589.986523387465,
           "122": 319.06765504505483,
           "1220": 1420.97187849053,
           "1221": 549.5900303422061,
           "1222": 2581.0444019481315,
           "1223": 768.6682719959355,
           "1224": 2631.4161790749768,
           "1225": 1785.276109792587,
           "1226": 1035.8596336622445,
           "1227": 738.5369933672113,
           "1228": 481.5574652872037,
           "1229": 637.5702626791771,
           "123": 1306.1049307074948,
           "1230": 1535.411235963065,
           "1231": 1324.56540997413,
           "1232": 399.0849148766186,
           "1233": 2288.0210437876963,
           "1234": 471.32259214713827,
           "1235": 930.6326465889179,
           "1236": 1772.2299747592185,
           "1237": 2517.1485652760143,
           "1238": 2365.2187573058427,
           "1239": 1477.4849407629113,
           "124": 1586.1022058607743,
           "1240": 1167.102658304177,
           "1241": 1286.173025758085,
           "1242": 974.7292257524341,
           "1243": 575.7776412025416,
           "1244": 581.6685423089928,
           "1245": 1252.4237919742022,
           "1246": 1749.4159411527507,
           "1247": 1278.4873689101437,
           "1248": 229.77467572858922,
           "1249": 265.00845109908454,
           "125": 1892.7634064045144,
           "1250": 832.9168147069402,
           "1251": 331.51535461070574,
           "1252": 968.1302230462487,
           "1253": 1288.8976664423385,
           "1254": 839.2567499875607,
           "1255": 1641.2037096507888,
           "1256": 1617.7673463636897,
           "1257": 878.2499651338187,
           "1258": 693.9043044709366,
           "1259": 1768.5288805109471,
           "126": 2132.286096095039,
           "1260": 986.629800649409,
           "1261": 1157.3115934402376,
           "1262": 673.0336934260592,
           "1263": 1460.6657000472567,
           "1264": 551.9004189209811,
           "1265": 558.2542586305561,
           "1266": 980.6518269907125,
           "1267": 762.869236209347,
           "1268": 661.1867903244171,
           "1269": 1523.0418346828374,
           "127": 2165.1249388384713,
           "1270": 678.7387409529935,
           "1271": 1315.2220178711996,
           "1272": 940.7473276799182,
           "1273": 609.6074859764069,
           "1274": 1032.5909374855712,
           "1275": 1332.6936536791268,
           "1276": 1588.1098550720603,
           "1277": 1554.1656543880692,
           "1278": 577.3441620800085,
           "1279": 828.3554213222264,
           "128": 1240.6453651153754,
           "1280": 1689.8026390288549,
           "1281": 329.7177848948045,
           "1282": 1751.5147150137466,
           "1283": 1216.368156501538,
           "1284": 297.0542542305432,
           "1285": 919.3349619709693,
           "1286": 569.5841127198037,
           "1287": 470.66258290958814,
           "1288": 1964.5159489577986,
           "1289": 622.984785616992,
           "129": 1266.7281489040374,
           "1290": 909.4227380409668,
           "1291": 1757.97500819807,
           "1292": 315.97370973171934,
           "1293": 396.51481603717394,
           "1294": 251.64399162847008,
           "1295": 1362.0936212437425,
           "1296": 1676.8385643275838,
           "1297": 1979.7791790483936,
           "1298": 1676.5647771956135,
           "1299": 2020.6531081777257,
           "13": 643.7511726795245,
           "130": 2193.4554021253166,
           "1300": 597.480672667354,
           "1301": 643.3136884097171,
           "1302": 1156.3351745461973,
           "1303": 510.5763746295536,
           "1304": 667.4560895246752,
           "1305": 1985.8773976753528,
           "1306": 533.4113347478589,
           "1307": 2078.9565694706125,
           "1308": 542.1646595308083,
           "1309": 812.4159236310713,
           "131": 371.66448400417215,
           "1310": 994.2276761582935,
           "1311": 1014.090106575839,
           "1312": 1146.4855646385085,
           "1313": 940.139179348767,
           "1314": 1978.7002551633564,
           "1315": 819.938634483934,
           "1316": 90.1870915320137,
           "1317": 1969.5380318884436,
           "1318": 306.2948334081743,
           "1319": 2025.2459496787283,
           "132": 2350.701638219185,
           "1320": 1287.20019965289,
           "1321": 454.58403687076253,
           "1322": 235.90326131332856,
           "1323": 205.082747425847,
           "1324": 466.1430537973862,
           "1325": 983.4090611503525,
           "1326": 712.9106819523525,
           "1327": 215.35193802628774,
           "1328": 1680.828589760643,
           "1329": 522.1208833930738,
           "133": 1667.9812488269865,
           "1330": 326.6816569791807,
           "1331": 1186.0353552023118,
           "1332": 1914.1673218860967,
           "1333": 1753.5823816531843,
           "1334": 1965.5865547716928,
           "1335": 196.33625055205968,
           "1336": 603.095024777149,
           "1337": 1576.1977436957704,
           "1338": 154.99849171804976,
           "1339": 595.8838338716449,
           "134": 940.4123821947088,
           "1340": 478.8746803919423,
           "1341": 1116.5018696157506,
           "1342": 1405.4254513247074,
           "1343": 1825.730451327622,
           "1344": 1430.09884062414,
           "1345": 1902.1568722032512,
           "1346": 214.90281677875507,
           "1347": 472.2457051079179,
           "1348": 817.3408389361019,
           "1349": 456.02601506935207,
           "135": 388.29921351685124,
           "1350": 605.6100845577556,
           "1351": 1778.6212246825582,
           "1352": 601.5892924444271,
           "1353": 1950.3924829148555,
           "1354": 697.1528278187318,
           "1355": 513.6879660129781,
           "1356": 621.1835923940098,
           "1357": 633.829940526306,
           "1358": 1012.0251406114481,
           "1359": 469.5051227939834,
           "136": 229.99150636270338,
           "1360": 1799.8607297703911,
           "1361": 591.7870372344706,
           "1362": 459.10423616595557,
           "1363": 1761.9415336323736,
           "1364": 180.53158389886698,
           "1365": 1896.0141901159643,
           "1366": 847.9958650642641,
           "1367": 253.3337685325244,
           "1368": 238.10524561825994,
           "1369": 471.7240997255856,
           "137": 941.935711467746,
           "1370": 390.1081830195374,
           "1371": 604.1076001210281,
           "1372": 624.8651803732879,
           "1373": 626.5342424875718,
           "1374": 1432.5759488741073,
           "1375": 584.5667782137244,
           "1376": 497.3597060005106,
           "1377": 872.0360264805503,
           "1378": 1807.0829914646213,
           "1379": 1568.8167206548203,
           "138": 1451.8245128390056,
           "1380": 1845.9334034486164,
           "1381": 1484.6071466571666,
           "1382": 755.6789043339232,
           "1383": 1945.766327910426,
           "1384": 2356.2274850499707,
           "1385": 1715.18964761829,
           "1386": 1106.6724262326147,
           "1387": 1110.9711432079503,
           "1388": 624.7698714631091,
           "1389": 1014.7116449787624,
           "139": 663.666998342948,
           "1390": 482.9153306856208,
           "1391": 2168.897279725312,
           "1392": 1493.9753190367003,
           "1393": 2705.411283212409,
           "1394": 2372.3298580941546,
           "1395": 1368.0482237233098,
           "1396": 845.5430354230768,
           "1397": 2464.442535759503,
           "1398": 533.2102655335149,
           "1399": 1423.372471700881,
           "14": 531.0555123970207,
           "140": 1052.8452468375947,
           "1400": 1528.2262857072444,
           "1401": 2500.910139163884,
           "1402": 1619.4407536699973,
           "1403": 988.7609806167023,
           "1404": 2060.1230860540954,
           "1405": 726.5099718522207,
           "1406": 1409.4642758719049,
           "1407": 2049.9802722944555,
           "1408": 845.3907436884147,
           "1409": 2013.163419730702,
           "141": 1731.6613542859382,
           "1410": 527.0595264603243,
           "1411": 1846.2946329299955,
           "1412": 1719.4480682824787,
           "1413": 1980.2026913172451,
           "1414": 2160.001082446333,
           "1415": 2306.3208063367288,
           "1416": 1624.9570315891685,
           "1417": 1342.4257154316492,
           "1418": 2150.264301547275,
           "1419": 1020.8590512741096,
           "142": 804.6975269492417,
           "1420": 2449.6217730314793,
           "1421": 1642.5631528191545,
           "1422": 1375.5764589913358,
           "1423": 438.4842559815428,
           "1424": 767.8421356397968,
           "1425": 421.53802734140095,
           "1426": 1406.4813710923515,
           "1427": 320.0460090718002,
           "1428": 791.7871600820164,
           "1429": 557.0586538185124,
           "143": 1837.8662881556204,
           "1430": 937.2367557260142,
           "1431": 1217.6617575177668,
           "1432": 1660.5313326321914,
           "1433": 1246.8961125774676,
           "1434": 1745.823454594137,
           "1435": 336.70703490686424,
           "1436": 369.72656264159536,
           "1437": 873.9039349347112,
           "1438": 643.2883842808658,
           "1439": 529.0397274110177,
           "144": 979.5723729809321,
           "1440": 1600.9796849415893,
           "1441": 794.5781195080436,
           "1442": 1790.7906960590285,
           "1443": 699.9226094624711,
           "1444": 340.80692452958795,
           "1445": 668.3051573795634,
           "1446": 437.53630285652673,
           "1447": 869.2575733867413,
           "1448": 359.19927322338424,
           "1449": 1628.6454625370902,
           "145": 864.1130792371599,
           "1450": 441.02573666475166,
           "1451": 629.9746502757048,
           "1452": 1584.3479237807724,
           "1453": 366.6955316737062,
           "1454": 1736.7626852523777,
           "1455": 666.8701677850447,
           "1456": 240.43044868279623,
           "1457": 409.3346122818042,
           "1458": 658.8473618027577,
           "1459": 579.436650570908,
           "146": 824.4003029138667,
           "1460": 407.9062394799835,
           "1461": 533.0417510627165,
           "1462": 802.0956133077575,
           "1463": 1248.9883834588672,
           "1464": 777.5941093035999,
           "1465": 548.5968930124704,
           "1466": 681.676791523527,
           "1467": 1655.1042941460883,
           "1468": 1398.4257002945405,
           "1469": 987.2637058202848,
           "147": 275.6391735643913,
           "1470": 677.3656276416641,
           "1471": 1174.9229268976994,
           "1472": 732.5844932845458,
           "1473": 515.7431081805033,
           "1474": 803.4793753984491,
           "1475": 1243.625665837734,
           "1476": 827.2081632775254,
           "1477": 1336.2274017014136,
           "1478": 755.4213241027817,
           "1479": 298.40534794475315,
           "148": 164.83261351011924,
           "1480": 1226.302464424471,
           "1481": 1058.904685124992,
           "1482": 409.0558671565074,
           "1483": 1179.455664467778,
           "1484": 1202.8232628390579,
           "1485": 1377.9647087205262,
           "1486": 694.08829585161,
           "1487": 97.66181939634036,
           "1488": 1024.5705768494588,
           "1489": 190.20710466171312,
           "149": 587.532675951336,
           "1490": 496.81972975055584,
           "1491": 576.4134684598391,
           "1492": 1208.3840667674099,
           "1493": 153.71688458372788,
           "1494": 949.9015688759426,
           "1495": 1162.820673095334,
           "1496": 741.3223883508296,
           "1497": 1324.4379772600253,
           "1498": 529.8180709263199,
           "1499": 458.5857428132382,
           "15": 2565.853418217217,
           "150": 1854.8500142760126,
           "1500": 756.9352761841765,
           "1501": 1012.416147182882,
           "1502": 993.2008207739593,
           "1503": 175.46223090014135,
           "1504": 372.0283037218194,
           "1505": 1118.8162623050011,
           "1506": 829.5942021681482,
           "1507": 1185.8124061921924,
           "1508": 680.9283127997047,
           "1509": 279.3541615643825,
           "151": 1733.0224302153301,
           "1510": 1250.6468752068852,
           "1511": 978.8575436839652,
           "1512": 1616.4488442663708,
           "1513": 2100.619567476259,
           "1514": 1517.6692446969037,
           "1515": 482.4998291666683,
           "1516": 361.93242204598135,
           "1517": 261.2223920825295,
           "1518": 267.30599662771283,
           "1519": 386.55751482234047,
           "152": 918.2592811708689,
           "1520": 1742.1961421405017,
           "1521": 1140.6013383785976,
           "1522": 2178.0827678579476,
           "1523": 2029.0899682003653,
           "1524": 1090.7434989313174,
           "1525": 239.5497380863977,
           "1526": 2159.9687348108364,
           "1527": 409.3586210911384,
           "1528": 1293.584866239826,
           "1529": 1066.3947701489135,
           "153": 593.5602385185211,
           "1530": 1985.7401939726137,
           "1531": 1052.7531274819428,
           "1532": 612.6423954731001,
           "1533": 1509.0671950789774,
           "1534": 224.30107449293234,
           "1535": 987.7935305880974,
           "1536": 1825.5306260539594,
           "1537": 225.04095136201693,
           "1538": 1685.5865755115751,
           "1539": 360.85713761652795,
           "154": 848.6213652851723,
           "1540": 1187.0934858994467,
           "1541": 1375.258401052074,
           "1542": 1680.096581702979,
           "1543": 1915.444395794102,
           "1544": 1961.8205997026726,
           "1545": 1069.5158779531184,
           "1546": 1045.1349903958167,
           "1547": 1971.2376659909064,
           "1548": 272.42072098323433,
           "1549": 2143.267710726918,
           "155": 1251.0913743486408,
           "1550": 1443.705157175233,
           "1551": 773.3964693484072,
           "1552": 344.76162346562865,
           "1553": 12.613008742700893,
           "1554": 497.695145316798,
           "1555": 349.32813059359694,
           "1556": 1175.7613474919171,
           "1557": 1477.5613372728974,
           "1558": 1857.9545355308028,
           "1559": 1492.9785710791648,
           "156": 237.0464544391284,
           "1560": 1922.434915414713,
           "1561": 320.4740842467821,
           "1562": 479.1808152029869,
           "1563": 922.1633436245368,
           "1564": 428.23991716448097,
           "1565": 578.5925252447736,
           "1566": 1829.5716091850431,
           "1567": 544.161935691857,
           "1568": 1974.4877188843138,
           "1569": 604.672925124808,
           "157": 397.53027468474403,
           "1570": 581.2732126529244,
           "1571": 736.8981629818505,
           "1572": 742.8038227034589,
           "1573": 1027.461099829455,
           "1574": 624.2388401727787,
           "1575": 1840.7242913259174,
           "1576": 631.1246229670456,
           "1577": 311.00353977727923,
           "1578": 1812.908705913235,
           "1579": 69.74315070471016,
           "158": 1754.6885449043461,
           "1580": 1919.9913463007545,
           "1581": 986.3203037541754,
           "1582": 241.7111726698038,
           "1583": 89.29515141198694,
           "1584": 342.9358727951509,
           "1585": 361.33814873535715,
           "1586": 712.1496796557495,
           "1587": 608.9992202434727,
           "1588": 482.315186046864,
           "1589": 1496.148961920476,
           "159": 482.9177579084711,
           "1590": 527.6289207308428,
           "1591": 383.8240084508265,
           "1592": 955.3832079040652,
           "1593": 1822.7271763445374,
           "1594": 1610.08764403808,
           "1595": 641.3756693045423,
           "1596": 1670.9445885399812,
           "1597": 1974.9158082999884,
           "1598": 2334.725902572304,
           "1599": 1988.4645786392937,
           "16": 2402.076085264618,
           "160": 692.4728493874657,
           "1600": 2387.550184225234,
           "1601": 576.6887683181478,
           "1602": 960.6171222033184,
           "1603": 957.5432819241873,
           "1604": 266.7603386886162,
           "1605": 1025.5079881584506,
           "1606": 2319.3762858603627,
           "1607": 171.92066223318992,
           "1608": 2443.1119724001005,
           "1609": 937.119085063574,
           "161": 1521.256059653316,
           "1610": 1078.967159916673,
           "1611": 852.1576950913148,
           "1612": 1228.3514408953286,
           "1613": 1498.4455894796674,
           "1614": 999.0702989392418,
           "1615": 2324.250365218479,
           "1616": 1123.508649819555,
           "1617": 307.8579458450432,
           "1618": 2302.770759600223,
           "1619": 434.2779041674954,
           "162": 269.3236917173442,
           "1620": 2388.860667807714,
           "1621": 1430.724445155924,
           "1622": 730.7921000406631,
           "1623": 423.0919733168815,
           "1624": 196.25065075287566,
           "1625": 282.2199539873231,
           "1626": 1198.261976705383,
           "1627": 1065.4555644327286,
           "1628": 275.05061465397097,
           "1629": 1991.8218270276836,
           "163": 604.6676173992222,
           "1630": 169.5019844273155,
           "1631": 713.672941357561,
           "1632": 1452.3789429257683,
           "1633": 2283.711407431347,
           "1634": 2094.9692082070524,
           "1635": 1142.361597379387,
           "1636": 1459.7299072082621,
           "1637": 1734.029883309633,
           "1638": 1451.8547263544822,
           "1639": 1771.1972058733663,
           "164": 81.43919852720323,
           "1640": 669.4192683920646,
           "1641": 441.225687738668,
           "1642": 1270.8295594332844,
           "1643": 703.7247015323459,
           "1644": 429.1201264583635,
           "1645": 1748.7929997143046,
           "1646": 761.7061925381498,
           "1647": 1830.1728343103614,
           "1648": 298.02087963411293,
           "1649": 640.9990415828518,
           "165": 1127.5984390348528,
           "1650": 1086.0574827366438,
           "1651": 869.7790725302023,
           "1652": 905.0315681935667,
           "1653": 912.2050712655214,
           "1654": 1736.502918615603,
           "1655": 618.1465669513831,
           "1656": 334.87897746089794,
           "1657": 1732.6322643446044,
           "1658": 388.76764914837906,
           "1659": 1776.666579054304,
           "166": 1443.4261811051947,
           "1660": 1178.872151498188,
           "1661": 327.5369907827448,
           "1662": 324.319088569698,
           "1663": 445.3889643714471,
           "1664": 646.3387558390244,
           "1665": 840.5094593135407,
           "1666": 477.34596824323387,
           "1667": 456.4117975050583,
           "1668": 1456.572041868068,
           "1669": 748.4014151553483,
           "167": 1744.841822631421,
           "1670": 75.50143739956309,
           "1671": 997.2571101485737,
           "1672": 1664.1546705774679,
           "1673": 1513.8450909145454,
           "1674": 317.68814705751953,
           "1675": 743.3929292844196,
           "1676": 317.55053783225287,
           "1677": 854.6468379930377,
           "1678": 1269.713487381889,
           "1679": 720.1334463505643,
           "168": 1440.9982964333467,
           "1680": 1696.3521283962427,
           "1681": 1572.4656971528823,
           "1682": 720.7152609987209,
           "1683": 663.7584179292618,
           "1684": 1712.3005925656923,
           "1685": 887.2341016876087,
           "1686": 981.844823150579,
           "1687": 602.8672406781014,
           "1688": 1503.296922720964,
           "1689": 570.487080900364,
           "169": 1789.1939779614052,
           "1690": 336.0972181037307,
           "1691": 1027.4355817030662,
           "1692": 697.9313074633209,
           "1693": 548.461184641944,
           "1694": 1418.2719627511124,
           "1695": 647.1350929303956,
           "1696": 1242.9324328023556,
           "1697": 835.8820168006204,
           "1698": 741.5441547290735,
           "1699": 940.4447211223228,
           "17": 1627.5059521855603,
           "170": 588.7896395231226,
           "1700": 1247.9903143911752,
           "1701": 1496.03834620664,
           "1702": 1506.1571637590916,
           "1703": 587.0171873500252,
           "1704": 670.4787963762391,
           "1705": 1577.3241760869028,
           "1706": 321.0540079949662,
           "1707": 1695.3569918815963,
           "1708": 1074.2625669567653,
           "1709": 292.70613036303,
           "171": 412.37167237044844,
           "1710": 784.9667970225725,
           "1711": 472.77768280066164,
           "1712": 590.6006393662825,
           "1713": 96.25950013774126,
           "1714": 736.7969731808168,
           "1715": 1540.304358566555,
           "1716": 1033.696348500732,
           "1717": 1906.2111823170796,
           "1718": 1860.1067512124482,
           "1719": 1038.2421943151967,
           "172": 1191.4346041343142,
           "1720": 431.7004204041855,
           "1721": 2006.1452156509326,
           "1722": 745.7928344975932,
           "1723": 1295.179835457227,
           "1724": 897.2580299472678,
           "1725": 1725.1443395397446,
           "1726": 808.4822626979916,
           "1727": 621.7430844194247,
           "1728": 1244.8480536412947,
           "1729": 510.39516012951987,
           "173": 641.085753516578,
           "1730": 858.8588791150939,
           "1731": 1730.6043190250323,
           "1732": 417.0983705117555,
           "1733": 1543.0964679336516,
           "1734": 704.4317342406008,
           "1735": 867.1663660795706,
           "1736": 1247.2113493686902,
           "1737": 1553.305258897337,
           "1738": 1804.6862697841282,
           "1739": 1795.122954730213,
           "174": 431.3011363108762,
           "1740": 832.001360501753,
           "1741": 988.0529709152971,
           "1742": 1891.780867837158,
           "1743": 90.22972359764755,
           "1744": 1989.127991011076,
           "1745": 1391.897721338912,
           "1746": 537.106897845274,
           "1747": 706.2690788905272,
           "1748": 349.32863433869784,
           "1749": 504.82643648790304,
           "175": 1748.839732300484,
           "1750": 157.95871217692314,
           "1751": 1996.960854308458,
           "1752": 1379.2940922076075,
           "1753": 2439.288553609011,
           "1754": 2275.805559869798,
           "1755": 1313.8618573448805,
           "1756": 223.8944384959237,
           "1757": 2402.1135250497564,
           "1758": 155.19300572029536,
           "1759": 1489.8971398307308,
           "176": 711.8400590985976,
           "1760": 1319.7794086849801,
           "1761": 2246.6846527788693,
           "1762": 1313.8136138664636,
           "1763": 836.4976265555446,
           "1764": 1770.27238616048,
           "1765": 103.5936993950394,
           "1766": 1234.576156462549,
           "1767": 2051.5449246193352,
           "1768": 226.57875520160783,
           "1769": 1927.5073284267517,
           "177": 1846.5400411090056,
           "1770": 118.0121922800436,
           "1771": 1441.800897355419,
           "1772": 1616.2436601783133,
           "1773": 1917.6634342474574,
           "1774": 2146.03480136979,
           "1775": 2208.287865556791,
           "1776": 1330.3074698101236,
           "1777": 1271.024432664555,
           "1778": 2190.234620550458,
           "1779": 508.06284521244925,
           "178": 354.59438239299493,
           "1780": 2385.5802578292983,
           "1781": 1658.9577784018152,
           "1782": 1034.6111931525518,
           "1783": 192.91209307219742,
           "1784": 271.58583424559447,
           "1785": 646.90074696843,
           "1786": 1575.2522233758416,
           "1787": 1036.3089963525642,
           "1788": 1964.8080307694875,
           "1789": 1886.0495745236103,
           "179": 597.8152720746685,
           "1790": 1025.3057409991836,
           "1791": 366.9552384012884,
           "1792": 2028.0036077901266,
           "1793": 659.670169061247,
           "1794": 1270.1400017482795,
           "1795": 917.4310606284374,
           "1796": 1779.621403279299,
           "1797": 853.0722814154626,
           "1798": 583.7443010284095,
           "1799": 1299.1596434027767,
           "18": 203.56301416741323,
           "180": 1005.4670016176522,
           "1800": 431.42549675122797,
           "1801": 865.883950994154,
           "1802": 1734.4551904485536,
           "1803": 351.13437297203285,
           "1804": 1559.9071353956622,
           "1805": 616.2443495997366,
           "1806": 940.8709033949422,
           "1807": 1257.994905800191,
           "1808": 1565.533858068004,
           "1809": 1813.3467214122056,
           "181": 817.6956340871274,
           "1810": 1820.1697470755453,
           "1811": 874.4240934820962,
           "1812": 975.7782558840873,
           "1813": 1891.913132223223,
           "1814": 7.5528425662505025,
           "1815": 2011.0312464920303,
           "1816": 1381.8999407424078,
           "1817": 574.7401883715108,
           "1818": 612.0559063407555,
           "1819": 254.69544279821682,
           "182": 910.2999638666241,
           "1820": 2082.3421212907956,
           "1821": 1443.7238491804644,
           "1822": 2548.05007693998,
           "1823": 2345.9273245509594,
           "1824": 1362.0754636330505,
           "1825": 379.9598792554396,
           "1826": 2465.1030434956806,
           "1827": 68.28612919440819,
           "1828": 1511.4446374850565,
           "1829": 1405.8843095948669,
           "183": 835.2730634890563,
           "1830": 2351.9544822822754,
           "1831": 1422.5807977298011,
           "1832": 895.0043466230022,
           "1833": 1880.0976992226833,
           "1834": 260.3959225189795,
           "1835": 1310.9923689998452,
           "1836": 2096.4593773631746,
           "1837": 383.762329124127,
           "1838": 1992.177492270653,
           "1839": 44.50236560596024,
           "184": 1742.3314679708462,
           "1840": 1573.1593301406624,
           "1841": 1681.5519887533885,
           "1842": 1976.7284197009858,
           "1843": 2195.557866916948,
           "1844": 2278.268748264785,
           "1845": 1436.78299530806,
           "1846": 1322.5967452103039,
           "1847": 2227.009383522041,
           "1848": 650.9274639915631,
           "1849": 2448.86139565838,
           "185": 590.3775928200718,
           "1850": 1695.7034108672092,
           "1851": 1147.295189806392,
           "1852": 111.45252445070298,
           "1853": 398.56487880302495,
           "1854": 675.8683438026233,
           "1855": 606.4229934145776,
           "1856": 355.18354670338175,
           "1857": 817.0837240707169,
           "1858": 1933.1073124527568,
           "1859": 520.2390299842114,
           "186": 307.32054975815373,
           "1860": 2127.4921251645865,
           "1861": 908.0344295603288,
           "1862": 677.4467047513535,
           "1863": 416.6774596595986,
           "1864": 737.9518107830355,
           "1865": 1201.7657378718388,
           "1866": 424.30328227990077,
           "1867": 1963.7682678686792,
           "1868": 774.5384141541903,
           "1869": 555.3614175399608,
           "187": 1732.4969300500186,
           "1870": 1916.5286882697394,
           "1871": 296.60982429192654,
           "1872": 2073.4541097831116,
           "1873": 873.8249758245263,
           "1874": 467.3799989692394,
           "1875": 370.0194871512627,
           "1876": 521.7237606930195,
           "1877": 305.8815495838839,
           "1878": 711.6536129979065,
           "1879": 833.3273095732669,
           "188": 312.5527209808953,
           "1880": 698.052231951627,
           "1881": 1576.9430493648936,
           "1882": 504.433075473782,
           "1883": 698.7656675859726,
           "1884": 1003.4129984235209,
           "1885": 1991.0025812209813,
           "1886": 1733.970142756205,
           "1887": 1243.0926251916906,
           "1888": 902.7886322650529,
           "1889": 165.3237086460687,
           "189": 1792.616197893183,
           "1890": 1359.072308636278,
           "1891": 1023.0920243696789,
           "1892": 1495.3778127535024,
           "1893": 411.7019690049618,
           "1894": 217.75048262490506,
           "1895": 1037.7230330992552,
           "1896": 461.8989948181623,
           "1897": 548.7750793847472,
           "1898": 681.9763775446204,
           "1899": 1364.5805150072356,
           "19": 190.21872996126643,
           "190": 1117.5570232333935,
           "1900": 178.11562721021207,
           "1901": 698.1999435890904,
           "1902": 1342.4927355980494,
           "1903": 548.8874374977116,
           "1904": 1440.878081180304,
           "1905": 797.3376927941466,
           "1906": 237.84063026314595,
           "1907": 539.5133065184335,
           "1908": 779.0969555918364,
           "1909": 835.1630623586697,
           "191": 262.31753556911883,
           "1910": 436.4425583374108,
           "1911": 163.33153808596583,
           "1912": 858.1001361158621,
           "1913": 1040.2742781117497,
           "1914": 1006.6403085129892,
           "1915": 384.66570828676697,
           "1916": 556.0591864174954,
           "1917": 1344.9505570318584,
           "1918": 1134.724936488035,
           "1919": 698.2988193621,
           "192": 252.17092386580805,
           "1920": 1398.4570311008347,
           "1921": 2331.6430614159185,
           "1922": 805.4813762423771,
           "1923": 2583.3006169593714,
           "1924": 1513.917226550166,
           "1925": 1177.186631764895,
           "1926": 205.8480376756824,
           "1927": 1126.055393036533,
           "1928": 1717.5193929966251,
           "1929": 669.0161866278373,
           "193": 409.2095605047554,
           "1930": 2386.830637092502,
           "1931": 1297.547140768657,
           "1932": 1090.8105769035742,
           "1933": 2315.9173939603234,
           "1934": 885.0391585373224,
           "1935": 2531.448025999465,
           "1936": 1069.6829206263624,
           "1937": 1062.6759520245557,
           "1938": 955.3320678026514,
           "1939": 1014.339134213499,
           "194": 581.0536709491718,
           "1940": 712.8501604793711,
           "1941": 1111.2672135108312,
           "1942": 1406.1417203804758,
           "1943": 1185.6041567666073,
           "1944": 1964.4422670546167,
           "1945": 799.9532647149465,
           "1946": 1304.2787156084598,
           "1947": 1404.6915579086372,
           "1948": 2469.4669089386953,
           "1949": 2167.9172389732134,
           "195": 787.7815199891655,
           "1950": 1006.5204810080727,
           "1951": 2234.122874103849,
           "1952": 165.63043530074114,
           "1953": 2396.4764191178506,
           "1954": 995.6513537823099,
           "1955": 969.6036614059535,
           "1956": 585.4027768031597,
           "1957": 1073.863108736648,
           "1958": 1451.3648392628484,
           "1959": 775.3927022964891,
           "196": 476.1212012537049,
           "1960": 2253.141767075272,
           "1961": 1041.6878820410725,
           "1962": 428.1776432597146,
           "1963": 2217.4384709162027,
           "1964": 359.6590099900673,
           "1965": 2341.9857619487916,
           "1966": 1229.0046131229083,
           "1967": 665.4567012793607,
           "1968": 395.5586123537251,
           "1969": 330.40149023898067,
           "197": 451.8565561744418,
           "1970": 67.65862550056369,
           "1971": 1045.6310564874773,
           "1972": 1037.1993492673614,
           "1973": 491.2298422092551,
           "1974": 1888.4850582902595,
           "1975": 150.43003625162956,
           "1976": 763.0488329247247,
           "1977": 1324.8661328540738,
           "1978": 2247.723884657997,
           "1979": 2022.020687488322,
           "198": 1445.3721184177646,
           "1980": 1320.2787748406772,
           "1981": 1110.3682286078467,
           "1982": 1418.0760750959978,
           "1983": 290.21013788017166,
           "1984": 352.585797359092,
           "1985": 1193.9581783078465,
           "1986": 592.3006149668701,
           "1987": 479.0611438233302,
           "1988": 847.2330763394685,
           "1989": 1311.2452817726637,
           "199": 697.6502119822517,
           "1990": 257.6084400442188,
           "1991": 737.6836272960193,
           "1992": 1304.0572432333904,
           "1993": 646.86448015839,
           "1994": 1363.930966157793,
           "1995": 933.4456161870448,
           "1996": 353.89469781616776,
           "1997": 620.5922975918363,
           "1998": 833.8142544522951,
           "1999": 939.863496255545,
           "2": 1417.6493707520679,
           "20": 1900.116130727451,
           "200": 122.33876835585727,
           "2000": 570.6841871272167,
           "2001": 50.390981663887864,
           "2002": 880.5120968954541,
           "2003": 1030.2542525905933,
           "2004": 1094.6505184880973,
           "2005": 357.25855457286434,
           "2006": 621.7822384209903,
           "2007": 1258.3338323636046,
           "2008": 1086.527963863455,
           "2009": 2370.583066001798,
           "201": 963.9523659410519,
           "2010": 360.38478109686645,
           "2011": 1531.0961728727345,
           "2012": 1265.1228434847571,
           "2013": 2146.5003264113566,
           "2014": 1218.3727613600038,
           "2015": 845.3478868667474,
           "2016": 1666.0803250666943,
           "2017": 120.31016093983627,
           "2018": 1198.4553709576194,
           "2019": 2050.838437999576,
           "202": 1683.7423037267529,
           "2020": 16.68734150667199,
           "2021": 1897.9693447869222,
           "2022": 337.29234874855246,
           "2023": 1298.836955550392,
           "2024": 1590.0618784011015,
           "2025": 1896.9927913010688,
           "2026": 2137.4290592394022,
           "2027": 2167.4288560949444,
           "2028": 1238.8616885706506,
           "2029": 1273.451945433772,
           "203": 1516.7773188162669,
           "2030": 2200.1268571673763,
           "2031": 367.20287827454297,
           "2032": 2353.729151423351,
           "2033": 1675.491545128444,
           "2034": 938.6285566556753,
           "2035": 407.9538175683723,
           "2036": 240.21942968352838,
           "2037": 2517.8802719799555,
           "2038": 1059.6459720898354,
           "2039": 1110.681250633815,
           "204": 1014.2440251097504,
           "2040": 721.5144650787654,
           "2041": 1229.4931436778054,
           "2042": 1570.5386054497203,
           "2043": 941.0139541073584,
           "2044": 2384.2696120609344,
           "2045": 1172.968757187343,
           "2046": 443.45156561914126,
           "2047": 2353.900755627374,
           "2048": 474.667191872342,
           "2049": 2463.400234495258,
           "205": 1339.9272270025,
           "2050": 1393.8301640230077,
           "2051": 785.8708647163388,
           "2052": 489.8937191366929,
           "2053": 329.26884104521787,
           "2054": 218.6816173172115,
           "2055": 1200.6649037558552,
           "2056": 1145.6110866469571,
           "2057": 444.29213626388236,
           "2058": 2030.7603061546936,
           "2059": 17.024748217671878,
           "206": 189.11917648784444,
           "2060": 829.2208440130361,
           "2061": 1473.6189879550961,
           "2062": 2364.2709090227922,
           "2063": 2153.4382097029834,
           "2064": 1573.3308906530074,
           "2065": 1450.2294607259053,
           "2066": 2388.838442577769,
           "2067": 1457.2453673500618,
           "2068": 947.3683256792127,
           "2069": 1914.5533092065514,
           "207": 1301.140617794074,
           "2070": 246.5013057104629,
           "2071": 1358.6694339131718,
           "2072": 2153.8605168129575,
           "2073": 366.99064527971245,
           "2074": 2044.2180177605424,
           "2075": 54.50241528707833,
           "2076": 1594.7743350419835,
           "2077": 1733.176723193168,
           "2078": 2030.3843497842324,
           "2079": 2251.8783024279423,
           "208": 224.81102555303488,
           "2080": 2328.83082239486,
           "2081": 1472.5653939005292,
           "2082": 1377.6883574863448,
           "2083": 2286.327337286857,
           "2084": 663.0184788834771,
           "2085": 2501.5461541916584,
           "2086": 1754.7160724226417,
           "2087": 1179.7007195874444,
           "2088": 178.27240278402192,
           "2089": 420.5958381170321,
           "209": 1607.8242608792007,
           "2090": 626.1868119207504,
           "2091": 1318.1550401568038,
           "2092": 870.5285658285228,
           "2093": 692.0868364646876,
           "2094": 1052.7444494744918,
           "2095": 1504.1509800485937,
           "2096": 545.9441806920435,
           "2097": 629.3549793789816,
           "2098": 1515.6040369356358,
           "2099": 658.9927791245649,
           "21": 480.58857277105903,
           "210": 146.2500567676561,
           "2100": 1521.0329638624007,
           "2101": 1208.5095988949913,
           "2102": 466.274417749606,
           "2103": 604.7745888014579,
           "2104": 741.8911942754554,
           "2105": 935.5086980509533,
           "2106": 846.3760350162466,
           "2107": 336.1852645192533,
           "2108": 729.3009222040214,
           "2109": 1275.8250029798758,
           "211": 820.724031038359,
           "2110": 1046.2369500838033,
           "2111": 232.70729377568358,
           "2112": 910.6770118464356,
           "2113": 1401.971117560543,
           "2114": 1291.5272905958545,
           "2115": 972.8922161026792,
           "2116": 244.58959115569527,
           "2117": 540.9737592258193,
           "2118": 548.6474662957036,
           "2119": 1289.126761405362,
           "212": 237.14993692878954,
           "2120": 129.1514894936355,
           "2121": 852.2661910374612,
           "2122": 1248.4488059670123,
           "2123": 646.0246301507226,
           "2124": 1396.2676083509984,
           "2125": 583.0094090885317,
           "2126": 360.9462448975149,
           "2127": 659.9418505852201,
           "2128": 915.076352653227,
           "2129": 903.3057519977158,
           "213": 992.4511905302496,
           "2130": 220.25550573225348,
           "2131": 324.24573149208265,
           "2132": 1021.3413139894298,
           "2133": 920.1213549080161,
           "2134": 1093.6970670230219,
           "2135": 592.5983881389286,
           "2136": 376.9246791065846,
           "2137": 1316.5748526790228,
           "2138": 1058.530725348557,
           "2139": 933.0853321734608,
           "214": 865.8712550934982,
           "2140": 1513.6563002358919,
           "2141": 480.56697740971543,
           "2142": 2197.3892460413713,
           "2143": 1092.355272434914,
           "2144": 937.1727687717924,
           "2145": 2130.551796104938,
           "2146": 707.1517506183835,
           "2147": 2336.520564703434,
           "2148": 911.974324717197,
           "2149": 861.8444158993859,
           "215": 925.8144340071084,
           "2150": 779.5812480289429,
           "2151": 874.3100943538997,
           "2152": 582.4533667412779,
           "2153": 916.4760548710118,
           "2154": 1200.8782356639015,
           "2155": 1051.2408998395454,
           "2156": 1779.6340877019745,
           "2157": 712.1920856790554,
           "2158": 1114.498181208275,
           "2159": 1213.3215403353142,
           "216": 1642.413833274447,
           "2160": 2271.329448779536,
           "2161": 1975.8594498435007,
           "2162": 646.6471438215294,
           "2163": 457.5248607720561,
           "2164": 1264.8478626922604,
           "2165": 342.3658094909456,
           "2166": 1040.4439007341023,
           "2167": 1202.1562728947372,
           "2168": 798.06698392866,
           "2169": 1405.4453569857715,
           "217": 1889.3958013540541,
           "2170": 341.4367120275391,
           "2171": 561.8423309722497,
           "2172": 829.6913714373743,
           "2173": 1085.7301287630034,
           "2174": 1012.2660016148226,
           "2175": 30.809577578994134,
           "2176": 558.6124074411987,
           "2177": 1213.1908819841249,
           "2178": 853.788823793693,
           "2179": 1212.5870757561438,
           "218": 878.4523526803024,
           "2180": 827.8350996331068,
           "2181": 280.6750103781412,
           "2182": 1346.7518659190723,
           "2183": 1042.8117075187104,
           "2184": 1073.2081364828393,
           "2185": 832.2450830726614,
           "2186": 428.23542453031433,
           "2187": 1216.1061669155852,
           "2188": 829.3980354642981,
           "2189": 1097.2041995163727,
           "219": 1218.6412371006638,
           "2190": 892.9002190391193,
           "2191": 927.4645629811572,
           "2192": 786.5742616201419,
           "2193": 1083.2491853895162,
           "2194": 1309.56752816827,
           "2195": 1383.7164447119396,
           "2196": 647.2539069485788,
           "2197": 434.9132086273495,
           "2198": 1359.0790784377778,
           "2199": 589.9214267554141,
           "22": 758.5927622131608,
           "220": 1604.0640247262513,
           "2200": 1554.225665349243,
           "2201": 831.0915258444666,
           "2202": 455.88097984146157,
           "2203": 796.4964825893625,
           "2204": 608.9273956172722,
           "2205": 1718.5045961517587,
           "2206": 677.2568252048558,
           "2207": 924.9338012524858,
           "2208": 1650.166150832563,
           "2209": 643.2377437245507,
           "221": 673.9776276372315,
           "2210": 1862.8781285399295,
           "2211": 467.33703101137536,
           "2212": 599.5279998958326,
           "2213": 706.7717087166681,
           "2214": 920.0400264249417,
           "2215": 729.8117470167018,
           "2216": 444.22976112561093,
           "2217": 837.7391087045219,
           "2218": 1086.938560937013,
           "2219": 1299.1273559489223,
           "222": 1105.894522136784,
           "2220": 925.7362542796732,
           "2221": 907.4535106242431,
           "2222": 735.6803866137567,
           "2223": 1803.5007491413205,
           "2224": 1498.9116783941695,
           "2225": 1212.0182622580103,
           "2226": 2047.4302330416158,
           "2227": 123.36640719981744,
           "2228": 1909.8769622278821,
           "2229": 218.49581137839257,
           "223": 665.4997740109214,
           "2230": 1372.2941492464777,
           "2231": 1599.488928307055,
           "2232": 1904.0938203903986,
           "2233": 2138.4118900690078,
           "2234": 2185.9099478585663,
           "2235": 1283.171316027064,
           "2236": 1266.3853871962665,
           "2237": 2191.248853004987,
           "2238": 433.56576588576394,
           "2239": 2367.5687798872073,
           "224": 1833.728484856719,
           "2240": 1662.0849825165933,
           "2241": 984.2385682026722,
           "2242": 290.4792530697794,
           "2243": 231.1214224639493,
           "2244": 871.7592485725661,
           "2245": 1181.7905854768126,
           "2246": 699.5581979908527,
           "2247": 1304.3144136554547,
           "2248": 683.1509909952073,
           "2249": 392.7288939631959,
           "225": 484.4883494971797,
           "2250": 700.4192059134274,
           "2251": 947.5992204544957,
           "2252": 974.2969224352007,
           "2253": 324.45917455740096,
           "2254": 218.61854250632132,
           "2255": 1034.1502027384897,
           "2256": 869.4935224898088,
           "2257": 1156.1902173482688,
           "2258": 558.7049272477856,
           "2259": 380.9521684526464,
           "226": 413.6361301410611,
           "2260": 1217.4661713319888,
           "2261": 980.9719610871603,
           "2262": 2034.3974485349177,
           "2263": 281.6975746918531,
           "2264": 2099.9330810158567,
           "2265": 1296.800837707894,
           "2266": 491.3200104329251,
           "2267": 222.37018030487187,
           "2268": 114.9045468764901,
           "2269": 388.68954042371075,
           "227": 1225.8695918568708,
           "2270": 1009.6347304407899,
           "2271": 781.2485603549864,
           "2272": 173.0992618441914,
           "2273": 1738.4543974095725,
           "2274": 432.3645415066245,
           "2275": 408.5176567126489,
           "2276": 1228.6886664690694,
           "2277": 1990.8326904769392,
           "2278": 1820.7305261158606,
           "2279": 1881.300035368505,
           "228": 803.6689617148578,
           "2280": 341.7066993459625,
           "2281": 1284.2615448382371,
           "2282": 1573.4201459167582,
           "2283": 1880.368373789991,
           "2284": 2120.8914526654376,
           "2285": 2150.742990484063,
           "2286": 1222.5726832375105,
           "2287": 1257.174799941722,
           "2288": 2183.825256584227,
           "2289": 351.4971953358712,
           "229": 1250.683707903991,
           "2290": 2337.046406620576,
           "2291": 1659.3775898880378,
           "2292": 922.3318974368202,
           "2293": 407.1809297259573,
           "2294": 225.28479953451725,
           "2295": 1989.7210808872535,
           "2296": 1027.5140186112803,
           "2297": 311.3073112747003,
           "2298": 73.41755327302162,
           "2299": 292.67648230787955,
           "23": 2439.4327189828696,
           "230": 1005.9826410846581,
           "2300": 293.1963180240843,
           "2301": 767.636509489992,
           "2302": 678.0417034382582,
           "2303": 446.51064175601454,
           "2304": 1562.9863032893359,
           "2305": 458.0895558295951,
           "2306": 432.28446835144695,
           "2307": 1018.2143411613517,
           "2308": 1892.4363884158008,
           "2309": 1679.1614811610132,
           "231": 753.0932957774877,
           "2310": 1547.7308840950811,
           "2311": 1678.675646661663,
           "2312": 1975.9546072805178,
           "2313": 2197.7440415050846,
           "2314": 2274.339501088835,
           "2315": 1420.4517785230703,
           "2316": 1323.4174140837777,
           "2317": 2232.8980684780045,
           "2318": 619.9406836213033,
           "2319": 2447.063009328421,
           "232": 938.9643651016578,
           "2320": 1701.2270680502338,
           "2321": 1128.519219672014,
           "2322": 134.65490145168033,
           "2323": 372.44127908627917,
           "2324": 855.2619465606042,
           "2325": 1075.56037182313,
           "2326": 1319.6830529922154,
           "2327": 1177.2664570834982,
           "2328": 363.0181516829298,
           "2329": 900.0294429851198,
           "233": 1486.0987322075757,
           "2330": 1468.6347540018046,
           "2331": 938.7904954705449,
           "2332": 1377.853384361446,
           "2333": 1145.9044730666417,
           "2334": 478.9801588505235,
           "2335": 1516.1551013860203,
           "2336": 1175.360565092955,
           "2337": 307.70038728002095,
           "2338": 557.661188878086,
           "2339": 597.8931359222207,
           "234": 1000.0747145161611,
           "2340": 531.4052102184494,
           "2341": 377.0841569783105,
           "2342": 660.8513415016048,
           "2343": 1261.4540521271103,
           "2344": 769.3396011640141,
           "2345": 310.02998904499555,
           "2346": 737.5231773923712,
           "2347": 1582.5484295128254,
           "2348": 1369.0232811751512,
           "2349": 256.9924994574383,
           "235": 1605.9985499704403,
           "2350": 332.53928882873515,
           "2351": 798.9646572128238,
           "2352": 655.824022283936,
           "2353": 393.1022890700203,
           "2354": 1568.9405933326827,
           "2355": 474.093070531572,
           "2356": 374.14065832873297,
           "2357": 1035.9311064822873,
           "2358": 1875.1455413583972,
           "2359": 1674.1655271042125,
           "236": 701.1137676115214,
           "2360": 302.02066849186605,
           "2361": 1055.0650355459186,
           "2362": 875.1945613411447,
           "2363": 178.56788078962933,
           "2364": 1817.0288767253187,
           "2365": 318.7006044033787,
           "2366": 517.4384719646825,
           "2367": 1291.689559466785,
           "2368": 2090.9941726960196,
           "2369": 1910.1824758694308,
           "237": 646.888208784369,
           "2370": 983.709200882689,
           "2371": 970.1224168283243,
           "2372": 473.32270463599923,
           "2373": 1822.6673248889724,
           "2374": 202.1106812698539,
           "2375": 703.3335055853491,
           "2376": 1260.5229993243502,
           "2377": 2180.0878318866626,
           "2378": 1954.7920428014581,
           "2379": 538.5327972768561,
           "238": 967.4069097505879,
           "2380": 1182.3848695590964,
           "2381": 875.3343689971808,
           "2382": 1183.741217490429,
           "2383": 799.3824083127002,
           "2384": 300.2457749012055,
           "2385": 1359.3061534179124,
           "2386": 1059.7692691031182,
           "2387": 926.7275305839064,
           "2388": 980.6739530841954,
           "2389": 1129.6879898538577,
           "239": 1055.4929856264228,
           "2390": 406.2578387461255,
           "2391": 574.5347720727165,
           "2392": 1219.9159061660334,
           "2393": 1040.6812575017736,
           "2394": 1896.171039868537,
           "2395": 439.0612478885685,
           "2396": 531.7501902548031,
           "2397": 1396.8244078797181,
           "2398": 2119.524874787564,
           "2399": 1967.038423632605,
           "24": 953.2453549161445,
           "240": 794.9821364681287,
           "2400": 2013.7832048080322,
           "2401": 1386.7375285539163,
           "2402": 575.8620395393024,
           "2403": 617.0989564902048,
           "2404": 259.8077243084591,
           "2405": 815.4642552481794,
           "2406": 1456.5955649337998,
           "2407": 2348.140323855705,
           "2408": 2136.7199865233474,
           "2409": 939.4247564063954,
           "241": 1366.1635199393718,
           "2410": 1588.6541111168804,
           "2411": 1440.0099394083907,
           "2412": 1075.8643663222808,
           "2413": 763.2326407307618,
           "2414": 357.3685101832021,
           "242": 1219.379246471161,
           "243": 1634.8997252608258,
           "244": 1057.7165676307745,
           "245": 443.25163902549457,
           "246": 790.9494153460444,
           "247": 229.7937239554541,
           "248": 872.4191418620649,
           "249": 317.75650530074205,
           "25": 1324.390878670037,
           "250": 1426.773025616339,
           "251": 559.1461564381198,
           "252": 1114.274813861078,
           "253": 1350.6520752290076,
           "254": 844.8382244665621,
           "255": 1584.9992852449222,
           "256": 182.75281340564456,
           "257": 679.8840525789661,
           "258": 892.8878134815727,
           "259": 1137.1109509263622,
           "26": 2227.6692162647746,
           "260": 1001.6721744719257,
           "261": 238.46372342513928,
           "262": 767.4113033913452,
           "263": 1285.9806804126817,
           "264": 999.3289717823824,
           "265": 1203.1670534319933,
           "266": 977.226087448184,
           "267": 463.5572660547089,
           "268": 1538.0199272332288,
           "269": 1214.9671522477413,
           "27": 648.8394938151541,
           "270": 2078.0373207200964,
           "271": 846.7391900852778,
           "272": 298.81034602099743,
           "273": 884.5943375170365,
           "274": 614.1499185282212,
           "275": 868.4932669907444,
           "276": 1791.129410010678,
           "277": 854.00744249496,
           "278": 1664.091994389397,
           "279": 1496.2561883976111,
           "28": 169.36643288976023,
           "280": 1778.8250101088984,
           "281": 652.987126299038,
           "282": 1114.5479232356008,
           "283": 585.576812740937,
           "284": 1977.6917934932576,
           "285": 2295.308292445889,
           "286": 345.50670100840944,
           "287": 1687.544330134057,
           "288": 1443.045873447489,
           "289": 1005.5221429228891,
           "29": 732.0849245330469,
           "290": 1260.1348071195737,
           "291": 840.245644530109,
           "292": 256.12234174337,
           "293": 1505.2934430405744,
           "294": 2000.5738886754773,
           "295": 1462.1434813683995,
           "296": 329.6378657707371,
           "297": 106.05214574336938,
           "298": 491.52565729513987,
           "299": 14.170642998043807,
           "3": 2139.946481215311,
           "30": 1810.8959078566945,
           "300": 634.2900178677245,
           "301": 1588.7429147485257,
           "302": 1047.7214666853677,
           "303": 1978.9682080435948,
           "304": 1899.023334351166,
           "305": 1035.2224846745496,
           "306": 352.8169052208983,
           "307": 2040.7050132243166,
           "308": 646.4549720333355,
           "309": 1278.5581547479699,
           "31": 2119.158205527933,
           "310": 930.2159647180238,
           "311": 1793.7370328336233,
           "312": 867.0190195366498,
           "313": 591.0099269586825,
           "314": 1313.2835195914818,
           "315": 417.5189348452015,
           "316": 877.7458111183465,
           "317": 1745.79796983985,
           "318": 336.98324713240623,
           "319": 1572.312252774091,
           "32": 2455.2191429502623,
           "320": 603.3170695493797,
           "321": 954.7793524083518,
           "322": 1270.0082075940352,
           "323": 1577.5966428680847,
           "324": 1825.087697544308,
           "325": 1833.094339567937,
           "326": 888.3015829855536,
           "327": 985.7916448372305,
           "328": 1902.896231843513,
           "329": 16.63817296649645,
           "33": 2128.2097438320347,
           "330": 2023.7370634552217,
           "331": 1391.989385318076,
           "332": 588.5420268353278,
           "333": 600.7299149536447,
           "334": 243.51063770461934,
           "335": 1505.3192871264123,
           "336": 2367.918421849913,
           "337": 1297.4938682231043,
           "338": 2499.0008638892486,
           "339": 1435.2457309947392,
           "34": 2499.910409615988,
           "340": 758.6466739650784,
           "341": 1325.4568963982945,
           "342": 414.7753300738116,
           "343": 582.8313762845065,
           "344": 450.64494352068186,
           "345": 2516.9498871986466,
           "346": 2373.3213156340007,
           "347": 1574.8783896126058,
           "348": 123.27044557269049,
           "349": 270.70268689536846,
           "35": 745.8882758207621,
           "350": 1832.0817142370774,
           "351": 441.5710880124841,
           "352": 683.433247123382,
           "353": 2406.0381334840563,
           "354": 878.9051218256762,
           "355": 1256.817648326738,
           "356": 2172.1913407336483,
           "357": 579.6631268193994,
           "358": 89.58050167870076,
           "359": 692.2216480122526,
           "36": 1093.5943891435352,
           "360": 1748.5697818202618,
           "361": 2054.662371169713,
           "362": 2403.179297029589,
           "363": 2066.1009215550143,
           "364": 2452.015398318117,
           "365": 665.5103238692135,
           "366": 1034.3162675414071,
           "367": 1022.5547457683256,
           "368": 344.94097439204523,
           "369": 1090.670309280675,
           "37": 1092.4138267251035,
           "370": 2393.282175658934,
           "371": 218.65398044143257,
           "372": 2508.6236499816982,
           "373": 983.150856604166,
           "374": 1160.3279409304848,
           "375": 927.8234327028503,
           "376": 1314.7259247297511,
           "377": 1566.7140830406033,
           "378": 1088.3432465695325,
           "379": 2395.3078165690345,
           "38": 423.38749768001634,
           "380": 1200.3272710129945,
           "381": 358.10763829573074,
           "382": 2376.7187257635414,
           "383": 518.3221545689194,
           "384": 2454.5304083817828,
           "385": 1520.1219667008716,
           "386": 808.2277225385295,
           "387": 501.3573567006135,
           "388": 257.1465579333916,
           "389": 367.75099045543976,
           "39": 1141.3858063206217,
           "390": 1284.513561828895,
           "391": 1132.299875778316,
           "392": 279.42822190262575,
           "393": 2069.612581404118,
           "394": 222.74685434198025,
           "395": 766.39754455072,
           "396": 1535.0452420259558,
           "397": 2347.077588563527,
           "398": 2166.840834092544,
           "399": 1126.4025709604693,
           "4": 80.54260908395787,
           "40": 2451.1051640129704,
           "400": 252.45755188992476,
           "401": 1451.332252137229,
           "402": 73.59949025531601,
           "403": 1009.8429985421611,
           "404": 240.249025499107,
           "405": 1139.37797423139,
           "406": 999.6568526518423,
           "407": 1103.8519648677097,
           "408": 1487.5297339370488,
           "409": 1785.8870698507053,
           "41": 287.06008855393446,
           "410": 802.2875323550481,
           "411": 1385.7997130562962,
           "412": 1765.1771743275085,
           "413": 501.86457822364963,
           "414": 1238.4378098164275,
           "415": 823.3669039010489,
           "416": 1718.5670393088478,
           "417": 631.8746365337305,
           "418": 421.45308579060645,
           "419": 1071.3173856128553,
           "42": 2557.5474506001065,
           "420": 950.3679444569503,
           "421": 1416.8037351871633,
           "422": 1108.4111541108773,
           "423": 616.1513212600695,
           "424": 764.906287741061,
           "425": 1328.6429510951007,
           "426": 832.6544637077744,
           "427": 1456.0847494790482,
           "428": 881.4701424298074,
           "429": 704.7469534331402,
           "43": 1016.4128198364119,
           "430": 1147.6448379293602,
           "431": 1233.584001203506,
           "432": 830.1042142598376,
           "433": 1195.583150373614,
           "434": 1395.9128168456489,
           "435": 1480.2953631321632,
           "436": 1111.9471000920298,
           "437": 487.12341961141965,
           "438": 976.5980576034073,
           "439": 243.0614774645243,
           "44": 1227.4182931379523,
           "440": 797.6122782322275,
           "441": 506.75438157791325,
           "442": 1263.1842570973881,
           "443": 574.8618234671868,
           "444": 1256.7936364461555,
           "445": 1180.5096714323622,
           "446": 998.4580920226718,
           "447": 1432.1465493494543,
           "448": 130.43532587920862,
           "449": 792.9088700078609,
           "45": 1003.857045222908,
           "450": 1039.3001446026078,
           "451": 1290.7183634204043,
           "452": 1177.3702655628495,
           "453": 270.12549806119586,
           "454": 793.4171783560467,
           "455": 1429.8264183953079,
           "456": 831.1874614126948,
           "457": 1379.4457606408412,
           "458": 1069.0197302549118,
           "459": 348.65798400801515,
           "46": 1387.7279793101088,
           "460": 1395.5749461213516,
           "461": 1059.8541014411853,
           "462": 1181.6541984159323,
           "463": 416.40527816423423,
           "464": 1154.8912184418152,
           "465": 2088.0624799448187,
           "466": 1150.9070067128443,
           "467": 1953.269686966988,
           "468": 1785.1973176019142,
           "469": 2076.8551982966196,
           "47": 1619.432434463769,
           "470": 458.35754900679575,
           "471": 1063.8850270198973,
           "472": 832.84379764734,
           "473": 2269.9653072854167,
           "474": 2578.8904844867357,
           "475": 627.1633368472551,
           "476": 1968.486903389152,
           "477": 1740.3621734669,
           "478": 931.9680038494378,
           "479": 1558.5710962825553,
           "48": 1168.4360658200972,
           "480": 1138.1175231745196,
           "481": 264.9970567635197,
           "482": 1798.6700393066596,
           "483": 2292.002637813487,
           "484": 1736.1048591212502,
           "485": 624.2802936353614,
           "486": 362.197340860392,
           "487": 315.36371423770095,
           "488": 312.3464410921085,
           "489": 472.5917704899645,
           "49": 2450.084648184171,
           "490": 1887.5525125319436,
           "491": 1334.354556762671,
           "492": 2268.30356491919,
           "493": 2196.386825994536,
           "494": 1307.0063747210002,
           "495": 94.17428734569755,
           "496": 2336.520852865682,
           "497": 454.53571830402745,
           "498": 1530.828702298097,
           "499": 1226.9430126451682,
           "5": 1581.4969071241228,
           "50": 1262.4486821581322,
           "500": 2086.321791720504,
           "501": 1163.920702341167,
           "502": 839.6554231098467,
           "503": 1605.813714961796,
           "504": 212.1975772609064,
           "505": 1168.5741507049881,
           "506": 2030.373861414014,
           "507": 88.83571390542687,
           "508": 1866.303190082287,
           "509": 430.4417263552951,
           "51": 403.82680000223905,
           "510": 1225.4078388949226,
           "511": 1561.2879966216626,
           "512": 1868.944339279219,
           "513": 2113.396742730595,
           "514": 2130.2251041632608,
           "515": 1185.869336816318,
           "516": 1258.938578546045,
           "517": 2183.5177711962187,
           "518": 310.89781713604145,
           "519": 2319.584705247483,
           "52": 2434.5969439678825,
           "520": 1663.9418809649994,
           "521": 886.6935335590543,
           "522": 493.4854473139513,
           "523": 261.11924156552743,
           "524": 1449.0668030108402,
           "525": 182.13206606439337,
           "526": 906.5517765579943,
           "527": 31.05006004968228,
           "528": 912.5716795456236,
           "529": 763.6429673242386,
           "53": 589.8749717722585,
           "530": 928.3682802783728,
           "531": 1480.9716511397362,
           "532": 1679.8728975988467,
           "533": 662.6138959602849,
           "534": 1182.074091757326,
           "535": 1549.2365379574674,
           "536": 570.1440885881268,
           "537": 999.3158282634571,
           "538": 616.2428887988941,
           "539": 1631.382944752355,
           "54": 2503.6562285871837,
           "540": 419.9188382783447,
           "541": 190.4320781575341,
           "542": 1069.0856737402034,
           "543": 726.2689512002527,
           "544": 1211.0056989868215,
           "545": 857.7807168690839,
           "546": 586.6858670247074,
           "547": 826.4963719045473,
           "548": 1330.073921766916,
           "549": 870.6625946695543,
           "55": 1598.2584953630453,
           "550": 1438.06698206862,
           "551": 719.653266491187,
           "552": 454.14424962724365,
           "553": 1110.2359033081914,
           "554": 1055.7203865184506,
           "555": 587.8532823879042,
           "556": 1235.7748581980732,
           "557": 1211.4930080617307,
           "558": 1473.122463309389,
           "559": 863.9737001698796,
           "56": 871.949994607661,
           "560": 237.8134672210549,
           "561": 916.6577417388354,
           "562": 18.29856050570334,
           "563": 656.1158402951489,
           "564": 442.11079431859224,
           "565": 1281.6681752202076,
           "566": 340.6331212290204,
           "567": 1024.79979745758,
           "568": 1219.5398988941968,
           "569": 781.1153531495365,
           "57": 567.4791831014056,
           "570": 1421.2128764559416,
           "571": 345.6890648961074,
           "572": 547.8191980362103,
           "573": 813.3666670551081,
           "574": 1069.2044748050077,
           "575": 994.1955833249998,
           "576": 17.735632577047657,
           "577": 555.3548380502544,
           "578": 1197.6361560301973,
           "579": 871.4227603722768,
           "58": 314.8632148139033,
           "580": 1194.5925663421847,
           "581": 816.9129603651946,
           "582": 297.69185548656776,
           "583": 1361.6287073011354,
           "584": 1059.2054891839748,
           "585": 1464.833950851371,
           "586": 2341.0354669451785,
           "587": 1420.3592261329843,
           "588": 2089.725179108912,
           "589": 1925.1131141223227,
           "59": 448.1109009515838,
           "590": 2272.7912023857652,
           "591": 41.99112185572732,
           "592": 709.8542928584102,
           "593": 926.6694518687846,
           "594": 2415.5840054487194,
           "595": 2678.305396786935,
           "596": 955.9048283482084,
           "597": 2071.1703073040594,
           "598": 1934.0331469197413,
           "599": 566.4909208656195,
           "6": 2427.9479051768044,
           "60": 1357.3684217619536,
           "600": 1772.271800251109,
           "601": 1357.6809426717002,
           "602": 382.03019742081204,
           "603": 1961.0190620436276,
           "604": 2432.516691209327,
           "605": 1823.2019542425971,
           "606": 862.5704825038168,
           "607": 712.3429168216762,
           "608": 122.98835218623827,
           "609": 627.5277065787527,
           "61": 1184.520111055534,
           "610": 88.52875190693756,
           "611": 2108.953296187028,
           "612": 1481.8431653886003,
           "613": 2558.9194774518505,
           "614": 2381.6778655092558,
           "615": 1408.3475020969763,
           "616": 322.23457402123574,
           "617": 2504.8276645730875,
           "618": 38.494249463803065,
           "619": 1569.937728870531,
           "62": 292.4149367621987,
           "620": 1431.5104743196364,
           "621": 2365.3531154820002,
           "622": 1433.001299736163,
           "623": 934.9991795046215,
           "624": 1889.9706788700742,
           "625": 209.49814985925408,
           "626": 1342.2623841783918,
           "627": 2145.1231702452874,
           "628": 329.10609454694634,
           "629": 2030.7118756803052,
           "63": 2131.891192006897,
           "630": 53.793689109620345,
           "631": 1564.7538958536284,
           "632": 1719.4758737713325,
           "633": 2018.2273151802121,
           "634": 2242.0517004979065,
           "635": 2314.0622194770685,
           "636": 1448.8847611639178,
           "637": 1367.1544452943724,
           "638": 2279.5678566412817,
           "639": 630.6527455993828,
           "64": 293.7260471915749,
           "640": 2488.421238334122,
           "641": 1747.8201905610863,
           "642": 1154.5632900199682,
           "643": 188.4320524032486,
           "644": 392.85725268710564,
           "645": 958.9572450097177,
           "646": 173.64194642991845,
           "647": 1066.678891978252,
           "648": 926.2145245599079,
           "649": 1038.5914707380443,
           "65": 807.2535871678587,
           "650": 1499.91658492921,
           "651": 1769.6405663015714,
           "652": 771.7448837234397,
           "653": 1316.2528783306823,
           "654": 1694.0660535079492,
           "655": 527.7287396800774,
           "656": 1164.9009976713592,
           "657": 752.5305792238639,
           "658": 1707.9018926008941,
           "659": 559.9682450556807,
           "66": 1603.2635879336826,
           "660": 359.57549910283166,
           "661": 1083.1722727493798,
           "662": 877.802095202718,
           "663": 1346.9679674655422,
           "664": 1035.6575645661483,
           "665": 615.366857508752,
           "666": 792.7143571457244,
           "667": 1342.769435620045,
           "668": 854.3277210378253,
           "669": 1465.0744853696629,
           "67": 2393.9404344351037,
           "670": 817.9349602503739,
           "671": 636.115231546,
           "672": 1113.6124885122474,
           "673": 1168.172883597142,
           "674": 766.022611852765,
           "675": 1220.159237759818,
           "676": 1329.5869489316965,
           "677": 1492.4832748504439,
           "678": 1045.1490883127485,
           "679": 419.1343268995422,
           "68": 2222.6396195407665,
           "680": 935.8336706948619,
           "681": 174.62052862456403,
           "682": 766.4843454885441,
           "683": 458.9973112605276,
           "684": 1281.9107873821902,
           "685": 513.2481351951852,
           "686": 1183.6832708101485,
           "687": 1204.691284317311,
           "688": 926.6615057332806,
           "689": 1443.098044715598,
           "69": 1742.4145653923697,
           "690": 171.71794912300217,
           "691": 719.4190176263805,
           "692": 966.6256727331889,
           "693": 1218.6669860504953,
           "694": 1110.9158049108175,
           "695": 199.86673465051547,
           "696": 731.0584869095995,
           "697": 1356.74435328314,
           "698": 853.4874547057626,
           "699": 1313.0211208828189,
           "7": 1370.6598734680285,
           "70": 1370.993452876005,
           "700": 997.0987774388792,
           "701": 332.34025878947205,
           "702": 1399.7418331862473,
           "703": 1072.0966136106406,
           "704": 937.2114435896345,
           "705": 669.6288796582937,
           "706": 699.727336078227,
           "707": 341.49987865210693,
           "708": 2370.2216791781893,
           "709": 2451.684666439593,
           "71": 356.8542468303984,
           "710": 1465.4973667281538,
           "711": 647.8615878460691,
           "712": 1017.2679517768808,
           "713": 1470.0116369721895,
           "714": 832.6841662506602,
           "715": 499.85667437627353,
           "716": 2436.074927017176,
           "717": 590.1899714247785,
           "718": 984.7564052470615,
           "719": 1966.2831469039693,
           "72": 2388.358501486053,
           "720": 595.1160259188672,
           "721": 681.6085691256467,
           "722": 943.1327364359097,
           "723": 1485.6142284532002,
           "724": 1731.0216864895722,
           "725": 2225.2635797587072,
           "726": 1777.2073204315573,
           "727": 2320.9790060829737,
           "728": 285.1903921724298,
           "729": 949.9633201538637,
           "73": 1201.6606754105187,
           "730": 328.1737547412825,
           "731": 414.92536588480004,
           "732": 1097.3212462415993,
           "733": 2141.8673198886613,
           "734": 556.3355970123614,
           "735": 2362.130746476681,
           "736": 1191.9591681888646,
           "737": 919.7097801582519,
           "738": 171.52277598933546,
           "739": 924.1967921725301,
           "74": 111.48734465576136,
           "740": 1457.3251633235,
           "741": 503.45644696047646,
           "742": 2183.5278257543187,
           "743": 1029.6201198163146,
           "744": 771.6226567750525,
           "745": 2125.5619184487814,
           "746": 556.8655778770601,
           "747": 2308.7981786430637,
           "748": 965.7786114560735,
           "749": 751.1192768626962,
           "75": 1237.8400407656645,
           "750": 627.283263466487,
           "751": 704.6559287226124,
           "752": 410.9959827012628,
           "753": 903.0267316208208,
           "754": 1110.5032170241989,
           "755": 880.8921543981945,
           "756": 1777.9723515739468,
           "757": 546.0272557889523,
           "758": 978.2806960139245,
           "759": 1203.2401406687086,
           "76": 305.4555634324181,
           "760": 2234.633190240286,
           "761": 1957.1485287294556,
           "762": 938.3832221696106,
           "763": 787.784088060927,
           "764": 958.7222667485331,
           "765": 1452.4959282043721,
           "766": 1659.1066393061355,
           "767": 643.7065402279181,
           "768": 1210.5003155424454,
           "769": 1576.1560492218368,
           "77": 1225.1329113681402,
           "770": 539.1119776937262,
           "771": 1022.3394713050658,
           "772": 645.0332002399332,
           "773": 1608.7187624710768,
           "774": 448.80520881614785,
           "775": 187.69999351393727,
           "776": 1040.023268142358,
           "777": 752.798372864315,
           "778": 1239.2213608871152,
           "779": 875.6294828753726,
           "78": 2143.505184624092,
           "780": 557.8164321883339,
           "781": 795.5150786844026,
           "782": 1301.1050012144797,
           "783": 840.0599198352779,
           "784": 1410.1592931619898,
           "785": 750.5299419022843,
           "786": 464.5609514406986,
           "787": 1138.6396520363085,
           "788": 1085.897759469609,
           "789": 592.4050413841003,
           "79": 1207.5490681118877,
           "790": 1205.3767327996168,
           "791": 1241.2645800765558,
           "792": 1444.6717699888418,
           "793": 872.0871856840923,
           "794": 246.88261052651015,
           "795": 945.872291904071,
           "796": 13.014682433998365,
           "797": 637.4191413782668,
           "798": 469.99237239456136,
           "799": 1251.969553401355,
           "8": 2548.93236999483,
           "80": 1973.753091576697,
           "800": 340.7685626582205,
           "801": 1049.5131384225779,
           "802": 1189.162632254061,
           "803": 808.5037237686225,
           "804": 1392.91368855416,
           "805": 342.3939733117411,
           "806": 569.5054992071872,
           "807": 839.458584519692,
           "808": 1095.6858141851246,
           "809": 1024.1632294056637,
           "81": 1805.9062106963022,
           "810": 40.96155130579491,
           "811": 557.8746934868799,
           "812": 1222.1609198823862,
           "813": 840.7747842120783,
           "814": 1224.349448975105,
           "815": 832.8101448025799,
           "816": 267.76679900685804,
           "817": 1334.5883436103047,
           "818": 1030.0618235477864,
           "819": 168.0779710269932,
           "82": 2115.140511067782,
           "820": 347.722739340839,
           "821": 2108.9053210812963,
           "822": 2008.5041204407596,
           "823": 1163.7349660243947,
           "824": 326.3326877584745,
           "825": 642.2504484682522,
           "826": 1426.4500493056785,
           "827": 163.79334530804832,
           "828": 333.4545268649772,
           "829": 2028.554893116623,
           "83": 347.4428448574305,
           "830": 509.28935127673503,
           "831": 850.8568972034924,
           "832": 1758.3383228980722,
           "833": 189.27427910697384,
           "834": 342.96865865431477,
           "835": 331.1505817784468,
           "836": 1334.8534334273031,
           "837": 1642.9432239064993,
           "838": 1991.7592801417125,
           "839": 1652.2729102222213,
           "84": 960.2676329742175,
           "840": 2045.380565272041,
           "841": 436.04766444737936,
           "842": 619.5564091882641,
           "843": 994.4306489806481,
           "844": 374.1364246903662,
           "845": 683.7905594792758,
           "846": 1978.5847780891186,
           "847": 436.42813941849175,
           "848": 2100.5621485396973,
           "849": 626.9008525073284,
           "85": 829.9026594524263,
           "850": 753.4344046820629,
           "851": 830.4787545196713,
           "852": 928.7623050135192,
           "853": 1155.4888894617877,
           "854": 798.6044950408279,
           "855": 1981.778154636558,
           "856": 786.3987256017748,
           "857": 126.32958636437526,
           "858": 1962.0137280335884,
           "859": 155.37052045258665,
           "86": 2294.2447645234156,
           "860": 2046.2717361369882,
           "861": 1175.1683294340128,
           "862": 395.81005399496456,
           "863": 100.09153234403749,
           "864": 161.89641836328462,
           "865": 320.36537388957555,
           "866": 898.0019907036294,
           "867": 722.8935515211008,
           "868": 293.91957216323476,
           "869": 1655.892088254053,
           "87": 2591.033577128375,
           "870": 422.0881819568931,
           "871": 394.73664757970647,
           "872": 1130.1849344762038,
           "873": 1942.079971321454,
           "874": 1752.8274739560893,
           "875": 428.03888320852985,
           "876": 1944.9780249953853,
           "877": 1867.8043666104443,
           "878": 998.5572254513622,
           "879": 490.85102500607434,
           "88": 699.8066514658891,
           "880": 805.58512188641,
           "881": 1262.8585636542177,
           "882": 240.1006412581597,
           "883": 251.44755383979395,
           "884": 1881.1709609495365,
           "885": 383.8355681792142,
           "886": 688.331605363445,
           "887": 1591.0529731580475,
           "888": 106.90583664107305,
           "889": 509.57547390353545,
           "89": 1979.4182437854618,
           "890": 243.4587422651114,
           "891": 1167.1455039828597,
           "892": 1476.1109233661684,
           "893": 1825.9433419150798,
           "894": 1484.4855806200355,
           "895": 1882.279064577733,
           "896": 427.2851115750072,
           "897": 451.58380058143456,
           "898": 1027.3712555139987,
           "899": 494.3368653478252,
           "9": 1511.0261465202716,
           "90": 1776.6694223646386,
           "900": 523.4671356001127,
           "901": 1810.654607492695,
           "902": 587.1383255770237,
           "903": 1936.6296363933034,
           "904": 510.6765679165301,
           "905": 590.6750229578863,
           "906": 843.5152711836135,
           "907": 778.9797221695153,
           "908": 990.2616050024877,
           "909": 713.5058495465425,
           "91": 825.9756007485695,
           "910": 1814.6778833130693,
           "911": 618.6987668892957,
           "912": 262.80273632731456,
           "913": 1794.0761366331244,
           "914": 148.87905043331776,
           "915": 1882.2564287687258,
           "916": 1047.1008734659902,
           "917": 230.30242385496942,
           "918": 99.14579402079245,
           "919": 328.9018809546113,
           "92": 1600.0447987839582,
           "920": 430.65497631233615,
           "921": 748.1894991675517,
           "922": 560.0767493192692,
           "923": 434.6258632663071,
           "924": 1488.149139691065,
           "925": 571.5727578009437,
           "926": 283.4606599596219,
           "927": 967.5211589559492,
           "928": 1779.974299259016,
           "929": 1585.4323449499416,
           "93": 1178.5155842026272,
           "930": 2297.0458070935874,
           "931": 2281.0452279435276,
           "932": 1355.7386189573995,
           "933": 329.6262998437161,
           "934": 720.596366164414,
           "935": 1492.568446516424,
           "936": 504.9725448879893,
           "937": 339.40195016995636,
           "938": 2285.1059404283715,
           "939": 519.7067566295673,
           "94": 228.43406532658088,
           "940": 938.7388941918318,
           "941": 1915.5762892064524,
           "942": 343.10931707755157,
           "943": 364.55107110375553,
           "944": 658.7469747388193,
           "945": 1453.8381181509328,
           "946": 1737.3619902250462,
           "947": 2164.9637094342575,
           "948": 1765.6990262005293,
           "949": 2239.757033349516,
           "95": 1825.9765808441236,
           "950": 226.23576546542665,
           "951": 801.28909413246,
           "952": 655.179537402131,
           "953": 129.76686074749023,
           "954": 917.1004437965388,
           "955": 2116.8089800371135,
           "956": 294.0773243956901,
           "957": 2288.7353818897086,
           "958": 938.618009497961,
           "959": 851.7371448319128,
           "96": 2314.8921228172017,
           "960": 511.66023064278863,
           "961": 946.5655743847508,
           "962": 1347.2960164017754,
           "963": 648.7832549195508,
           "964": 2139.184680086592,
           "965": 930.6186124658996,
           "966": 435.8341376750017,
           "967": 2100.1390640307036,
           "968": 281.0076895965102,
           "969": 2234.3121144127917,
           "97": 1741.4777447352187,
           "970": 1099.7681398008629,
           "971": 567.3248724217244,
           "972": 335.40225285238625,
           "973": 363.18930632595163,
           "974": 83.04214318837278,
           "975": 918.6696508604789,
           "976": 943.8293870828466,
           "977": 539.5898455663837,
           "978": 1767.937695426832,
           "979": 278.20698990373927,
           "98": 663.1026072536581,
           "980": 709.2781615189406,
           "981": 1201.091083319037,
           "982": 2143.500198618416,
           "983": 1908.1647287110582,
           "984": 679.3334313281525,
           "985": 947.3408523457036,
           "986": 2435.0213581696257,
           "987": 2692.9807804440406,
           "988": 993.5314917198594,
           "989": 2087.2436107755448,
           "99": 439.051662100292,
           "990": 1958.6913457656228,
           "991": 535.0023534123128,
           "992": 1799.0141345036534,
           "993": 1386.0950575292832,
           "994": 416.75507988556615,
           "995": 1982.8345046938232,
           "996": 2451.452101889512,
           "997": 1838.4375048330319,
           "998": 895.0054548074464,
           "999": 752.0342710231487,
           "bdata": "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",
           "dtype": "f8",
           "shape": "2415"
          },
          "bdata": "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",
          "dtype": "f8"
         },
         "xaxis": "x",
         "y": {
          "_inputArray": {
           "0": 1.1460815411171668,
           "1": 1.125931199706215,
           "10": 1.1216063423538032,
           "100": 1.1175387546554278,
           "1000": 1.1550629710346931,
           "1001": 1.1569928688948992,
           "1002": 1.169546104898833,
           "1003": 1.1941896120002038,
           "1004": 1.2396144425763846,
           "1005": 1.198051142766149,
           "1006": 1.1974847212815816,
           "1007": 1.179336310574782,
           "1008": 1.1186187940361538,
           "1009": 1.2051540119932433,
           "101": 1.0455543756810037,
           "1010": 1.4560108441997974,
           "1011": 1.3006012902886173,
           "1012": 1.2020831989376624,
           "1013": 1.2084313828490933,
           "1014": 1.19332143106057,
           "1015": 1.3455207560597753,
           "1016": 1.189510366546716,
           "1017": 1.1814121597371332,
           "1018": 1.311343442972595,
           "1019": 1.1459856978745158,
           "102": 1.070209203973929,
           "1020": 1.1050083832748492,
           "1021": 1.195918665706046,
           "1022": 1.3273710875179914,
           "1023": 1.1799222365419741,
           "1024": 1.2139052803000514,
           "1025": 1.1780997999657243,
           "1026": 1.1509886139427434,
           "1027": 1.1985576021513933,
           "1028": 1.1963730675297741,
           "1029": 1.1756993162541756,
           "103": 1.1549468148455435,
           "1030": 1.1643493384496997,
           "1031": 1.162867162682251,
           "1032": 1.2075266918855627,
           "1033": 1.2282231295228072,
           "1034": 1.273208247286719,
           "1035": 1.1905547479962848,
           "1036": 1.3984234896940173,
           "1037": 1.3176025289052282,
           "1038": 1.2185512606587319,
           "1039": 1.2357124124422532,
           "104": 1.205249634225632,
           "1040": 1.417984291936376,
           "1041": 1.2241790158705521,
           "1042": 1.2528050836309623,
           "1043": 1.2017402954950094,
           "1044": 1.3051528070061644,
           "1045": 1.322710477186237,
           "1046": 1.4562121866089976,
           "1047": 1.2268951423770094,
           "1048": 1.210376650508553,
           "1049": 1.1908860478295296,
           "105": 1.176716534108697,
           "1050": 1.5155492158976778,
           "1051": 1.339379777984799,
           "1052": 1.2213051406283266,
           "1053": 1.3657882785988011,
           "1054": 1.2187333041119501,
           "1055": 1.248367943813718,
           "1056": 1.2710059837915382,
           "1057": 1.2393947225664879,
           "1058": 1.237046429375454,
           "1059": 1.263707448041411,
           "106": 1.150313600029379,
           "1060": 1.1938715174404395,
           "1061": 1.2352545687243248,
           "1062": 1.1981582030406734,
           "1063": 1.2021010108252213,
           "1064": 1.3024739781655559,
           "1065": 1.2578941587060772,
           "1066": 1.3347881282167096,
           "1067": 1.3140841120694842,
           "1068": 1.3086497819257124,
           "1069": 1.2072966866629768,
           "107": 1.1936582550828572,
           "1070": 1.2934643992558186,
           "1071": 1.2015729212427595,
           "1072": 1.198078068269259,
           "1073": 1.2250948620698265,
           "1074": 1.2102098965039647,
           "1075": 1.3689645785798878,
           "1076": 1.2556671356111309,
           "1077": 1.208680320810667,
           "1078": 1.1963925307424386,
           "1079": 1.2378180946787583,
           "108": 1.2285545849332073,
           "1080": 1.3253359004415073,
           "1081": 1.2577397689581828,
           "1082": 1.2421878793332417,
           "1083": 1.3647564238762255,
           "1084": 1.236855525404152,
           "1085": 1.2022534911589553,
           "1086": 1.5281296087670144,
           "1087": 1.5575447714653425,
           "1088": 1.4533301751920737,
           "1089": 1.1351371319505388,
           "109": 1.1581246353271066,
           "1090": 1.1232179639312396,
           "1091": 1.288239540026233,
           "1092": 1.1073249496062023,
           "1093": 1.1419993654972418,
           "1094": 1.294546196611539,
           "1095": 1.259019734272204,
           "1096": 1.3517430217989872,
           "1097": 1.2539452370188067,
           "1098": 1.0815120720285867,
           "1099": 1.1244114713901752,
           "11": 1.1388856495588575,
           "110": 1.0888219543486728,
           "1100": 1.1503089406265916,
           "1101": 1.3519837442823734,
           "1102": 1.5513246257339153,
           "1103": 1.4038279403662035,
           "1104": 1.6114105124695188,
           "1105": 1.3497687452824088,
           "1106": 1.1702426924894598,
           "1107": 1.0891478911661183,
           "1108": 1.206910477863189,
           "1109": 1.160260723962388,
           "111": 1.276513152092385,
           "1110": 1.1169727285272044,
           "1111": 1.2428451824324416,
           "1112": 1.1350852066662451,
           "1113": 1.3581803555232888,
           "1114": 1.3149352654898578,
           "1115": 1.268764491669477,
           "1116": 1.231869712372687,
           "1117": 1.3711191649670518,
           "1118": 1.9505113243104972,
           "1119": 1.308781397887631,
           "112": 1.1404553404404654,
           "1120": 1.2694824580047985,
           "1121": 1.1983936323808648,
           "1122": 1.0942833219255108,
           "1123": 1.2425360301688906,
           "1124": 1.0830708631025139,
           "1125": 1.403666495270752,
           "1126": 1.3829557688776952,
           "1127": 1.0777376780046055,
           "1128": 1.0994607596133996,
           "1129": 1.104776073357456,
           "113": 1.1817484300841476,
           "1130": 1.1602555871970306,
           "1131": 1.3510568812197719,
           "1132": 1.1090560783568866,
           "1133": 1.121842597993712,
           "1134": 1.6074987679022037,
           "1135": 1.1381459239823846,
           "1136": 1.2245996704855342,
           "1137": 1.8652749612388722,
           "1138": 1.344080008787554,
           "1139": 1.28570976068878,
           "114": 1.1728658090611268,
           "1140": 1.1276213770752002,
           "1141": 1.144655480812517,
           "1142": 1.4513755260909822,
           "1143": 1.171091969637454,
           "1144": 1.2221362275904495,
           "1145": 1.1502094876288276,
           "1146": 1.169095257651538,
           "1147": 1.1754412385546096,
           "1148": 1.289276488840536,
           "1149": 1.1351326401614492,
           "115": 1.244384315418394,
           "1150": 1.3236007867485649,
           "1151": 1.1462312626901376,
           "1152": 1.174871391490498,
           "1153": 1.214104443265517,
           "1154": 1.2054290297693089,
           "1155": 1.1786787105327405,
           "1156": 1.1571551197703747,
           "1157": 1.1527075414757577,
           "1158": 1.1414632171855206,
           "1159": 1.1818076798619943,
           "116": 1.1403038607488472,
           "1160": 1.1892325309406273,
           "1161": 1.1710089302739604,
           "1162": 1.3638794009396136,
           "1163": 1.184361565163455,
           "1164": 1.2439806899797907,
           "1165": 1.175798310132194,
           "1166": 1.1442124614103757,
           "1167": 1.127406489231492,
           "1168": 1.1345578691683686,
           "1169": 1.1254301269089688,
           "117": 1.112397496523997,
           "1170": 1.1699120652898563,
           "1171": 1.167740197713641,
           "1172": 1.3664588550330268,
           "1173": 1.1707558194346472,
           "1174": 1.3314460096477896,
           "1175": 1.1972562070978465,
           "1176": 1.2463886372146624,
           "1177": 1.1899696026383393,
           "1178": 1.2820546145609082,
           "1179": 1.5448382888193561,
           "118": 1.251239183362148,
           "1180": 1.179952251279831,
           "1181": 1.147805707867359,
           "1182": 1.1977750062485863,
           "1183": 1.7414396563388885,
           "1184": 1.207365237562896,
           "1185": 1.3205200013737175,
           "1186": 1.2668189006976196,
           "1187": 1.208665634463216,
           "1188": 1.1717233112065426,
           "1189": 1.185738095913676,
           "119": 1.1556128960617837,
           "1190": 1.1678581356778108,
           "1191": 1.3317948158032102,
           "1192": 1.174198243060121,
           "1193": 1.22838993340919,
           "1194": 1.1631080611530185,
           "1195": 1.1281218809630875,
           "1196": 1.1552694038574598,
           "1197": 1.1760867698367534,
           "1198": 1.1261299795942135,
           "1199": 1.265271820815113,
           "12": 1.1513517627064094,
           "120": 1.0894176022258126,
           "1200": 1.1328673256379878,
           "1201": 1.1994559798881315,
           "1202": 1.2133157051718657,
           "1203": 1.1862981591282078,
           "1204": 1.1574338478826542,
           "1205": 1.1434005267339133,
           "1206": 1.1415732418050435,
           "1207": 1.1917827972380293,
           "1208": 1.1780256985905093,
           "1209": 1.129212343246623,
           "121": 1.149181066245424,
           "1210": 1.1628422349903695,
           "1211": 1.23849530237254,
           "1212": 1.1609857857792678,
           "1213": 1.250249745167525,
           "1214": 1.1319941981730175,
           "1215": 1.1653536992344564,
           "1216": 1.1463159018266502,
           "1217": 1.1304212173772448,
           "1218": 1.1255212660617055,
           "1219": 1.168110984807583,
           "122": 1.0643516706660403,
           "1220": 1.1445825672582721,
           "1221": 1.1750763867988685,
           "1222": 1.1624463096918447,
           "1223": 1.2124910143090026,
           "1224": 1.1716895678552224,
           "1225": 1.2242664958697784,
           "1226": 1.1427100471717546,
           "1227": 1.175352758710351,
           "1228": 1.240976909745521,
           "1229": 1.1521733177812021,
           "123": 1.1539045217772195,
           "1230": 1.162669308154876,
           "1231": 1.1320478561737362,
           "1232": 1.1549142031855426,
           "1233": 1.1875994734437556,
           "1234": 1.2126736146530175,
           "1235": 1.2210561428779905,
           "1236": 1.1647450426658361,
           "1237": 1.1524277033014592,
           "1238": 1.163538576187877,
           "1239": 1.244037206262495,
           "124": 1.157860625328267,
           "1240": 1.1220899704958824,
           "1241": 1.380972915968833,
           "1242": 1.1271052759846485,
           "1243": 1.4014007717895354,
           "1244": 1.6837323646740017,
           "1245": 1.1775503942686028,
           "1246": 1.1492310338147045,
           "1247": 1.3013316490625673,
           "1248": 1.166077375917118,
           "1249": 1.2058914146327162,
           "125": 1.1560440955291607,
           "1250": 1.2399888729471633,
           "1251": 1.301251052444221,
           "1252": 1.229848459349999,
           "1253": 1.10729177965305,
           "1254": 1.3760623783451456,
           "1255": 1.1841391011121432,
           "1256": 1.137999314523512,
           "1257": 1.4346068470392968,
           "1258": 1.1722625347629183,
           "1259": 1.1490250215099733,
           "126": 1.1460720077026563,
           "1260": 1.193702785101969,
           "1261": 1.375772484673048,
           "1262": 1.3309021107630592,
           "1263": 1.1880977585975043,
           "1264": 1.1350517683920993,
           "1265": 1.2876236024397347,
           "1266": 1.120344367602249,
           "1267": 1.2014407286409199,
           "1268": 1.4576732032019362,
           "1269": 1.198194688972429,
           "127": 1.1495477042608602,
           "1270": 1.1629200375357165,
           "1271": 1.1528529977532567,
           "1272": 1.2154257363580159,
           "1273": 1.1516193350725523,
           "1274": 1.2494552998302177,
           "1275": 1.180601150406411,
           "1276": 1.1753924256353796,
           "1277": 1.1366755968982385,
           "1278": 1.1397879323629627,
           "1279": 1.4574466534914754,
           "128": 1.1758865928659892,
           "1280": 1.1916756362629959,
           "1281": 1.2735345400278304,
           "1282": 1.1501235441116975,
           "1283": 1.3543585023928708,
           "1284": 1.5205470056831711,
           "1285": 1.4405880296959939,
           "1286": 1.7449744004342262,
           "1287": 1.144789318148544,
           "1288": 1.2249292463571106,
           "1289": 1.1918033234876946,
           "129": 1.1959529755139804,
           "1290": 1.1606652230774237,
           "1291": 1.1559640736599357,
           "1292": 1.1554277459386697,
           "1293": 1.4142173265233748,
           "1294": 1.4980132196391032,
           "1295": 1.1751837968088963,
           "1296": 1.2563400963794529,
           "1297": 1.2306045934748395,
           "1298": 1.2411668012840587,
           "1299": 1.154566582862972,
           "13": 1.12305226850532,
           "130": 1.1657805975195334,
           "1300": 1.2218735077404776,
           "1301": 1.2370783264382335,
           "1302": 1.2058209342266222,
           "1303": 1.4136077649806376,
           "1304": 1.106890025193466,
           "1305": 1.1657516343902001,
           "1306": 1.448265387567865,
           "1307": 1.1600107039847376,
           "1308": 1.2838323840348864,
           "1309": 1.17047634210506,
           "131": 1.0645911551534162,
           "1310": 1.1951678479144576,
           "1311": 1.2009146944479376,
           "1312": 1.1179067345683624,
           "1313": 1.1438939589247215,
           "1314": 1.1725171280645346,
           "1315": 1.2169314474718185,
           "1316": 1.8911218789981514,
           "1317": 1.1652447096982945,
           "1318": 1.134311911731802,
           "1319": 1.1741147380628068,
           "132": 1.1605764476769036,
           "1320": 1.2550157169658833,
           "1321": 1.2210650494518078,
           "1322": 1.126216865229871,
           "1323": 1.4346036484594111,
           "1324": 1.3799585872333917,
           "1325": 1.2096470503038474,
           "1326": 1.1139399153909386,
           "1327": 1.6922698618050702,
           "1328": 1.242626482145411,
           "1329": 1.4532856752840349,
           "133": 1.2294645912880486,
           "1330": 1.3193974399360566,
           "1331": 1.2104070945447662,
           "1332": 1.1469738746043352,
           "1333": 1.167148757123796,
           "1334": 1.2273438972004016,
           "1335": 1.0900854365885453,
           "1336": 1.1343288664839946,
           "1337": 1.2187947454939343,
           "1338": 1.1326264368781362,
           "1339": 1.1765311187912069,
           "134": 1.275547125938671,
           "1340": 1.1305735298865254,
           "1341": 1.1011783184475339,
           "1342": 1.1589317369352137,
           "1343": 1.179381558589674,
           "1344": 1.1954794948409675,
           "1345": 1.2170722349452094,
           "1346": 1.1734543063384824,
           "1347": 1.1838308748045543,
           "1348": 1.1236457519789964,
           "1349": 1.2033541901896647,
           "135": 1.3406532941749272,
           "1350": 1.2299301619097538,
           "1351": 1.1424283412843308,
           "1352": 1.2022305081828089,
           "1353": 1.1897710758908326,
           "1354": 1.2338005368692972,
           "1355": 1.2051379137329443,
           "1356": 1.143626121526082,
           "1357": 1.0876476730167788,
           "1358": 1.1413753419167119,
           "1359": 1.1420364677573038,
           "136": 1.2440779626064484,
           "1360": 1.1317361283798644,
           "1361": 1.2860010216259106,
           "1362": 1.144977095001547,
           "1363": 1.141866064936057,
           "1364": 1.202121538472593,
           "1365": 1.1975507135437244,
           "1366": 1.281851098158625,
           "1367": 1.2238211946414714,
           "1368": 1.1513516100389363,
           "1369": 1.202854707707706,
           "137": 1.261813637373487,
           "1370": 1.2054710887298876,
           "1371": 1.1247138523403415,
           "1372": 1.2805918964184733,
           "1373": 1.1403365465747428,
           "1374": 1.1988191040328728,
           "1375": 1.2137513052453892,
           "1376": 1.1965624085952573,
           "1377": 1.2205263015542842,
           "1378": 1.218293572550457,
           "1379": 1.2337942653107283,
           "138": 1.2459212935991986,
           "1380": 1.2805270934707358,
           "1381": 1.3070768626672318,
           "1382": 1.5264803116043753,
           "1383": 1.2165057359750793,
           "1384": 1.2127466102715452,
           "1385": 1.2683702685639981,
           "1386": 1.5143194181921786,
           "1387": 1.3120069861641472,
           "1388": 1.2103626705516504,
           "1389": 1.3391318494441247,
           "139": 1.1566973613832052,
           "1390": 1.2158678672513372,
           "1391": 1.2277411932691646,
           "1392": 1.240665805449807,
           "1393": 1.2305217623441935,
           "1394": 1.2373990791437794,
           "1395": 1.2219609397436744,
           "1396": 1.1772055987251453,
           "1397": 1.2311031254204812,
           "1398": 1.1945625158875797,
           "1399": 1.2915350849840117,
           "14": 1.1524116772364257,
           "140": 1.168130994821322,
           "1400": 1.2795342105171006,
           "1401": 1.247972716015478,
           "1402": 1.3302837697199248,
           "1403": 1.2899234651536322,
           "1404": 1.297567574524189,
           "1405": 1.1926432128511073,
           "1406": 1.2643422094002446,
           "1407": 1.2035742918139658,
           "1408": 1.1805907782390561,
           "1409": 1.2141028138597192,
           "141": 1.2093847496775576,
           "1410": 1.2044055548061243,
           "1411": 1.3421627374570058,
           "1412": 1.2233744657178112,
           "1413": 1.2076137872800672,
           "1414": 1.199518486916117,
           "1415": 1.238779165567987,
           "1416": 1.3184233704237724,
           "1417": 1.2060569890599917,
           "1418": 1.2376071001821878,
           "1419": 1.3386551806673084,
           "142": 1.181596995397596,
           "1420": 1.2329464771229348,
           "1421": 1.2845148708745562,
           "1422": 1.5131674054174915,
           "1423": 1.6339264314467377,
           "1424": 1.5212300296322263,
           "1425": 1.1224049331952912,
           "1426": 1.1205094635201671,
           "1427": 1.1848959813916138,
           "1428": 1.1555026080115138,
           "1429": 1.1296512145945725,
           "143": 1.1865968508384988,
           "1430": 1.0867007836433387,
           "1431": 1.1643794790514415,
           "1432": 1.1696623788575702,
           "1433": 1.2019302089601223,
           "1434": 1.205213835174274,
           "1435": 1.381449575733582,
           "1436": 1.4133470497483573,
           "1437": 1.294612223481204,
           "1438": 1.1854668752520845,
           "1439": 1.3389372725244755,
           "144": 1.1737299751815078,
           "1440": 1.1374132840001885,
           "1441": 1.179349433990441,
           "1442": 1.1779985069679881,
           "1443": 1.3015683534524347,
           "1444": 1.1974317941942827,
           "1445": 1.3816545703970597,
           "1446": 1.0934222425846958,
           "1447": 1.2591866918451575,
           "1448": 1.104175906289333,
           "1449": 1.1211744111155286,
           "145": 1.2136599198554294,
           "1450": 1.323979793553096,
           "1451": 1.157712734825938,
           "1452": 1.1367007347737694,
           "1453": 1.1472371754102428,
           "1454": 1.1858853425002673,
           "1455": 1.313648051398178,
           "1456": 1.2009678523203668,
           "1457": 1.1672814469592305,
           "1458": 1.1703490662810643,
           "1459": 1.1806301692569303,
           "146": 1.1896996640471549,
           "1460": 1.1484905264926422,
           "1461": 1.432702382393206,
           "1462": 1.1446587162050998,
           "1463": 1.206118198440883,
           "1464": 1.1874510541458976,
           "1465": 1.17749757805321,
           "1466": 1.2518705642858128,
           "1467": 1.3009713102448415,
           "1468": 1.1179470112133374,
           "1469": 1.1205293758925805,
           "147": 1.2800368895710565,
           "1470": 1.1300361889693236,
           "1471": 1.1469231867450236,
           "1472": 1.1950847476946849,
           "1473": 1.0640535334157772,
           "1474": 1.3127249022812142,
           "1475": 1.184072851527764,
           "1476": 1.2439002035657936,
           "1477": 1.2231248504970476,
           "1478": 1.2380225036217722,
           "1479": 1.1786399096192344,
           "148": 1.119740814478253,
           "1480": 1.2662262961323738,
           "1481": 1.1641103856551502,
           "1482": 1.2791784809410864,
           "1483": 1.1456622739839455,
           "1484": 1.1698893507888404,
           "1485": 1.1900385514661134,
           "1486": 1.1368009863665673,
           "1487": 1.0885675027858817,
           "1488": 1.3125271004141763,
           "1489": 1.143796090755554,
           "149": 1.3210403839565972,
           "1490": 1.3511651081543004,
           "1491": 1.277540079130901,
           "1492": 1.1223898215504664,
           "1493": 1.0450194982842158,
           "1494": 1.1188683811911926,
           "1495": 1.1448126435891637,
           "1496": 1.1366163487356347,
           "1497": 1.2004214139809886,
           "1498": 1.1540555835775388,
           "1499": 1.0945404286103555,
           "15": 1.1422109884512477,
           "150": 1.1573609223705965,
           "1500": 1.127670215382999,
           "1501": 1.095605550953973,
           "1502": 1.1620864957716128,
           "1503": 1.1718973219622637,
           "1504": 1.5552436036902684,
           "1505": 1.1186920233930222,
           "1506": 1.2496591416731866,
           "1507": 1.1750929641883474,
           "1508": 1.2617524557918083,
           "1509": 1.3733587042489066,
           "151": 1.201366340446736,
           "1510": 1.3832610564419503,
           "1511": 1.1172700244202196,
           "1512": 1.1605782441920915,
           "1513": 1.166247778996226,
           "1514": 1.1885122119747729,
           "1515": 1.730293093560485,
           "1516": 1.8252314911203873,
           "1517": 1.5541827859084687,
           "1518": 2.1018656673561185,
           "1519": 1.4689066331667755,
           "152": 1.0982454446965115,
           "1520": 1.2466013122693798,
           "1521": 1.194619756145876,
           "1522": 1.3006595828097394,
           "1523": 1.2071710410313974,
           "1524": 1.1898608064525562,
           "1525": 1.1884875338027605,
           "1526": 1.1796109232602106,
           "1527": 1.400422796112477,
           "1528": 1.2928849915367921,
           "1529": 1.361755267447454,
           "153": 1.2616440226026577,
           "1530": 1.3218971902434091,
           "1531": 1.4029343883438932,
           "1532": 1.260403911786586,
           "1533": 1.3362951042771576,
           "1534": 1.2916653850426787,
           "1535": 1.294598535505745,
           "1536": 1.1467542482046653,
           "1537": 1.1760338012771545,
           "1538": 1.1587460791187865,
           "1539": 1.4502352140605979,
           "154": 1.168110140824804,
           "1540": 1.4160944305149634,
           "1541": 1.1725129789178743,
           "1542": 1.1641413623560808,
           "1543": 1.1545651626901743,
           "1544": 1.208551877605901,
           "1545": 1.4023222540676885,
           "1546": 1.1913996145621573,
           "1547": 1.160344039005671,
           "1548": 2.0908351197501394,
           "1549": 1.1823965760726618,
           "155": 1.2682124521679818,
           "1550": 1.2335967641230317,
           "1551": 1.6039483316268837,
           "1552": 2.0244292966684627,
           "1553": 1.2611856911306376,
           "1554": 1.2328891214177369,
           "1555": 1.1138829830248784,
           "1556": 1.11470128142685,
           "1557": 1.2141560940923293,
           "1558": 1.2026063135002674,
           "1559": 1.1994873226090281,
           "156": 1.2082498001380066,
           "1560": 1.193273172007144,
           "1561": 1.3302722977060217,
           "1562": 1.0726907283943699,
           "1563": 1.1847583508450898,
           "1564": 1.3452603496855484,
           "1565": 1.2095074036558708,
           "1566": 1.154971095011062,
           "1567": 1.2396277664679998,
           "1568": 1.2016399211350137,
           "1569": 1.1712005187494128,
           "157": 1.134123446009085,
           "1570": 1.1368594517242552,
           "1571": 1.2003570173410594,
           "1572": 1.1504808892877292,
           "1573": 1.0803857319464987,
           "1574": 1.1408540673909118,
           "1575": 1.1507005102023542,
           "1576": 1.1344708792925449,
           "1577": 1.131624388781672,
           "1578": 1.1545293307950903,
           "1579": 1.1442323158352878,
           "158": 1.2176442872311408,
           "1580": 1.218173497219205,
           "1581": 1.2695697013524032,
           "1582": 1.0963043363435894,
           "1583": 1.1245651336565168,
           "1584": 1.148001358765308,
           "1585": 1.3770966742106678,
           "1586": 1.1860514059023362,
           "1587": 1.23998690430227,
           "1588": 1.1211241194065567,
           "1589": 1.2021225349225604,
           "159": 1.1157064559448637,
           "1590": 1.2524482799586825,
           "1591": 1.1546114005191945,
           "1592": 1.1989930992954245,
           "1593": 1.1831235047384128,
           "1594": 1.1741913018816923,
           "1595": 1.2916742177797373,
           "1596": 1.132725387053978,
           "1597": 1.1796356030517041,
           "1598": 1.206345663310589,
           "1599": 1.1933365922255859,
           "16": 1.1993470074632675,
           "160": 1.152989718731277,
           "1600": 1.166241876147439,
           "1601": 1.153980180478153,
           "1602": 1.1324391354953949,
           "1603": 1.144593918151968,
           "1604": 1.1771457539576156,
           "1605": 1.1606763587835554,
           "1606": 1.1620369736427338,
           "1607": 1.4383747139508196,
           "1608": 1.171904642889663,
           "1609": 1.2245305378203366,
           "161": 1.1584830722251502,
           "1610": 1.1519577286261329,
           "1611": 1.144116083848571,
           "1612": 1.1318198658920848,
           "1613": 1.1237524604999674,
           "1614": 1.1251060269925606,
           "1615": 1.1617599793364257,
           "1616": 1.1480286439139173,
           "1617": 1.313944431188093,
           "1618": 1.1617113326800388,
           "1619": 1.259971995973022,
           "162": 1.1085397853072472,
           "1620": 1.1843945558796996,
           "1621": 1.2446948139005356,
           "1622": 1.1591363423219354,
           "1623": 1.2252451080962545,
           "1624": 1.4249118538823617,
           "1625": 1.1684253646285834,
           "1626": 1.1519493367853764,
           "1627": 1.169098079888668,
           "1628": 1.7700957589115172,
           "1629": 1.1952138617621504,
           "163": 1.2203295859634522,
           "1630": 1.37789550628684,
           "1631": 1.2365682942432752,
           "1632": 1.1894943513005047,
           "1633": 1.1590704294763539,
           "1634": 1.176331585601681,
           "1635": 1.2437852710951418,
           "1636": 1.3199850805742224,
           "1637": 1.2732986047394113,
           "1638": 1.30938632000296,
           "1639": 1.1882307777321945,
           "164": 1.1327047113643534,
           "1640": 1.1836266310278087,
           "1641": 1.2887846067958324,
           "1642": 1.1477270011240805,
           "1643": 1.3243618687441545,
           "1644": 1.1894407543963663,
           "1645": 1.1931957078804012,
           "1646": 1.352818495007562,
           "1647": 1.192906074131886,
           "1648": 1.1375851217700843,
           "1649": 1.2028969533533036,
           "165": 1.191549313808753,
           "1650": 1.1514727147182204,
           "1651": 1.204093519107559,
           "1652": 1.1638007446402432,
           "1653": 1.120112953831503,
           "1654": 1.2045314379355894,
           "1655": 1.2498179849653073,
           "1656": 1.3091956587134295,
           "1657": 1.192755262572192,
           "1658": 1.1997890350806335,
           "1659": 1.2098407333444305,
           "166": 1.2813667082221276,
           "1660": 1.2264293725187911,
           "1661": 1.1455770361317223,
           "1662": 1.1956972755621886,
           "1663": 1.2619975440416047,
           "1664": 1.3204987868471065,
           "1665": 1.2013190744457019,
           "1666": 1.1852034361411394,
           "1667": 1.3853737334276344,
           "1668": 1.3104633181489365,
           "1669": 1.3585221696882492,
           "167": 1.2416706004299816,
           "1670": 1.0344667284738607,
           "1671": 1.2591815180504642,
           "1672": 1.1820490149115195,
           "1673": 1.20111627495124,
           "1674": 1.5978325050710611,
           "1675": 1.248752773799696,
           "1676": 1.5264814227260508,
           "1677": 1.2755485500671573,
           "1678": 1.1410214253475566,
           "1679": 1.2454462812638076,
           "168": 1.2656331911673837,
           "1680": 1.18054906003031,
           "1681": 1.130734679988018,
           "1682": 1.3787020949672433,
           "1683": 1.2158466558066416,
           "1684": 1.1402960963999031,
           "1685": 1.2348507771947168,
           "1686": 1.3588860848404964,
           "1687": 1.0806466949960858,
           "1688": 1.1937941896042925,
           "1689": 1.1334635529151165,
           "169": 1.1531292981268937,
           "1690": 1.3464246712578691,
           "1691": 1.154565672595744,
           "1692": 1.1635078731463504,
           "1693": 1.286895353166479,
           "1694": 1.1337669228421323,
           "1695": 1.2161021886607006,
           "1696": 1.1165322570727192,
           "1697": 1.250959205319781,
           "1698": 1.3075382880800224,
           "1699": 1.1134261083238115,
           "17": 1.1013717743092648,
           "170": 1.1916154173445621,
           "1700": 1.1208006649557785,
           "1701": 1.1058431511640467,
           "1702": 1.1283980568524126,
           "1703": 1.1404923359162207,
           "1704": 1.4034629144893382,
           "1705": 1.139135419228118,
           "1706": 1.533949305848945,
           "1707": 1.1435935794863585,
           "1708": 1.3072576690202393,
           "1709": 1.4013055511248913,
           "171": 1.2785211364166496,
           "1710": 1.554552512030786,
           "1711": 1.1621081235612232,
           "1712": 1.2090130604510905,
           "1713": 1.169972918048052,
           "1714": 1.1833515355174107,
           "1715": 1.1337913530968176,
           "1716": 1.357126425730628,
           "1717": 1.1869678860828008,
           "1718": 1.161339854192151,
           "1719": 1.4443843222568307,
           "172": 1.1480560771680424,
           "1720": 1.1458742261435704,
           "1721": 1.1720397040573063,
           "1722": 1.1517663719482574,
           "1723": 1.420794539393114,
           "1724": 1.289991909226852,
           "1725": 1.1909795425286298,
           "1726": 1.169640401672413,
           "1727": 1.5416315525065039,
           "1728": 1.138986978221971,
           "1729": 1.1712071780516207,
           "173": 1.3122339637477933,
           "1730": 1.410920102633196,
           "1731": 1.221514891464698,
           "1732": 1.1281635689586995,
           "1733": 1.1894626526404044,
           "1734": 1.1706526547610645,
           "1735": 1.1776676075282564,
           "1736": 1.2452458957173826,
           "1737": 1.2184195989227553,
           "1738": 1.19707949536709,
           "1739": 1.161914885697158,
           "174": 1.0873932156087698,
           "1740": 1.1745748590893572,
           "1741": 1.4644571457395514,
           "1742": 1.2172419363326166,
           "1743": 1.1209538254879126,
           "1744": 1.1732056932262565,
           "1745": 1.3724478874199268,
           "1746": 1.4352504723040636,
           "1747": 1.4238472812523801,
           "1748": 1.9326958439739588,
           "1749": 1.2187846844937242,
           "175": 1.1694800993041996,
           "1750": 1.07930772552669,
           "1751": 1.1880730660413483,
           "1752": 1.2809119553463388,
           "1753": 1.1996908197897713,
           "1754": 1.1871869268146855,
           "1755": 1.2954195524365049,
           "1756": 1.124726653689456,
           "1757": 1.19740168953656,
           "1758": 1.1337128544446438,
           "1759": 1.3938048495148654,
           "176": 1.3201260785898516,
           "1760": 1.193571889803214,
           "1761": 1.2099571873690806,
           "1762": 1.1952923982689185,
           "1763": 1.4062756837198138,
           "1764": 1.191910906886745,
           "1765": 1.1479999594637005,
           "1766": 1.3199487558260106,
           "1767": 1.2174261312129597,
           "1768": 1.123241069564734,
           "1769": 1.1992376342334317,
           "177": 1.1599019072330878,
           "1770": 1.0676599300978042,
           "1771": 1.2029885049960785,
           "1772": 1.2194206024002352,
           "1773": 1.211116322362749,
           "1774": 1.201354671093962,
           "1775": 1.18793838865114,
           "1776": 1.197658295773989,
           "1777": 1.2976484025559953,
           "1778": 1.2288561462211596,
           "1779": 1.226266098336084,
           "178": 1.1599988763734173,
           "1780": 1.1999447401719874,
           "1781": 1.3171639680173004,
           "1782": 1.2893112368605635,
           "1783": 1.5582988441377537,
           "1784": 1.5483977344706503,
           "1785": 1.19511472768964,
           "1786": 1.179618745118159,
           "1787": 1.328825334640252,
           "1788": 1.2084767104069156,
           "1789": 1.197332060336005,
           "179": 1.16054637894437,
           "1790": 1.4374617926283255,
           "1791": 1.0788922577005238,
           "1792": 1.1995619043556733,
           "1793": 1.1524090725118394,
           "1794": 1.4285050887221675,
           "1795": 1.2335233980632918,
           "1796": 1.2173515672557882,
           "1797": 1.2395746874293327,
           "1798": 1.597815641176781,
           "1799": 1.1774372909698332,
           "18": 1.1238565614215732,
           "180": 1.153527621388264,
           "1800": 1.1566523572635365,
           "1801": 1.3696965680494604,
           "1802": 1.2039377198649734,
           "1803": 1.0588141108230724,
           "1804": 1.1974817605708956,
           "1805": 1.1779023381479623,
           "1806": 1.2042534461259555,
           "1807": 1.2140763249429114,
           "1808": 1.200187752426995,
           "1809": 1.177143853440246,
           "181": 1.186299472460117,
           "1810": 1.1975427064630975,
           "1811": 1.2454610720294599,
           "1812": 1.4564562238711352,
           "1813": 1.2035288439193226,
           "1814": 0.9999382460151378,
           "1815": 1.2028582356294018,
           "1816": 1.363719696245275,
           "1817": 1.5358178091119097,
           "1818": 1.4816458413250257,
           "1819": 2.2630041434959485,
           "182": 1.1115647761382927,
           "1820": 1.2170742413481537,
           "1821": 1.233253994002728,
           "1822": 1.211994066737152,
           "1823": 1.2201882491138187,
           "1824": 1.1736909198375263,
           "1825": 1.0781820552432315,
           "1826": 1.201141277533735,
           "1827": 1.2131234409620564,
           "1828": 1.3055582800010495,
           "1829": 1.2355790185912054,
           "183": 1.114735054055768,
           "1830": 1.2246077964660302,
           "1831": 1.2176608743177417,
           "1832": 1.3434349292118823,
           "1833": 1.2083608839683593,
           "1834": 1.0781855281940391,
           "1835": 1.303592141265852,
           "1836": 1.142048203287765,
           "1837": 1.0744891120783429,
           "1838": 1.1902260178012098,
           "1839": 1.1028930479647692,
           "184": 1.1767298128591832,
           "1840": 1.2028761173089826,
           "1841": 1.2075053571379557,
           "1842": 1.172783352160475,
           "1843": 1.1468225815486766,
           "1844": 1.2219700932342952,
           "1845": 1.2215367757670974,
           "1846": 1.1689096429807666,
           "1847": 1.1621578681873501,
           "1848": 1.199620893537565,
           "1849": 1.2035008242724734,
           "185": 1.2384475091532339,
           "1850": 1.227674994003078,
           "1851": 1.3037319453245617,
           "1852": 1.2333586523901567,
           "1853": 1.4611233301931374,
           "1854": 1.1981940871123202,
           "1855": 1.0993201874630212,
           "1856": 1.166333630437155,
           "1857": 1.2185049697738577,
           "1858": 1.158885671429247,
           "1859": 1.1635579459101155,
           "186": 1.1313608621236537,
           "1860": 1.1938108312865858,
           "1861": 1.223422775860827,
           "1862": 1.2845074611550267,
           "1863": 1.1007393107195989,
           "1864": 1.0993067176844566,
           "1865": 1.1698311106733572,
           "1866": 1.1124570989887426,
           "1867": 1.1489492067582288,
           "1868": 1.3063279018685017,
           "1869": 1.2908714614943804,
           "187": 1.1689413001779063,
           "1870": 1.156325622759837,
           "1871": 1.3016028046856856,
           "1872": 1.2008347395806347,
           "1873": 1.291762666444625,
           "1874": 1.1998751412028414,
           "1875": 1.257715455943688,
           "1876": 1.4238063827349448,
           "1877": 1.1109741515406675,
           "1878": 1.1308297559910898,
           "1879": 1.261160822901003,
           "188": 1.202061207785054,
           "1880": 1.2974619389283208,
           "1881": 1.1710754774329724,
           "1882": 1.1650755319405022,
           "1883": 1.2105408667539133,
           "1884": 1.181044946216755,
           "1885": 1.2317010654364977,
           "1886": 1.2608980330765136,
           "1887": 1.187396939772921,
           "1888": 1.2045523489315824,
           "1889": 1.1268805673228535,
           "189": 1.1759709423336995,
           "1890": 1.210729372106918,
           "1891": 1.1591530415251146,
           "1892": 1.2432386281855683,
           "1893": 1.0622561885103086,
           "1894": 1.683737608646597,
           "1895": 1.2219489781926383,
           "1896": 1.2243641093835582,
           "1897": 1.0871919407550321,
           "1898": 1.3414917908813375,
           "1899": 1.209521067593764,
           "19": 1.160148757992111,
           "190": 1.2245817973061859,
           "1900": 1.1449359206338512,
           "1901": 1.1502563326538329,
           "1902": 1.2107497269458312,
           "1903": 1.0770228123128882,
           "1904": 1.266846092351642,
           "1905": 1.2032717384028118,
           "1906": 1.05325057585805,
           "1907": 1.1007466074759535,
           "1908": 1.0903685613767804,
           "1909": 1.2080987930331761,
           "191": 1.1358577669596581,
           "1910": 1.2684329623490043,
           "1911": 1.4794402502327426,
           "1912": 1.1559314145846626,
           "1913": 1.3312058693874944,
           "1914": 1.1644575636226617,
           "1915": 1.4189632817204185,
           "1916": 1.3159799053834613,
           "1917": 1.221605917193863,
           "1918": 1.2136160877607725,
           "1919": 1.1503749167913877,
           "192": 1.1779938174401792,
           "1920": 1.1883407249577296,
           "1921": 1.182204131486959,
           "1922": 1.2564078861573522,
           "1923": 1.1975686460292652,
           "1924": 1.1738639569473923,
           "1925": 1.3051526147078671,
           "1926": 1.369287741262242,
           "1927": 1.2122778959215126,
           "1928": 1.2064410347557988,
           "1929": 1.2998949781770714,
           "193": 1.1518502090593812,
           "1930": 1.1773464641592386,
           "1931": 1.293227825449757,
           "1932": 1.148483101464594,
           "1933": 1.1798170913818058,
           "1934": 1.1889768885830883,
           "1935": 1.2023681206697006,
           "1936": 1.426970585548285,
           "1937": 1.1546516750634501,
           "1938": 1.1845117836904453,
           "1939": 1.214061980920475,
           "194": 1.3127150205732423,
           "1940": 1.1621845642469695,
           "1941": 1.2225824218142092,
           "1942": 1.22120167139466,
           "1943": 1.2081778805271008,
           "1944": 1.202858983778984,
           "1945": 1.243057108318119,
           "1946": 1.1593436605695784,
           "1947": 1.2379461673319192,
           "1948": 1.2628405406384484,
           "1949": 1.1750895477650551,
           "195": 1.1836487365173585,
           "1950": 1.2600785080637895,
           "1951": 1.1550488600231974,
           "1952": 1.3968734514130974,
           "1953": 1.1972136772626043,
           "1954": 1.2563551597381708,
           "1955": 1.2042432114743566,
           "1956": 1.1654789547698254,
           "1957": 1.1408044241824618,
           "1958": 1.15994101179594,
           "1959": 1.142455427249655,
           "196": 1.1012597320050972,
           "1960": 1.1475270820121117,
           "1961": 1.237833210966218,
           "1962": 1.3550429148919285,
           "1963": 1.154699470870306,
           "1964": 1.4007137884114536,
           "1965": 1.2037421300609263,
           "1966": 1.2551676410815307,
           "1967": 1.259935252015027,
           "1968": 1.3732617463402434,
           "1969": 1.6915545554765843,
           "197": 1.1985424292868379,
           "1970": 1.2461533556722575,
           "1971": 1.1654124218392456,
           "1972": 1.2761616211628606,
           "1973": 1.5468162137517714,
           "1974": 1.1998893975565788,
           "1975": 1.4208545175278096,
           "1976": 1.2920091973057986,
           "1977": 1.206845139745383,
           "1978": 1.2123349886773223,
           "1979": 1.2185801114187318,
           "198": 1.2671621549701324,
           "1980": 1.1972599285092278,
           "1981": 1.2309059779047442,
           "1982": 1.18279187595352,
           "1983": 1.3062982481943188,
           "1984": 1.5263735216455456,
           "1985": 1.2176671591267791,
           "1986": 1.2444281556160934,
           "1987": 1.1425284442105583,
           "1988": 1.2991286647592908,
           "1989": 1.209336613012062,
           "199": 1.3272958812985458,
           "1990": 1.457537368944315,
           "1991": 1.084583562560949,
           "1992": 1.1967808681007286,
           "1993": 1.201122399977124,
           "1994": 1.2050083237636957,
           "1995": 1.2115938009972695,
           "1996": 1.232866467822981,
           "1997": 1.1667822119768527,
           "1998": 1.1078453857487387,
           "1999": 1.2659265423354613,
           "2": 1.1559006506101606,
           "20": 1.1576209908070658,
           "200": 1.1958881196689386,
           "2000": 1.270652234566387,
           "2001": 1.1870507412731541,
           "2002": 1.1288412897233775,
           "2003": 1.4380754444958916,
           "2004": 1.2360370334678759,
           "2005": 1.3648225910295257,
           "2006": 1.4527685225038522,
           "2007": 1.161199772098222,
           "2008": 1.2078552308920845,
           "2009": 1.1621652770736575,
           "201": 1.2225337897185742,
           "2010": 1.1009210765067177,
           "2011": 1.2770852436666165,
           "2012": 1.1492687392439123,
           "2013": 1.1872713225043825,
           "2014": 1.1814940115180872,
           "2015": 1.248078759456945,
           "2016": 1.147443071655247,
           "2017": 1.1267097493027796,
           "2018": 1.2585297446043464,
           "2019": 1.158706063301458,
           "202": 1.1436983838451518,
           "2020": 1.4880687496070968,
           "2021": 1.1539985114942894,
           "2022": 1.0745010228630496,
           "2023": 1.1665054155195058,
           "2024": 1.1632222073117522,
           "2025": 1.1603776400639185,
           "2026": 1.149447927907309,
           "2027": 1.1543744349552476,
           "2028": 1.187472739856306,
           "2029": 1.1999332699666203,
           "203": 1.1714870185471444,
           "2030": 1.168204341032718,
           "2031": 1.0992581089146758,
           "2032": 1.1646535249047194,
           "2033": 1.2317781898371716,
           "2034": 1.2919384999395949,
           "2035": 1.3320022472086022,
           "2036": 1.245683678573892,
           "2037": 1.2071941267622344,
           "2038": 1.273402452696629,
           "2039": 1.199924188021064,
           "204": 1.1648089357002245,
           "2040": 1.2348779776372667,
           "2041": 1.1488032262755246,
           "2042": 1.1346182260773139,
           "2043": 1.1444222882141626,
           "2044": 1.1575995298825972,
           "2045": 1.1832369034313748,
           "2046": 1.3897149806391373,
           "2047": 1.1618855243661548,
           "2048": 1.268769801149578,
           "2049": 1.2152451203194699,
           "205": 1.157914291132398,
           "2050": 1.2438190874995174,
           "2051": 1.1921760468805191,
           "2052": 1.30981384316617,
           "2053": 1.499828467078611,
           "2054": 1.2592680088918755,
           "2055": 1.168111227266445,
           "2056": 1.2413445398970269,
           "2057": 1.4924562051664747,
           "2058": 1.2017476292961369,
           "2059": 1.090245759583881,
           "206": 1.049112224694742,
           "2060": 1.3076494424683724,
           "2061": 1.2129355613180153,
           "2062": 1.1942194795469527,
           "2063": 1.1899381404718974,
           "2064": 1.3041836226995192,
           "2065": 1.20160264188865,
           "2066": 1.208009775944969,
           "2067": 1.1924823456205624,
           "2068": 1.352180968871301,
           "2069": 1.1888398446684587,
           "207": 1.1357775773074714,
           "2070": 1.1613468346003528,
           "2071": 1.3157229876343433,
           "2072": 1.1481202720362358,
           "2073": 1.0885778037045366,
           "2074": 1.1983921085727678,
           "2075": 1.336672822040458,
           "2076": 1.1785148356099686,
           "2077": 1.2169078108479954,
           "2078": 1.1805190676979547,
           "2079": 1.1530590242757077,
           "208": 1.0720531486443656,
           "2080": 1.198308546184183,
           "2081": 1.195601683096138,
           "2082": 1.1792429962342936,
           "2083": 1.16639894626677,
           "2084": 1.158362303301166,
           "2085": 1.2095879024425438,
           "2086": 1.231199717167145,
           "2087": 1.2725971601032993,
           "2088": 1.2121572901656539,
           "2089": 1.3977095957428924,
           "209": 1.180396170852774,
           "2090": 1.2839018747639301,
           "2091": 1.1904010068482087,
           "2092": 1.152013153616999,
           "2093": 1.332151389377627,
           "2094": 1.238012591299613,
           "2095": 1.303300315898453,
           "2096": 1.1745866100950744,
           "2097": 1.2033393251584277,
           "2098": 1.2769128558750253,
           "2099": 1.1917349360147567,
           "21": 1.297334547306877,
           "210": 1.7461546505339713,
           "2100": 1.3268427921289763,
           "2101": 1.155755585224743,
           "2102": 1.3376884662418882,
           "2103": 1.168522878418096,
           "2104": 1.1874858182205363,
           "2105": 1.2532166062219172,
           "2106": 1.1707868526383531,
           "2107": 1.2922639848330404,
           "2108": 1.3042715863257892,
           "2109": 1.4282107871827323,
           "211": 1.0673831235633164,
           "2110": 1.2765994061187733,
           "2111": 1.174975465406625,
           "2112": 1.2837597823810445,
           "2113": 1.3094423942132478,
           "2114": 1.3061992700549094,
           "2115": 1.365421995772859,
           "2116": 1.1411941181884615,
           "2117": 1.2684675265793355,
           "2118": 1.426203150191104,
           "2119": 1.1317631712484681,
           "212": 1.1430072146799435,
           "2120": 1.3593285274658133,
           "2121": 1.1242885311834254,
           "2122": 1.148561331869453,
           "2123": 1.142336352641422,
           "2124": 1.212226063236232,
           "2125": 1.162300781061493,
           "2126": 1.1007703073509258,
           "2127": 1.134875105380797,
           "2128": 1.0978177080588307,
           "2129": 1.2057290067044255,
           "213": 1.2457924204604147,
           "2130": 1.0966758966154115,
           "2131": 1.830453710066781,
           "2132": 1.1230223295701036,
           "2133": 1.2383346904260328,
           "2134": 1.2060039538136893,
           "2135": 1.2732757923378042,
           "2136": 1.290341839837368,
           "2137": 1.3253278678754319,
           "2138": 1.130204705118653,
           "2139": 1.240071238502757,
           "214": 1.293932850732202,
           "2140": 1.2315121301613825,
           "2141": 1.3768132921216063,
           "2142": 1.1841902097005659,
           "2143": 1.3457382641947095,
           "2144": 1.2076179123593247,
           "2145": 1.1848381658856726,
           "2146": 1.1939322260776304,
           "2147": 1.2136561548956575,
           "2148": 1.4456615571985951,
           "2149": 1.1823720966238334,
           "215": 1.128415097132714,
           "2150": 1.1847415710940883,
           "2151": 1.2700753358001615,
           "2152": 1.2145737351638264,
           "2153": 1.2554784316076233,
           "2154": 1.2567326105695913,
           "2155": 1.2474684800365567,
           "2156": 1.210893444258625,
           "2157": 1.2262937452682847,
           "2158": 1.1701297529964219,
           "2159": 1.2617700258656173,
           "216": 1.179896487328222,
           "2160": 1.28142711700081,
           "2161": 1.1840402144600932,
           "2162": 1.3687612965164255,
           "2163": 1.1992942684635268,
           "2164": 1.149644994445068,
           "2165": 1.093734334180362,
           "2166": 1.1578616675338393,
           "2167": 1.1773685472683408,
           "2168": 1.1227718180778654,
           "2169": 1.2008519136079698,
           "217": 1.3017692509951773,
           "2170": 1.2343872893510237,
           "2171": 1.1988389301924423,
           "2172": 1.1488237264673613,
           "2173": 1.1480217175407106,
           "2174": 1.1366891341804908,
           "2175": 1.2616888284473873,
           "2176": 1.4185412430580717,
           "2177": 1.1486124139213854,
           "2178": 1.2250911008403464,
           "2179": 1.1534968559315137,
           "218": 1.2828767470096727,
           "2180": 1.2451523194126923,
           "2181": 1.3692906539225373,
           "2182": 1.382845345330979,
           "2183": 1.1425804104040727,
           "2184": 1.308170056303472,
           "2185": 1.2737604366281932,
           "2186": 1.1975539144728018,
           "2187": 1.1042975368870234,
           "2188": 1.247910710977025,
           "2189": 1.0820281099848128,
           "219": 1.1583373860672967,
           "2190": 1.396877991419504,
           "2191": 1.3790143519247156,
           "2192": 1.0762458381698492,
           "2193": 1.0984628030008912,
           "2194": 1.1038333573807566,
           "2195": 1.1599204363352253,
           "2196": 1.3490396107976979,
           "2197": 1.1374255755765337,
           "2198": 1.130781778267334,
           "2199": 1.594214598594708,
           "22": 1.173498015477712,
           "220": 1.15575754172455,
           "2200": 1.13769280296505,
           "2201": 1.239885165782383,
           "2202": 1.8824025154061772,
           "2203": 1.336981995391077,
           "2204": 1.2919642355305865,
           "2205": 1.1601607341473388,
           "2206": 1.318983246542844,
           "2207": 1.148486438451311,
           "2208": 1.1438928062671367,
           "2209": 1.1716211356846655,
           "221": 1.1126203298617852,
           "2210": 1.1956484174205377,
           "2211": 1.45860542568626,
           "2212": 1.1359985573588458,
           "2213": 1.147121397868256,
           "2214": 1.1999756019555832,
           "2215": 1.111814908198005,
           "2216": 1.2206085437521559,
           "2217": 1.3799092583587775,
           "2218": 1.1510033499492325,
           "2219": 1.168631610711453,
           "222": 1.2600497631874927,
           "2220": 1.1442694550734087,
           "2221": 1.144174622966037,
           "2222": 1.2540058019244862,
           "2223": 1.3318348163004199,
           "2224": 1.1549124565056386,
           "2225": 1.2485883237087325,
           "2226": 1.1630867566769965,
           "2227": 1.120540777800203,
           "2228": 1.1494321155804723,
           "2229": 1.0813291212618859,
           "223": 1.2946513341404389,
           "2230": 1.1791964816325646,
           "2231": 1.1595049978652108,
           "2232": 1.1586866419454322,
           "2233": 1.1512671954985967,
           "2234": 1.1469111615624121,
           "2235": 1.1510452932084154,
           "2236": 1.2105931013092945,
           "2237": 1.1752283910064134,
           "2238": 1.1688072985993547,
           "2239": 1.1599659087636456,
           "224": 1.3013214722736637,
           "2240": 1.2447341866492954,
           "2241": 1.2371699963138003,
           "2242": 1.414502695353244,
           "2243": 1.316439972973767,
           "2244": 1.1529428526116008,
           "2245": 1.259314213862639,
           "2246": 1.1337784077476725,
           "2247": 1.3393377888160503,
           "2248": 1.1246979788759326,
           "2249": 1.1521574759266482,
           "225": 1.349997960262422,
           "2250": 1.1362440141376815,
           "2251": 1.1096278808727584,
           "2252": 1.242885149285523,
           "2253": 1.1173139264701701,
           "2254": 1.9706155752696186,
           "2255": 1.1544595642897177,
           "2256": 1.3729186256773886,
           "2257": 1.1885324652849671,
           "2258": 1.341946887293666,
           "2259": 1.4193050662038935,
           "226": 1.085843512960122,
           "2260": 1.2908126254817018,
           "2261": 1.318418522421138,
           "2262": 1.1582165631846337,
           "2263": 1.1866920679053607,
           "2264": 1.1615371226320435,
           "2265": 1.2355874813254266,
           "2266": 1.1445822540492125,
           "2267": 1.1303348823686372,
           "2268": 1.2006716362207568,
           "2269": 1.2907535440884101,
           "227": 1.1869803456221888,
           "2270": 1.1833533456363865,
           "2271": 1.0949379709995393,
           "2272": 1.130197901077675,
           "2273": 1.2056235378442373,
           "2274": 1.3935947918309304,
           "2275": 1.205093543912069,
           "2276": 1.1743129655995912,
           "2277": 1.1335854748332712,
           "2278": 1.1577608634616043,
           "2279": 1.1535681221043534,
           "228": 1.281905871320965,
           "2280": 1.0684704021815192,
           "2281": 1.1609638330938272,
           "2282": 1.1627849324752402,
           "2283": 1.1599758519783026,
           "2284": 1.1489590145210504,
           "2285": 1.154009735274593,
           "2286": 1.1835659071509703,
           "2287": 1.1995239207240758,
           "2288": 1.1677453073893618,
           "2289": 1.0797569588694462,
           "229": 1.158990503684784,
           "2290": 1.1643897593716024,
           "2291": 1.231659293841373,
           "2292": 1.29303156578708,
           "2293": 1.341118610024354,
           "2294": 1.2392816179425519,
           "2295": 1.2142576515100025,
           "2296": 1.2590269972245591,
           "2297": 1.0990441542280136,
           "2298": 1.2054245880381362,
           "2299": 1.3044164570083114,
           "23": 1.1972461898648943,
           "230": 1.260124269061836,
           "2300": 1.450504758461413,
           "2301": 1.1543375462178336,
           "2302": 1.22750935155759,
           "2303": 1.1843309228129428,
           "2304": 1.2000782827076217,
           "2305": 1.2847118657082441,
           "2306": 1.2036496518574455,
           "2307": 1.2007779677798236,
           "2308": 1.1803106580574936,
           "2309": 1.1718363021408058,
           "231": 1.1918886374314637,
           "2310": 1.1921134714807775,
           "2311": 1.2363171766835621,
           "2312": 1.1959620616385502,
           "2313": 1.166108453003339,
           "2314": 1.2050313115185398,
           "2315": 1.2042605909070763,
           "2316": 1.202106435689602,
           "2317": 1.1791980467973326,
           "2318": 1.1833731733298207,
           "2319": 1.2177474761752105,
           "232": 1.1385726231930593,
           "2320": 1.250077203701713,
           "2321": 1.2860003913323603,
           "2322": 1.3542284525531056,
           "2323": 1.4441559080879953,
           "2324": 1.253494969656566,
           "2325": 1.2558940804295735,
           "2326": 1.245801053855541,
           "2327": 1.2471015834672416,
           "2328": 1.2048438530297518,
           "2329": 1.318063588069322,
           "233": 1.1993249492600666,
           "2330": 1.219572717850717,
           "2331": 1.194696065438159,
           "2332": 1.2454496399862507,
           "2333": 1.2473018952357102,
           "2334": 1.6103608070429722,
           "2335": 1.3363047509642347,
           "2336": 1.4425973353465396,
           "2337": 1.1475926416233269,
           "2338": 1.09161278785654,
           "2339": 1.2710225808114297,
           "234": 1.1808041851483257,
           "2340": 1.196795116432074,
           "2341": 1.3038046652593227,
           "2342": 1.1366431683679588,
           "2343": 1.2168872939673439,
           "2344": 1.1999461729859555,
           "2345": 1.1569987353150544,
           "2346": 1.195882279672372,
           "2347": 1.1961746590819,
           "2348": 1.1884705631846284,
           "2349": 1.1405174452359546,
           "235": 1.2080715949024428,
           "2350": 1.3988215251048697,
           "2351": 1.1805699424820073,
           "2352": 1.189047635165591,
           "2353": 1.1196799954085226,
           "2354": 1.2027548119712423,
           "2355": 1.3254643983490841,
           "2356": 1.1814757365803585,
           "2357": 1.191193440703095,
           "2358": 1.1631984088167975,
           "2359": 1.177169287668784,
           "236": 1.1374613127318867,
           "2360": 1.5906048103387929,
           "2361": 1.1719716337929813,
           "2362": 1.1186956963202186,
           "2363": 1.2395035334089852,
           "2364": 1.179021141874486,
           "2365": 1.5064812045386573,
           "2366": 1.1904017573983985,
           "2367": 1.1529542380171225,
           "2368": 1.1384234004691118,
           "2369": 1.1653551134336024,
           "237": 1.232235348372238,
           "2370": 1.163103346522165,
           "2371": 1.2834847452950293,
           "2372": 1.4394950001540225,
           "2373": 1.200151277775032,
           "2374": 1.275307182991251,
           "2375": 1.2900983999259952,
           "2376": 1.2093966025119165,
           "2377": 1.213940829165632,
           "2378": 1.2203331415599523,
           "2379": 1.4492715325792134,
           "238": 1.235386366501166,
           "2380": 1.1701356042195608,
           "2381": 1.2310535156382858,
           "2382": 1.1732123736414786,
           "2383": 1.242465962936453,
           "2384": 1.3853316296842584,
           "2385": 1.3868927879956416,
           "2386": 1.145870724794663,
           "2387": 1.1322610921724376,
           "2388": 1.4570834916087756,
           "2389": 1.2466873766836217,
           "239": 1.147636358869495,
           "2390": 1.3364264546405087,
           "2391": 1.6685584361714982,
           "2392": 1.1546020817471803,
           "2393": 1.2104657031478756,
           "2394": 1.2049111354981465,
           "2395": 1.5095465426523158,
           "2396": 1.2904195951309338,
           "2397": 1.1681218356984093,
           "2398": 1.156229805228082,
           "2399": 1.1702107050541426,
           "24": 1.1581943853031635,
           "240": 1.2184694739349458,
           "2400": 1.2050607369667843,
           "2401": 1.3645478270087998,
           "2402": 1.540883482380053,
           "2403": 1.4820890433508898,
           "2404": 2.248287104341807,
           "2405": 1.3128716025917926,
           "2406": 1.2167745214620718,
           "2407": 1.19657587548037,
           "2408": 1.1928226273154912,
           "2409": 1.3191191348781275,
           "241": 1.144040052629689,
           "2410": 1.223862398193772,
           "2411": 1.2468563629279197,
           "2412": 1.5112443647301308,
           "2413": 1.2513100062819515,
           "2414": 1.9936873451364037,
           "242": 1.1500834318015987,
           "243": 1.1788187467371638,
           "244": 1.1670861193868696,
           "245": 1.1272805811909483,
           "246": 1.2480210604476258,
           "247": 1.1317475934034418,
           "248": 1.2799943229993413,
           "249": 1.1026544820238549,
           "25": 1.1087652710431053,
           "250": 1.1677049154770065,
           "251": 1.0838725035808598,
           "252": 1.2387756151526845,
           "253": 1.1393212320191244,
           "254": 1.2685192356415647,
           "255": 1.1942694456501264,
           "256": 1.8214424180416955,
           "257": 1.3150820058253285,
           "258": 1.2642299225268756,
           "259": 1.2506150997492174,
           "26": 1.1430621838727004,
           "260": 1.1349882080519587,
           "261": 1.0878674571926599,
           "262": 1.3343569974413134,
           "263": 1.2201835934636691,
           "264": 1.1701999911495171,
           "265": 1.1509309876168172,
           "266": 1.2804872617804013,
           "267": 1.367487920739627,
           "268": 1.3484159789140433,
           "269": 1.1872528855086846,
           "27": 1.160411343547619,
           "270": 1.1581349345920946,
           "271": 1.165758686929545,
           "272": 1.3512406995878499,
           "273": 1.2110887715782686,
           "274": 1.1661050490159612,
           "275": 1.2137395724334772,
           "276": 1.1477888977274087,
           "277": 1.2170762653315332,
           "278": 1.1609533401276182,
           "279": 1.1740504512492513,
           "28": 1.11642655785444,
           "280": 1.183881681490512,
           "281": 1.1580198170338938,
           "282": 1.3626259072321327,
           "283": 1.56674789168605,
           "284": 1.1905712559995143,
           "285": 1.1738647137198974,
           "286": 1.2500270928397652,
           "287": 1.2244009501155804,
           "288": 1.1745906421072476,
           "289": 1.3365907549560208,
           "29": 1.2173102923697368,
           "290": 1.177664781689331,
           "291": 1.2071454922927054,
           "292": 2.1363836151484987,
           "293": 1.179931497431179,
           "294": 1.1787826656979035,
           "295": 1.2900211588523007,
           "296": 1.4260174121665772,
           "297": 1.066730923167324,
           "298": 1.221928087758317,
           "299": 1.1260774999343943,
           "3": 1.1583857973022302,
           "30": 1.1119433608850187,
           "300": 1.1957541947861285,
           "301": 1.1699218713475776,
           "302": 1.3003532252708279,
           "303": 1.2000863727279658,
           "304": 1.1814293810389915,
           "305": 1.409525128592363,
           "306": 1.0805590648101353,
           "307": 1.1849092012393196,
           "308": 1.153280889356289,
           "309": 1.4076292022576515,
           "31": 1.188590961894798,
           "310": 1.2008038983910558,
           "311": 1.2080549699698329,
           "312": 1.2202210282367159,
           "313": 1.553358196327015,
           "314": 1.1651612322608675,
           "315": 1.1600518078641733,
           "316": 1.3344781606354703,
           "317": 1.1877149248664851,
           "318": 1.0597568553349526,
           "319": 1.178706506339158,
           "32": 1.1963815133229863,
           "320": 1.1788327788885635,
           "321": 1.187242956022563,
           "322": 1.1910444062541226,
           "323": 1.1817145074913082,
           "324": 1.161535540183945,
           "325": 1.181098667856456,
           "326": 1.226575774124135,
           "327": 1.4267848572773578,
           "328": 1.1888753188341716,
           "329": 1.3285989862476355,
           "33": 1.1717829106461504,
           "330": 1.1880593975814682,
           "331": 1.3432993559696782,
           "332": 1.487899166102909,
           "333": 1.4851671998735831,
           "334": 2.306721074120223,
           "335": 1.1614406630923475,
           "336": 1.1793557906510115,
           "337": 1.1353659802513956,
           "338": 1.1732142573517876,
           "339": 1.1643282048612658,
           "34": 1.1389156558835472,
           "340": 1.1204707806622882,
           "341": 1.1357018713427525,
           "342": 1.1472988609330166,
           "343": 1.1160684036532915,
           "344": 1.1646721804551046,
           "345": 1.1513093561554077,
           "346": 1.1999912236340424,
           "347": 1.106461471844462,
           "348": 1.14897469197822,
           "349": 1.157539788981907,
           "35": 1.1457729849438818,
           "350": 1.1530453891436192,
           "351": 1.3373298699311686,
           "352": 1.175046955393612,
           "353": 1.2001653145520834,
           "354": 1.1570105212290416,
           "355": 1.1107038037295214,
           "356": 1.1501052662032192,
           "357": 1.173844269746171,
           "358": 1.138018173720933,
           "359": 1.2398001435673234,
           "36": 1.105284337232232,
           "360": 1.1101227821017163,
           "361": 1.1834895013751368,
           "362": 1.1921258918224302,
           "363": 1.1719240400444433,
           "364": 1.147720805836469,
           "365": 1.153216808108938,
           "366": 1.0985481464044673,
           "367": 1.1706818374587222,
           "368": 1.2034054596260015,
           "369": 1.1186248950317121,
           "37": 1.1755867438019574,
           "370": 1.1463783180092886,
           "371": 1.2303248636974022,
           "372": 1.1531671345800336,
           "373": 1.1974754555319493,
           "374": 1.1129011965857363,
           "375": 1.159763162859806,
           "376": 1.1350372100723143,
           "377": 1.105682097294204,
           "378": 1.1265290625019464,
           "379": 1.147504647356576,
           "38": 1.1862532534616355,
           "380": 1.1148841979088988,
           "381": 1.2126977191577468,
           "382": 1.1459331108734512,
           "383": 1.2524418195290212,
           "384": 1.1648344801829753,
           "385": 1.238588495372554,
           "386": 1.1079717410829228,
           "387": 1.1565557997726903,
           "388": 1.2032361072522917,
           "389": 1.1740098830407208,
           "39": 1.0977961774461762,
           "390": 1.1539990046993798,
           "391": 1.1263713478219957,
           "392": 1.459467515368632,
           "393": 1.173678047158719,
           "394": 1.206357156272338,
           "395": 1.190339688406747,
           "396": 1.1569706840090448,
           "397": 1.1404609960439533,
           "398": 1.1596533561833278,
           "399": 1.1394677486373954,
           "4": 1.2180112619562447,
           "40": 1.1489075643770699,
           "400": 1.1032920004121927,
           "401": 1.173792328679072,
           "402": 1.105177608373787,
           "403": 1.0623881032014786,
           "404": 1.1345507160428134,
           "405": 1.1582493176261741,
           "406": 1.1778360403022943,
           "407": 1.124717110545787,
           "408": 1.1721254358522197,
           "409": 1.3904428970293097,
           "41": 1.2407032104094937,
           "410": 1.4341026403630122,
           "411": 1.160640962689361,
           "412": 1.1617685361737013,
           "413": 1.1070202948469803,
           "414": 1.1924520127037315,
           "415": 1.1517655177193866,
           "416": 1.3565784470553457,
           "417": 1.166930639864414,
           "418": 1.1217397533676738,
           "419": 1.4324186279381013,
           "42": 1.14399455636273,
           "420": 1.171676251758763,
           "421": 1.162016098352404,
           "422": 1.1791180909825658,
           "423": 1.3359314734032113,
           "424": 1.143633225916207,
           "425": 1.1952108054355188,
           "426": 1.184867885152236,
           "427": 1.1990059598355278,
           "428": 1.1280109040598365,
           "429": 1.1645812517277716,
           "43": 1.1907140594707242,
           "430": 1.2128660967931586,
           "431": 1.1415033522200304,
           "432": 1.1953656933341374,
           "433": 1.1447458487531434,
           "434": 1.1456346392622383,
           "435": 1.1706741866842423,
           "436": 1.1314053484149356,
           "437": 1.1064002413551075,
           "438": 1.2123101482766756,
           "439": 1.1632277666816466,
           "44": 1.1111264127476366,
           "440": 1.4296521654078593,
           "441": 1.0798007879881928,
           "442": 1.165105559325406,
           "443": 1.0953235901450344,
           "444": 1.1645762803676527,
           "445": 1.1389315513713985,
           "446": 1.1567727039965479,
           "447": 1.1860583287591517,
           "448": 1.1146301269077805,
           "449": 1.1771689793571694,
           "45": 1.158727120746969,
           "450": 1.1662762560845876,
           "451": 1.1663146340164654,
           "452": 1.1327823992914534,
           "453": 1.1057873774053362,
           "454": 1.3203864312274578,
           "455": 1.155684378667809,
           "456": 1.1731502966311556,
           "457": 1.1465332658379075,
           "458": 1.2072836675544325,
           "459": 1.8145348211144254,
           "46": 1.1381220339493194,
           "460": 1.3468167912498206,
           "461": 1.4616262020131126,
           "462": 1.1574690011580455,
           "463": 1.1197208215725438,
           "464": 1.1694005982199278,
           "465": 1.126520067757533,
           "466": 1.1606480941309332,
           "467": 1.1866788599228257,
           "468": 1.2002319957195315,
           "469": 1.1567124088388643,
           "47": 1.1089517432136984,
           "470": 1.1045229539278167,
           "471": 1.192615972863645,
           "472": 1.309413739399279,
           "473": 1.1896549144394712,
           "474": 1.1900168849180477,
           "475": 1.1612582072565831,
           "476": 1.200948498895219,
           "477": 1.17074442706178,
           "478": 1.173930861442803,
           "479": 1.1719372863977215,
           "48": 1.1238880265301487,
           "480": 1.2303381678837237,
           "481": 1.2593097789897416,
           "482": 1.2020625502699418,
           "483": 1.1947666087629694,
           "484": 1.23014681958375,
           "485": 1.371243063591413,
           "486": 1.1306955968974222,
           "487": 1.11206011386669,
           "488": 1.2910557477841818,
           "489": 1.0760859219170409,
           "49": 1.1514350675823013,
           "490": 1.141748854556664,
           "491": 1.269887620180684,
           "492": 1.1776812658742473,
           "493": 1.1696224130694595,
           "494": 1.2469169321919258,
           "495": 1.219944425272561,
           "496": 1.181247348945472,
           "497": 1.0904282030607766,
           "498": 1.3093247439656344,
           "499": 1.2249775477546656,
           "5": 1.1605966268434462,
           "50": 1.1174414119247316,
           "500": 1.1807089608288017,
           "501": 1.1636193702729685,
           "502": 1.3149111900480888,
           "503": 1.1374874072642085,
           "504": 1.104809959061163,
           "505": 1.3326525327237435,
           "506": 1.1945240660343834,
           "507": 1.0890989444121482,
           "508": 1.1998400797507445,
           "509": 1.0716998628725651,
           "51": 1.1526390289436441,
           "510": 1.166926512546422,
           "511": 1.216051658467709,
           "512": 1.2040163415462828,
           "513": 1.185709649338395,
           "514": 1.1710064331879269,
           "515": 1.1687417778363358,
           "516": 1.2526972256227666,
           "517": 1.1995365229439796,
           "518": 1.2601534327816362,
           "519": 1.182273461979957,
           "52": 1.1484641107082922,
           "520": 1.2697832023224636,
           "521": 1.3303470030893567,
           "522": 1.301515111802654,
           "523": 1.3336777798893367,
           "524": 1.1900029815256212,
           "525": 1.0897477771120627,
           "526": 1.132796422127252,
           "527": 1.0532928503832202,
           "528": 1.1414000544022198,
           "529": 1.1764644732670533,
           "53": 1.2143186340254672,
           "530": 1.1195874943833037,
           "531": 1.187589253312892,
           "532": 1.3209685796679902,
           "533": 1.337804712938485,
           "534": 1.127854242735151,
           "535": 1.146060414251568,
           "536": 1.1222676029377054,
           "537": 1.1995239428104774,
           "538": 1.0876412921510092,
           "539": 1.3153087182675125,
           "54": 1.1551424561080432,
           "540": 1.093733920857023,
           "541": 1.0956455921717057,
           "542": 1.1360969826164315,
           "543": 1.1503302641257251,
           "544": 1.1322325866839058,
           "545": 1.1983419260572892,
           "546": 1.1200291970509102,
           "547": 1.1603828452790372,
           "548": 1.1885583097907952,
           "549": 1.2299431562842429,
           "55": 1.2325581437545405,
           "550": 1.2118350442896435,
           "551": 1.100774992169512,
           "552": 1.225646864774722,
           "553": 1.2123846222941446,
           "554": 1.1423561338230563,
           "555": 1.2386822457704845,
           "556": 1.1757148196221212,
           "557": 1.150079474515634,
           "558": 1.1867025270800904,
           "559": 1.1504380519877677,
           "56": 1.1101324065409832,
           "560": 1.0929592188103292,
           "561": 1.2415028045981817,
           "562": 1.0735147302694865,
           "563": 1.3354249224191124,
           "564": 1.1979980716942802,
           "565": 1.142733376197284,
           "566": 1.0731343491469532,
           "567": 1.1568675801565762,
           "568": 1.1715891206671032,
           "569": 1.122644263626353,
           "57": 1.149529902026435,
           "570": 1.1949024396668175,
           "571": 1.2070514385484066,
           "572": 1.1944720850271258,
           "573": 1.1483586959428669,
           "574": 1.1478714764847258,
           "575": 1.1381791044371317,
           "576": 1.1089754172430015,
           "577": 1.410814397058877,
           "578": 1.1475552508443532,
           "579": 1.2156990055324277,
           "58": 1.2128901515266395,
           "580": 1.1548564508503947,
           "581": 1.2382922808651269,
           "582": 1.3360942005168386,
           "583": 1.3754326168470745,
           "584": 1.1347894511311651,
           "585": 1.2087334151609603,
           "586": 1.1750446063785405,
           "587": 1.1946833864624933,
           "588": 1.197331005410064,
           "589": 1.209445789123619,
           "59": 1.1579371110067302,
           "590": 1.1924646391348046,
           "591": 1.1500649905525973,
           "592": 1.1981316347752837,
           "593": 1.4097092253572807,
           "594": 1.2059457402857612,
           "595": 1.1781646720066425,
           "596": 1.2013349033084757,
           "597": 1.1832020280448314,
           "598": 1.18754750019148,
           "599": 1.1928851541059393,
           "6": 1.1800520215408252,
           "60": 1.1562581621001076,
           "600": 1.1768987658643952,
           "601": 1.1903141167040596,
           "602": 1.4383962696564154,
           "603": 1.2125895685115464,
           "604": 1.193042321355017,
           "605": 1.218858603156427,
           "606": 1.2426084683727363,
           "607": 1.164605109785877,
           "608": 1.237352715967424,
           "609": 1.1646162769641524,
           "61": 1.1045385721564676,
           "610": 1.3762821198414745,
           "611": 1.1930367605353875,
           "612": 1.280913258124207,
           "613": 1.1996921025825302,
           "614": 1.1946745836267012,
           "615": 1.2186551650159558,
           "616": 1.1400834187755082,
           "617": 1.2055992122178933,
           "618": 1.1563811443643668,
           "619": 1.3318448092232789,
           "62": 1.3835249102777676,
           "620": 1.200672366412194,
           "621": 1.2099316707979193,
           "622": 1.1960315942302058,
           "623": 1.4116265600086297,
           "624": 1.188725394859497,
           "625": 1.2527507595800704,
           "626": 1.3209791813104614,
           "627": 1.1709779903521222,
           "628": 1.1244301508646541,
           "629": 1.208966550879225,
           "63": 1.173392616564273,
           "630": 1.5149831927296717,
           "631": 1.1823099869714315,
           "632": 1.229679493404737,
           "633": 1.2069544980459705,
           "634": 1.1755079929959276,
           "635": 1.1956607610621413,
           "636": 1.198699321962371,
           "637": 1.2168562129966167,
           "638": 1.1869665662605395,
           "639": 1.1711270588616032,
           "64": 1.2115141713782174,
           "640": 1.2080301518055807,
           "641": 1.2583714150209269,
           "642": 1.279669337787751,
           "643": 1.3537786479356,
           "644": 1.4357539599940625,
           "645": 1.1781684432960835,
           "646": 1.1084130264134036,
           "647": 1.1620892303577832,
           "648": 1.1847408255187915,
           "649": 1.177581543057823,
           "65": 1.1709225506562544,
           "650": 1.2071354741054836,
           "651": 1.3579403232367944,
           "652": 1.3870580583083014,
           "653": 1.1632825217417857,
           "654": 1.1649400283520526,
           "655": 1.1797829200451337,
           "656": 1.1989602147839584,
           "657": 1.1537310559341685,
           "658": 1.3641176856888275,
           "659": 1.1737204228520965,
           "66": 1.152953817865825,
           "660": 1.091990341212344,
           "661": 1.4786254227627125,
           "662": 1.1772765729847625,
           "663": 1.1649176824478127,
           "664": 1.184599985053014,
           "665": 1.3345043602315232,
           "666": 1.1880740105390428,
           "667": 1.232556720419734,
           "668": 1.2332698420802517,
           "669": 1.2374015471737458,
           "67": 1.1319030157426235,
           "670": 1.1930201470877329,
           "671": 1.1642975107302431,
           "672": 1.3010876824917763,
           "673": 1.1895887232024087,
           "674": 1.1907878135061183,
           "675": 1.1766250534629843,
           "676": 1.1888737565908556,
           "677": 1.2060266810029538,
           "678": 1.1270690476765843,
           "679": 1.0947463164568618,
           "68": 1.1521885789161013,
           "680": 1.3259917351409454,
           "681": 1.1603913505447727,
           "682": 1.3831990417246502,
           "683": 1.3162642623618264,
           "684": 1.2003753269538782,
           "685": 1.0707335693572635,
           "686": 1.1688298583635253,
           "687": 1.171711632683069,
           "688": 1.1599503720960447,
           "689": 1.223506905478947,
           "69": 1.1662685265126853,
           "690": 1.281283245365919,
           "691": 1.1860681963784814,
           "692": 1.1710876350310417,
           "693": 1.1695368984403127,
           "694": 1.1838964418247544,
           "695": 1.0936970471836158,
           "696": 1.32343661331414,
           "697": 1.1588921255410387,
           "698": 1.2210359874648355,
           "699": 1.1904495536712683,
           "7": 1.1383359465542815,
           "70": 1.134189053044467,
           "700": 1.214024507366826,
           "701": 1.6625862485056944,
           "702": 1.3906956303404892,
           "703": 1.2742132120239371,
           "704": 1.1278066836081153,
           "705": 1.2594945760997902,
           "706": 1.267846670224872,
           "707": 1.128112097125113,
           "708": 1.1750855730432765,
           "709": 1.250835224048402,
           "71": 1.0452697494172722,
           "710": 1.2031724751952269,
           "711": 1.096948272731604,
           "712": 1.1328673411703671,
           "713": 1.1049702718692354,
           "714": 1.2577257563481017,
           "715": 1.1989581513653327,
           "716": 1.2357344326755904,
           "717": 1.3762896121143708,
           "718": 1.2527789548370458,
           "719": 1.1397200634722973,
           "72": 1.1432524619624596,
           "720": 1.2996563679147917,
           "721": 1.0988026720785535,
           "722": 1.207989076451722,
           "723": 1.133223249402888,
           "724": 1.1227572035650566,
           "725": 1.1716803882607554,
           "726": 1.1564944238680641,
           "727": 1.1930858660983965,
           "728": 1.2186901137278197,
           "729": 1.2178891828031961,
           "73": 1.1323154023468924,
           "730": 1.0560414173821318,
           "731": 1.0996209103595183,
           "732": 1.223660910082538,
           "733": 1.1379713908487106,
           "734": 1.1952647272278083,
           "735": 1.1746112855134416,
           "736": 1.2232285950975423,
           "737": 1.323584797484637,
           "738": 1.3148935112280524,
           "739": 1.1317911337593478,
           "74": 1.0979054958106815,
           "740": 1.2028829189846133,
           "741": 1.0935532900787763,
           "742": 1.140829191373163,
           "743": 1.3198360383493035,
           "744": 1.173802514388641,
           "745": 1.1353536743428212,
           "746": 1.300227608386938,
           "747": 1.1801109518054693,
           "748": 1.2500915425204695,
           "749": 1.2087643982662262,
           "75": 1.1672651429938126,
           "750": 1.2807021868738575,
           "751": 1.2551170617706588,
           "752": 1.1713461289212277,
           "753": 1.151152380441926,
           "754": 1.2589682500525656,
           "755": 1.2321325308592446,
           "756": 1.14954132998794,
           "757": 1.1855501449283101,
           "758": 1.219499616097729,
           "759": 1.1800123309348005,
           "76": 1.1279988123134392,
           "760": 1.2527553118192885,
           "761": 1.1385965172070704,
           "762": 1.1443116408826977,
           "763": 1.1787108023240305,
           "764": 1.1154890993459199,
           "765": 1.1920735527028434,
           "766": 1.3330413732086868,
           "767": 1.3656012719077775,
           "768": 1.1279639849266303,
           "769": 1.1469119123173652,
           "77": 1.1653347633120548,
           "770": 1.127544778786639,
           "771": 1.204000018622582,
           "772": 1.0890054832049134,
           "773": 1.3292383585913115,
           "774": 1.0950696378651676,
           "775": 1.0721606350127924,
           "776": 1.1415907783311108,
           "777": 1.1525564690285068,
           "778": 1.1324317344776906,
           "779": 1.2083711321509905,
           "78": 1.1333789772234892,
           "780": 1.1290475294183553,
           "781": 1.1653718357891596,
           "782": 1.194036126960059,
           "783": 1.2366786359135051,
           "784": 1.216455429745515,
           "785": 1.0955339606824783,
           "786": 1.1822322801868292,
           "787": 1.2085365680925888,
           "788": 1.1382870711709887,
           "789": 1.2166707756642408,
           "79": 1.1701036013738861,
           "790": 1.17883266852233,
           "791": 1.1484309993454265,
           "792": 1.1911730745506235,
           "793": 1.1312477857527767,
           "794": 1.1750167981335005,
           "795": 1.2349319123730773,
           "796": 1.48187350677253,
           "797": 1.3629837353831966,
           "798": 1.1908759227169463,
           "799": 1.1480318839987251,
           "8": 1.1631620479028297,
           "80": 1.1428898017455715,
           "800": 1.0509877356368875,
           "801": 1.1603009979640506,
           "802": 1.174623466865274,
           "803": 1.1244328551322398,
           "804": 1.1995766221264548,
           "805": 1.2011120477759227,
           "806": 1.2019647463076881,
           "807": 1.151015884498986,
           "808": 1.149510911714786,
           "809": 1.1342209194668205,
           "81": 1.1520694492386243,
           "810": 1.220172605846332,
           "811": 1.3911745545279017,
           "812": 1.1508690194800681,
           "813": 1.2219757995557887,
           "814": 1.1512264734840092,
           "815": 1.2508827043467985,
           "816": 1.365975755310994,
           "817": 1.3828417646232543,
           "818": 1.1403890066780102,
           "819": 1.0457362455581538,
           "82": 1.149949205099573,
           "820": 1.3205284183301926,
           "821": 1.1702835762795536,
           "822": 1.2114145893030865,
           "823": 1.0894472028557431,
           "824": 1.298695060844067,
           "825": 1.1889521613519693,
           "826": 1.1784165460736604,
           "827": 1.2588053940972213,
           "828": 1.1447304106696523,
           "829": 1.2116373230624702,
           "83": 1.1068359303755444,
           "830": 1.1494082423357375,
           "831": 1.0827175383694108,
           "832": 1.1508218961510974,
           "833": 1.0988862007047875,
           "834": 1.246368896564544,
           "835": 1.338916394945491,
           "836": 1.0985570826170121,
           "837": 1.200517323305902,
           "838": 1.200033472500974,
           "839": 1.178133993324622,
           "84": 1.1945649604136965,
           "840": 1.1657773797453974,
           "841": 1.3139662341572793,
           "842": 1.067750654091742,
           "843": 1.197105882449794,
           "844": 1.3841486016507996,
           "845": 1.1557343931729898,
           "846": 1.1467248524466338,
           "847": 1.4122015003606478,
           "848": 1.1725868977432217,
           "849": 1.2162456971817355,
           "85": 1.2392002049571134,
           "850": 1.0838579861400126,
           "851": 1.2416633014991534,
           "852": 1.142102567043308,
           "853": 1.0883473370621173,
           "854": 1.1499129240517878,
           "855": 1.1474101622809627,
           "856": 1.0980580477983561,
           "857": 1.1374751576810536,
           "858": 1.146192910685282,
           "859": 1.2250713953338708,
           "86": 1.1674570056069813,
           "860": 1.1872083831890285,
           "861": 1.240981863760896,
           "862": 1.0630832020041439,
           "863": 1.073061924364655,
           "864": 1.1682029397988893,
           "865": 1.3714457457285665,
           "866": 1.170160366976515,
           "867": 1.1697703521129237,
           "868": 1.1312374452758212,
           "869": 1.1802365682126246,
           "87": 1.1604642038789086,
           "870": 1.4276499279838675,
           "871": 1.2601815969687875,
           "872": 1.1513937645157124,
           "873": 1.1569965113231575,
           "874": 1.162732681057609,
           "875": 1.3832783201203829,
           "876": 1.1795734612087163,
           "877": 1.212585605428542,
           "878": 1.0941535144503516,
           "879": 1.2191378632011505,
           "88": 1.1509722865412928,
           "880": 1.1646361327625054,
           "881": 1.2148790112462537,
           "882": 1.301889367204999,
           "883": 1.1503630209176547,
           "884": 1.2141905587128996,
           "885": 1.2261146032726775,
           "886": 1.0837578478727758,
           "887": 1.161671778388865,
           "888": 1.0710223733061348,
           "889": 1.1815206610323925,
           "89": 1.1629325097018726,
           "890": 1.1300659615270936,
           "891": 1.1062543471639519,
           "892": 1.217475507474921,
           "893": 1.2130304640329914,
           "894": 1.19323892324306,
           "895": 1.1744728171800825,
           "896": 1.2638363054452069,
           "897": 1.076829714746397,
           "898": 1.1741045838783097,
           "899": 1.329451884190517,
           "9": 1.1636052985044174,
           "90": 1.1363044098303614,
           "900": 1.1777386298360912,
           "901": 1.1562886831372374,
           "902": 1.2870240424919572,
           "903": 1.182114953721988,
           "904": 1.1635680904196548,
           "905": 1.0858136295357246,
           "906": 1.1834302892688306,
           "907": 1.1779544147851628,
           "908": 1.0929640656466542,
           "909": 1.1574762291547662,
           "91": 1.1772282270455239,
           "910": 1.1564914673405087,
           "911": 1.1124291501218566,
           "912": 1.2075309350624779,
           "913": 1.1558000674583606,
           "914": 1.2872870853434089,
           "915": 1.1983373054497584,
           "916": 1.2569091123159561,
           "917": 1.066103037403191,
           "918": 1.1397185917286863,
           "919": 1.1059114437058994,
           "92": 1.1298843034022463,
           "920": 1.343768048507566,
           "921": 1.1762090259702032,
           "922": 1.1995617472931677,
           "923": 1.1645382254851577,
           "924": 1.1955061775242726,
           "925": 1.2980514211835223,
           "926": 1.161294669627492,
           "927": 1.1638349920195057,
           "928": 1.1647398235588307,
           "929": 1.174958293341692,
           "93": 1.1354519876623257,
           "930": 1.1948456890632122,
           "931": 1.2522580616277539,
           "932": 1.1636407788378946,
           "933": 1.167778515289299,
           "934": 1.1479961273567585,
           "935": 1.1218239638563037,
           "936": 1.313085526290503,
           "937": 1.2187728514714242,
           "938": 1.2361301357035015,
           "939": 1.2073926869899398,
           "94": 1.1889287128542698,
           "940": 1.1692015902379453,
           "941": 1.2180664350688917,
           "942": 1.3996975118077346,
           "943": 1.1599562252043092,
           "944": 1.31569336608344,
           "945": 1.1300670569060811,
           "946": 1.1474850791555897,
           "947": 1.1855624479981344,
           "948": 1.1923947500321552,
           "949": 1.218225542820613,
           "95": 1.1500653134594434,
           "950": 1.0946252137854167,
           "951": 1.2121676273063517,
           "952": 1.1177012408408562,
           "953": 1.3186647644992797,
           "954": 1.261689241349233,
           "955": 1.155236126933865,
           "956": 1.2333631409502028,
           "957": 1.1945406333877997,
           "958": 1.2633377304451519,
           "959": 1.2122656618515402,
           "96": 1.1586245921970744,
           "960": 1.1946680932553249,
           "961": 1.1181989623291244,
           "962": 1.163321330749564,
           "963": 1.1085866553661052,
           "964": 1.145499164553997,
           "965": 1.2607488960273638,
           "966": 1.1965938109705647,
           "967": 1.154860712382493,
           "968": 1.4428699966754763,
           "969": 1.2012825070491564,
           "97": 1.1906797611715503,
           "970": 1.2511616686390394,
           "971": 1.2731204362427353,
           "972": 1.4446022845631963,
           "973": 1.3772695101754366,
           "974": 1.170518566562115,
           "975": 1.1451040541978958,
           "976": 1.2845912161178301,
           "977": 1.2994308592789094,
           "978": 1.1843927531882639,
           "979": 1.2403660642875958,
           "98": 1.1972784422420475,
           "980": 1.298173256046333,
           "981": 1.1924900041141608,
           "982": 1.2194051808680544,
           "983": 1.230415116557486,
           "984": 1.2018007951594922,
           "985": 1.3514082309065387,
           "986": 1.182325487868122,
           "987": 1.1590908236193265,
           "988": 1.1961075779817136,
           "989": 1.1577649437500979,
           "99": 1.1085127513780486,
           "990": 1.1901560882951108,
           "991": 1.1994025426945571,
           "992": 1.178521387371731,
           "993": 1.1907256897128298,
           "994": 1.4010697847554245,
           "995": 1.199065715817935,
           "996": 1.1699269462623434,
           "997": 1.1902226172630923,
           "998": 1.2360031791174915,
           "999": 1.1563394728553964,
           "bdata": "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",
           "dtype": "f8",
           "shape": "2415"
          },
          "bdata": "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",
          "dtype": "f8"
         },
         "yaxis": "y"
        },
        {
         "hovertemplate": "<b>Rolling mean trendline</b><br><br>straight line distance=%{x}<br>detour ratio=%{y} <b>(trend)</b><extra></extra>",
         "legendgroup": "",
         "marker": {
          "color": "#636efa",
          "symbol": "circle"
         },
         "mode": "lines",
         "name": "",
         "showlegend": false,
         "type": "scattergl",
         "x": {
          "_inputArray": {
           "0": 7.5528425662505025,
           "1": 8.350592179127736,
           "10": 18.29856050570334,
           "100": 189.11917648784444,
           "1000": 869.4935224898088,
           "1001": 869.7790725302023,
           "1002": 870.5285658285228,
           "1003": 870.6625946695543,
           "1004": 871.4227603722768,
           "1005": 871.6028476240864,
           "1006": 871.7592485725661,
           "1007": 871.949994607661,
           "1008": 872.0360264805503,
           "1009": 872.0871856840923,
           "101": 189.27427910697384,
           "1010": 872.4191418620649,
           "1011": 873.8249758245263,
           "1012": 873.9039349347112,
           "1013": 874.3100943538997,
           "1014": 874.4240934820962,
           "1015": 875.1945613411447,
           "1016": 875.3343689971808,
           "1017": 875.6294828753726,
           "1018": 877.5177114939775,
           "1019": 877.7458111183465,
           "102": 189.69731437202077,
           "1020": 877.802095202718,
           "1021": 878.2499651338187,
           "1022": 878.4523526803024,
           "1023": 878.9051218256762,
           "1024": 880.5120968954541,
           "1025": 880.8921543981945,
           "1026": 881.4701424298074,
           "1027": 883.3328144551426,
           "1028": 884.524825244912,
           "1029": 884.5943375170365,
           "103": 190.20710466171312,
           "1030": 885.0391585373224,
           "1031": 886.5854259512583,
           "1032": 886.6935335590543,
           "1033": 887.2341016876087,
           "1034": 888.3015829855536,
           "1035": 892.8878134815727,
           "1036": 892.9002190391193,
           "1037": 895.0043466230022,
           "1038": 895.0054548074464,
           "1039": 897.2580299472678,
           "104": 190.21872996126643,
           "1040": 898.0019907036294,
           "1041": 900.0294429851198,
           "1042": 902.7886322650529,
           "1043": 903.0267316208208,
           "1044": 903.3057519977158,
           "1045": 905.0315681935667,
           "1046": 906.5517765579943,
           "1047": 907.4535106242431,
           "1048": 908.0344295603288,
           "1049": 909.4227380409668,
           "105": 190.4320781575341,
           "1050": 910.2999638666241,
           "1051": 910.6770118464356,
           "1052": 911.974324717197,
           "1053": 912.2050712655214,
           "1054": 912.5716795456236,
           "1055": 912.7053376259133,
           "1056": 915.076352653227,
           "1057": 916.4760548710118,
           "1058": 916.6577417388354,
           "1059": 917.1004437965388,
           "106": 192.91209307219742,
           "1060": 917.4310606284374,
           "1061": 918.2592811708689,
           "1062": 918.6696508604789,
           "1063": 919.3349619709693,
           "1064": 919.7097801582519,
           "1065": 920.0400264249417,
           "1066": 920.1213549080161,
           "1067": 922.1633436245368,
           "1068": 922.3318974368202,
           "1069": 924.1967921725301,
           "107": 196.25065075287566,
           "1070": 924.9338012524858,
           "1071": 925.7362542796732,
           "1072": 925.8144340071084,
           "1073": 926.2145245599079,
           "1074": 926.6313041218137,
           "1075": 926.6615057332806,
           "1076": 926.6694518687846,
           "1077": 926.7275305839064,
           "1078": 927.4645629811572,
           "1079": 927.8234327028503,
           "108": 196.33625055205968,
           "1080": 928.3682802783728,
           "1081": 928.7623050135192,
           "1082": 930.2159647180238,
           "1083": 930.6186124658996,
           "1084": 930.6326465889179,
           "1085": 931.2836528424092,
           "1086": 931.9680038494378,
           "1087": 932.2362435705036,
           "1088": 933.0853321734608,
           "1089": 933.4456161870448,
           "109": 199.86673465051547,
           "1090": 934.9991795046215,
           "1091": 935.5086980509533,
           "1092": 935.8336706948619,
           "1093": 936.0900892948259,
           "1094": 937.119085063574,
           "1095": 937.1727687717924,
           "1096": 937.2114435896345,
           "1097": 937.2367557260142,
           "1098": 938.3832221696106,
           "1099": 938.618009497961,
           "11": 19.70217434076481,
           "110": 202.1106812698539,
           "1100": 938.6285566556753,
           "1101": 938.7388941918318,
           "1102": 938.7904954705449,
           "1103": 938.9643651016578,
           "1104": 938.9906224388269,
           "1105": 939.4247564063954,
           "1106": 939.863496255545,
           "1107": 940.139179348767,
           "1108": 940.4123821947088,
           "1109": 940.4447211223228,
           "111": 203.56301416741323,
           "1110": 940.5521917230392,
           "1111": 940.7473276799182,
           "1112": 940.8709033949422,
           "1113": 941.0139541073584,
           "1114": 941.8463811349574,
           "1115": 941.935711467746,
           "1116": 943.1327364359097,
           "1117": 943.8293870828466,
           "1118": 945.872291904071,
           "1119": 946.5655743847508,
           "112": 204.9138765583191,
           "1120": 947.3408523457036,
           "1121": 947.3683256792127,
           "1122": 947.5992204544957,
           "1123": 949.9015688759426,
           "1124": 949.9633201538637,
           "1125": 950.3679444569503,
           "1126": 953.2453549161445,
           "1127": 954.7793524083518,
           "1128": 955.3320678026514,
           "1129": 955.3832079040652,
           "113": 205.082747425847,
           "1130": 955.718462625315,
           "1131": 955.9048283482084,
           "1132": 957.5432819241873,
           "1133": 958.7222667485331,
           "1134": 958.9572450097177,
           "1135": 960.2676329742175,
           "1136": 960.6171222033184,
           "1137": 963.9523659410519,
           "1138": 965.077398693675,
           "1139": 965.7786114560735,
           "114": 205.8480376756824,
           "1140": 966.6256727331889,
           "1141": 967.4069097505879,
           "1142": 967.5211589559492,
           "1143": 968.1302230462487,
           "1144": 969.6036614059535,
           "1145": 970.1224168283243,
           "1146": 972.8922161026792,
           "1147": 974.2969224352007,
           "1148": 974.7292257524341,
           "1149": 975.7782558840873,
           "115": 209.49814985925408,
           "1150": 976.5980576034073,
           "1151": 977.226087448184,
           "1152": 978.2806960139245,
           "1153": 978.7386989229702,
           "1154": 978.8575436839652,
           "1155": 979.5723729809321,
           "1156": 979.940382234109,
           "1157": 980.6518269907125,
           "1158": 980.6739530841954,
           "1159": 980.9719610871603,
           "116": 212.1975772609064,
           "1160": 981.1158441850686,
           "1161": 981.844823150579,
           "1162": 983.150856604166,
           "1163": 983.4090611503525,
           "1164": 983.709200882689,
           "1165": 984.2385682026722,
           "1166": 984.7564052470615,
           "1167": 985.7916448372305,
           "1168": 986.3203037541754,
           "1169": 986.629800649409,
           "117": 214.90281677875507,
           "1170": 987.2637058202848,
           "1171": 987.7935305880974,
           "1172": 988.0529709152971,
           "1173": 988.7609806167023,
           "1174": 990.2616050024877,
           "1175": 992.4511905302496,
           "1176": 993.2008207739593,
           "1177": 993.5314917198594,
           "1178": 994.1955833249998,
           "1179": 994.2276761582935,
           "118": 215.35193802628774,
           "1180": 994.4306489806481,
           "1181": 995.6513537823099,
           "1182": 997.0987774388792,
           "1183": 997.2571101485737,
           "1184": 998.4580920226718,
           "1185": 998.5572254513622,
           "1186": 999.0702989392418,
           "1187": 999.3158282634571,
           "1188": 999.3289717823824,
           "1189": 999.6568526518423,
           "119": 217.75048262490506,
           "1190": 1000.0747145161611,
           "1191": 1001.6721744719257,
           "1192": 1003.4129984235209,
           "1193": 1003.857045222908,
           "1194": 1005.4670016176522,
           "1195": 1005.5221429228891,
           "1196": 1005.9826410846581,
           "1197": 1006.5204810080727,
           "1198": 1006.6403085129892,
           "1199": 1009.6347304407899,
           "12": 24.051129453082726,
           "120": 218.49581137839257,
           "1200": 1009.8429985421611,
           "1201": 1010.1059213745749,
           "1202": 1012.0251406114481,
           "1203": 1012.2660016148226,
           "1204": 1012.416147182882,
           "1205": 1014.090106575839,
           "1206": 1014.2440251097504,
           "1207": 1014.339134213499,
           "1208": 1014.7116449787624,
           "1209": 1016.4128198364119,
           "121": 218.61854250632132,
           "1210": 1017.2679517768808,
           "1211": 1018.2143411613517,
           "1212": 1019.5691496884841,
           "1213": 1020.451607813625,
           "1214": 1020.8590512741096,
           "1215": 1021.3413139894298,
           "1216": 1022.3394713050658,
           "1217": 1022.5547457683256,
           "1218": 1023.0920243696789,
           "1219": 1024.1632294056637,
           "122": 218.65398044143257,
           "1220": 1024.5705768494588,
           "1221": 1024.79979745758,
           "1222": 1025.3057409991836,
           "1223": 1025.5079881584506,
           "1224": 1026.6326795296231,
           "1225": 1027.3712555139987,
           "1226": 1027.4355817030662,
           "1227": 1027.461099829455,
           "1228": 1027.5140186112803,
           "1229": 1029.6201198163146,
           "123": 218.6816173172115,
           "1230": 1030.0618235477864,
           "1231": 1030.2542525905933,
           "1232": 1032.5909374855712,
           "1233": 1033.696348500732,
           "1234": 1034.1502027384897,
           "1235": 1034.3162675414071,
           "1236": 1034.6111931525518,
           "1237": 1035.2224846745496,
           "1238": 1035.6575645661483,
           "1239": 1035.8596336622445,
           "124": 220.25550573225348,
           "1240": 1035.8727277399155,
           "1241": 1035.9311064822873,
           "1242": 1036.3089963525642,
           "1243": 1037.1993492673614,
           "1244": 1037.7230330992552,
           "1245": 1038.2421943151967,
           "1246": 1038.5914707380443,
           "1247": 1039.3001446026078,
           "1248": 1040.023268142358,
           "1249": 1040.2742781117497,
           "125": 222.37018030487187,
           "1250": 1040.4439007341023,
           "1251": 1040.6812575017736,
           "1252": 1041.6878820410725,
           "1253": 1042.8117075187104,
           "1254": 1045.1349903958167,
           "1255": 1045.1490883127485,
           "1256": 1045.6310564874773,
           "1257": 1046.2369500838033,
           "1258": 1047.1008734659902,
           "1259": 1047.7214666853677,
           "126": 222.74685434198025,
           "1260": 1049.1035393331686,
           "1261": 1049.5131384225779,
           "1262": 1051.2408998395454,
           "1263": 1052.7444494744918,
           "1264": 1052.7531274819428,
           "1265": 1052.8452468375947,
           "1266": 1053.9781604220627,
           "1267": 1055.0650355459186,
           "1268": 1055.4929856264228,
           "1269": 1055.7203865184506,
           "127": 223.8944384959237,
           "1270": 1057.7165676307745,
           "1271": 1058.530725348557,
           "1272": 1058.904685124992,
           "1273": 1059.2054891839748,
           "1274": 1059.6459720898354,
           "1275": 1059.7692691031182,
           "1276": 1059.8541014411853,
           "1277": 1062.6759520245557,
           "1278": 1063.8850270198973,
           "1279": 1065.4555644327286,
           "128": 224.30107449293234,
           "1280": 1066.3947701489135,
           "1281": 1066.678891978252,
           "1282": 1069.0197302549118,
           "1283": 1069.0856737402034,
           "1284": 1069.2044748050077,
           "1285": 1069.5158779531184,
           "1286": 1069.6829206263624,
           "1287": 1071.3173856128553,
           "1288": 1072.0966136106406,
           "1289": 1073.2081364828393,
           "129": 224.81102555303488,
           "1290": 1073.863108736648,
           "1291": 1074.2625669567653,
           "1292": 1075.56037182313,
           "1293": 1075.8643663222808,
           "1294": 1078.967159916673,
           "1295": 1080.5420205090807,
           "1296": 1083.1722727493798,
           "1297": 1083.2491853895162,
           "1298": 1085.7301287630034,
           "1299": 1085.897759469609,
           "13": 30.809577578994134,
           "130": 225.04095136201693,
           "1300": 1086.0574827366438,
           "1301": 1086.527963863455,
           "1302": 1086.938560937013,
           "1303": 1088.3432465695325,
           "1304": 1090.670309280675,
           "1305": 1090.7434989313174,
           "1306": 1090.8105769035742,
           "1307": 1091.592832020226,
           "1308": 1092.355272434914,
           "1309": 1092.4138267251035,
           "131": 225.28479953451725,
           "1310": 1093.5943891435352,
           "1311": 1093.6970670230219,
           "1312": 1094.6505184880973,
           "1313": 1095.6858141851246,
           "1314": 1097.2041995163727,
           "1315": 1097.3212462415993,
           "1316": 1099.7681398008629,
           "1317": 1101.4104809758367,
           "1318": 1103.8519648677097,
           "1319": 1105.615869482456,
           "132": 226.23576546542665,
           "1320": 1105.894522136784,
           "1321": 1106.6724262326147,
           "1322": 1108.4111541108773,
           "1323": 1110.2359033081914,
           "1324": 1110.3682286078467,
           "1325": 1110.5032170241989,
           "1326": 1110.681250633815,
           "1327": 1110.9158049108175,
           "1328": 1110.9711432079503,
           "1329": 1111.2672135108312,
           "133": 226.57875520160783,
           "1330": 1111.9471000920298,
           "1331": 1113.6124885122474,
           "1332": 1114.274813861078,
           "1333": 1114.498181208275,
           "1334": 1114.5479232356008,
           "1335": 1116.5018696157506,
           "1336": 1117.5570232333935,
           "1337": 1118.8162623050011,
           "1338": 1120.8803047465724,
           "1339": 1122.705196475938,
           "134": 228.43406532658088,
           "1340": 1123.508649819555,
           "1341": 1126.055393036533,
           "1342": 1126.4025709604693,
           "1343": 1127.5984390348528,
           "1344": 1128.519219672014,
           "1345": 1129.2294247502805,
           "1346": 1129.6879898538577,
           "1347": 1130.1849344762038,
           "1348": 1132.299875778316,
           "1349": 1134.6758437759408,
           "135": 229.77467572858922,
           "1350": 1134.724936488035,
           "1351": 1137.1109509263622,
           "1352": 1138.1175231745196,
           "1353": 1138.6396520363085,
           "1354": 1139.37797423139,
           "1355": 1140.6013383785976,
           "1356": 1141.3858063206217,
           "1357": 1142.361597379387,
           "1358": 1145.6110866469571,
           "1359": 1145.9044730666417,
           "136": 229.7937239554541,
           "1360": 1146.4855646385085,
           "1361": 1147.295189806392,
           "1362": 1147.6448379293602,
           "1363": 1149.510717661777,
           "1364": 1150.9070067128443,
           "1365": 1154.3861910557464,
           "1366": 1154.5632900199682,
           "1367": 1154.8912184418152,
           "1368": 1155.4888894617877,
           "1369": 1156.1902173482688,
           "137": 229.99150636270338,
           "1370": 1156.3351745461973,
           "1371": 1157.3115934402376,
           "1372": 1160.3279409304848,
           "1373": 1162.820673095334,
           "1374": 1163.7349660243947,
           "1375": 1163.920702341167,
           "1376": 1164.9009976713592,
           "1377": 1167.102658304177,
           "1378": 1167.1455039828597,
           "1379": 1168.172883597142,
           "138": 230.30242385496942,
           "1380": 1168.4360658200972,
           "1381": 1168.5741507049881,
           "1382": 1169.5396221875462,
           "1383": 1172.968757187343,
           "1384": 1174.9229268976994,
           "1385": 1175.1683294340128,
           "1386": 1175.360565092955,
           "1387": 1175.7613474919171,
           "1388": 1177.186631764895,
           "1389": 1177.2664570834982,
           "139": 231.1214224639493,
           "1390": 1177.3702655628495,
           "1391": 1178.5155842026272,
           "1392": 1178.872151498188,
           "1393": 1179.455664467778,
           "1394": 1179.7007195874444,
           "1395": 1180.5096714323622,
           "1396": 1181.6541984159323,
           "1397": 1181.7905854768126,
           "1398": 1182.074091757326,
           "1399": 1182.3848695590964,
           "14": 31.05006004968228,
           "140": 232.70729377568358,
           "1400": 1183.12281188357,
           "1401": 1183.248989014862,
           "1402": 1183.6832708101485,
           "1403": 1183.741217490429,
           "1404": 1184.520111055534,
           "1405": 1185.6041567666073,
           "1406": 1185.8124061921924,
           "1407": 1185.869336816318,
           "1408": 1186.0353552023118,
           "1409": 1187.0934858994467,
           "141": 233.3147240452852,
           "1410": 1187.4345342465726,
           "1411": 1189.162632254061,
           "1412": 1191.4346041343142,
           "1413": 1191.9591681888646,
           "1414": 1193.9581783078465,
           "1415": 1194.5925663421847,
           "1416": 1194.9607683079944,
           "1417": 1195.583150373614,
           "1418": 1197.6361560301973,
           "1419": 1198.261976705383,
           "142": 235.90326131332856,
           "1420": 1198.4553709576194,
           "1421": 1199.513875946675,
           "1422": 1200.3272710129945,
           "1423": 1200.6649037558552,
           "1424": 1200.8782356639015,
           "1425": 1201.091083319037,
           "1426": 1201.6606754105187,
           "1427": 1201.7657378718388,
           "1428": 1202.1562728947372,
           "1429": 1202.8232628390579,
           "143": 237.0464544391284,
           "1430": 1203.1670534319933,
           "1431": 1203.2401406687086,
           "1432": 1204.691284317311,
           "1433": 1205.3767327996168,
           "1434": 1207.5490681118877,
           "1435": 1208.3840667674099,
           "1436": 1208.5095988949913,
           "1437": 1210.1058222729769,
           "1438": 1210.5003155424454,
           "1439": 1211.0056989868215,
           "144": 237.14993692878954,
           "1440": 1211.4930080617307,
           "1441": 1212.0182622580103,
           "1442": 1212.5870757561438,
           "1443": 1213.1908819841249,
           "1444": 1213.3215403353142,
           "1445": 1214.9671522477413,
           "1446": 1216.1061669155852,
           "1447": 1216.368156501538,
           "1448": 1217.4661713319888,
           "1449": 1217.6617575177668,
           "145": 237.8134672210549,
           "1450": 1218.3727613600038,
           "1451": 1218.5839908006465,
           "1452": 1218.6412371006638,
           "1453": 1218.6669860504953,
           "1454": 1219.379246471161,
           "1455": 1219.5398988941968,
           "1456": 1219.9159061660334,
           "1457": 1220.159237759818,
           "1458": 1220.5319254911392,
           "1459": 1222.1609198823862,
           "146": 237.84063026314595,
           "1460": 1222.5726832375105,
           "1461": 1224.1434324366733,
           "1462": 1224.349448975105,
           "1463": 1225.1329113681402,
           "1464": 1225.4078388949226,
           "1465": 1225.8695918568708,
           "1466": 1226.302464424471,
           "1467": 1226.9430126451682,
           "1468": 1227.4182931379523,
           "1469": 1228.3514408953286,
           "147": 238.10524561825994,
           "1470": 1228.6886664690694,
           "1471": 1229.0046131229083,
           "1472": 1229.4931436778054,
           "1473": 1233.584001203506,
           "1474": 1234.576156462549,
           "1475": 1235.7748581980732,
           "1476": 1237.8400407656645,
           "1477": 1238.4378098164275,
           "1478": 1238.8616885706506,
           "1479": 1239.2213608871152,
           "148": 238.46372342513928,
           "1480": 1240.6453651153754,
           "1481": 1241.2645800765558,
           "1482": 1242.9324328023556,
           "1483": 1243.0926251916906,
           "1484": 1243.625665837734,
           "1485": 1244.8480536412947,
           "1486": 1246.8961125774676,
           "1487": 1247.2113493686902,
           "1488": 1247.786738732848,
           "1489": 1247.9903143911752,
           "149": 239.5497380863977,
           "1490": 1248.4488059670123,
           "1491": 1248.9883834588672,
           "1492": 1250.6468752068852,
           "1493": 1250.683707903991,
           "1494": 1251.0913743486408,
           "1495": 1251.969553401355,
           "1496": 1252.4237919742022,
           "1497": 1256.7936364461555,
           "1498": 1256.817648326738,
           "1499": 1257.174799941722,
           "15": 34.924852230274524,
           "150": 240.1006412581597,
           "1500": 1257.994905800191,
           "1501": 1258.3338323636046,
           "1502": 1258.5635736069657,
           "1503": 1258.938578546045,
           "1504": 1260.1348071195737,
           "1505": 1260.5229993243502,
           "1506": 1261.4540521271103,
           "1507": 1262.4486821581322,
           "1508": 1262.8585636542177,
           "1509": 1263.1842570973881,
           "151": 240.21942968352838,
           "1510": 1263.4042088691647,
           "1511": 1264.8478626922604,
           "1512": 1265.1228434847571,
           "1513": 1266.3853871962665,
           "1514": 1266.7281489040374,
           "1515": 1269.713487381889,
           "1516": 1270.0082075940352,
           "1517": 1270.1400017482795,
           "1518": 1270.8295594332844,
           "1519": 1271.024432664555,
           "152": 240.249025499107,
           "1520": 1273.451945433772,
           "1521": 1275.8250029798758,
           "1522": 1278.4873689101437,
           "1523": 1278.5581547479699,
           "1524": 1278.8845821373543,
           "1525": 1281.6681752202076,
           "1526": 1281.9107873821902,
           "1527": 1283.171316027064,
           "1528": 1284.2615448382371,
           "1529": 1284.513561828895,
           "153": 240.43044868279623,
           "1530": 1285.9806804126817,
           "1531": 1286.173025758085,
           "1532": 1287.20019965289,
           "1533": 1288.8976664423385,
           "1534": 1289.126761405362,
           "1535": 1290.7183634204043,
           "1536": 1291.5272905958545,
           "1537": 1291.689559466785,
           "1538": 1293.584866239826,
           "1539": 1295.179835457227,
           "154": 241.7111726698038,
           "1540": 1296.800837707894,
           "1541": 1297.4938682231043,
           "1542": 1297.547140768657,
           "1543": 1298.836955550392,
           "1544": 1299.1273559489223,
           "1545": 1299.1596434027767,
           "1546": 1301.1050012144797,
           "1547": 1301.140617794074,
           "1548": 1304.0572432333904,
           "1549": 1304.2787156084598,
           "155": 243.0614774645243,
           "1550": 1304.3144136554547,
           "1551": 1306.1049307074948,
           "1552": 1307.0063747210002,
           "1553": 1309.56752816827,
           "1554": 1310.9923689998452,
           "1555": 1311.2452817726637,
           "1556": 1313.0211208828189,
           "1557": 1313.279413703368,
           "1558": 1313.2835195914818,
           "1559": 1313.8136138664636,
           "156": 243.4587422651114,
           "1560": 1313.8618573448805,
           "1561": 1314.7259247297511,
           "1562": 1315.2220178711996,
           "1563": 1316.2528783306823,
           "1564": 1316.5748526790228,
           "1565": 1317.7320763841965,
           "1566": 1318.1550401568038,
           "1567": 1319.6830529922154,
           "1568": 1319.7794086849801,
           "1569": 1320.2787748406772,
           "157": 243.51063770461934,
           "1570": 1322.5967452103039,
           "1571": 1323.4174140837777,
           "1572": 1324.390878670037,
           "1573": 1324.4379772600253,
           "1574": 1324.56540997413,
           "1575": 1324.8661328540738,
           "1576": 1325.4568963982945,
           "1577": 1328.6429510951007,
           "1578": 1329.5869489316965,
           "1579": 1330.073921766916,
           "158": 244.58959115569527,
           "1580": 1330.3074698101236,
           "1581": 1332.6936536791268,
           "1582": 1334.354556762671,
           "1583": 1334.5883436103047,
           "1584": 1334.8534334273031,
           "1585": 1336.2274017014136,
           "1586": 1339.9272270025,
           "1587": 1342.2623841783918,
           "1588": 1342.4257154316492,
           "1589": 1342.4927355980494,
           "159": 246.5013057104629,
           "1590": 1342.769435620045,
           "1591": 1344.9505570318584,
           "1592": 1345.8249957125104,
           "1593": 1346.7518659190723,
           "1594": 1346.9679674655422,
           "1595": 1347.2960164017754,
           "1596": 1350.6520752290076,
           "1597": 1354.3739989503367,
           "1598": 1355.7386189573995,
           "1599": 1356.74435328314,
           "16": 38.494249463803065,
           "160": 246.88261052651015,
           "1600": 1357.3684217619536,
           "1601": 1357.6809426717002,
           "1602": 1358.3914876190172,
           "1603": 1358.6694339131718,
           "1604": 1359.072308636278,
           "1605": 1359.0790784377778,
           "1606": 1359.3061534179124,
           "1607": 1361.6287073011354,
           "1608": 1362.0754636330505,
           "1609": 1362.0936212437425,
           "161": 247.31524434711517,
           "1610": 1363.930966157793,
           "1611": 1364.5805150072356,
           "1612": 1366.1635199393718,
           "1613": 1366.555184628626,
           "1614": 1366.892785945444,
           "1615": 1366.963189024892,
           "1616": 1367.1544452943724,
           "1617": 1368.0482237233098,
           "1618": 1369.0232811751512,
           "1619": 1370.6598734680285,
           "162": 251.2596177905836,
           "1620": 1370.993452876005,
           "1621": 1372.2941492464777,
           "1622": 1375.258401052074,
           "1623": 1375.5764589913358,
           "1624": 1375.833612523922,
           "1625": 1377.6883574863448,
           "1626": 1377.853384361446,
           "1627": 1377.9647087205262,
           "1628": 1379.2940922076075,
           "1629": 1379.4457606408412,
           "163": 251.44755383979395,
           "1630": 1381.8999407424078,
           "1631": 1383.7164447119396,
           "1632": 1385.7997130562962,
           "1633": 1386.03036673367,
           "1634": 1386.0950575292832,
           "1635": 1386.7375285539163,
           "1636": 1387.7279793101088,
           "1637": 1391.3388539683015,
           "1638": 1391.897721338912,
           "1639": 1391.989385318076,
           "164": 251.64399162847008,
           "1640": 1392.1549250771268,
           "1641": 1392.91368855416,
           "1642": 1393.8301640230077,
           "1643": 1395.3464517359484,
           "1644": 1395.5749461213516,
           "1645": 1395.9128168456489,
           "1646": 1396.2676083509984,
           "1647": 1396.8244078797181,
           "1648": 1398.2658269014403,
           "1649": 1398.3459167793485,
           "165": 252.17092386580805,
           "1650": 1398.4257002945405,
           "1651": 1398.4570311008347,
           "1652": 1399.7418331862473,
           "1653": 1401.971117560543,
           "1654": 1404.6915579086372,
           "1655": 1405.4254513247074,
           "1656": 1405.4453569857715,
           "1657": 1405.8843095948669,
           "1658": 1406.1417203804758,
           "1659": 1406.4813710923515,
           "166": 252.45755188992476,
           "1660": 1408.3475020969763,
           "1661": 1409.4642758719049,
           "1662": 1410.1592931619898,
           "1663": 1416.8037351871633,
           "1664": 1417.6493707520679,
           "1665": 1418.0760750959978,
           "1666": 1418.2719627511124,
           "1667": 1420.3592261329843,
           "1668": 1420.4517785230703,
           "1669": 1420.97187849053,
           "167": 253.3337685325244,
           "1670": 1421.2128764559416,
           "1671": 1422.5807977298011,
           "1672": 1423.372471700881,
           "1673": 1426.3148388961379,
           "1674": 1426.407763367115,
           "1675": 1426.4500493056785,
           "1676": 1426.773025616339,
           "1677": 1429.8264183953079,
           "1678": 1430.09884062414,
           "1679": 1430.724445155924,
           "168": 254.69544279821682,
           "1680": 1431.5104743196364,
           "1681": 1432.1465493494543,
           "1682": 1432.5759488741073,
           "1683": 1433.001299736163,
           "1684": 1434.6748781564136,
           "1685": 1435.2457309947392,
           "1686": 1436.78299530806,
           "1687": 1438.06698206862,
           "1688": 1438.8195162851034,
           "1689": 1440.0099394083907,
           "169": 256.12234174337,
           "1690": 1440.878081180304,
           "1691": 1440.9982964333467,
           "1692": 1441.800897355419,
           "1693": 1443.045873447489,
           "1694": 1443.098044715598,
           "1695": 1443.4261811051947,
           "1696": 1443.705157175233,
           "1697": 1443.7238491804644,
           "1698": 1444.6717699888418,
           "1699": 1445.3721184177646,
           "17": 40.96155130579491,
           "170": 256.9924994574383,
           "1700": 1448.8847611639178,
           "1701": 1449.0668030108402,
           "1702": 1450.2294607259053,
           "1703": 1451.332252137229,
           "1704": 1451.3648392628484,
           "1705": 1451.8245128390056,
           "1706": 1451.8547263544822,
           "1707": 1452.3789429257683,
           "1708": 1452.4959282043721,
           "1709": 1453.8381181509328,
           "171": 257.1465579333916,
           "1710": 1456.0847494790482,
           "1711": 1456.572041868068,
           "1712": 1456.5955649337998,
           "1713": 1457.2453673500618,
           "1714": 1457.3251633235,
           "1715": 1458.4408213169909,
           "1716": 1459.7299072082621,
           "1717": 1459.8030536665876,
           "1718": 1460.6657000472567,
           "1719": 1462.1434813683995,
           "172": 257.6084400442188,
           "1720": 1464.833950851371,
           "1721": 1465.0744853696629,
           "1722": 1465.0763699479394,
           "1723": 1465.4973667281538,
           "1724": 1468.6347540018046,
           "1725": 1470.0116369721895,
           "1726": 1472.5653939005292,
           "1727": 1473.122463309389,
           "1728": 1473.6189879550961,
           "1729": 1476.1109233661684,
           "173": 259.8077243084591,
           "1730": 1477.4849407629113,
           "1731": 1477.5613372728974,
           "1732": 1480.2953631321632,
           "1733": 1480.4490071568089,
           "1734": 1480.9496128551857,
           "1735": 1480.9716511397362,
           "1736": 1481.8431653886003,
           "1737": 1484.4855806200355,
           "1738": 1484.6071466571666,
           "1739": 1485.6142284532002,
           "174": 260.3959225189795,
           "1740": 1486.0987322075757,
           "1741": 1487.5297339370488,
           "1742": 1488.149139691065,
           "1743": 1489.2276336269645,
           "1744": 1489.8971398307308,
           "1745": 1492.4832748504439,
           "1746": 1492.568446516424,
           "1747": 1492.875818582767,
           "1748": 1492.9785710791648,
           "1749": 1493.9753190367003,
           "175": 261.11924156552743,
           "1750": 1495.3778127535024,
           "1751": 1496.03834620664,
           "1752": 1496.148961920476,
           "1753": 1496.2561883976111,
           "1754": 1498.4455894796674,
           "1755": 1498.9116783941695,
           "1756": 1499.91658492921,
           "1757": 1502.9075576070607,
           "1758": 1503.296922720964,
           "1759": 1503.7232581685887,
           "176": 261.2223920825295,
           "1760": 1504.1509800485937,
           "1761": 1505.2934430405744,
           "1762": 1505.3192871264123,
           "1763": 1506.1571637590916,
           "1764": 1506.6872839340929,
           "1765": 1509.0671950789774,
           "1766": 1511.0261465202716,
           "1767": 1511.4446374850565,
           "1768": 1513.6563002358919,
           "1769": 1513.8450909145454,
           "177": 262.31753556911883,
           "1770": 1513.917226550166,
           "1771": 1515.6040369356358,
           "1772": 1516.1551013860203,
           "1773": 1516.7773188162669,
           "1774": 1517.6692446969037,
           "1775": 1520.1219667008716,
           "1776": 1521.0329638624007,
           "1777": 1521.256059653316,
           "1778": 1521.5121989014458,
           "1779": 1521.5412990190812,
           "178": 262.80273632731456,
           "1780": 1522.7454451000076,
           "1781": 1523.0418346828374,
           "1782": 1528.2262857072444,
           "1783": 1530.828702298097,
           "1784": 1531.0961728727345,
           "1785": 1535.0452420259558,
           "1786": 1535.411235963065,
           "1787": 1538.0199272332288,
           "1788": 1540.304358566555,
           "1789": 1543.0964679336516,
           "179": 264.9970567635197,
           "1790": 1547.7308840950811,
           "1791": 1549.2365379574674,
           "1792": 1553.305258897337,
           "1793": 1554.1656543880692,
           "1794": 1554.225665349243,
           "1795": 1557.861078811808,
           "1796": 1558.5710962825553,
           "1797": 1559.9071353956622,
           "1798": 1561.2879966216626,
           "1799": 1562.6167646223776,
           "18": 41.99112185572732,
           "180": 265.00845109908454,
           "1800": 1562.9863032893359,
           "1801": 1564.7538958536284,
           "1802": 1565.533858068004,
           "1803": 1565.9828608052956,
           "1804": 1566.7140830406033,
           "1805": 1568.8167206548203,
           "1806": 1568.9405933326827,
           "1807": 1569.937728870531,
           "1808": 1570.5386054497203,
           "1809": 1572.312252774091,
           "181": 266.7603386886162,
           "1810": 1572.4656971528823,
           "1811": 1573.1593301406624,
           "1812": 1573.3308906530074,
           "1813": 1573.4201459167582,
           "1814": 1574.8783896126058,
           "1815": 1575.2522233758416,
           "1816": 1576.1560492218368,
           "1817": 1576.1977436957704,
           "1818": 1576.9430493648936,
           "1819": 1577.3241760869028,
           "182": 267.30599662771283,
           "1820": 1577.5966428680847,
           "1821": 1578.9266424457726,
           "1822": 1581.4515977740307,
           "1823": 1581.4969071241228,
           "1824": 1582.5484295128254,
           "1825": 1584.3479237807724,
           "1826": 1584.9992852449222,
           "1827": 1585.4323449499416,
           "1828": 1586.1022058607743,
           "1829": 1588.1098550720603,
           "183": 267.76679900685804,
           "1830": 1588.6541111168804,
           "1831": 1588.7429147485257,
           "1832": 1590.0618784011015,
           "1833": 1591.0529731580475,
           "1834": 1594.7743350419835,
           "1835": 1598.2584953630453,
           "1836": 1599.488928307055,
           "1837": 1600.0447987839582,
           "1838": 1600.9796849415893,
           "1839": 1601.8283335630354,
           "184": 269.3236917173442,
           "1840": 1603.2635879336826,
           "1841": 1604.0640247262513,
           "1842": 1605.813714961796,
           "1843": 1605.9985499704403,
           "1844": 1607.8242608792007,
           "1845": 1608.7187624710768,
           "1846": 1610.08764403808,
           "1847": 1616.2436601783133,
           "1848": 1616.4488442663708,
           "1849": 1617.039255747325,
           "185": 270.12549806119586,
           "1850": 1617.7673463636897,
           "1851": 1619.432434463769,
           "1852": 1619.4407536699973,
           "1853": 1624.9570315891685,
           "1854": 1627.5059521855603,
           "1855": 1628.6454625370902,
           "1856": 1631.382944752355,
           "1857": 1634.8997252608258,
           "1858": 1641.2037096507888,
           "1859": 1642.413833274447,
           "186": 270.70268689536846,
           "1860": 1642.5631528191545,
           "1861": 1642.9432239064993,
           "1862": 1648.0640499255628,
           "1863": 1650.166150832563,
           "1864": 1652.2729102222213,
           "1865": 1655.1042941460883,
           "1866": 1655.892088254053,
           "1867": 1658.9577784018152,
           "1868": 1659.1066393061355,
           "1869": 1659.3775898880378,
           "187": 271.58583424559447,
           "1870": 1660.5313326321914,
           "1871": 1662.0849825165933,
           "1872": 1663.9418809649994,
           "1873": 1664.091994389397,
           "1874": 1664.1546705774679,
           "1875": 1666.0803250666943,
           "1876": 1667.9812488269865,
           "1877": 1669.1573788434816,
           "1878": 1669.5132186092837,
           "1879": 1670.9445885399812,
           "188": 272.42072098323433,
           "1880": 1672.0568470843316,
           "1881": 1674.1655271042125,
           "1882": 1675.491545128444,
           "1883": 1676.5647771956135,
           "1884": 1676.8385643275838,
           "1885": 1678.675646661663,
           "1886": 1679.1614811610132,
           "1887": 1679.8728975988467,
           "1888": 1680.096581702979,
           "1889": 1680.828589760643,
           "189": 275.05061465397097,
           "1890": 1681.5519887533885,
           "1891": 1683.7423037267529,
           "1892": 1685.5865755115751,
           "1893": 1687.544330134057,
           "1894": 1687.558479727843,
           "1895": 1689.8026390288549,
           "1896": 1694.0660535079492,
           "1897": 1695.3569918815963,
           "1898": 1695.7034108672092,
           "1899": 1696.3521283962427,
           "19": 44.50236560596024,
           "190": 275.6391735643913,
           "1900": 1701.2270680502338,
           "1901": 1707.9018926008941,
           "1902": 1712.3005925656923,
           "1903": 1715.18964761829,
           "1904": 1717.5193929966251,
           "1905": 1718.5045961517587,
           "1906": 1718.5670393088478,
           "1907": 1719.4480682824787,
           "1908": 1719.4758737713325,
           "1909": 1720.3678180520592,
           "191": 278.20698990373927,
           "1910": 1723.2698294387358,
           "1911": 1725.1443395397446,
           "1912": 1725.3478693273444,
           "1913": 1730.6043190250323,
           "1914": 1731.0216864895722,
           "1915": 1731.6613542859382,
           "1916": 1732.4969300500186,
           "1917": 1732.6322643446044,
           "1918": 1733.0224302153301,
           "1919": 1733.176723193168,
           "192": 279.3541615643825,
           "1920": 1733.970142756205,
           "1921": 1734.029883309633,
           "1922": 1734.4551904485536,
           "1923": 1736.1048591212502,
           "1924": 1736.502918615603,
           "1925": 1736.7626852523777,
           "1926": 1737.3619902250462,
           "1927": 1738.4543974095725,
           "1928": 1740.3621734669,
           "1929": 1741.4777447352187,
           "193": 279.42822190262575,
           "1930": 1741.521298455967,
           "1931": 1742.1961421405017,
           "1932": 1742.3314679708462,
           "1933": 1742.4145653923697,
           "1934": 1744.841822631421,
           "1935": 1745.79796983985,
           "1936": 1745.823454594137,
           "1937": 1747.8201905610863,
           "1938": 1748.5697818202618,
           "1939": 1748.7929997143046,
           "194": 280.6750103781412,
           "1940": 1748.839732300484,
           "1941": 1749.4159411527507,
           "1942": 1751.5147150137466,
           "1943": 1752.8274739560893,
           "1944": 1753.5823816531843,
           "1945": 1754.6885449043461,
           "1946": 1754.7160724226417,
           "1947": 1757.7481149282062,
           "1948": 1757.97500819807,
           "1949": 1758.3383228980722,
           "195": 281.0076895965102,
           "1950": 1761.9415336323736,
           "1951": 1762.9789636299072,
           "1952": 1765.1771743275085,
           "1953": 1765.5990073436924,
           "1954": 1765.6990262005293,
           "1955": 1767.937695426832,
           "1956": 1768.5288805109471,
           "1957": 1769.6405663015714,
           "1958": 1770.27238616048,
           "1959": 1771.1972058733663,
           "196": 281.6975746918531,
           "1960": 1772.2299747592185,
           "1961": 1772.271800251109,
           "1962": 1776.666579054304,
           "1963": 1776.6694223646386,
           "1964": 1777.2073204315573,
           "1965": 1777.9723515739468,
           "1966": 1778.6212246825582,
           "1967": 1778.8250101088984,
           "1968": 1779.621403279299,
           "1969": 1779.6340877019745,
           "197": 282.2199539873231,
           "1970": 1779.974299259016,
           "1971": 1785.1973176019142,
           "1972": 1785.276109792587,
           "1973": 1785.8870698507053,
           "1974": 1789.1939779614052,
           "1975": 1790.7906960590285,
           "1976": 1791.129410010678,
           "1977": 1792.616197893183,
           "1978": 1793.7370328336233,
           "1979": 1794.0761366331244,
           "198": 283.4606599596219,
           "1980": 1795.122954730213,
           "1981": 1798.6700393066596,
           "1982": 1799.0141345036534,
           "1983": 1799.8607297703911,
           "1984": 1803.5007491413205,
           "1985": 1804.6862697841282,
           "1986": 1805.9062106963022,
           "1987": 1807.0829914646213,
           "1988": 1810.654607492695,
           "1989": 1810.8959078566945,
           "199": 285.1903921724298,
           "1990": 1812.908705913235,
           "1991": 1813.3467214122056,
           "1992": 1814.6778833130693,
           "1993": 1817.0288767253187,
           "1994": 1820.1697470755453,
           "1995": 1820.7305261158606,
           "1996": 1822.6673248889724,
           "1997": 1822.7271763445374,
           "1998": 1823.2019542425971,
           "1999": 1825.087697544308,
           "2": 8.44412960141221,
           "20": 50.390981663887864,
           "200": 287.06008855393446,
           "2000": 1825.5306260539594,
           "2001": 1825.730451327622,
           "2002": 1825.9433419150798,
           "2003": 1825.9765808441236,
           "2004": 1829.5716091850431,
           "2005": 1830.1728343103614,
           "2006": 1832.0817142370774,
           "2007": 1833.094339567937,
           "2008": 1833.728484856719,
           "2009": 1837.8662881556204,
           "201": 290.21013788017166,
           "2010": 1838.4375048330319,
           "2011": 1840.7242913259174,
           "2012": 1845.9334034486164,
           "2013": 1846.2946329299955,
           "2014": 1846.5400411090056,
           "2015": 1854.8500142760126,
           "2016": 1857.9545355308028,
           "2017": 1860.1067512124482,
           "2018": 1862.8781285399295,
           "2019": 1863.579054370767,
           "202": 290.4792530697794,
           "2020": 1866.303190082287,
           "2021": 1867.8043666104443,
           "2022": 1868.944339279219,
           "2023": 1875.1455413583972,
           "2024": 1880.0976992226833,
           "2025": 1880.368373789991,
           "2026": 1881.1709609495365,
           "2027": 1881.300035368505,
           "2028": 1882.2564287687258,
           "2029": 1882.279064577733,
           "203": 291.2691766693018,
           "2030": 1886.0495745236103,
           "2031": 1887.5525125319436,
           "2032": 1888.4850582902595,
           "2033": 1889.3958013540541,
           "2034": 1889.9706788700742,
           "2035": 1891.780867837158,
           "2036": 1891.913132223223,
           "2037": 1892.4363884158008,
           "2038": 1892.7634064045144,
           "2039": 1894.5176409976111,
           "204": 292.4149367621987,
           "2040": 1896.0141901159643,
           "2041": 1896.171039868537,
           "2042": 1896.9927913010688,
           "2043": 1897.9693447869222,
           "2044": 1899.023334351166,
           "2045": 1900.116130727451,
           "2046": 1902.1568722032512,
           "2047": 1902.896231843513,
           "2048": 1904.0938203903986,
           "2049": 1906.2111823170796,
           "205": 292.67648230787955,
           "2050": 1908.1647287110582,
           "2051": 1909.8769622278821,
           "2052": 1910.1824758694308,
           "2053": 1914.1673218860967,
           "2054": 1914.5533092065514,
           "2055": 1915.2086128299322,
           "2056": 1915.444395794102,
           "2057": 1915.5762892064524,
           "2058": 1916.5286882697394,
           "2059": 1917.6634342474574,
           "206": 292.70613036303,
           "2060": 1919.9913463007545,
           "2061": 1922.3581228317064,
           "2062": 1922.434915414713,
           "2063": 1925.1131141223227,
           "2064": 1927.5073284267517,
           "2065": 1932.7906531935257,
           "2066": 1933.1073124527568,
           "2067": 1933.307340232062,
           "2068": 1934.0331469197413,
           "2069": 1936.6296363933034,
           "207": 293.1963180240843,
           "2070": 1938.9260166028978,
           "2071": 1942.079971321454,
           "2072": 1944.9780249953853,
           "2073": 1945.766327910426,
           "2074": 1950.3924829148555,
           "2075": 1950.6375283280822,
           "2076": 1953.269686966988,
           "2077": 1954.7920428014581,
           "2078": 1957.1485287294556,
           "2079": 1958.6913457656228,
           "208": 293.7260471915749,
           "2080": 1961.0190620436276,
           "2081": 1961.8205997026726,
           "2082": 1962.0137280335884,
           "2083": 1963.7682678686792,
           "2084": 1964.4422670546167,
           "2085": 1964.5159489577986,
           "2086": 1964.8080307694875,
           "2087": 1965.4816704486695,
           "2088": 1965.5865547716928,
           "2089": 1966.2831469039693,
           "209": 293.91957216323476,
           "2090": 1966.9044263594824,
           "2091": 1967.038423632605,
           "2092": 1967.8569893882598,
           "2093": 1968.486903389152,
           "2094": 1968.7449704636485,
           "2095": 1969.5380318884436,
           "2096": 1970.587895774073,
           "2097": 1971.2376659909064,
           "2098": 1973.753091576697,
           "2099": 1974.4877188843138,
           "21": 53.793689109620345,
           "210": 294.0773243956901,
           "2100": 1974.9158082999884,
           "2101": 1975.8594498435007,
           "2102": 1975.9546072805178,
           "2103": 1976.7284197009858,
           "2104": 1977.6917934932576,
           "2105": 1978.5847780891186,
           "2106": 1978.7002551633564,
           "2107": 1978.9682080435948,
           "2108": 1979.4182437854618,
           "2109": 1979.7791790483936,
           "211": 296.60982429192654,
           "2110": 1980.2026913172451,
           "2111": 1981.778154636558,
           "2112": 1982.8345046938232,
           "2113": 1985.7401939726137,
           "2114": 1985.8773976753528,
           "2115": 1988.4645786392937,
           "2116": 1989.127991011076,
           "2117": 1989.7210808872535,
           "2118": 1990.8326904769392,
           "2119": 1991.0025812209813,
           "212": 297.0542542305432,
           "2120": 1991.7592801417125,
           "2121": 1991.8218270276836,
           "2122": 1992.177492270653,
           "2123": 1996.960854308458,
           "2124": 2000.5738886754773,
           "2125": 2004.7512427490005,
           "2126": 2006.1452156509326,
           "2127": 2008.5041204407596,
           "2128": 2011.0312464920303,
           "2129": 2013.163419730702,
           "213": 297.69185548656776,
           "2130": 2013.7832048080322,
           "2131": 2018.2273151802121,
           "2132": 2020.6531081777257,
           "2133": 2020.6791306643977,
           "2134": 2022.020687488322,
           "2135": 2023.7370634552217,
           "2136": 2025.2459496787283,
           "2137": 2028.0036077901266,
           "2138": 2028.554893116623,
           "2139": 2029.0899682003653,
           "214": 298.02087963411293,
           "2140": 2030.373861414014,
           "2141": 2030.3843497842324,
           "2142": 2030.7118756803052,
           "2143": 2030.7603061546936,
           "2144": 2034.3974485349177,
           "2145": 2038.7347894148518,
           "2146": 2040.7050132243166,
           "2147": 2044.2180177605424,
           "2148": 2044.9831278577676,
           "2149": 2045.380565272041,
           "215": 298.40534794475315,
           "2150": 2046.2717361369882,
           "2151": 2047.4302330416158,
           "2152": 2049.9802722944555,
           "2153": 2050.838437999576,
           "2154": 2051.5449246193352,
           "2155": 2052.564625834563,
           "2156": 2054.662371169713,
           "2157": 2060.1230860540954,
           "2158": 2066.1009215550143,
           "2159": 2068.163458321568,
           "216": 298.81034602099743,
           "2160": 2069.612581404118,
           "2161": 2071.1703073040594,
           "2162": 2073.4541097831116,
           "2163": 2075.264040261337,
           "2164": 2076.8551982966196,
           "2165": 2078.0373207200964,
           "2166": 2078.9565694706125,
           "2167": 2081.0773061134637,
           "2168": 2082.3421212907956,
           "2169": 2086.321791720504,
           "217": 300.2457749012055,
           "2170": 2087.2436107755448,
           "2171": 2088.0624799448187,
           "2172": 2089.725179108912,
           "2173": 2090.9941726960196,
           "2174": 2094.9692082070524,
           "2175": 2096.4593773631746,
           "2176": 2098.9608195447872,
           "2177": 2099.9330810158567,
           "2178": 2100.1390640307036,
           "2179": 2100.5621485396973,
           "218": 302.02066849186605,
           "2180": 2100.619567476259,
           "2181": 2108.9053210812963,
           "2182": 2108.953296187028,
           "2183": 2110.6889256357254,
           "2184": 2113.396742730595,
           "2185": 2115.140511067782,
           "2186": 2116.8089800371135,
           "2187": 2119.158205527933,
           "2188": 2119.524874787564,
           "2189": 2120.8914526654376,
           "219": 304.05319253118535,
           "2190": 2125.5619184487814,
           "2191": 2127.4921251645865,
           "2192": 2128.2097438320347,
           "2193": 2130.2251041632608,
           "2194": 2130.551796104938,
           "2195": 2131.891192006897,
           "2196": 2132.286096095039,
           "2197": 2132.7874723833625,
           "2198": 2135.7169617925506,
           "2199": 2136.7199865233474,
           "22": 54.50241528707833,
           "220": 305.4555634324181,
           "2200": 2137.4290592394022,
           "2201": 2138.4118900690078,
           "2202": 2139.184680086592,
           "2203": 2139.946481215311,
           "2204": 2141.8673198886613,
           "2205": 2143.267710726918,
           "2206": 2143.500198618416,
           "2207": 2143.505184624092,
           "2208": 2145.1231702452874,
           "2209": 2146.03480136979,
           "221": 305.8815495838839,
           "2210": 2146.5003264113566,
           "2211": 2149.779257086892,
           "2212": 2150.264301547275,
           "2213": 2150.742990484063,
           "2214": 2153.4382097029834,
           "2215": 2153.8605168129575,
           "2216": 2159.9687348108364,
           "2217": 2160.001082446333,
           "2218": 2162.170553266118,
           "2219": 2164.9637094342575,
           "222": 306.2948334081743,
           "2220": 2165.1249388384713,
           "2221": 2166.840834092544,
           "2222": 2167.4288560949444,
           "2223": 2167.9172389732134,
           "2224": 2168.897279725312,
           "2225": 2172.1913407336483,
           "2226": 2178.0827678579476,
           "2227": 2178.4643030856364,
           "2228": 2180.0878318866626,
           "2229": 2183.5177711962187,
           "223": 307.32054975815373,
           "2230": 2183.5278257543187,
           "2231": 2183.825256584227,
           "2232": 2185.9099478585663,
           "2233": 2190.234620550458,
           "2234": 2191.248853004987,
           "2235": 2193.4554021253166,
           "2236": 2195.557866916948,
           "2237": 2196.386825994536,
           "2238": 2197.3892460413713,
           "2239": 2197.7440415050846,
           "224": 307.70038728002095,
           "2240": 2200.1268571673763,
           "2241": 2208.287865556791,
           "2242": 2217.4384709162027,
           "2243": 2222.6396195407665,
           "2244": 2225.2635797587072,
           "2245": 2227.009383522041,
           "2246": 2227.6692162647746,
           "2247": 2231.9227406998652,
           "2248": 2232.8980684780045,
           "2249": 2234.122874103849,
           "225": 307.8579458450432,
           "2250": 2234.3121144127917,
           "2251": 2234.633190240286,
           "2252": 2239.757033349516,
           "2253": 2242.0517004979065,
           "2254": 2246.6846527788693,
           "2255": 2247.723884657997,
           "2256": 2251.8783024279423,
           "2257": 2253.141767075272,
           "2258": 2260.208463045328,
           "2259": 2268.30356491919,
           "226": 310.02998904499555,
           "2260": 2268.411219769764,
           "2261": 2269.9653072854167,
           "2262": 2271.329448779536,
           "2263": 2272.7912023857652,
           "2264": 2274.339501088835,
           "2265": 2275.805559869798,
           "2266": 2278.268748264785,
           "2267": 2279.5678566412817,
           "2268": 2279.7997913870404,
           "2269": 2281.0452279435276,
           "227": 310.89781713604145,
           "2270": 2281.855895811437,
           "2271": 2283.711407431347,
           "2272": 2284.001751324031,
           "2273": 2285.1059404283715,
           "2274": 2286.327337286857,
           "2275": 2288.0210437876963,
           "2276": 2288.7353818897086,
           "2277": 2292.002637813487,
           "2278": 2294.2447645234156,
           "2279": 2294.5823188310405,
           "228": 311.00353977727923,
           "2280": 2295.308292445889,
           "2281": 2296.8324486773954,
           "2282": 2297.0458070935874,
           "2283": 2298.481291969146,
           "2284": 2302.770759600223,
           "2285": 2304.927282497512,
           "2286": 2306.3208063367288,
           "2287": 2308.7981786430637,
           "2288": 2314.0622194770685,
           "2289": 2314.8921228172017,
           "229": 311.3073112747003,
           "2290": 2315.9173939603234,
           "2291": 2316.7921543571456,
           "2292": 2319.3762858603627,
           "2293": 2319.584705247483,
           "2294": 2320.9790060829737,
           "2295": 2321.744437124535,
           "2296": 2324.250365218479,
           "2297": 2328.3633782973293,
           "2298": 2328.83082239486,
           "2299": 2331.6430614159185,
           "23": 62.845691480883126,
           "230": 312.3464410921085,
           "2300": 2334.725902572304,
           "2301": 2335.7350930512316,
           "2302": 2336.520564703434,
           "2303": 2336.520852865682,
           "2304": 2337.046406620576,
           "2305": 2337.163878199714,
           "2306": 2341.0354669451785,
           "2307": 2341.9857619487916,
           "2308": 2345.9273245509594,
           "2309": 2347.077588563527,
           "231": 312.5527209808953,
           "2310": 2347.4006495286376,
           "2311": 2348.140323855705,
           "2312": 2350.701638219185,
           "2313": 2351.9544822822754,
           "2314": 2353.729151423351,
           "2315": 2353.900755627374,
           "2316": 2356.2274850499707,
           "2317": 2361.7201230316014,
           "2318": 2362.130746476681,
           "2319": 2364.2709090227922,
           "232": 314.8632148139033,
           "2320": 2365.2187573058427,
           "2321": 2365.3531154820002,
           "2322": 2367.533842133549,
           "2323": 2367.5687798872073,
           "2324": 2367.918421849913,
           "2325": 2369.566536356189,
           "2326": 2370.2216791781893,
           "2327": 2370.583066001798,
           "2328": 2371.6632234569834,
           "2329": 2372.3298580941546,
           "233": 315.36371423770095,
           "2330": 2372.358927459353,
           "2331": 2373.3213156340007,
           "2332": 2376.7187257635414,
           "2333": 2381.6778655092558,
           "2334": 2384.2696120609344,
           "2335": 2385.5802578292983,
           "2336": 2386.830637092502,
           "2337": 2387.550184225234,
           "2338": 2388.358501486053,
           "2339": 2388.838442577769,
           "234": 315.97370973171934,
           "2340": 2388.860667807714,
           "2341": 2393.282175658934,
           "2342": 2393.9404344351037,
           "2343": 2395.3078165690345,
           "2344": 2396.4764191178506,
           "2345": 2396.7499433484886,
           "2346": 2402.076085264618,
           "2347": 2402.1135250497564,
           "2348": 2403.179297029589,
           "2349": 2404.8091491055866,
           "235": 317.55053783225287,
           "2350": 2406.0381334840563,
           "2351": 2415.5840054487194,
           "2352": 2426.6763561797516,
           "2353": 2427.9479051768044,
           "2354": 2430.5920434077143,
           "2355": 2432.516691209327,
           "2356": 2434.5969439678825,
           "2357": 2435.0213581696257,
           "2358": 2436.074927017176,
           "2359": 2439.288553609011,
           "236": 317.68814705751953,
           "2360": 2439.4327189828696,
           "2361": 2443.1119724001005,
           "2362": 2444.857591357743,
           "2363": 2445.7101588447485,
           "2364": 2447.063009328421,
           "2365": 2448.86139565838,
           "2366": 2449.6217730314793,
           "2367": 2450.084648184171,
           "2368": 2451.1051640129704,
           "2369": 2451.452101889512,
           "237": 317.75650530074205,
           "2370": 2451.684666439593,
           "2371": 2452.015398318117,
           "2372": 2454.5304083817828,
           "2373": 2455.2191429502623,
           "2374": 2463.400234495258,
           "2375": 2464.442535759503,
           "2376": 2465.1030434956806,
           "2377": 2469.4669089386953,
           "2378": 2485.6803859755196,
           "2379": 2488.421238334122,
           "238": 318.7006044033787,
           "2380": 2499.0008638892486,
           "2381": 2499.910409615988,
           "2382": 2500.910139163884,
           "2383": 2501.5461541916584,
           "2384": 2503.6562285871837,
           "2385": 2504.8276645730875,
           "2386": 2508.6236499816982,
           "2387": 2509.8953040088372,
           "2388": 2516.9498871986466,
           "2389": 2517.1485652760143,
           "239": 319.06765504505483,
           "2390": 2517.8802719799555,
           "2391": 2526.2297215492895,
           "2392": 2526.2444104026727,
           "2393": 2531.448025999465,
           "2394": 2533.1734852019918,
           "2395": 2548.05007693998,
           "2396": 2548.93236999483,
           "2397": 2557.5474506001065,
           "2398": 2558.9194774518505,
           "2399": 2565.853418217217,
           "24": 67.65862550056369,
           "240": 320.0460090718002,
           "2400": 2578.8904844867357,
           "2401": 2581.0444019481315,
           "2402": 2583.3006169593714,
           "2403": 2589.315465380534,
           "2404": 2589.986523387465,
           "2405": 2591.033577128375,
           "2406": 2591.131143434282,
           "2407": 2597.404498460201,
           "2408": 2625.0402041924194,
           "2409": 2631.4161790749768,
           "241": 320.36537388957555,
           "2410": 2678.305396786935,
           "2411": 2684.7388485475467,
           "2412": 2692.9807804440406,
           "2413": 2705.411283212409,
           "2414": 2731.7752808908467,
           "242": 320.4740842467821,
           "243": 321.0540079949662,
           "244": 322.23457402123574,
           "245": 324.24573149208265,
           "246": 324.319088569698,
           "247": 324.45917455740096,
           "248": 326.3326877584745,
           "249": 326.6816569791807,
           "25": 68.28612919440819,
           "250": 327.5369907827448,
           "251": 328.1737547412825,
           "252": 328.9018809546113,
           "253": 329.10609454694634,
           "254": 329.26884104521787,
           "255": 329.6262998437161,
           "256": 329.6378657707371,
           "257": 329.7177848948045,
           "258": 330.40149023898067,
           "259": 331.1505817784468,
           "26": 69.74315070471016,
           "260": 331.51535461070574,
           "261": 332.34025878947205,
           "262": 332.53928882873515,
           "263": 333.4545268649772,
           "264": 334.2722950164483,
           "265": 334.87897746089794,
           "266": 335.40225285238625,
           "267": 336.0972181037307,
           "268": 336.1852645192533,
           "269": 336.70703490686424,
           "27": 73.41755327302162,
           "270": 336.98324713240623,
           "271": 337.29234874855246,
           "272": 339.40195016995636,
           "273": 340.6331212290204,
           "274": 340.7685626582205,
           "275": 340.80692452958795,
           "276": 341.4367120275391,
           "277": 341.49987865210693,
           "278": 341.7066993459625,
           "279": 342.3658094909456,
           "28": 73.59949025531601,
           "280": 342.3939733117411,
           "281": 342.9358727951509,
           "282": 342.96865865431477,
           "283": 343.10931707755157,
           "284": 343.43027125494126,
           "285": 344.76162346562865,
           "286": 344.94097439204523,
           "287": 345.50670100840944,
           "288": 345.6890648961074,
           "289": 347.4428448574305,
           "29": 75.04202832849569,
           "290": 347.722739340839,
           "291": 348.65798400801515,
           "292": 349.32813059359694,
           "293": 349.32863433869784,
           "294": 351.13437297203285,
           "295": 351.4971953358712,
           "296": 352.585797359092,
           "297": 352.8169052208983,
           "298": 353.89469781616776,
           "299": 354.59438239299493,
           "3": 12.613008742700893,
           "30": 75.50143739956309,
           "300": 355.18354670338175,
           "301": 356.8542468303984,
           "302": 357.25855457286434,
           "303": 357.3685101832021,
           "304": 358.10763829573074,
           "305": 359.19927322338424,
           "306": 359.4544092008471,
           "307": 359.57549910283166,
           "308": 359.6590099900673,
           "309": 360.38478109686645,
           "31": 80.54260908395787,
           "310": 360.85713761652795,
           "311": 360.9462448975149,
           "312": 361.33814873535715,
           "313": 361.46684223762645,
           "314": 361.93242204598135,
           "315": 362.197340860392,
           "316": 363.0181516829298,
           "317": 363.18930632595163,
           "318": 364.1840015388954,
           "319": 364.55107110375553,
           "32": 81.43919852720323,
           "320": 366.6955316737062,
           "321": 366.9552384012884,
           "322": 366.99064527971245,
           "323": 367.20287827454297,
           "324": 367.75099045543976,
           "325": 369.72656264159536,
           "326": 370.0194871512627,
           "327": 371.0234662005327,
           "328": 371.0972092360174,
           "329": 371.66448400417215,
           "33": 83.04214318837278,
           "330": 372.0283037218194,
           "331": 372.44127908627917,
           "332": 374.1364246903662,
           "333": 374.14065832873297,
           "334": 376.9246791065846,
           "335": 377.0841569783105,
           "336": 379.9598792554396,
           "337": 380.9521684526464,
           "338": 382.03019742081204,
           "339": 383.762329124127,
           "34": 88.52875190693756,
           "340": 383.8240084508265,
           "341": 383.8355681792142,
           "342": 384.66570828676697,
           "343": 386.55751482234047,
           "344": 388.29921351685124,
           "345": 388.68954042371075,
           "346": 388.76764914837906,
           "347": 390.1081830195374,
           "348": 392.7288939631959,
           "349": 392.85725268710564,
           "35": 88.83571390542687,
           "350": 393.1022890700203,
           "351": 393.76948872989345,
           "352": 393.92010850626696,
           "353": 394.73664757970647,
           "354": 395.5586123537251,
           "355": 395.81005399496456,
           "356": 396.51481603717394,
           "357": 397.53027468474403,
           "358": 398.56487880302495,
           "359": 399.0849148766186,
           "36": 89.29515141198694,
           "360": 401.4902982594007,
           "361": 403.82680000223905,
           "362": 406.2578387461255,
           "363": 407.1809297259573,
           "364": 407.9062394799835,
           "365": 407.9538175683723,
           "366": 408.2172126569206,
           "367": 408.5176567126489,
           "368": 409.0558671565074,
           "369": 409.2095605047554,
           "37": 89.58050167870076,
           "370": 409.3346122818042,
           "371": 409.3586210911384,
           "372": 410.9959827012628,
           "373": 411.7019690049618,
           "374": 412.37167237044844,
           "375": 413.6361301410611,
           "376": 414.7753300738116,
           "377": 414.92536588480004,
           "378": 416.40527816423423,
           "379": 416.6774596595986,
           "38": 90.1870915320137,
           "380": 416.75507988556615,
           "381": 417.0983705117555,
           "382": 417.5189348452015,
           "383": 419.1343268995422,
           "384": 419.9188382783447,
           "385": 420.5958381170321,
           "386": 421.45308579060645,
           "387": 421.53802734140095,
           "388": 422.0881819568931,
           "389": 423.0919733168815,
           "39": 90.22972359764755,
           "390": 423.38749768001634,
           "391": 424.30328227990077,
           "392": 427.2851115750072,
           "393": 427.93796004788334,
           "394": 428.03888320852985,
           "395": 428.1776432597146,
           "396": 428.23542453031433,
           "397": 428.23991716448097,
           "398": 429.1201264583635,
           "399": 430.4417263552951,
           "4": 13.014682433998365,
           "40": 94.17428734569755,
           "400": 430.65497631233615,
           "401": 431.3011363108762,
           "402": 431.42549675122797,
           "403": 431.7004204041855,
           "404": 432.28446835144695,
           "405": 432.3645415066245,
           "406": 433.56576588576394,
           "407": 434.2779041674954,
           "408": 434.6258632663071,
           "409": 434.9132086273495,
           "41": 96.25950013774126,
           "410": 435.8341376750017,
           "411": 436.04766444737936,
           "412": 436.42813941849175,
           "413": 436.4425583374108,
           "414": 436.4922698004252,
           "415": 437.53630285652673,
           "416": 438.4842559815428,
           "417": 439.051662100292,
           "418": 439.0612478885685,
           "419": 441.02573666475166,
           "42": 97.66181939634036,
           "420": 441.225687738668,
           "421": 441.5710880124841,
           "422": 442.11079431859224,
           "423": 442.9876119688906,
           "424": 443.25163902549457,
           "425": 443.45156561914126,
           "426": 444.22976112561093,
           "427": 444.29213626388236,
           "428": 445.3889643714471,
           "429": 446.51064175601454,
           "43": 99.14579402079245,
           "430": 448.1109009515838,
           "431": 448.80520881614785,
           "432": 450.64494352068186,
           "433": 451.58380058143456,
           "434": 451.8565561744418,
           "435": 454.14424962724365,
           "436": 454.53571830402745,
           "437": 454.58403687076253,
           "438": 455.88097984146157,
           "439": 456.02601506935207,
           "44": 100.09153234403749,
           "440": 456.4117975050583,
           "441": 457.5248607720561,
           "442": 458.0895558295951,
           "443": 458.35754900679575,
           "444": 458.5857428132382,
           "445": 458.9973112605276,
           "446": 459.10423616595557,
           "447": 459.7459256639212,
           "448": 461.7406098876612,
           "449": 461.8989948181623,
           "45": 101.34307875985773,
           "450": 463.5572660547089,
           "451": 464.5609514406986,
           "452": 466.1430537973862,
           "453": 466.274417749606,
           "454": 467.33703101137536,
           "455": 467.3799989692394,
           "456": 469.5051227939834,
           "457": 469.99237239456136,
           "458": 470.66258290958814,
           "459": 471.32259214713827,
           "46": 103.5936993950394,
           "460": 471.7240997255856,
           "461": 472.2457051079179,
           "462": 472.5917704899645,
           "463": 472.77768280066164,
           "464": 473.0901825376736,
           "465": 473.32270463599923,
           "466": 474.093070531572,
           "467": 474.667191872342,
           "468": 476.1212012537049,
           "469": 476.27303192693273,
           "47": 106.05214574336938,
           "470": 477.34596824323387,
           "471": 478.8746803919423,
           "472": 478.9801588505235,
           "473": 479.0611438233302,
           "474": 479.1808152029869,
           "475": 480.56697740971543,
           "476": 480.58857277105903,
           "477": 481.5574652872037,
           "478": 482.315186046864,
           "479": 482.4998291666683,
           "48": 106.90583664107305,
           "480": 482.9153306856208,
           "481": 482.9177579084711,
           "482": 484.4883494971797,
           "483": 486.9928033905902,
           "484": 487.12341961141965,
           "485": 489.8937191366929,
           "486": 490.85102500607434,
           "487": 491.2298422092551,
           "488": 491.3200104329251,
           "489": 491.52565729513987,
           "49": 111.45252445070298,
           "490": 493.4854473139513,
           "491": 494.3368653478252,
           "492": 496.81972975055584,
           "493": 497.3597060005106,
           "494": 497.695145316798,
           "495": 499.85667437627353,
           "496": 501.3573567006135,
           "497": 501.86457822364963,
           "498": 503.45644696047646,
           "499": 504.1934899169388,
           "5": 14.170642998043807,
           "50": 111.48734465576136,
           "500": 504.433075473782,
           "501": 504.82643648790304,
           "502": 504.9725448879893,
           "503": 506.75438157791325,
           "504": 508.06284521244925,
           "505": 509.28935127673503,
           "506": 509.57547390353545,
           "507": 510.39516012951987,
           "508": 510.5763746295536,
           "509": 510.6765679165301,
           "51": 114.9045468764901,
           "510": 511.66023064278863,
           "511": 513.2481351951852,
           "512": 513.6879660129781,
           "513": 515.7431081805033,
           "514": 517.4384719646825,
           "515": 518.3221545689194,
           "516": 519.7067566295673,
           "517": 520.2390299842114,
           "518": 521.7237606930195,
           "519": 522.1208833930738,
           "52": 118.0121922800436,
           "520": 523.4671356001127,
           "521": 527.0595264603243,
           "522": 527.6289207308428,
           "523": 527.7287396800774,
           "524": 529.0397274110177,
           "525": 529.8180709263199,
           "526": 531.0555123970207,
           "527": 531.4052102184494,
           "528": 531.7501902548031,
           "529": 533.0417510627165,
           "53": 120.31016093983627,
           "530": 533.2102655335149,
           "531": 533.4113347478589,
           "532": 535.0023534123128,
           "533": 537.106897845274,
           "534": 538.5327972768561,
           "535": 539.1119776937262,
           "536": 539.5133065184335,
           "537": 539.5898455663837,
           "538": 540.9737592258193,
           "539": 542.1646595308083,
           "54": 122.33876835585727,
           "540": 542.3253657046703,
           "541": 544.161935691857,
           "542": 545.9441806920435,
           "543": 546.0272557889523,
           "544": 547.8191980362103,
           "545": 548.461184641944,
           "546": 548.5968930124704,
           "547": 548.6474662957036,
           "548": 548.7750793847472,
           "549": 548.8874374977116,
           "55": 122.98835218623827,
           "550": 548.9294495806507,
           "551": 549.5900303422061,
           "552": 551.9004189209811,
           "553": 555.3548380502544,
           "554": 555.3614175399608,
           "555": 556.0591864174954,
           "556": 556.3355970123614,
           "557": 556.8655778770601,
           "558": 557.0586538185124,
           "559": 557.2047618754816,
           "56": 123.27044557269049,
           "560": 557.5224637110382,
           "561": 557.661188878086,
           "562": 557.8164321883339,
           "563": 557.8746934868799,
           "564": 558.2542586305561,
           "565": 558.6124074411987,
           "566": 558.7049272477856,
           "567": 559.1461564381198,
           "568": 559.9682450556807,
           "569": 560.0767493192692,
           "57": 123.36640719981744,
           "570": 561.8423309722497,
           "571": 566.260426585365,
           "572": 566.4909208656195,
           "573": 567.3248724217244,
           "574": 567.4791831014056,
           "575": 569.5054992071872,
           "576": 569.5841127198037,
           "577": 570.1440885881268,
           "578": 570.487080900364,
           "579": 570.6841871272167,
           "58": 126.32958636437526,
           "580": 571.5727578009437,
           "581": 572.0515298716252,
           "582": 574.5347720727165,
           "583": 574.7401883715108,
           "584": 574.8618234671868,
           "585": 575.7776412025416,
           "586": 575.8620395393024,
           "587": 576.4134684598391,
           "588": 576.6887683181478,
           "589": 577.3441620800085,
           "59": 129.1514894936355,
           "590": 578.4478195023763,
           "591": 578.5925252447736,
           "592": 579.436650570908,
           "593": 579.6631268193994,
           "594": 581.0536709491718,
           "595": 581.2732126529244,
           "596": 581.6685423089928,
           "597": 582.4533667412779,
           "598": 582.8313762845065,
           "599": 583.0094090885317,
           "6": 16.63817296649645,
           "60": 129.76686074749023,
           "600": 583.7443010284095,
           "601": 584.5667782137244,
           "602": 584.6737987096105,
           "603": 585.4027768031597,
           "604": 585.576812740937,
           "605": 586.6858670247074,
           "606": 587.0171873500252,
           "607": 587.1383255770237,
           "608": 587.532675951336,
           "609": 587.8532823879042,
           "61": 130.43532587920862,
           "610": 588.5420268353278,
           "611": 588.7896395231226,
           "612": 589.8749717722585,
           "613": 589.9214267554141,
           "614": 590.1899714247785,
           "615": 590.3775928200718,
           "616": 590.6006393662825,
           "617": 590.6750229578863,
           "618": 591.0099269586825,
           "619": 591.7870372344706,
           "62": 134.65490145168033,
           "620": 592.3006149668701,
           "621": 592.4050413841003,
           "622": 592.5983881389286,
           "623": 593.5602385185211,
           "624": 595.1160259188672,
           "625": 595.8838338716449,
           "626": 597.480672667354,
           "627": 597.8152720746685,
           "628": 597.8931359222207,
           "629": 599.5279998958326,
           "63": 145.41636241490724,
           "630": 600.7299149536447,
           "631": 601.3621741031925,
           "632": 601.5892924444271,
           "633": 602.8672406781014,
           "634": 603.095024777149,
           "635": 603.3170695493797,
           "636": 604.1076001210281,
           "637": 604.6676173992222,
           "638": 604.672925124808,
           "639": 604.7745888014579,
           "64": 146.2500567676561,
           "640": 605.0038304427339,
           "641": 605.6100845577556,
           "642": 606.4229934145776,
           "643": 608.9273956172722,
           "644": 608.9992202434727,
           "645": 609.4535970379247,
           "646": 609.6074859764069,
           "647": 611.6614147576533,
           "648": 612.0559063407555,
           "649": 612.6423954731001,
           "65": 147.87610572801623,
           "650": 614.1499185282212,
           "651": 615.366857508752,
           "652": 616.1513212600695,
           "653": 616.2428887988941,
           "654": 616.2443495997366,
           "655": 617.0989564902048,
           "656": 617.4722319454754,
           "657": 618.1465669513831,
           "658": 618.6987668892957,
           "659": 619.5564091882641,
           "66": 148.87905043331776,
           "660": 619.9406836213033,
           "661": 620.5922975918363,
           "662": 621.1835923940098,
           "663": 621.7430844194247,
           "664": 621.7822384209903,
           "665": 622.984785616992,
           "666": 624.2388401727787,
           "667": 624.2802936353614,
           "668": 624.7698714631091,
           "669": 624.8651803732879,
           "67": 150.43003625162956,
           "670": 624.998222736376,
           "671": 626.1868119207504,
           "672": 626.5342424875718,
           "673": 626.9008525073284,
           "674": 627.1633368472551,
           "675": 627.283263466487,
           "676": 627.5277065787527,
           "677": 629.3549793789816,
           "678": 629.9746502757048,
           "679": 630.6527455993828,
           "68": 153.242043180586,
           "680": 631.1246229670456,
           "681": 631.8746365337305,
           "682": 633.829940526306,
           "683": 634.1914935009464,
           "684": 634.2900178677245,
           "685": 636.115231546,
           "686": 637.4191413782668,
           "687": 637.5702626791771,
           "688": 640.9990415828518,
           "689": 641.085753516578,
           "69": 153.71688458372788,
           "690": 641.3756693045423,
           "691": 642.2504484682522,
           "692": 643.2377437245507,
           "693": 643.2883842808658,
           "694": 643.3136884097171,
           "695": 643.7065402279181,
           "696": 643.7511726795245,
           "697": 645.0332002399332,
           "698": 646.0246301507226,
           "699": 646.3387558390244,
           "7": 16.68734150667199,
           "70": 154.99849171804976,
           "700": 646.4549720333355,
           "701": 646.6471438215294,
           "702": 646.86448015839,
           "703": 646.888208784369,
           "704": 646.90074696843,
           "705": 647.1350929303956,
           "706": 647.2539069485788,
           "707": 647.8615878460691,
           "708": 648.7832549195508,
           "709": 648.8394938151541,
           "71": 155.19300572029536,
           "710": 650.9274639915631,
           "711": 652.987126299038,
           "712": 653.0140877561256,
           "713": 653.8775078586763,
           "714": 655.179537402131,
           "715": 655.824022283936,
           "716": 656.1158402951489,
           "717": 658.7469747388193,
           "718": 658.8473618027577,
           "719": 658.9927791245649,
           "72": 155.37052045258665,
           "720": 659.670169061247,
           "721": 659.9418505852201,
           "722": 660.8513415016048,
           "723": 661.1867903244171,
           "724": 662.6138959602849,
           "725": 663.0184788834771,
           "726": 663.1026072536581,
           "727": 663.666998342948,
           "728": 663.7584179292618,
           "729": 665.4567012793607,
           "73": 157.95871217692314,
           "730": 665.4997740109214,
           "731": 665.5103238692135,
           "732": 666.2424426822657,
           "733": 666.8701677850447,
           "734": 667.4560895246752,
           "735": 668.3051573795634,
           "736": 668.7585991976299,
           "737": 669.0161866278373,
           "738": 669.4192683920646,
           "739": 669.5375825488373,
           "74": 161.5254886473165,
           "740": 669.6288796582937,
           "741": 670.4787963762391,
           "742": 673.0336934260592,
           "743": 673.9776276372315,
           "744": 675.8683438026233,
           "745": 677.2568252048558,
           "746": 677.2877304284101,
           "747": 677.3656276416641,
           "748": 677.4467047513535,
           "749": 678.0417034382582,
           "75": 161.89641836328462,
           "750": 678.7387409529935,
           "751": 679.3334313281525,
           "752": 679.8840525789661,
           "753": 680.9283127997047,
           "754": 681.6085691256467,
           "755": 681.676791523527,
           "756": 681.9763775446204,
           "757": 683.1509909952073,
           "758": 683.433247123382,
           "759": 683.7905594792758,
           "76": 163.33153808596583,
           "760": 688.331605363445,
           "761": 692.0868364646876,
           "762": 692.2216480122526,
           "763": 692.4728493874657,
           "764": 693.9043044709366,
           "765": 694.08829585161,
           "766": 697.1528278187318,
           "767": 697.6502119822517,
           "768": 697.9313074633209,
           "769": 698.052231951627,
           "77": 163.79334530804832,
           "770": 698.1999435890904,
           "771": 698.2988193621,
           "772": 698.5751785022645,
           "773": 698.7656675859726,
           "774": 699.5581979908527,
           "775": 699.727336078227,
           "776": 699.8066514658891,
           "777": 699.9226094624711,
           "778": 700.4192059134274,
           "779": 701.1137676115214,
           "78": 164.83261351011924,
           "780": 703.3335055853491,
           "781": 703.7247015323459,
           "782": 704.4317342406008,
           "783": 704.6559287226124,
           "784": 704.7469534331402,
           "785": 705.288873607172,
           "786": 706.2690788905272,
           "787": 706.7717087166681,
           "788": 707.1517506183835,
           "789": 708.781855527732,
           "79": 165.3237086460687,
           "790": 709.2781615189406,
           "791": 709.8542928584102,
           "792": 711.0734819578698,
           "793": 711.6536129979065,
           "794": 711.8400590985976,
           "795": 712.1496796557495,
           "796": 712.1920856790554,
           "797": 712.3429168216762,
           "798": 712.8501604793711,
           "799": 712.9106819523525,
           "8": 17.024748217671878,
           "80": 165.63043530074114,
           "800": 713.5058495465425,
           "801": 713.672941357561,
           "802": 719.4190176263805,
           "803": 719.653266491187,
           "804": 720.1334463505643,
           "805": 720.596366164414,
           "806": 720.7152609987209,
           "807": 721.5144650787654,
           "808": 722.8935515211008,
           "809": 726.2689512002527,
           "81": 168.0779710269932,
           "810": 726.5099718522207,
           "811": 729.3009222040214,
           "812": 729.8117470167018,
           "813": 730.7921000406631,
           "814": 731.0584869095995,
           "815": 732.0849245330469,
           "816": 732.5844932845458,
           "817": 735.6803866137567,
           "818": 736.7969731808168,
           "819": 736.8981629818505,
           "82": 169.36643288976023,
           "820": 737.5231773923712,
           "821": 737.6836272960193,
           "822": 737.9518107830355,
           "823": 738.5369933672113,
           "824": 741.3223883508296,
           "825": 741.5441547290735,
           "826": 741.8911942754554,
           "827": 742.8038227034589,
           "828": 743.3929292844196,
           "829": 745.7928344975932,
           "83": 169.5019844273155,
           "830": 745.8882758207621,
           "831": 748.1894991675517,
           "832": 748.4014151553483,
           "833": 750.5299419022843,
           "834": 751.1192768626962,
           "835": 752.0342710231487,
           "836": 752.5305792238639,
           "837": 752.798372864315,
           "838": 753.0932957774877,
           "839": 753.4344046820629,
           "84": 171.52277598933546,
           "840": 755.4213241027817,
           "841": 755.6789043339232,
           "842": 756.9352761841765,
           "843": 758.5927622131608,
           "844": 758.6466739650784,
           "845": 761.7061925381498,
           "846": 762.0888121082168,
           "847": 762.4518529861938,
           "848": 762.869236209347,
           "849": 763.0488329247247,
           "85": 171.71794912300217,
           "850": 763.2326407307618,
           "851": 763.6429673242386,
           "852": 764.906287741061,
           "853": 766.022611852765,
           "854": 766.39754455072,
           "855": 766.4843454885441,
           "856": 767.4113033913452,
           "857": 767.636509489992,
           "858": 767.8421356397968,
           "859": 768.6682719959355,
           "86": 171.92066223318992,
           "860": 769.3396011640141,
           "861": 771.6226567750525,
           "862": 771.7448837234397,
           "863": 773.3964693484072,
           "864": 774.5384141541903,
           "865": 775.3927022964891,
           "866": 777.5941093035999,
           "867": 778.9797221695153,
           "868": 779.0969555918364,
           "869": 779.5812480289429,
           "87": 173.0992618441914,
           "870": 781.1153531495365,
           "871": 781.2485603549864,
           "872": 784.9667970225725,
           "873": 785.8708647163388,
           "874": 786.3987256017748,
           "875": 786.5742616201419,
           "876": 787.7815199891655,
           "877": 787.784088060927,
           "878": 788.053275557511,
           "879": 790.9494153460444,
           "88": 173.64194642991845,
           "880": 791.7871600820164,
           "881": 792.7143571457244,
           "882": 792.9088700078609,
           "883": 793.4171783560467,
           "884": 794.5781195080436,
           "885": 794.9821364681287,
           "886": 795.0003425848852,
           "887": 795.5150786844026,
           "888": 796.4964825893625,
           "889": 797.3376927941466,
           "89": 174.62052862456403,
           "890": 797.6122782322275,
           "891": 798.06698392866,
           "892": 798.6044950408279,
           "893": 798.9646572128238,
           "894": 799.3824083127002,
           "895": 799.9532647149465,
           "896": 801.28909413246,
           "897": 802.0956133077575,
           "898": 802.2875323550481,
           "899": 803.4793753984491,
           "9": 17.735632577047657,
           "90": 175.46223090014135,
           "900": 803.6689617148578,
           "901": 804.6975269492417,
           "902": 805.4813762423771,
           "903": 805.58512188641,
           "904": 807.2535871678587,
           "905": 808.2277225385295,
           "906": 808.4822626979916,
           "907": 808.5037237686225,
           "908": 812.4159236310713,
           "909": 813.3666670551081,
           "91": 178.11562721021207,
           "910": 815.4642552481794,
           "911": 816.9129603651946,
           "912": 817.0837240707169,
           "913": 817.3408389361019,
           "914": 817.6956340871274,
           "915": 817.9349602503739,
           "916": 818.6282611052204,
           "917": 819.938634483934,
           "918": 820.724031038359,
           "919": 822.09245212918,
           "92": 178.27240278402192,
           "920": 823.3669039010489,
           "921": 823.6024215376984,
           "922": 824.3876009797091,
           "923": 824.4003029138667,
           "924": 825.9756007485695,
           "925": 826.4963719045473,
           "926": 827.2081632775254,
           "927": 827.8350996331068,
           "928": 828.3145234965677,
           "929": 828.3554213222264,
           "93": 178.56788078962933,
           "930": 829.2208440130361,
           "931": 829.3980354642981,
           "932": 829.5942021681482,
           "933": 829.6913714373743,
           "934": 829.9026594524263,
           "935": 830.1042142598376,
           "936": 830.4787545196713,
           "937": 831.0915258444666,
           "938": 831.1874614126948,
           "939": 832.001360501753,
           "94": 180.53158389886698,
           "940": 832.2450830726614,
           "941": 832.6544637077744,
           "942": 832.6841662506602,
           "943": 832.8101448025799,
           "944": 832.84379764734,
           "945": 832.9168147069402,
           "946": 833.3273095732669,
           "947": 833.8142544522951,
           "948": 835.1630623586697,
           "949": 835.2730634890563,
           "95": 182.13206606439337,
           "950": 835.5715730204672,
           "951": 835.8820168006204,
           "952": 836.4976265555446,
           "953": 837.3223071012184,
           "954": 837.7391087045219,
           "955": 838.0171210809799,
           "956": 838.7024560743848,
           "957": 839.2567499875607,
           "958": 839.458584519692,
           "959": 839.6554231098467,
           "96": 182.75281340564456,
           "960": 840.0599198352779,
           "961": 840.245644530109,
           "962": 840.5094593135407,
           "963": 840.7747842120783,
           "964": 843.5152711836135,
           "965": 844.8382244665621,
           "966": 845.3478868667474,
           "967": 845.3907436884147,
           "968": 845.5430354230768,
           "969": 846.3760350162466,
           "97": 185.64438213276497,
           "970": 846.7391900852778,
           "971": 847.2330763394685,
           "972": 847.9958650642641,
           "973": 848.6213652851723,
           "974": 850.8568972034924,
           "975": 851.7371448319128,
           "976": 852.1576950913148,
           "977": 852.2661910374612,
           "978": 853.0722814154626,
           "979": 853.4874547057626,
           "98": 187.69999351393727,
           "980": 853.788823793693,
           "981": 854.00744249496,
           "982": 854.3277210378253,
           "983": 854.6468379930377,
           "984": 855.2619465606042,
           "985": 855.3875746578806,
           "986": 857.7807168690839,
           "987": 858.1001361158621,
           "988": 858.8588791150939,
           "989": 861.8444158993859,
           "99": 188.4320524032486,
           "990": 862.266957440598,
           "991": 862.5704825038168,
           "992": 863.9737001698796,
           "993": 864.1130792371599,
           "994": 865.8712550934982,
           "995": 865.883950994154,
           "996": 867.0190195366498,
           "997": 867.1663660795706,
           "998": 868.4932669907444,
           "999": 869.2575733867413,
           "bdata": "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",
           "dtype": "f8",
           "shape": "2415"
          },
          "bdata": "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",
          "dtype": "f8"
         },
         "xaxis": "x",
         "y": {
          "_inputArray": {
           "0": null,
           "1": null,
           "10": null,
           "100": 1.2221374159133187,
           "1000": 1.2303924184653785,
           "1001": 1.2272245802769874,
           "1002": 1.2228966487922663,
           "1003": 1.2249577493075812,
           "1004": 1.2293904648796818,
           "1005": 1.2375220157049303,
           "1006": 1.2378162413303646,
           "1007": 1.23734437050895,
           "1008": 1.2367094243131151,
           "1009": 1.2337164842560464,
           "101": 1.2209765274553233,
           "1010": 1.2355465916613462,
           "1011": 1.2380361383651157,
           "1012": 1.240080884411814,
           "1013": 1.2398984439362477,
           "1014": 1.2396306473486773,
           "1015": 1.234744776532181,
           "1016": 1.2358351628515476,
           "1017": 1.237583153437092,
           "1018": 1.232519807825059,
           "1019": 1.23759000995878,
           "102": 1.2316354239048395,
           "1020": 1.2365893395028396,
           "1021": 1.2429892854583917,
           "1022": 1.2474039086257884,
           "1023": 1.2455155953382422,
           "1024": 1.2400125433046147,
           "1025": 1.2354270753982741,
           "1026": 1.232353404592378,
           "1027": 1.2415421568478389,
           "1028": 1.2478730542757477,
           "1029": 1.2462697902668516,
           "103": 1.233785036079135,
           "1030": 1.240138399030375,
           "1031": 1.2449942399028697,
           "1032": 1.2509387015519484,
           "1033": 1.251102288915631,
           "1034": 1.2514648478686878,
           "1035": 1.2450654390659506,
           "1036": 1.2531966103595473,
           "1037": 1.2609733611152438,
           "1038": 1.2614892570340175,
           "1039": 1.2667807278164864,
           "104": 1.2339545623110488,
           "1040": 1.2631195959490593,
           "1041": 1.2639962933365492,
           "1042": 1.2609942975182282,
           "1043": 1.257030199006287,
           "1044": 1.255705796828786,
           "1045": 1.2572092984394532,
           "1046": 1.2539340619890855,
           "1047": 1.2517941783495872,
           "1048": 1.2506076130692076,
           "1049": 1.2448138484839395,
           "105": 1.2315359840568094,
           "1050": 1.242623455255724,
           "1051": 1.2375952197671156,
           "1052": 1.2430213801067462,
           "1053": 1.2417914611934953,
           "1054": 1.2422100866827899,
           "1055": 1.2394826336750346,
           "1056": 1.2384761938083346,
           "1057": 1.2318811356888526,
           "1058": 1.2264756793331004,
           "1059": 1.2281623616587993,
           "106": 1.2341646038536431,
           "1060": 1.2296472453081393,
           "1061": 1.2212631352886096,
           "1062": 1.2150883703255608,
           "1063": 1.2219462787422701,
           "1064": 1.2251799128542868,
           "1065": 1.223038102168577,
           "1066": 1.2177533254687947,
           "1067": 1.2124641061899017,
           "1068": 1.214365052412221,
           "1069": 1.2090916932299711,
           "107": 1.2397014858464812,
           "1070": 1.2083692289457977,
           "1071": 1.2025760911792671,
           "1072": 1.2000381827859716,
           "1073": 1.201157797621867,
           "1074": 1.1990156046379037,
           "1075": 1.1988872588864303,
           "1076": 1.2081176856607645,
           "1077": 1.2077205679676446,
           "1078": 1.212906953836441,
           "1079": 1.2128768851625202,
           "108": 1.2387129732501576,
           "1080": 1.2131443091040206,
           "1081": 1.208422401926096,
           "1082": 1.200260479965845,
           "1083": 1.2049483447057068,
           "1084": 1.2076035476548992,
           "1085": 1.2107259393000058,
           "1086": 1.213263044412805,
           "1087": 1.217512288988474,
           "1088": 1.2174645701186264,
           "1089": 1.2157947221068945,
           "109": 1.237606855912183,
           "1090": 1.221731494171739,
           "1091": 1.226897199555919,
           "1092": 1.2329267889206874,
           "1093": 1.2230205388219515,
           "1094": 1.2197187301664747,
           "1095": 1.2199734738465995,
           "1096": 1.216289206952669,
           "1097": 1.2130206213792774,
           "1098": 1.2080632905491313,
           "1099": 1.2124481771053248,
           "11": null,
           "110": 1.233554646964788,
           "1100": 1.2172299124882673,
           "1101": 1.2180609836604186,
           "1102": 1.2202703492706,
           "1103": 1.2187314091930759,
           "1104": 1.2259553138043346,
           "1105": 1.231260939230404,
           "1106": 1.2264681831296766,
           "1107": 1.226855945354753,
           "1108": 1.2234070378218849,
           "1109": 1.2218624693373519,
           "111": 1.2361586574935686,
           "1110": 1.2229664709071,
           "1111": 1.2254105765509238,
           "1112": 1.2255255614754204,
           "1113": 1.221648007881647,
           "1114": 1.2200860778877178,
           "1115": 1.2206805094675077,
           "1116": 1.2218157833011385,
           "1117": 1.2185369648758098,
           "1118": 1.2183656540048204,
           "1119": 1.2152524927158823,
           "112": 1.2361957307202682,
           "1120": 1.2132452150791457,
           "1121": 1.2165440271674586,
           "1122": 1.2093318986918524,
           "1123": 1.208514160507095,
           "1124": 1.2082927820065237,
           "1125": 1.2070947266531715,
           "1126": 1.2081076500430066,
           "1127": 1.2114590557889806,
           "1128": 1.2127990605492387,
           "1129": 1.2106542395109146,
           "113": 1.2380860021260207,
           "1130": 1.2124403147149208,
           "1131": 1.2135114251506052,
           "1132": 1.2118413535743988,
           "1133": 1.2110719027794938,
           "1134": 1.2050715057052537,
           "1135": 1.2009196998897729,
           "1136": 1.1964701196617706,
           "1137": 1.199091447354899,
           "1138": 1.194087547387242,
           "1139": 1.1986430618604642,
           "114": 1.2398991431271604,
           "1140": 1.1992557316456403,
           "1141": 1.1999210859837455,
           "1142": 1.198573804180197,
           "1143": 1.2014213432180583,
           "1144": 1.2024228421651995,
           "1145": 1.203145212429251,
           "1146": 1.208392976406622,
           "1147": 1.2070027741788785,
           "1148": 1.2034085529659309,
           "1149": 1.2146837950173313,
           "115": 1.238948060267632,
           "1150": 1.2100471922630025,
           "1151": 1.2076574020266393,
           "1152": 1.2113197932008049,
           "1153": 1.213960116103407,
           "1154": 1.2106061441573077,
           "1155": 1.2106746016047327,
           "1156": 1.211863839342642,
           "1157": 1.209633886395298,
           "1158": 1.2187196099925757,
           "1159": 1.2227004574300997,
           "116": 1.2278292351046434,
           "1160": 1.2210013054484916,
           "1161": 1.226253011499559,
           "1162": 1.228015729412225,
           "1163": 1.2311543277774892,
           "1164": 1.2306521578850254,
           "1165": 1.2320723257483621,
           "1166": 1.2360836530597505,
           "1167": 1.2428920219783768,
           "1168": 1.2476966744598246,
           "1169": 1.245817049212541,
           "117": 1.2292711152800038,
           "1170": 1.2441317739079258,
           "1171": 1.246105512874745,
           "1172": 1.25612625133208,
           "1173": 1.2581287515255342,
           "1174": 1.2544194466646108,
           "1175": 1.2531630358367905,
           "1176": 1.246385185836749,
           "1177": 1.244825933459955,
           "1178": 1.245195061075038,
           "1179": 1.2364854485431487,
           "118": 1.2487330097930596,
           "1180": 1.2359786396822525,
           "1181": 1.2351742362808449,
           "1182": 1.2349917326564814,
           "1183": 1.2370285143158553,
           "1184": 1.2383452703017326,
           "1185": 1.235692721610694,
           "1186": 1.2334005385957647,
           "1187": 1.2360398577693725,
           "1188": 1.2264770744207305,
           "1189": 1.2217909916834355,
           "119": 1.26617788506312,
           "1190": 1.2179995913013286,
           "1191": 1.2105363287417106,
           "1192": 1.2099886450978707,
           "1193": 1.2082913141126417,
           "1194": 1.2079721232748448,
           "1195": 1.211286148562919,
           "1196": 1.211530992370412,
           "1197": 1.2059741140632927,
           "1198": 1.2024703761389681,
           "1199": 1.2021253948234487,
           "12": null,
           "120": 1.2631589450397742,
           "1200": 1.200187352400412,
           "1201": 1.1966751522482413,
           "1202": 1.1859057587874802,
           "1203": 1.180797947755042,
           "1204": 1.1808859972652859,
           "1205": 1.17939007306487,
           "1206": 1.1794808210624907,
           "1207": 1.1800793011604493,
           "1208": 1.1867777259940158,
           "1209": 1.1866292663792246,
           "121": 1.2906816001942998,
           "1210": 1.1844879816699103,
           "1211": 1.182635408604632,
           "1212": 1.186088009322579,
           "1213": 1.1821819375708047,
           "1214": 1.1882446867931635,
           "1215": 1.1892069806304884,
           "1216": 1.1918367803514893,
           "1217": 1.1908753768397642,
           "1218": 1.1905071451856173,
           "1219": 1.189053307824435,
           "122": 1.2912871859786914,
           "1220": 1.19344407166663,
           "1221": 1.1941733840701174,
           "1222": 1.2027206122838363,
           "1223": 1.2027855868850559,
           "1224": 1.208137469907763,
           "1225": 1.2027212642051728,
           "1226": 1.1992026443229695,
           "1227": 1.19321288511906,
           "1228": 1.1963651995724567,
           "1229": 1.2009146226628868,
           "123": 1.2919460018281212,
           "1230": 1.2035146527787715,
           "1231": 1.211809416563947,
           "1232": 1.2154120818277305,
           "1233": 1.2227599915460685,
           "1234": 1.2247217919905933,
           "1235": 1.2213095737224777,
           "1236": 1.2254596504278221,
           "1237": 1.2319750886835519,
           "1238": 1.2268240265371813,
           "1239": 1.2252238927938823,
           "124": 1.2884311470995484,
           "1240": 1.2235120504891563,
           "1241": 1.2231925662532654,
           "1242": 1.2235666597777661,
           "1243": 1.2280387349666202,
           "1244": 1.2241485282174644,
           "1245": 1.2348605946403555,
           "1246": 1.2339799787881967,
           "1247": 1.2338331260757256,
           "1248": 1.2332477173025924,
           "1249": 1.239813882299948,
           "125": 1.2897840506081009,
           "1250": 1.2346583678706036,
           "1251": 1.2364449719703134,
           "1252": 1.2297906859149097,
           "1253": 1.2291874876355935,
           "1254": 1.2250980043853494,
           "1255": 1.2235301531786253,
           "1256": 1.223891711486742,
           "1257": 1.2304321672924845,
           "1258": 1.2303615711288642,
           "1259": 1.2297121440262486,
           "126": 1.269281208549122,
           "1260": 1.231625010678601,
           "1261": 1.222365862460873,
           "1262": 1.2222996351344178,
           "1263": 1.2183291739867173,
           "1264": 1.2266116681218562,
           "1265": 1.2289310964024183,
           "1266": 1.2251473321781392,
           "1267": 1.217228882351493,
           "1268": 1.2159967614787093,
           "1269": 1.215984964367086,
           "127": 1.2670869387388948,
           "1270": 1.2188374326123619,
           "1271": 1.2168044747595474,
           "1272": 1.211313976460044,
           "1273": 1.2066015707923206,
           "1274": 1.2083166866091204,
           "1275": 1.1983662333603815,
           "1276": 1.2078343886588911,
           "1277": 1.207446902624853,
           "1278": 1.2091477424426043,
           "1279": 1.2037441494593102,
           "128": 1.2744037637398908,
           "1280": 1.2105406027897638,
           "1281": 1.2089280536967608,
           "1282": 1.2079097355830346,
           "1283": 1.2076936213234468,
           "1284": 1.2062426833875324,
           "1285": 1.2154177902672356,
           "1286": 1.224136395724204,
           "1287": 1.2293303697848479,
           "1288": 1.2299071731084474,
           "1289": 1.2301677341428687,
           "129": 1.2650129137635164,
           "1290": 1.2282687147406648,
           "1291": 1.2331672704425378,
           "1292": 1.2334481237889714,
           "1293": 1.2425558495699887,
           "1294": 1.2341899609127303,
           "1295": 1.238878307681607,
           "1296": 1.248972544769291,
           "1297": 1.2465222504095548,
           "1298": 1.2465350956985952,
           "1299": 1.2463994602768595,
           "13": null,
           "130": 1.2692436329829302,
           "1300": 1.2458790134545714,
           "1301": 1.2484673643136857,
           "1302": 1.2480304631234884,
           "1303": 1.2477551168358478,
           "1304": 1.2425958649136841,
           "1305": 1.244062200968947,
           "1306": 1.2336240976173298,
           "1307": 1.2317844004356615,
           "1308": 1.2368884768133634,
           "1309": 1.2371047656104734,
           "131": 1.273923480224189,
           "1310": 1.2285557346032994,
           "1311": 1.2300195587184959,
           "1312": 1.230978004248944,
           "1313": 1.2314251352188892,
           "1314": 1.2292303563355589,
           "1315": 1.2232749782027206,
           "1316": 1.2174146809724122,
           "1317": 1.208592066631597,
           "1318": 1.2036088632489919,
           "1319": 1.19610555680896,
           "132": 1.2589163777230576,
           "1320": 1.2000804014424609,
           "1321": 1.2069824597481924,
           "1322": 1.2044232600999587,
           "1323": 1.194461268685426,
           "1324": 1.197092876994713,
           "1325": 1.195432438733544,
           "1326": 1.186142397575489,
           "1327": 1.1889901855362845,
           "1328": 1.1944563611570658,
           "1329": 1.1972662061785067,
           "133": 1.2582312103500302,
           "1330": 1.196597293968397,
           "1331": 1.1997050423550533,
           "1332": 1.2026307845285018,
           "1333": 1.2040841408783176,
           "1334": 1.2122175079516648,
           "1335": 1.2092614250181641,
           "1336": 1.2117980482128838,
           "1337": 1.2124390903388713,
           "1338": 1.209256139704632,
           "1339": 1.2155961908645267,
           "134": 1.2591905421787688,
           "1340": 1.2170210010872495,
           "1341": 1.2172301324908437,
           "1342": 1.2140111563298277,
           "1343": 1.2154124363996266,
           "1344": 1.2222115124445447,
           "1345": 1.2269146962376676,
           "1346": 1.226765553172487,
           "1347": 1.2262206720658893,
           "1348": 1.22627581330843,
           "1349": 1.2289437199101132,
           "135": 1.261538268303616,
           "1350": 1.2273959307292226,
           "1351": 1.2186057867811237,
           "1352": 1.2203131226778292,
           "1353": 1.220184854204444,
           "1354": 1.2177629655284916,
           "1355": 1.215618015731602,
           "1356": 1.2122137487124391,
           "1357": 1.214210043021452,
           "1358": 1.2118546281458813,
           "1359": 1.2126786105932645,
           "136": 1.247319893279139,
           "1360": 1.212228656798379,
           "1361": 1.212316798892805,
           "1362": 1.2114531482808208,
           "1363": 1.2114186651026582,
           "1364": 1.204686071332618,
           "1365": 1.204890959037907,
           "1366": 1.2067272103872926,
           "1367": 1.2084174962148562,
           "1368": 1.2030207492780094,
           "1369": 1.1971122221675479,
           "137": 1.241292096903275,
           "1370": 1.199038631844638,
           "1371": 1.2044884514696894,
           "1372": 1.203602899734634,
           "1373": 1.2020450107273144,
           "1374": 1.1954932377780938,
           "1375": 1.1887886693246519,
           "1376": 1.1871977639279965,
           "1377": 1.1862209707940023,
           "1378": 1.1855504041054006,
           "1379": 1.1864330928403803,
           "138": 1.2404926835970966,
           "1380": 1.183442157466026,
           "1381": 1.1861767385651771,
           "1382": 1.1834256565646315,
           "1383": 1.1825823344092579,
           "1384": 1.1822047967132194,
           "1385": 1.1837502003003868,
           "1386": 1.195243572230399,
           "1387": 1.1909407725747891,
           "1388": 1.193067708401817,
           "1389": 1.1930610313428682,
           "139": 1.2479174477901018,
           "1390": 1.193556886833638,
           "1391": 1.1879475549115635,
           "1392": 1.1883996641024177,
           "1393": 1.1876185646468316,
           "1394": 1.1913502001792435,
           "1395": 1.1924037535714167,
           "1396": 1.1883304090170934,
           "1397": 1.1913275295385168,
           "1398": 1.1926444263942848,
           "1399": 1.1920311976921047,
           "14": null,
           "140": 1.2445730572039475,
           "1400": 1.2023554737478066,
           "1401": 1.1953415142331865,
           "1402": 1.1972058029591133,
           "1403": 1.1981524606275233,
           "1404": 1.198655506270881,
           "1405": 1.2001407899460188,
           "1406": 1.1993452149261652,
           "1407": 1.2009002751708466,
           "1408": 1.204372033416874,
           "1409": 1.2119222236606257,
           "141": 1.2465047611519615,
           "1410": 1.2168995643525116,
           "1411": 1.2116319288238957,
           "1412": 1.211640274467252,
           "1413": 1.212973330856124,
           "1414": 1.2153314632688494,
           "1415": 1.2124606161718328,
           "1416": 1.2060820111056862,
           "1417": 1.2070834966832293,
           "1418": 1.201830251221112,
           "1419": 1.1986585096650502,
           "142": 1.246794031504443,
           "1420": 1.2028500878421464,
           "1421": 1.2025819045611186,
           "1422": 1.1988637320741222,
           "1423": 1.199612030516872,
           "1424": 1.199083212199082,
           "1425": 1.200868493957174,
           "1426": 1.2000300406634687,
           "1427": 1.1970472705571595,
           "1428": 1.1986977473749325,
           "1429": 1.1986895389272418,
           "143": 1.2392489032270626,
           "1430": 1.1865355979845467,
           "1431": 1.1870242190412246,
           "1432": 1.1871202781852093,
           "1433": 1.1873076213479046,
           "1434": 1.1894931223218186,
           "1435": 1.1866335203559306,
           "1436": 1.1859889410571438,
           "1437": 1.1860389715455815,
           "1438": 1.1832908678916434,
           "1439": 1.1738288064306084,
           "144": 1.2317062190076529,
           "1440": 1.1697245140049053,
           "1441": 1.1721900092330206,
           "1442": 1.1723713685251365,
           "1443": 1.1698841624859313,
           "1444": 1.1713542580438923,
           "1445": 1.1724341391991686,
           "1446": 1.1675360843166647,
           "1447": 1.1745231727713221,
           "1448": 1.179298418592567,
           "1449": 1.1797127566681025,
           "145": 1.2263798343153283,
           "1450": 1.1771448988985607,
           "1451": 1.1842106751903374,
           "1452": 1.1856591147956175,
           "1453": 1.18570663716808,
           "1454": 1.18215166454248,
           "1455": 1.181454968427578,
           "1456": 1.182197857740921,
           "1457": 1.1824243225005753,
           "1458": 1.1822742312270014,
           "1459": 1.1816402201833756,
           "146": 1.2246611882085578,
           "1460": 1.1827280508345142,
           "1461": 1.1798704172008712,
           "1462": 1.1791875785609025,
           "1463": 1.1787376483872265,
           "1464": 1.178631745426311,
           "1465": 1.1807847628953685,
           "1466": 1.1844671199256227,
           "1467": 1.1862916151011296,
           "1468": 1.1857303626951632,
           "1469": 1.185716605335436,
           "147": 1.2239244316652396,
           "1470": 1.186524388371568,
           "1471": 1.186743698950661,
           "1472": 1.1865872446287946,
           "1473": 1.186350275905416,
           "1474": 1.188289566904096,
           "1475": 1.1879049647078772,
           "1476": 1.190003884911437,
           "1477": 1.184607001921799,
           "1478": 1.1811623390676191,
           "1479": 1.1800974142484941,
           "148": 1.2037776848448258,
           "1480": 1.1799105002934243,
           "1481": 1.1735455410054452,
           "1482": 1.1721520367056257,
           "1483": 1.1727473714167127,
           "1484": 1.1738803520742516,
           "1485": 1.1727936139927473,
           "1486": 1.1743712182331787,
           "1487": 1.1766585796416587,
           "1488": 1.1756154940664558,
           "1489": 1.1746132155823128,
           "149": 1.187269349016698,
           "1490": 1.1734463964062622,
           "1491": 1.1771742256234414,
           "1492": 1.1849087117220392,
           "1493": 1.1846972364011306,
           "1494": 1.1880734343885158,
           "1495": 1.1867751523344003,
           "1496": 1.1838192889389412,
           "1497": 1.181805913359374,
           "1498": 1.1817918263921037,
           "1499": 1.1840486282198366,
           "15": null,
           "150": 1.1946213572148017,
           "1500": 1.1853740735312805,
           "1501": 1.182241811231837,
           "1502": 1.1836744635972538,
           "1503": 1.1873809260440116,
           "1504": 1.1826381269061226,
           "1505": 1.183760853002449,
           "1506": 1.1854149247015664,
           "1507": 1.1829145713422666,
           "1508": 1.1838281137219318,
           "1509": 1.1849172412168554,
           "151": 1.1704569606582775,
           "1510": 1.1837361994693376,
           "1511": 1.1837766659726592,
           "1512": 1.1848678820450325,
           "1513": 1.185641087429578,
           "1514": 1.186037091562452,
           "1515": 1.1861049064666382,
           "1516": 1.1857420463764383,
           "1517": 1.1918506861432643,
           "1518": 1.1920558114538988,
           "1519": 1.1979507360405726,
           "152": 1.1672644890697912,
           "1520": 1.1996631339771449,
           "1521": 1.20706622026854,
           "1522": 1.2043352400225609,
           "1523": 1.212623196641656,
           "1524": 1.2079898596776109,
           "1525": 1.207813242750896,
           "1526": 1.2085740738404054,
           "1527": 1.2081230409350974,
           "1528": 1.209798375247241,
           "1529": 1.2082808780464176,
           "153": 1.1653211505174075,
           "1530": 1.2084844536637764,
           "1531": 1.2158102251261302,
           "1532": 1.2179179891170584,
           "1533": 1.2130711409180681,
           "1534": 1.2115410872367058,
           "1535": 1.2101050216201907,
           "1536": 1.2130820874897765,
           "1537": 1.214265848359523,
           "1538": 1.2168660477025406,
           "1539": 1.2253890137047976,
           "154": 1.1653087651750134,
           "1540": 1.22856008506763,
           "1541": 1.2280841179278406,
           "1542": 1.232882754134702,
           "1543": 1.231413164608376,
           "1544": 1.2305024524482915,
           "1545": 1.2317163146357009,
           "1546": 1.231816038659232,
           "1547": 1.2220584549454088,
           "1548": 1.2236935838446306,
           "1549": 1.2190834257784167,
           "155": 1.166405194652114,
           "1550": 1.2237302430733976,
           "1551": 1.2145867008932139,
           "1552": 1.2127728769975257,
           "1553": 1.2026463488349626,
           "1554": 1.2084590087689369,
           "1555": 1.2106791166627628,
           "1556": 1.2103482575533424,
           "1557": 1.2117686896158237,
           "1558": 1.2119086029213917,
           "1559": 1.2132850493737097,
           "156": 1.1638621548272723,
           "1560": 1.2157929146728041,
           "1561": 1.207595057809587,
           "1562": 1.2041896338358327,
           "1563": 1.2060559919054574,
           "1564": 1.2125081484596896,
           "1565": 1.2104568631043893,
           "1566": 1.206596920997499,
           "1567": 1.2096918148587796,
           "1568": 1.2063813781343273,
           "1569": 1.1989302244381976,
           "157": 1.203261968841631,
           "1570": 1.1967076298267088,
           "1571": 1.198932311674649,
           "1572": 1.192783559861094,
           "1573": 1.1939140931431433,
           "1574": 1.192694634658553,
           "1575": 1.1936748962844044,
           "1576": 1.191730421097161,
           "1577": 1.1937115287014293,
           "1578": 1.1934479583177666,
           "1579": 1.1944217799584742,
           "158": 1.1982462599464907,
           "1580": 1.1896991301904054,
           "1581": 1.1905890178113785,
           "1582": 1.1913547074110038,
           "1583": 1.2006549876524202,
           "1584": 1.1938204856974588,
           "1585": 1.194280093613625,
           "1586": 1.1931955848623295,
           "1587": 1.197439615736583,
           "1588": 1.1988028076298873,
           "1589": 1.1993180519191176,
           "159": 1.2012227161450235,
           "1590": 1.1972226241852253,
           "1591": 1.2001082477559433,
           "1592": 1.2036044734627744,
           "1593": 1.2109232342490805,
           "1594": 1.2055762280681601,
           "1595": 1.207527736647897,
           "1596": 1.2058250774869277,
           "1597": 1.204473363499264,
           "1598": 1.20347565980042,
           "1599": 1.2021967330348136,
           "16": null,
           "160": 1.201188816040235,
           "1600": 1.2017750170054584,
           "1601": 1.2013819397059402,
           "1602": 1.201940472873227,
           "1603": 1.205783858661672,
           "1604": 1.2084065758594449,
           "1605": 1.2058711304768432,
           "1606": 1.2142441610319394,
           "1607": 1.220251554745658,
           "1608": 1.2197454601872137,
           "1609": 1.219299643087817,
           "161": 1.199211170484811,
           "1610": 1.219544644020807,
           "1611": 1.2205086412603856,
           "1612": 1.216313722342019,
           "1613": 1.2123425784559578,
           "1614": 1.2131187623018478,
           "1615": 1.2160593820510326,
           "1616": 1.2180241127798401,
           "1617": 1.214723504727614,
           "1618": 1.2141372905317682,
           "1619": 1.21172349785205,
           "162": 1.2021040686832016,
           "1620": 1.2084445756062077,
           "1621": 1.2070309277541644,
           "1622": 1.2041900347528207,
           "1623": 1.208534103422371,
           "1624": 1.21696965707199,
           "1625": 1.2175003792548145,
           "1626": 1.2210379928537187,
           "1627": 1.2205309567617346,
           "1628": 1.2244399959786827,
           "1629": 1.2240280339885785,
           "163": 1.203008133728299,
           "1630": 1.2309434184600838,
           "1631": 1.229930295781123,
           "1632": 1.231100952335378,
           "1633": 1.226433496622706,
           "1634": 1.2257667072095695,
           "1635": 1.233558908834285,
           "1636": 1.2252665503660745,
           "1637": 1.219488830165346,
           "1638": 1.2261140624180924,
           "1639": 1.2317179143901185,
           "164": 1.2133109506211268,
           "1640": 1.2302261565045631,
           "1641": 1.229894674988986,
           "1642": 1.2332206428179804,
           "1643": 1.2288302011557006,
           "1644": 1.2363293409309042,
           "1645": 1.230805714140559,
           "1646": 1.230651375815213,
           "1647": 1.228856739013704,
           "1648": 1.2272039085595117,
           "1649": 1.2308056649148578,
           "165": 1.2137081653385622,
           "1650": 1.2302642635204866,
           "1651": 1.2305690716313256,
           "1652": 1.237841826678746,
           "1653": 1.2310509929719378,
           "1654": 1.2250497221517895,
           "1655": 1.2243726801751535,
           "1656": 1.2228860892958773,
           "1657": 1.2244041048667138,
           "1658": 1.2224137620683244,
           "1659": 1.2215463019910662,
           "166": 1.2127596455721872,
           "1660": 1.216710817616756,
           "1661": 1.2201915433855897,
           "1662": 1.2220520256207947,
           "1663": 1.2215959183574023,
           "1664": 1.220435083720647,
           "1665": 1.2143765520188043,
           "1666": 1.2142313816485646,
           "1667": 1.2139841275031402,
           "1668": 1.2083778842860453,
           "1669": 1.2017539913289985,
           "167": 1.2120844199733547,
           "1670": 1.2029088864113249,
           "1671": 1.2035116948177011,
           "1672": 1.205102228067184,
           "1673": 1.2076579426101905,
           "1674": 1.2020752599210227,
           "1675": 1.20316799014807,
           "1676": 1.2016839518894291,
           "1677": 1.2012693699884094,
           "1678": 1.203155831497813,
           "1679": 1.2030993707206754,
           "168": 1.2519811235097797,
           "1680": 1.2058568825606373,
           "1681": 1.2057808026873513,
           "1682": 1.1993849184770975,
           "1683": 1.1956045584776627,
           "1684": 1.1974551662084594,
           "1685": 1.197635048472661,
           "1686": 1.1983245438779655,
           "1687": 1.1975330780679132,
           "1688": 1.2077640093136586,
           "1689": 1.2119755726272503,
           "169": 1.2793125782489374,
           "1690": 1.213581936871773,
           "1691": 1.2136249695973444,
           "1692": 1.2131760721056966,
           "1693": 1.2135952235641914,
           "1694": 1.215848765393151,
           "1695": 1.2191345931354376,
           "1696": 1.2224622545114676,
           "1697": 1.2237479414294754,
           "1698": 1.2233116908842603,
           "1699": 1.2273976771413224,
           "17": null,
           "170": 1.2781639775765818,
           "1700": 1.2275242398845074,
           "1701": 1.2266023101247703,
           "1702": 1.2236045620215916,
           "1703": 1.2224421184954533,
           "1704": 1.2217956085361588,
           "1705": 1.22404576678701,
           "1706": 1.2287684802712087,
           "1707": 1.229895479358965,
           "1708": 1.2297819479543608,
           "1709": 1.225961022721212,
           "171": 1.278878258489592,
           "1710": 1.2259054758353234,
           "1711": 1.2300523088149828,
           "1712": 1.2306508227292894,
           "1713": 1.2305325144423014,
           "1714": 1.2275131317665946,
           "1715": 1.2287716315691413,
           "1716": 1.2320532417293786,
           "1717": 1.23033409771847,
           "1718": 1.2189997027128199,
           "1719": 1.2204385292436324,
           "172": 1.2899222752800734,
           "1720": 1.2185014400039431,
           "1721": 1.2175603852041552,
           "1722": 1.217238149406305,
           "1723": 1.218190877175904,
           "1724": 1.2180597375882962,
           "1725": 1.2121798563765334,
           "1726": 1.210913353675637,
           "1727": 1.209361638111549,
           "1728": 1.210087054337129,
           "1729": 1.208430832753955,
           "173": 1.3245901854202,
           "1730": 1.2099420955639593,
           "1731": 1.210747199316183,
           "1732": 1.209716250809369,
           "1733": 1.2104689421043926,
           "1734": 1.20962283735014,
           "1735": 1.2076784360072634,
           "1736": 1.206729333944638,
           "1737": 1.2068541530093901,
           "1738": 1.2106875966748696,
           "1739": 1.21079280309143,
           "174": 1.3224294625373363,
           "1740": 1.2108034360722477,
           "1741": 1.2061921733290242,
           "1742": 1.2054832285310975,
           "1743": 1.2035717214087633,
           "1744": 1.2099357857597717,
           "1745": 1.210067235161948,
           "1746": 1.2034618646046842,
           "1747": 1.2023905698380408,
           "1748": 1.202770221971758,
           "1749": 1.2011250435250083,
           "175": 1.3304534145733034,
           "1750": 1.2022752172924953,
           "1751": 1.1978899374255052,
           "1752": 1.1981833075542383,
           "1753": 1.197212573422706,
           "1754": 1.1940185648443478,
           "1755": 1.1956833043322277,
           "1756": 1.196067764032539,
           "1757": 1.1988778792562542,
           "1758": 1.198239833532463,
           "1759": 1.1989777980358454,
           "176": 1.3471511549083173,
           "1760": 1.2009532350237107,
           "1761": 1.1998124151350058,
           "1762": 1.199504631015276,
           "1763": 1.1972387973260303,
           "1764": 1.1969005840667573,
           "1765": 1.2018574457655662,
           "1766": 1.1979471804449064,
           "1767": 1.2016911590035062,
           "1768": 1.1991723345866447,
           "1769": 1.2014354354382564,
           "177": 1.3466346934723414,
           "1770": 1.2005867356945006,
           "1771": 1.2040796496952606,
           "1772": 1.2087729354765926,
           "1773": 1.2099845983631463,
           "1774": 1.203141510445143,
           "1775": 1.2042269042574631,
           "1776": 1.2110608651998855,
           "1777": 1.212072904908621,
           "1778": 1.2146404325580664,
           "1779": 1.2143472294554956,
           "178": 1.350623476068002,
           "1780": 1.2169962910888512,
           "1781": 1.220074675682464,
           "1782": 1.2226550648689487,
           "1783": 1.2271642079594947,
           "1784": 1.2322753007317162,
           "1785": 1.2323439083151633,
           "1786": 1.2308617027834763,
           "1787": 1.2334420359542264,
           "1788": 1.2314419414039774,
           "1789": 1.2297702150727783,
           "179": 1.3529842175742348,
           "1790": 1.226063986925522,
           "1791": 1.224934950819535,
           "1792": 1.2268342486805488,
           "1793": 1.2271101666820765,
           "1794": 1.2275528777345721,
           "1795": 1.2264255068641852,
           "1796": 1.2267032397939621,
           "1797": 1.2231006891462903,
           "1798": 1.2225853400898345,
           "1799": 1.2204863283908727,
           "18": null,
           "180": 1.3497842858218254,
           "1800": 1.221360139249547,
           "1801": 1.2182067102860938,
           "1802": 1.2136694770015193,
           "1803": 1.2128304397775027,
           "1804": 1.2100694359548172,
           "1805": 1.20990962828609,
           "1806": 1.205773362280832,
           "1807": 1.211552086847436,
           "1808": 1.206822255980267,
           "1809": 1.205050149112483,
           "181": 1.3474996883346162,
           "1810": 1.198650955872542,
           "1811": 1.1988070034837606,
           "1812": 1.199628650556508,
           "1813": 1.1947439901734949,
           "1814": 1.189056531112756,
           "1815": 1.1898114664830601,
           "1816": 1.189286219955143,
           "1817": 1.1849655121744727,
           "1818": 1.1862083163190111,
           "1819": 1.1845307418719349,
           "182": 1.3797435200450596,
           "1820": 1.184184109738953,
           "1821": 1.1838182694861084,
           "1822": 1.186557659198304,
           "1823": 1.1873550268631443,
           "1824": 1.1893044220670392,
           "1825": 1.183778647287313,
           "1826": 1.1845230525957264,
           "1827": 1.1837722703547529,
           "1828": 1.181832569250105,
           "1829": 1.1830741193052048,
           "183": 1.3852437834780804,
           "1830": 1.1838669231547432,
           "1831": 1.1834539859672815,
           "1832": 1.1822218011301069,
           "1833": 1.1827336636821806,
           "1834": 1.1851614216260393,
           "1835": 1.1851202175741662,
           "1836": 1.1836785571039654,
           "1837": 1.1769465402432644,
           "1838": 1.1770397088406932,
           "1839": 1.1770802331807872,
           "184": 1.3856516317768692,
           "1840": 1.1778208711100475,
           "1841": 1.1762502519238998,
           "1842": 1.1706937114093894,
           "1843": 1.1722032668236295,
           "1844": 1.1746677567905732,
           "1845": 1.1796550772396783,
           "1846": 1.180564390225156,
           "1847": 1.1805852521220326,
           "1848": 1.1802353443473368,
           "1849": 1.1823392800783645,
           "185": 1.3837369521343252,
           "1850": 1.180882106979438,
           "1851": 1.1800109915310197,
           "1852": 1.1810004075120633,
           "1853": 1.1862612989647408,
           "1854": 1.183101202805653,
           "1855": 1.1825836586837115,
           "1856": 1.1866183011042912,
           "1857": 1.1867469828841404,
           "1858": 1.1876229320769363,
           "1859": 1.1877730674666975,
           "186": 1.384652746382819,
           "1860": 1.1897948165560568,
           "1861": 1.1908146649546678,
           "1862": 1.1902483001339472,
           "1863": 1.1896556677298897,
           "1864": 1.1896429729870448,
           "1865": 1.1919234118700548,
           "1866": 1.1926144642149688,
           "1867": 1.198857119702137,
           "1868": 1.2053780560090872,
           "1869": 1.2071026245857337,
           "187": 1.3593753017278336,
           "1870": 1.2076595766187916,
           "1871": 1.21062546478295,
           "1872": 1.215035324618225,
           "1873": 1.213464716125731,
           "1874": 1.2135198109276892,
           "1875": 1.2074599680298204,
           "1876": 1.2093024110100323,
           "1877": 1.2131479952039148,
           "1878": 1.2124721824224731,
           "1879": 1.2101545789523072,
           "188": 1.3910300017798893,
           "1880": 1.2163991318162404,
           "1881": 1.2186730499647433,
           "1882": 1.2153895306353182,
           "1883": 1.2128143116639944,
           "1884": 1.2179799223996675,
           "1885": 1.2218180145852686,
           "1886": 1.2170356007143783,
           "1887": 1.2217739284787392,
           "1888": 1.2211073371868701,
           "1889": 1.22319833701411,
           "189": 1.4113216325902616,
           "1890": 1.2206313532228903,
           "1891": 1.2187373885741983,
           "1892": 1.21915454912182,
           "1893": 1.221838153916768,
           "1894": 1.222263222400265,
           "1895": 1.218620033267537,
           "1896": 1.2181101486055177,
           "1897": 1.2123244689878196,
           "1898": 1.2088122563476327,
           "1899": 1.207108581887264,
           "19": null,
           "190": 1.4148223023048467,
           "1900": 1.2097890760487355,
           "1901": 1.2137685260167197,
           "1902": 1.2094522891526345,
           "1903": 1.2130328534338473,
           "1904": 1.2138459207619898,
           "1905": 1.2142698428450596,
           "1906": 1.218506971370636,
           "1907": 1.2147931826206728,
           "1908": 1.2177723703758692,
           "1909": 1.2218704286611077,
           "191": 1.4168360960717723,
           "1910": 1.215847748006808,
           "1911": 1.2163080898354695,
           "1912": 1.2154791661030033,
           "1913": 1.2148241024423578,
           "1914": 1.2103713393485447,
           "1915": 1.209473591781678,
           "1916": 1.209377091716248,
           "1917": 1.2051033144797214,
           "1918": 1.2063441470827432,
           "1919": 1.2054868580394962,
           "192": 1.4232343142221646,
           "1920": 1.2072666139041144,
           "1921": 1.2115866212672566,
           "1922": 1.2130930092921297,
           "1923": 1.2132845382744017,
           "1924": 1.2137393846112705,
           "1925": 1.2135463748191795,
           "1926": 1.2129645431792975,
           "1927": 1.215032208457893,
           "1928": 1.2131345228931836,
           "1929": 1.213472212931225,
           "193": 1.4335377973705306,
           "1930": 1.2122664821511693,
           "1931": 1.2083492697038547,
           "1932": 1.2095637269191637,
           "1933": 1.2061603355174533,
           "1934": 1.2073346543732595,
           "1935": 1.208253127397231,
           "1936": 1.2032076403345286,
           "1937": 1.2043742053112994,
           "1938": 1.2003889816011983,
           "1939": 1.1983066006768408,
           "194": 1.4292470451799784,
           "1940": 1.1991340879598968,
           "1941": 1.197742471002766,
           "1942": 1.1958495732110495,
           "1943": 1.1938901661974801,
           "1944": 1.195369884649438,
           "1945": 1.1956452025678908,
           "1946": 1.1977204831341985,
           "1947": 1.1956426816277004,
           "1948": 1.1941292727348072,
           "1949": 1.191926408911577,
           "195": 1.4380762511544882,
           "1950": 1.1879586766402288,
           "1951": 1.186456160799675,
           "1952": 1.1850505213432994,
           "1953": 1.1814862261548824,
           "1954": 1.1810816698914346,
           "1955": 1.181031916914368,
           "1956": 1.1810832483261806,
           "1957": 1.1861604745059326,
           "1958": 1.1868660238334314,
           "1959": 1.1867843910521194,
           "196": 1.4408562534042606,
           "1960": 1.1851457164643124,
           "1961": 1.1828222982508128,
           "1962": 1.1839259956003214,
           "1963": 1.1829271917109103,
           "1964": 1.1800879858255129,
           "1965": 1.1788155326628948,
           "1966": 1.1767226828665636,
           "1967": 1.174239691748883,
           "1968": 1.177813984587352,
           "1969": 1.178403909133293,
           "197": 1.4390097257371643,
           "1970": 1.1782458999417806,
           "1971": 1.1799459320052748,
           "1972": 1.1824173637305442,
           "1973": 1.1900077042629342,
           "1974": 1.1895403889630374,
           "1975": 1.1882188629542656,
           "1976": 1.1854385023062746,
           "1977": 1.1869568264714896,
           "1978": 1.1886931896818196,
           "1979": 1.188859128725395,
           "198": 1.4022860766082157,
           "1980": 1.1895274227507648,
           "1981": 1.1886554034423362,
           "1982": 1.1892138318156038,
           "1983": 1.189497770630558,
           "1984": 1.1941457728395002,
           "1985": 1.1945686642454612,
           "1986": 1.1946701451697495,
           "1987": 1.1900152534802049,
           "1988": 1.1888278460218877,
           "1989": 1.186284932126982,
           "199": 1.3716962932275265,
           "1990": 1.1859444083979571,
           "1991": 1.185952577983819,
           "1992": 1.1841742691170214,
           "1993": 1.1855981601851588,
           "1994": 1.18696643627166,
           "1995": 1.1872404207207823,
           "1996": 1.1891645186038058,
           "1997": 1.1891392460454022,
           "1998": 1.1891894805754235,
           "1999": 1.1875442171062676,
           "2": null,
           "20": null,
           "200": 1.3750358187333112,
           "2000": 1.1869446979277956,
           "2001": 1.1862496833568,
           "2002": 1.1858751489622406,
           "2003": 1.177862562843245,
           "2004": 1.1779239560727173,
           "2005": 1.1784208749781806,
           "2006": 1.178596091358721,
           "2007": 1.178767015542813,
           "2008": 1.1818758989529405,
           "2009": 1.1829024583989451,
           "201": 1.3784712234313785,
           "2010": 1.1838460494511431,
           "2011": 1.1821339814488898,
           "2012": 1.18553417165219,
           "2013": 1.1925483919547617,
           "2014": 1.1868172949858504,
           "2015": 1.1854933425526337,
           "2016": 1.1871779046946886,
           "2017": 1.1852794474160784,
           "2018": 1.1865914385588554,
           "2019": 1.1930317534295598,
           "202": 1.3770367343116765,
           "2020": 1.1945421117280821,
           "2021": 1.195723503461025,
           "2022": 1.197307665934551,
           "2023": 1.1967802414992945,
           "2024": 1.1971408474161367,
           "2025": 1.1972146803666932,
           "2026": 1.1976826563979555,
           "2027": 1.1966974769768202,
           "2028": 1.196013433719931,
           "2029": 1.196444676286469,
           "203": 1.3601418193782455,
           "2030": 1.1981306033575136,
           "2031": 1.196876179889747,
           "2032": 1.196438144340533,
           "2033": 1.201494942258391,
           "2034": 1.2026200855866722,
           "2035": 1.203431280993363,
           "2036": 1.2051140628192198,
           "2037": 1.2050877958259212,
           "2038": 1.2002452166011044,
           "2039": 1.1989980237813351,
           "204": 1.3703197987810367,
           "2040": 1.1992422936573561,
           "2041": 1.2010493145005492,
           "2042": 1.197044332720322,
           "2043": 1.1907721918548981,
           "2044": 1.191489774315095,
           "2045": 1.1914984432629774,
           "2046": 1.1919806406444755,
           "2047": 1.192898489465876,
           "2048": 1.1916664302833726,
           "2049": 1.1877269329192606,
           "205": 1.369344421351669,
           "2050": 1.1887461008128184,
           "2051": 1.1866409844845494,
           "2052": 1.1853522768807934,
           "2053": 1.1848114590737113,
           "2054": 1.1841607577637145,
           "2055": 1.1911270486504342,
           "2056": 1.1891395354496765,
           "2057": 1.1912894792151614,
           "2058": 1.1898890897921641,
           "2059": 1.1911105399649196,
           "206": 1.3642485135255498,
           "2060": 1.191805254527693,
           "2061": 1.1933973049273614,
           "2062": 1.1931767640757134,
           "2063": 1.1900993153466615,
           "2064": 1.1904497233257925,
           "2065": 1.1883732192762233,
           "2066": 1.1868851135265541,
           "2067": 1.188347392120323,
           "2068": 1.1893975056090669,
           "2069": 1.1904953018582858,
           "207": 1.3747367465756082,
           "2070": 1.1914734494860617,
           "2071": 1.1898762953468955,
           "2072": 1.1905161560517221,
           "2073": 1.1925997302010818,
           "2074": 1.1928777866961433,
           "2075": 1.1934528000522575,
           "2076": 1.1924396875515115,
           "2077": 1.1934882816423709,
           "2078": 1.1928186108177588,
           "2079": 1.192924884224836,
           "208": 1.3748695211194664,
           "2080": 1.1923306992899712,
           "2081": 1.1943013580241522,
           "2082": 1.1936626179325414,
           "2083": 1.1937284623376712,
           "2084": 1.1941957669746885,
           "2085": 1.1893945892339295,
           "2086": 1.1911916408244874,
           "2087": 1.190770393981168,
           "2088": 1.1931376697958536,
           "2089": 1.190757794499505,
           "209": 1.3706004433290024,
           "2090": 1.1904413552858872,
           "2091": 1.1897980332361346,
           "2092": 1.1877845050238294,
           "2093": 1.1875012620162162,
           "2094": 1.1877721821271985,
           "2095": 1.1881154452889569,
           "2096": 1.1912460923623474,
           "2097": 1.1891182598001846,
           "2098": 1.1876296698519875,
           "2099": 1.1882805020990885,
           "21": null,
           "210": 1.3715161675395853,
           "2100": 1.1867051841215783,
           "2101": 1.1876066408928097,
           "2102": 1.1881529275738039,
           "2103": 1.1866955147799838,
           "2104": 1.186722187450273,
           "2105": 1.1857839694821444,
           "2106": 1.1853119117535347,
           "2107": 1.1846370194591351,
           "2108": 1.1854482192089617,
           "2109": 1.1867965027149527,
           "211": 1.3756647358971876,
           "2110": 1.1866306433405702,
           "2111": 1.1845925861630724,
           "2112": 1.1863550130008274,
           "2113": 1.1921199457836666,
           "2114": 1.190883034137374,
           "2115": 1.189829945666323,
           "2116": 1.1886542450936344,
           "2117": 1.1889485324849907,
           "2118": 1.18582325173942,
           "2119": 1.1888892851382267,
           "212": 1.3562874471747561,
           "2120": 1.1886010568612368,
           "2121": 1.1894344954181704,
           "2122": 1.1913464518236112,
           "2123": 1.1909172707284819,
           "2124": 1.1899645183329821,
           "2125": 1.1919595234120335,
           "2126": 1.1892673440929116,
           "2127": 1.1909696957694922,
           "2128": 1.19296864356562,
           "2129": 1.1933840733231098,
           "213": 1.3552913953482844,
           "2130": 1.194231577786946,
           "2131": 1.1949953872398082,
           "2132": 1.1936155379472893,
           "2133": 1.194575190250032,
           "2134": 1.195508818764006,
           "2135": 1.1968866369351672,
           "2136": 1.196939890601776,
           "2137": 1.1969224083226997,
           "2138": 1.1985459021013865,
           "2139": 1.197764783686605,
           "214": 1.3562595732303786,
           "2140": 1.1973284596450822,
           "2141": 1.1984320898256484,
           "2142": 1.198762117661025,
           "2143": 1.1947571322961157,
           "2144": 1.1945059632559305,
           "2145": 1.1939980701806014,
           "2146": 1.1943881871143704,
           "2147": 1.1938593356831293,
           "2148": 1.1945935830574128,
           "2149": 1.1923961268677095,
           "215": 1.358687990970842,
           "2150": 1.1919686238906446,
           "2151": 1.1908977203878062,
           "2152": 1.191342662854898,
           "2153": 1.1903637627635684,
           "2154": 1.191651878280737,
           "2155": 1.1906793384019443,
           "2156": 1.1910609983125389,
           "2157": 1.1939327644865754,
           "2158": 1.1929016246337436,
           "2159": 1.1913601353610133,
           "216": 1.36514468799104,
           "2160": 1.1903140457007444,
           "2161": 1.1895222967007064,
           "2162": 1.191064568591295,
           "2163": 1.1905367410803256,
           "2164": 1.1884744843276636,
           "2165": 1.1874770022280177,
           "2166": 1.1870068677587489,
           "2167": 1.18620284556538,
           "2168": 1.1863840761749027,
           "2169": 1.185502006834816,
           "217": 1.3597091511648267,
           "2170": 1.1842767027586731,
           "2171": 1.1824767360939925,
           "2172": 1.1820888845783537,
           "2173": 1.1799780769507864,
           "2174": 1.1805819110313545,
           "2175": 1.1793801911420894,
           "2176": 1.183504877164969,
           "2177": 1.1822763776336116,
           "2178": 1.182251304844302,
           "2179": 1.182478288777563,
           "218": 1.343034807517782,
           "2180": 1.181779601971136,
           "2181": 1.182019495957888,
           "2182": 1.1816682449152687,
           "2183": 1.184450972116328,
           "2184": 1.1833937560538426,
           "2185": 1.1818614407002934,
           "2186": 1.1809196615522513,
           "2187": 1.1772871077979379,
           "2188": 1.1767639666373924,
           "2189": 1.1761339959321675,
           "219": 1.3295802440551656,
           "2190": 1.174856516838304,
           "2191": 1.1752101436130291,
           "2192": 1.174241749315213,
           "2193": 1.1737506938910216,
           "2194": 1.174688219125915,
           "2195": 1.1751968085249875,
           "2196": 1.1747321853155848,
           "2197": 1.1754305617218457,
           "2198": 1.1746677407435808,
           "2199": 1.1750715296264704,
           "22": null,
           "220": 1.3245123081465784,
           "2200": 1.1747942957650441,
           "2201": 1.1756192000230796,
           "2202": 1.1738914719945441,
           "2203": 1.1745568852223147,
           "2204": 1.1732782120638823,
           "2205": 1.174623157823379,
           "2206": 1.1716483377881235,
           "2207": 1.170709732941172,
           "2208": 1.1712469755401596,
           "2209": 1.1722059013185173,
           "221": 1.3201992443883477,
           "2210": 1.172906686102123,
           "2211": 1.1732888478956092,
           "2212": 1.174774525883836,
           "2213": 1.1718352544152142,
           "2214": 1.1719762041196644,
           "2215": 1.1719152396842198,
           "2216": 1.1727277328950978,
           "2217": 1.1730919837291418,
           "2218": 1.172750513484023,
           "2219": 1.1739706279332591,
           "222": 1.3122310179711107,
           "2220": 1.1744437622638604,
           "2221": 1.1733051797604186,
           "2222": 1.1727248972373883,
           "2223": 1.1728610010566258,
           "2224": 1.1742911019694091,
           "2225": 1.1735148569573741,
           "2226": 1.17866777612761,
           "2227": 1.1804002898966528,
           "2228": 1.181058663802167,
           "2229": 1.181282460323117,
           "223": 1.3012941295296117,
           "2230": 1.1809951691053118,
           "2231": 1.1815444395016708,
           "2232": 1.1815915060686177,
           "2233": 1.1839405176992488,
           "2234": 1.1851824177045056,
           "2235": 1.1846285517527344,
           "2236": 1.1822091317754222,
           "2237": 1.1834172463036208,
           "2238": 1.1838576536152356,
           "2239": 1.1826827796788817,
           "224": 1.2939041957863044,
           "2240": 1.1820472136298261,
           "2241": 1.1822535455820593,
           "2242": 1.17948995793833,
           "2243": 1.17942925272638,
           "2244": 1.1788206609860088,
           "2245": 1.1792885808577125,
           "2246": 1.1780702895447956,
           "2247": 1.176430126648571,
           "2248": 1.1775372049459982,
           "2249": 1.1765200853468336,
           "225": 1.289606676936725,
           "2250": 1.1782445787731102,
           "2251": 1.1813479772943087,
           "2252": 1.1834763475564878,
           "2253": 1.18349029573085,
           "2254": 1.1828974955341807,
           "2255": 1.1849718196166505,
           "2256": 1.1800518009988499,
           "2257": 1.1766904389387962,
           "2258": 1.1745920317646998,
           "2259": 1.1738635231957086,
           "226": 1.2886168991837148,
           "2260": 1.174893327190155,
           "2261": 1.1756236474251582,
           "2262": 1.1801075126064382,
           "2263": 1.1788944623702264,
           "2264": 1.1798878930539638,
           "2265": 1.1806014373638025,
           "2266": 1.1831063544199898,
           "2267": 1.1836844928596926,
           "2268": 1.1841933518659444,
           "2269": 1.1870650054867584,
           "227": 1.2916745014554831,
           "2270": 1.1871500547668226,
           "2271": 1.1861877894609967,
           "2272": 1.1872410790695933,
           "2273": 1.1900391309625065,
           "2274": 1.1898630828960404,
           "2275": 1.1907111364045873,
           "2276": 1.192427084721757,
           "2277": 1.1939088516795437,
           "2278": 1.1935174836398652,
           "2279": 1.1938274995874152,
           "228": 1.2906854920939559,
           "2280": 1.1929135731431064,
           "2281": 1.1924156659050889,
           "2282": 1.191636337446509,
           "2283": 1.1914863686891102,
           "2284": 1.1898781735328086,
           "2285": 1.18846407608656,
           "2286": 1.1913214141296358,
           "2287": 1.1924075431227477,
           "2288": 1.193896614693394,
           "2289": 1.1932613922374886,
           "229": 1.2866972934439622,
           "2290": 1.1935311849099972,
           "2291": 1.1943461692041988,
           "2292": 1.1903664977589297,
           "2293": 1.1900267918537681,
           "2294": 1.1896286103397633,
           "2295": 1.1906740881345648,
           "2296": 1.188667084337969,
           "2297": 1.1894474204795695,
           "2298": 1.189409172689438,
           "2299": 1.1870740416847447,
           "23": null,
           "230": 1.2883757113564518,
           "2300": 1.188260369813943,
           "2301": 1.1888485733016876,
           "2302": 1.1897605064939358,
           "2303": 1.1879310802686684,
           "2304": 1.1878641073721627,
           "2305": 1.1882293783290838,
           "2306": 1.1875795107621085,
           "2307": 1.187878694805374,
           "2308": 1.1896364029222686,
           "2309": 1.1888401248420768,
           "231": 1.28490114334281,
           "2310": 1.1904491753044288,
           "2311": 1.1890744346644826,
           "2312": 1.187932126618272,
           "2313": 1.189718755491341,
           "2314": 1.189816828565497,
           "2315": 1.1895492772013736,
           "2316": 1.188681525358159,
           "2317": 1.1905793746104918,
           "2318": 1.1898777254255353,
           "2319": 1.191064221670531,
           "232": 1.2781807252152562,
           "2320": 1.1905216044974003,
           "2321": 1.1903825120818137,
           "2322": 1.1902521008046258,
           "2323": 1.1895085156974154,
           "2324": 1.1890508465158363,
           "2325": 1.186941451289127,
           "2326": 1.1873856377460221,
           "2327": 1.185778591964859,
           "2328": 1.1851242641098108,
           "2329": 1.1869640956983716,
           "233": 1.2572014071328497,
           "2330": 1.1866611138246133,
           "2331": 1.1874369368087914,
           "2332": 1.1851795020080513,
           "2333": 1.1856270764974257,
           "2334": 1.185400735514459,
           "2335": 1.1854469734484787,
           "2336": 1.1855237020411686,
           "2337": 1.1842736935773854,
           "2338": 1.181709167339007,
           "2339": 1.1839607933357077,
           "234": 1.2495981683215465,
           "2340": 1.1827027376120158,
           "2341": 1.181029485696313,
           "2342": 1.1800737046318373,
           "2343": 1.1775035996615217,
           "2344": 1.1785889380734518,
           "2345": 1.1801404666895496,
           "2346": 1.179693813262607,
           "2347": 1.178372321934644,
           "2348": 1.1789561421449435,
           "2349": 1.1790649835360978,
           "235": 1.2570003338454712,
           "2350": 1.1802858748149043,
           "2351": 1.1801530104644995,
           "2352": 1.1810275747923777,
           "2353": 1.1816971118849504,
           "2354": 1.1836137697100548,
           "2355": 1.1848728669599735,
           "2356": 1.1839854848821405,
           "2357": 1.184657491908623,
           "2358": 1.1865593493133844,
           "2359": 1.1853024073349174,
           "236": 1.2635512323103435,
           "2360": 1.1853020734271527,
           "2361": 1.1843658540690065,
           "2362": 1.187343235997369,
           "2363": 1.1857234679137176,
           "2364": 1.1877283994568049,
           "2365": 1.1878469355934878,
           "2366": 1.1897002693589445,
           "2367": 1.1892067090734397,
           "2368": 1.18939521248726,
           "2369": 1.1881257848311724,
           "237": 1.251956223095758,
           "2370": 1.190340473770129,
           "2371": 1.1903852233643688,
           "2372": 1.1914829388457135,
           "2373": 1.1931121677112606,
           "2374": 1.193713215813156,
           "2375": 1.1944689405655358,
           "2376": 1.1945287495678847,
           "2377": 1.1967100446046142,
           "2378": 1.198162928625275,
           "2379": 1.198514442976075,
           "238": 1.2617884575344394,
           "2380": 1.1976160744027318,
           "2381": 1.1953817382559915,
           "2382": 1.1975021099510588,
           "2383": 1.1984866393144493,
           "2384": 1.1957628703379124,
           "2385": 1.196181433366675,
           "2386": 1.1963382008290666,
           "2387": 1.197178240962981,
           "2388": 1.1943640717456419,
           "2389": 1.1927886345293646,
           "239": 1.2595589317141134,
           "2390": 1.1931202324259427,
           "2391": 1.1942285447293954,
           "2392": 1.194983197728787,
           "2393": 1.1968594170472049,
           "2394": 1.1972141656216708,
           "2395": 1.1974972737038267,
           "2396": 1.1951711260631563,
           "2397": 1.1949231090225043,
           "2398": 1.1966159269626864,
           "2399": 1.1956920617023166,
           "24": null,
           "240": 1.257943359728827,
           "2400": 1.1936647837313046,
           "2401": 1.1941556338598172,
           "2402": 1.1952467727213603,
           "2403": 1.1958112457829897,
           "2404": 1.1942401079325933,
           "2405": 1.1918854772145409,
           "2406": 1.1917824727222879,
           "2407": 1.1884491958673522,
           "2408": 1.185839910382032,
           "2409": 1.1846285575836868,
           "241": 1.2602714577635898,
           "2410": 1.1847935714055153,
           "2411": 1.1855292424020394,
           "2412": 1.182566512655501,
           "2413": 1.183264307985556,
           "2414": 1.186072716867504,
           "242": 1.2539289674976848,
           "243": 1.2605241376754215,
           "244": 1.2606074142422692,
           "245": 1.2823345409238542,
           "246": 1.2771497601229989,
           "247": 1.2682158366825291,
           "248": 1.2584855116993716,
           "249": 1.256916797862806,
           "25": null,
           "250": 1.2575027386567486,
           "251": 1.2556716475181307,
           "252": 1.2547249652506005,
           "253": 1.2544939415419671,
           "254": 1.2662351357238102,
           "255": 1.2613629385271838,
           "256": 1.2703302277555677,
           "257": 1.2707762646637741,
           "258": 1.2894406035536048,
           "259": 1.297436344910854,
           "26": null,
           "260": 1.297776188399522,
           "261": 1.31312702309021,
           "262": 1.3193247355428177,
           "263": 1.3204137454362497,
           "264": 1.3269656120477065,
           "265": 1.319722753247286,
           "266": 1.314615079230357,
           "267": 1.322740752204824,
           "268": 1.315600178214637,
           "269": 1.3261701083835549,
           "27": null,
           "270": 1.3219988041816664,
           "271": 1.3121006467528156,
           "272": 1.3083839985449959,
           "273": 1.2930234999882628,
           "274": 1.290053643883642,
           "275": 1.2689529133545585,
           "276": 1.2702425804808533,
           "277": 1.2706025195026847,
           "278": 1.262928364213933,
           "279": 1.2554062606887433,
           "28": null,
           "280": 1.2572574277435498,
           "281": 1.260322759122989,
           "282": 1.2650046742182774,
           "283": 1.2741802529163802,
           "284": 1.2604800358253818,
           "285": 1.289035061871354,
           "286": 1.2816146634533352,
           "287": 1.2808310818803994,
           "288": 1.2646809779827934,
           "289": 1.2569449624971287,
           "29": 1.2404111435844958,
           "290": 1.2575875413599944,
           "291": 1.2626524937802854,
           "292": 1.253154542377619,
           "293": 1.2794200568210958,
           "294": 1.2696477357057858,
           "295": 1.2619997790443196,
           "296": 1.2647254869470645,
           "297": 1.2558633000654738,
           "298": 1.253883382831805,
           "299": 1.2465016928531327,
           "3": null,
           "30": 1.2415620929997864,
           "300": 1.250054252023206,
           "301": 1.2490798762416804,
           "302": 1.253948200893617,
           "303": 1.284633300759932,
           "304": 1.2900236335439605,
           "305": 1.2869151039471292,
           "306": 1.2833065269552353,
           "307": 1.2821024684248097,
           "308": 1.2931772479658075,
           "309": 1.2934168060433529,
           "31": 1.233628773591668,
           "310": 1.3017209115861754,
           "311": 1.3001465432056958,
           "312": 1.3045041357938998,
           "313": 1.2935211921994396,
           "314": 1.318068176758497,
           "315": 1.2882770534327956,
           "316": 1.2883249998795872,
           "317": 1.2925664137907764,
           "318": 1.289618658973701,
           "319": 1.2913893354679933,
           "32": 1.2063685531601298,
           "320": 1.2856129607039948,
           "321": 1.2610915419235316,
           "322": 1.260248035946187,
           "323": 1.2324667781108773,
           "324": 1.2363066371847993,
           "325": 1.2474263068807627,
           "326": 1.2384710380240342,
           "327": 1.237304215053063,
           "328": 1.2330422789014586,
           "329": 1.2298620215274587,
           "33": 1.2033463156745126,
           "330": 1.2428256873025625,
           "331": 1.2561218925915865,
           "332": 1.256766092945629,
           "333": 1.2296923726604274,
           "334": 1.232280510016415,
           "335": 1.238934801982081,
           "336": 1.2373365378370484,
           "337": 1.2482470286701002,
           "338": 1.2495031113782658,
           "339": 1.2486220458973196,
           "34": 1.1998266027768105,
           "340": 1.2387679187792728,
           "341": 1.2429460619766648,
           "342": 1.244341615560323,
           "343": 1.257631529866751,
           "344": 1.2414789233019026,
           "345": 1.2468141882082688,
           "346": 1.2466456942766315,
           "347": 1.2409190802284467,
           "348": 1.2420370362914632,
           "349": 1.2512302941177882,
           "35": 1.1985939842594024,
           "350": 1.2503117214510644,
           "351": 1.25193602543022,
           "352": 1.2640292828431015,
           "353": 1.269393399111572,
           "354": 1.2760351278882225,
           "355": 1.264359666296749,
           "356": 1.269576395316072,
           "357": 1.2725286976603414,
           "358": 1.2843991958909509,
           "359": 1.2874099641586882,
           "36": 1.1917928558396984,
           "360": 1.278303664521043,
           "361": 1.2685864352162315,
           "362": 1.266995696982555,
           "363": 1.272317126097355,
           "364": 1.2675887489858642,
           "365": 1.2685286683841734,
           "366": 1.2769708001976587,
           "367": 1.2698304161212641,
           "368": 1.2645231564974202,
           "369": 1.2671018597301213,
           "37": 1.18012450331016,
           "370": 1.2675241946114562,
           "371": 1.2733344677061156,
           "372": 1.2650805626128094,
           "373": 1.2515255477909273,
           "374": 1.2494544758656514,
           "375": 1.2426241414947083,
           "376": 1.2408744690231213,
           "377": 1.2373461297441088,
           "378": 1.2362649079323054,
           "379": 1.22509775295649,
           "38": 1.206820373957302,
           "380": 1.2344774126013867,
           "381": 1.23449548566417,
           "382": 1.2247846950566097,
           "383": 1.219270185706212,
           "384": 1.2099525915234381,
           "385": 1.221106804648063,
           "386": 1.2113575522095397,
           "387": 1.2109669351157464,
           "388": 1.2098511550421045,
           "389": 1.212195518539128,
           "39": 1.2072196542321323,
           "390": 1.2090021398358188,
           "391": 1.2076627421706554,
           "392": 1.2052430705308121,
           "393": 1.2071532331864676,
           "394": 1.214979492974059,
           "395": 1.2157475152301698,
           "396": 1.2112844453910037,
           "397": 1.2159566722501196,
           "398": 1.2129654146986288,
           "399": 1.2102937364924018,
           "4": null,
           "40": 1.2121006440655684,
           "400": 1.2161766232106794,
           "401": 1.2057423038605561,
           "402": 1.205252511471966,
           "403": 1.2080397793930748,
           "404": 1.2055440632411014,
           "405": 1.2158024392034619,
           "406": 1.216519387125673,
           "407": 1.2218644233127898,
           "408": 1.2233583367765435,
           "409": 1.224581212271775,
           "41": 1.2101479218360631,
           "410": 1.217765346478946,
           "411": 1.223958768652232,
           "412": 1.2323637584021148,
           "413": 1.238153313265186,
           "414": 1.241641970315981,
           "415": 1.2314990585440408,
           "416": 1.2485719478133428,
           "417": 1.2481088750861018,
           "418": 1.2508387622417165,
           "419": 1.2541299184236112,
           "42": 1.2101195851880653,
           "420": 1.257547630201418,
           "421": 1.265043389232832,
           "422": 1.2628487814411344,
           "423": 1.25320320106323,
           "424": 1.2446699430989157,
           "425": 1.2458256786238227,
           "426": 1.2465941662664677,
           "427": 1.2515006947824987,
           "428": 1.2539192544373399,
           "429": 1.2576736231020191,
           "43": 1.2060539106307753,
           "430": 1.2514792585186578,
           "431": 1.2517351392605378,
           "432": 1.252002466700257,
           "433": 1.2497009829870176,
           "434": 1.2495307422346642,
           "435": 1.2439324779994572,
           "436": 1.2413198414815045,
           "437": 1.2400229432641308,
           "438": 1.2639517529281648,
           "439": 1.2661493734152691,
           "44": 1.2067128797634898,
           "440": 1.2724420374971714,
           "441": 1.2686196386407131,
           "442": 1.2643699841522995,
           "443": 1.2589063172049264,
           "444": 1.2554445437459096,
           "445": 1.262872611071814,
           "446": 1.2465742998569742,
           "447": 1.271799706852335,
           "448": 1.2627646655096758,
           "449": 1.2594441427040246,
           "45": 1.2059550416422413,
           "450": 1.2620675865021511,
           "451": 1.2568976668440066,
           "452": 1.2629630173619768,
           "453": 1.2705840969581434,
           "454": 1.2816282584413206,
           "455": 1.275300263793444,
           "456": 1.2726811945936156,
           "457": 1.2626285185119646,
           "458": 1.2587215776488627,
           "459": 1.259666334043532,
           "46": 1.2056756688122192,
           "460": 1.2611635872668976,
           "461": 1.2641222951648774,
           "462": 1.2611694198802752,
           "463": 1.2640120335074359,
           "464": 1.267036502159226,
           "465": 1.274164773338536,
           "466": 1.2819993131814795,
           "467": 1.2835894715714053,
           "468": 1.2575513787913692,
           "469": 1.2558179645419272,
           "47": 1.2005609460562525,
           "470": 1.2491456212990442,
           "471": 1.2468549300131442,
           "472": 1.2577098947243017,
           "473": 1.2589767444003932,
           "474": 1.2582484210598603,
           "475": 1.2602667220518529,
           "476": 1.2653453037953641,
           "477": 1.2445353687455856,
           "478": 1.240622995980053,
           "479": 1.257487295452617,
           "48": 1.1979261921480366,
           "480": 1.252433293669674,
           "481": 1.2502157661949418,
           "482": 1.249217078629243,
           "483": 1.2418598873720867,
           "484": 1.2301197145610483,
           "485": 1.233784337959826,
           "486": 1.236354384474621,
           "487": 1.2482190608424484,
           "488": 1.248212158705804,
           "489": 1.2485206411426475,
           "49": 1.202275045628883,
           "490": 1.2518093212791457,
           "491": 1.2566633549253443,
           "492": 1.2658326611332529,
           "493": 1.2669811373010542,
           "494": 1.2651015583869607,
           "495": 1.257083663427338,
           "496": 1.2514533768081249,
           "497": 1.246061726598038,
           "498": 1.245804845200494,
           "499": 1.2524845538369136,
           "5": null,
           "50": 1.1993035374468008,
           "500": 1.2518136236968922,
           "501": 1.2547539955171318,
           "502": 1.2448448194920496,
           "503": 1.2427538976179708,
           "504": 1.247873076616028,
           "505": 1.2402929082898324,
           "506": 1.2364324454140163,
           "507": 1.2341067876908862,
           "508": 1.2438562425433555,
           "509": 1.2249654091053277,
           "51": 1.18882648556317,
           "510": 1.2242587499721276,
           "511": 1.2227596537525407,
           "512": 1.2179309855348917,
           "513": 1.2161670123645107,
           "514": 1.218967062899287,
           "515": 1.2170546621113822,
           "516": 1.216663156237675,
           "517": 1.2038878806429532,
           "518": 1.2131953515991443,
           "519": 1.2209072711833349,
           "52": 1.1798593891650817,
           "520": 1.2167813884511163,
           "521": 1.2126131774716362,
           "522": 1.2093226165317825,
           "523": 1.2087633002467784,
           "524": 1.2122982386170027,
           "525": 1.21080148635741,
           "526": 1.2106633489395342,
           "527": 1.213655842992371,
           "528": 1.2202180531607758,
           "529": 1.2229166985139166,
           "53": 1.1731706778912412,
           "530": 1.223899597978819,
           "531": 1.2315489547479572,
           "532": 1.2277595219614255,
           "533": 1.2396078447719547,
           "534": 1.2470413592467258,
           "535": 1.2463125771284225,
           "536": 1.243620108676541,
           "537": 1.2478942313841175,
           "538": 1.2430562234374074,
           "539": 1.2470650332245818,
           "54": 1.171495170024464,
           "540": 1.2458146007750834,
           "541": 1.2514444073454414,
           "542": 1.2504260305575123,
           "543": 1.25447591760793,
           "544": 1.2546115951955545,
           "545": 1.2557600463168028,
           "546": 1.2547635426855783,
           "547": 1.263518382828278,
           "548": 1.2522979014289477,
           "549": 1.2397558059965763,
           "55": 1.1723028125246429,
           "550": 1.2427900013910222,
           "551": 1.2418123624574473,
           "552": 1.2378991454052275,
           "553": 1.2456001946390194,
           "554": 1.2439980009380163,
           "555": 1.2493954783315466,
           "556": 1.2508239133312595,
           "557": 1.2542716630630886,
           "558": 1.24891271704521,
           "559": 1.2374609006709734,
           "56": 1.1724608917294075,
           "560": 1.2405834681422618,
           "561": 1.2286950481518844,
           "562": 1.2263498810426776,
           "563": 1.224880683783472,
           "564": 1.2194924194454897,
           "565": 1.2291923015878707,
           "566": 1.237232310915128,
           "567": 1.2300470323918593,
           "568": 1.2268887956009515,
           "569": 1.2240797743762277,
           "57": 1.1696314313881429,
           "570": 1.2254692347236296,
           "571": 1.2231847081626117,
           "572": 1.2237946596296403,
           "573": 1.2267136693401213,
           "574": 1.2252155965734315,
           "575": 1.2223845763448051,
           "576": 1.2413004704241724,
           "577": 1.2311692855157257,
           "578": 1.2327116725877285,
           "579": 1.239165986662845,
           "58": 1.1707080163650516,
           "580": 1.2401422176466468,
           "581": 1.2528911638021958,
           "582": 1.2706747193948427,
           "583": 1.2748414997966104,
           "584": 1.2683232374182987,
           "585": 1.2711705996318345,
           "586": 1.282691224803576,
           "587": 1.2819349738283747,
           "588": 1.2827459393578273,
           "589": 1.2844339407310557,
           "59": 1.1770340971172846,
           "590": 1.2952063064791652,
           "591": 1.2991361270058095,
           "592": 1.3008555483337618,
           "593": 1.2936112055077045,
           "594": 1.2944475861121547,
           "595": 1.2850581930676939,
           "596": 1.2964510423137052,
           "597": 1.3008077500331374,
           "598": 1.2988860160598439,
           "599": 1.2976439838521214,
           "6": null,
           "60": 1.1865073649847984,
           "600": 1.3109432075515992,
           "601": 1.3123651854051972,
           "602": 1.3261856391984062,
           "603": 1.3225975898159759,
           "604": 1.3365048561379629,
           "605": 1.333773671162737,
           "606": 1.313624269012137,
           "607": 1.319116150330612,
           "608": 1.325368711365328,
           "609": 1.3243030450721311,
           "61": 1.1830613271498498,
           "610": 1.3306313032361106,
           "611": 1.3184336580987515,
           "612": 1.3032923313605502,
           "613": 1.3052388910099768,
           "614": 1.3146044250756213,
           "615": 1.3091726496544114,
           "616": 1.2981103022567793,
           "617": 1.2917194206036067,
           "618": 1.3050320211319024,
           "619": 1.3099057907740004,
           "62": 1.1904454518561414,
           "620": 1.297673045545553,
           "621": 1.2979118246124985,
           "622": 1.3010000120485279,
           "623": 1.3039266704770773,
           "624": 1.303491382055129,
           "625": 1.3048137709573606,
           "626": 1.289418475726243,
           "627": 1.2876175638522613,
           "628": 1.2927827030908656,
           "629": 1.2919059623007776,
           "63": 1.1914861761539044,
           "630": 1.2881510142573378,
           "631": 1.290549629438784,
           "632": 1.2770406874481377,
           "633": 1.2742129454556796,
           "634": 1.2597989779489442,
           "635": 1.2617590973435329,
           "636": 1.2612331478910035,
           "637": 1.2590099993400534,
           "638": 1.2540153371664806,
           "639": 1.2516766915880675,
           "64": 1.2038152605103212,
           "640": 1.2438782272852642,
           "641": 1.2451553854374373,
           "642": 1.2413221038853557,
           "643": 1.2312470917832183,
           "644": 1.2267036681894818,
           "645": 1.2246896078373908,
           "646": 1.2227764836581063,
           "647": 1.230975856533689,
           "648": 1.2285854447002893,
           "649": 1.2277322077056454,
           "65": 1.2115292957423733,
           "650": 1.225121437485641,
           "651": 1.2290492236378836,
           "652": 1.231137746340064,
           "653": 1.2253376553250088,
           "654": 1.2212791876661144,
           "655": 1.2314644518181042,
           "656": 1.2424461557512185,
           "657": 1.2454218759519164,
           "658": 1.240135428262264,
           "659": 1.2378604981533605,
           "66": 1.2169533607986032,
           "660": 1.2278006972685687,
           "661": 1.2238364456448378,
           "662": 1.2218829660896133,
           "663": 1.2372491280066273,
           "664": 1.2478637832072894,
           "665": 1.2482961346939268,
           "666": 1.2488341418622795,
           "667": 1.2538645911165447,
           "668": 1.2551699961766192,
           "669": 1.258905630109965,
           "67": 1.226381238925499,
           "670": 1.25773189901307,
           "671": 1.259530956108209,
           "672": 1.2608981680785998,
           "673": 1.258374216800305,
           "674": 1.255749926898782,
           "675": 1.2591724765082268,
           "676": 1.2596057079046135,
           "677": 1.255323858216454,
           "678": 1.244526087999818,
           "679": 1.2415501929023185,
           "68": 1.2088064896568809,
           "680": 1.2404957205782046,
           "681": 1.234909929899301,
           "682": 1.226633803219753,
           "683": 1.2344991197063384,
           "684": 1.235094181594277,
           "685": 1.2245011305069222,
           "686": 1.2182231008285653,
           "687": 1.2149682785890947,
           "688": 1.217983872030143,
           "689": 1.226133315685345,
           "69": 1.2062753454167578,
           "690": 1.229743350500342,
           "691": 1.2304823488128458,
           "692": 1.2314155159514653,
           "693": 1.2195433600429846,
           "694": 1.2123536868407974,
           "695": 1.2181469517881338,
           "696": 1.2175535584919472,
           "697": 1.2081456391457306,
           "698": 1.2058780952153896,
           "699": 1.2072083248963439,
           "7": null,
           "70": 1.2033647458036103,
           "700": 1.205026577737822,
           "701": 1.2078552251295716,
           "702": 1.2098814202429844,
           "703": 1.2104144086160011,
           "704": 1.211542959297103,
           "705": 1.2093896260233312,
           "706": 1.2155370704844493,
           "707": 1.2119907020702219,
           "708": 1.2103531660882276,
           "709": 1.2099959755777614,
           "71": 1.20215607701683,
           "710": 1.212167642719262,
           "711": 1.2118706152915781,
           "712": 1.2213196650232538,
           "713": 1.222234868172294,
           "714": 1.2196331030407852,
           "715": 1.22045810718863,
           "716": 1.2195394800898272,
           "717": 1.2249901483665684,
           "718": 1.223905218797494,
           "719": 1.2198885845397258,
           "72": 1.2067062067684298,
           "720": 1.215246413030796,
           "721": 1.2134438444984237,
           "722": 1.2122779122545333,
           "723": 1.2213514565195285,
           "724": 1.2247090027362035,
           "725": 1.2178010371159829,
           "726": 1.2202752429072072,
           "727": 1.2225316388464835,
           "728": 1.2249819822853243,
           "729": 1.2229631977909217,
           "73": 1.204692511228363,
           "730": 1.2276755459503934,
           "731": 1.2204907296701437,
           "732": 1.2190197453007365,
           "733": 1.2217335020682676,
           "734": 1.2187926786517285,
           "735": 1.2243110913762736,
           "736": 1.2196834342331493,
           "737": 1.226448324414665,
           "738": 1.2289496569367218,
           "739": 1.2290315175745428,
           "74": 1.207425879450698,
           "740": 1.2310273069932836,
           "741": 1.2392087435751316,
           "742": 1.2378681751016656,
           "743": 1.229920290056399,
           "744": 1.2326033849321147,
           "745": 1.236934571978023,
           "746": 1.2323590146654084,
           "747": 1.2261704420949378,
           "748": 1.22997572192407,
           "749": 1.2311682024421642,
           "75": 1.2092860608931943,
           "750": 1.2315185679429603,
           "751": 1.2337494242689169,
           "752": 1.2396973855174955,
           "753": 1.233166693937158,
           "754": 1.225199959241827,
           "755": 1.2283169012746489,
           "756": 1.2331240128959584,
           "757": 1.2320573668123826,
           "758": 1.230697376798615,
           "759": 1.2272240148372136,
           "76": 1.2203340705854955,
           "760": 1.2201942319616248,
           "761": 1.2261587180039146,
           "762": 1.228918960492995,
           "763": 1.2235636827374319,
           "764": 1.225742766389747,
           "765": 1.2175809802553974,
           "766": 1.2183673349342419,
           "767": 1.2192806983716242,
           "768": 1.218610073108909,
           "769": 1.2230965656504447,
           "77": 1.2267365529498255,
           "770": 1.2194552908689127,
           "771": 1.2110190242789811,
           "772": 1.2104867961032075,
           "773": 1.213750813999612,
           "774": 1.2116036246874569,
           "775": 1.2098990721435245,
           "776": 1.2083262082602118,
           "777": 1.2140439470763156,
           "778": 1.2091018321757372,
           "779": 1.2061002308815472,
           "78": 1.2283605009888963,
           "780": 1.2103395096278897,
           "781": 1.2144248787473786,
           "782": 1.2096105670452364,
           "783": 1.2093893872445316,
           "784": 1.2115820065661722,
           "785": 1.2120802844465657,
           "786": 1.2148254674589338,
           "787": 1.215572914758678,
           "788": 1.2162024237814786,
           "789": 1.2173435974303237,
           "79": 1.2248112314866526,
           "790": 1.2244907777027756,
           "791": 1.2200234525493638,
           "792": 1.216227821087327,
           "793": 1.2154891556626544,
           "794": 1.2204179404568853,
           "795": 1.2220596211080774,
           "796": 1.221809394721377,
           "797": 1.216386369004288,
           "798": 1.216342258707642,
           "799": 1.2102248579230626,
           "8": null,
           "80": 1.2347768300067332,
           "800": 1.2104655211397604,
           "801": 1.2133386337214902,
           "802": 1.2090430647511108,
           "803": 1.205384202264964,
           "804": 1.209106464715502,
           "805": 1.2051114466198982,
           "806": 1.2127024402340965,
           "807": 1.2104794277069244,
           "808": 1.211596972306099,
           "809": 1.2120259373525604,
           "81": 1.2296123169846465,
           "810": 1.2087774311167307,
           "811": 1.2081077550361186,
           "812": 1.20614649681735,
           "813": 1.2029471395023923,
           "814": 1.208242318221938,
           "815": 1.2065920312776754,
           "816": 1.1989666134924188,
           "817": 1.2025294269609599,
           "818": 1.2021767372756191,
           "819": 1.2025229844323764,
           "82": 1.231237871243201,
           "820": 1.1991132852199111,
           "821": 1.1953283494794333,
           "822": 1.1944408667453748,
           "823": 1.1959249668360166,
           "824": 1.189807975840876,
           "825": 1.1938575385801324,
           "826": 1.192563941011874,
           "827": 1.1920931336619358,
           "828": 1.1949787406470267,
           "829": 1.1962396225322707,
           "83": 1.2396107298093364,
           "830": 1.195849514391908,
           "831": 1.1938375387828053,
           "832": 1.1995860045597977,
           "833": 1.19941130351023,
           "834": 1.198188574076977,
           "835": 1.1984666855935986,
           "836": 1.1909676509591627,
           "837": 1.1882236006722038,
           "838": 1.1889608768494888,
           "839": 1.1867451342499649,
           "84": 1.24357757619464,
           "840": 1.1882577772756535,
           "841": 1.1956647347849398,
           "842": 1.1961932450244395,
           "843": 1.1966719674629656,
           "844": 1.1899064397079038,
           "845": 1.1944233797958315,
           "846": 1.1952973928936195,
           "847": 1.1918375157504308,
           "848": 1.1924404888545477,
           "849": 1.1954955615200393,
           "85": 1.2450419271745898,
           "850": 1.197343152407025,
           "851": 1.2004058494305618,
           "852": 1.2018833997049536,
           "853": 1.2023979015314792,
           "854": 1.2041886795205163,
           "855": 1.2067107046420036,
           "856": 1.2116064106160296,
           "857": 1.211734965847033,
           "858": 1.220817541041451,
           "859": 1.2228416957868091,
           "86": 1.2546885945736765,
           "860": 1.224647468721545,
           "861": 1.2245672516688262,
           "862": 1.2255184479561614,
           "863": 1.242465593654308,
           "864": 1.2457177104410504,
           "865": 1.245254908920859,
           "866": 1.24637890886125,
           "867": 1.2472255070531386,
           "868": 1.2438415045179823,
           "869": 1.2472042906831184,
           "87": 1.2550104986829256,
           "870": 1.2433583493499376,
           "871": 1.2289736046631101,
           "872": 1.2432030145513695,
           "873": 1.2438256155981298,
           "874": 1.2430785245026654,
           "875": 1.2338594359414081,
           "876": 1.2326042224710425,
           "877": 1.233554266294216,
           "878": 1.2383089089657704,
           "879": 1.2368426377371646,
           "88": 1.2540417609740042,
           "880": 1.233649057794817,
           "881": 1.2340360423705499,
           "882": 1.2351539008185817,
           "883": 1.2394738547426267,
           "884": 1.2391075129287497,
           "885": 1.2336165273357595,
           "886": 1.2250625500212025,
           "887": 1.22543035967358,
           "888": 1.2192887585322083,
           "889": 1.2189814493353353,
           "89": 1.2474105217433027,
           "890": 1.2266383157493987,
           "891": 1.2249372925390396,
           "892": 1.2170324547304892,
           "893": 1.2029198417589935,
           "894": 1.2007911104612583,
           "895": 1.204144499830207,
           "896": 1.2049683856022224,
           "897": 1.203858528982887,
           "898": 1.2153163316157614,
           "899": 1.219582442655332,
           "9": null,
           "90": 1.2425182736587355,
           "900": 1.2248911629118193,
           "901": 1.2277797970584212,
           "902": 1.2178416428626402,
           "903": 1.216923645725373,
           "904": 1.2193524624873031,
           "905": 1.2204099925844052,
           "906": 1.2199430480895737,
           "907": 1.2181337831831807,
           "908": 1.2123469942937644,
           "909": 1.209024915476939,
           "91": 1.2435284667829376,
           "910": 1.2142705486296148,
           "911": 1.2159444909738177,
           "912": 1.2173223573210408,
           "913": 1.2107643346794252,
           "914": 1.2109960026284143,
           "915": 1.2101476917335074,
           "916": 1.2123635178470333,
           "917": 1.2140821715697885,
           "918": 1.2050955425088632,
           "919": 1.2064043522343992,
           "92": 1.2387927613700227,
           "920": 1.1971414639781166,
           "921": 1.1989186290367464,
           "922": 1.2029042801685133,
           "923": 1.2032086042206847,
           "924": 1.2010340130243204,
           "925": 1.1982782042563511,
           "926": 1.1993359567983324,
           "927": 1.202685743571919,
           "928": 1.2016765869053585,
           "929": 1.2065006452790337,
           "93": 1.2400515359671551,
           "930": 1.207358764317281,
           "931": 1.2095692215032618,
           "932": 1.2093442633537896,
           "933": 1.2088171831439516,
           "934": 1.2110931049539801,
           "935": 1.2140062366956874,
           "936": 1.2164070000232454,
           "937": 1.2202554103782501,
           "938": 1.2203445421957866,
           "939": 1.2212184143006695,
           "94": 1.2219170988984425,
           "940": 1.2199147087685496,
           "941": 1.21813389557812,
           "942": 1.2194412551305946,
           "943": 1.2236824868761882,
           "944": 1.2277862957741603,
           "945": 1.2293519199694745,
           "946": 1.2332501986858289,
           "947": 1.229613996628393,
           "948": 1.2343045189440547,
           "949": 1.2300444864069506,
           "95": 1.2142246914230543,
           "950": 1.2290391805614314,
           "951": 1.2315349284108654,
           "952": 1.2360947026013662,
           "953": 1.2379175243137408,
           "954": 1.244673558690849,
           "955": 1.2474223032626293,
           "956": 1.246778952159954,
           "957": 1.2511426207910359,
           "958": 1.2427155522621287,
           "959": 1.237964370147349,
           "96": 1.2320298691796636,
           "960": 1.23559867659552,
           "961": 1.2342398359727094,
           "962": 1.2326285003984596,
           "963": 1.235066902834741,
           "964": 1.2332079056451313,
           "965": 1.235646357055379,
           "966": 1.235860205653972,
           "967": 1.2338837260691944,
           "968": 1.234018902805661,
           "969": 1.2338926359239608,
           "97": 1.2243532101952794,
           "970": 1.2302925776006723,
           "971": 1.2341012702542409,
           "972": 1.2349054483145918,
           "973": 1.2321463628638585,
           "974": 1.2245898228295293,
           "975": 1.2236657157930086,
           "976": 1.219764224491261,
           "977": 1.2203123293390838,
           "978": 1.2213615258189559,
           "979": 1.2249048902659248,
           "98": 1.2146292513310522,
           "980": 1.228354382215476,
           "981": 1.2272249508825346,
           "982": 1.2214580894945493,
           "983": 1.2224968973161745,
           "984": 1.2182830876927677,
           "985": 1.2190306423055233,
           "986": 1.2181553841579151,
           "987": 1.210817685365899,
           "988": 1.2194811593037058,
           "989": 1.2150631895228976,
           "99": 1.2249212229860982,
           "990": 1.2140837912145463,
           "991": 1.2152658904172142,
           "992": 1.2135698563352832,
           "993": 1.2132926603452712,
           "994": 1.216976079060717,
           "995": 1.2203486568076467,
           "996": 1.2194200657669723,
           "997": 1.219322626743279,
           "998": 1.2205404258668902,
           "999": 1.2234870871737835,
           "bdata": "AAAAAAAA+H8AAAAAAAD4fwAAAAAAAPh/AAAAAAAA+H8AAAAAAAD4fwAAAAAAAPh/AAAAAAAA+H8AAAAAAAD4fwAAAAAAAPh/AAAAAAAA+H8AAAAAAAD4fwAAAAAAAPh/AAAAAAAA+H8AAAAAAAD4fwAAAAAAAPh/AAAAAAAA+H8AAAAAAAD4fwAAAAAAAPh/AAAAAAAA+H8AAAAAAAD4fwAAAAAAAPh/AAAAAAAA+H8AAAAAAAD4fwAAAAAAAPh/AAAAAAAA+H8AAAAAAAD4fwAAAAAAAPh/AAAAAAAA+H8AAAAAAAD4f0Kh9Fq52PM/wzKWNnDd8z9esV+G8bzzP/XtqxxJTfM/klj5EOhA8z9EwTxhfTLzPzs5ueJwLfM/1QG3YpUR8z9czi47yuHyP4ywZOEiT/M/Oj9gjsVQ8z/wjRulw2TzP2q7ORHEXPM/9huqWqZc8z8R9HUv/0vzP0/wIyqyTvM/wcuEg5dL8z9AGvKRckrzP62pAmV/NfM/F8Okp7Qq8z8MXhzChDzzP1r69OdYMPM/hczB624F8z8jeyU9tODyP1q04p1OxfI/INUquHG+8j+m1QyYwMHyP58RHVpmwvI/zPiics+28j8zPzdUOLvyP3tUlrQh1fI/XyqRJe/78j/cVdS20e3yPxxOtocQDPM/TXkDz1MQ8z+vFGXK00LzPyDA9YpsYvM/VjJWFqR48z/FzhnvQZ/zP0ZNRHlFV/M/x5NoYOdM8z97LEZk+0DzP12ZtwIIPPM/vTXfKqtO8z8TZJena0bzP0lbicydUfM/DbgwVzxZ8z+Gv7UEfYbzP+mi+4G2oPM/tSA3V12n8z93I3Cp05jzP67Ma1mlwfM/UlMD932s8z8bYWl7JrPzPyTUhA9y1fM/Bbi8mbHl8z+f0XUVsevzP/W6BVk0E/Q/VK1/44UU9D++OfMXjhD0PzYuObxk9fM/Eb9g11rh8z/SpAcbfuXzP0axyVsY0vM/A1aFR0DX8z93EqPx+IzzP/uFut52bfM/Jia982S28z9TqUhk85bzP5e18xQfb/M/BG0O/0aZ8z/rDIn2343zPwyr6a4eifM/GkOkWMe08z+mEMRglb3zP+MDniNHvvM/VPB1E1+08z9D6jZiI7/zPz82qDnR1fM/edjTscTR8z/eK7fYPM3zP3OuKMyjvPM/YKLpTE7H8z++X64sdcfzPy5EjEQzz/M//Rzhe6DW8z+CrIQzu9LzP+GNnUQwpfM/k7hgMBir8z8N8+d2z/rzP5Y79L1DQvQ/9IdpJ+Y19D+sIua/oab0P4tbmMAcqfQ/ucsgks+r9D+TC3/6aZ30Pyw6xJn0ovQ/V1UC0PlO9D8tKDH0/EX0PyKYcjP1Y/Q/jhxaLn499D8rFmVp0k70P9e1Upb9YfQ/UYLrf4Uk9D90KLQMtyH0P/RxYfukJfQ/mkNQwEIv9D+5i1S0BfXzP6u5DxpV3PM//6Av2w7Z8z9D3CVJePfzP3HHInDF6fM/o0v3+a7x8z+gjWJM3vLzP/dsb6j20/M/1K6OlBG18z9Tuw12QJ/zP4KUgFQ2mPM/A3HsyDGV8z+MAsFjrELzP2weGSUO//I/iXPFSCsd8z8ecvYTMbryP/RjZYcdrfI/IvNsyiel8j+Ds8LNGqXyPz+lTn6YqfI/RpBA7C2f8j9DIEufj0DzP1JkMEUELPM/9+GQTzU48z+aa5PDETjzP6uuYw34L/M/UCDWedE78z/r9fJ0hT/zPxm+TL64afM/zUbQQFlr8z/tQXqodmfzP1Bt/KGyZPM/A/HKWx0I9D/PDE93EHj0P/3dKRJcc/Q/o3N8DEl29D9xWyuKhaP0P6W3b3qFMfU/4dXNy6so9T8VGgeFiUn1P/+YkV7ujfU/i/YB0tCL9T8iwK5cJ5z1P47EZ8fSpfU/vCZEaLeY9T8lR0zVW4/1Pxti9/BtE/Y/G2mwYvUp9j9MF6ILoSv2PzXwulvJI/Y/Hn5go4kn9j8vlP5QAMD1PyJk1qyoQfY/zswB/sWU9j/Xz+C1HKP2P666hlNcq/Y/JBEiWJHF9j+zlFRUxe/2PwU+TyYy3vY/Ec49PlwC9z/1u2lJvw33Pz2s6g8vBvc/67FqhsNv9j9zTvfPd/L1P0mcBI8lAPY/jNZx1zcO9j8PJrSrVwj2P49sghEkw/U/sjYNdNTs9T+8pSqy1ej1P3NX0z/20/U/RW1y9ev+9T/Jmtcud//1P9yy/7r67fU/z0jY77rx9T+6Ba8GuQL2P1l0WXdas/U/LSO5B0av9T8Rlf48PbP1P9wAa54vvfU/nKzT9KHX9T+XMgViXsH1P0Hb+hASffU/gf4Z7/VF9T92OWrRMzH1Pz2hLT6JH/U/Lbmv8+X+9D9N5wzLGdL0PyLz0OLUs/Q/8ldinDqi9D9eEvHALJ70PyVBzeGyqvQ/fXGf1KWm9D+2GLPmT5b0P4LJk9kvnfQ/iwFUgPSO9D9a1dKhbXP0P63uATl/HfQ/G1Ihplr+8z+N1s5hrBz0P6p+OX+BN/Q/9YSjPwMI9D+OSvkXSTD0P42MMUQnJ/Q/PxdkN4kg9D9v1HJnEir0P7yNLtIXEPQ/ECeyWxsr9D8wQBSuciv0PzrJPDlxhPQ/ECk9ljRv9D/AIW2wnEr0P2rRM7TBIvQ/GtLJyVQc9D8nlBIxux70P06tSSc7F/Q/950zfFoT9D8EPz89aBL0P52tD8Z/QvQ/e8WV54ou9D9MSfXJRVP0PyQ5FH4ZVfQ/EltmeIyh9D/UiuCcTML0P3ZB6/aww/Q/Hqk6e5EC9T8wXf9A9Bv1P6dm3SlqIPU/mZUqS0A79T8qvw+blR31Px/3QdKpCPU/B+b8NPIp9T+9ssDFsgz1P9QKxyX+N/U/WvvUN+gm9T8X0m0/Xf70P3vERQ8k7/Q/c4vWaDmw9D/RDSlKD6T0PxdZ8JGhTfQ/PG5S4ulS9D/wqrdOY1T0P3vVV1/0NPQ//KAN4CQW9D9v/Oz2uR30P1FnjTJIKvQ/yt+QinU99D/+wTfVCmP0P0MYMh3tKvQ/JiiiOuOf9D+ssplgfoH0P5wGhrtIfvQ/R/MEHyI89D/7wCxSchz0P7n4Hx0UH/Q/mfzvGdMz9D8RiAXH6wz0PwJKXiqBePQ/s7/kJHpQ9D+O3yiuJjH0P2GvzcpQPPQ/DXKgHQQY9D/OKqQF6A/0P81nU8Kr8fM/h6Uq4zgA9D/ByyguO/zzPz11G/0rEPQ/8NzhpduN9D/iNlLS76P0P9rmwko0l/Q/20HAbGyI9D8+FsDgfYP0P14cP6DasPQ//dgg0tWx9D/KgnxO2dP0P/I2MXZmzfQ/ZrSLuj/f9D9U3xJHQ7L0P6w3EajOFvU/y+VKZsic9D/rodGs+pz0P+86sh5arvQ/n6fJLEei9D+vzyPdh6n0PyeZWOXekfQ/NS4dU24t9D8vyzPY+Sn0P4dIlhUvuPM/TZXod+nH8z8lkYNJdfXzP9Cz1QHH0PM/l7Etgf/L8z8keWeKirrzP5zYkMyDrfM/3X0ZMJ3i8z8fhwdFExn0P1HFPsO2G/Q/knnL6NGs8z+bTKDEa7fzP3c6hkyt0vM/737CZSHM8z/geVfg0fjzPxnrefn2/fM/+xhDHFv68z/62idP/tHzP7Ub7mgb4/M/YCL+wNLo8z9nIzM9Qh/0P1UU5AAZ3fM/X7Eob/Py8z+n4GnBQvLzP2sEKffN2vM/fa40OmLf8z97AZAOCgX0PykBF91GAfQ/J4PeEe4H9D+T9e/Edjn0P2MU73NvT/Q/xjttz6Nq9D8jBJIz0Tr0P19/mlYvUPQ/IMM6DUdc9D/rw9Ur5oz0P5SyyTA7mfQ/7ZgXi+5z9D9ucjZKIUz0P6Fnq0edRfQ/XKnrM2lb9D/bv9ojC0j0P6v5i7fkS/Q//LsM73hu9D93T8uyOVH0P8kOI6J8O/Q/zd2DmQxG9D9K6ytzx0f0P2etevaTX/Q/AqOzHcU99D+k7R2nPwb0P9Lw+vnD/fM/nwkP2snh8z+rVO4vn9rzP3ZUkXQrzPM/7y9Mtr3H8z+QnvUZAJrzP+NgLGNrwPM/w8ufVn7A8z8yjR7Wt5jzP1SJSXQhgvM/mtukP/db8z8SL+5Jp4nzP5cK6HS4YfM/c8Bt3R5g8z9K8H7ijFvzP6q7xyAnZfM/xji2oBJY8z/Dh+MqllLzPz6ROvWsSPM/ob6c6H9Q8z/eJTpWjnDzP5+1oaqzc/M/yrlxzGth8z8Trcr7jnTzP3z0NGxOaPM/up0M91xd8z/kl22edXXzP6zBJ3G4SvM/dRqD27ZI8z88KgyFIVTzP6oeWJLoSfM/E2osQu1z8z/FeWoI3XbzP6pjpLXBjPM/R+j7MOCS8z+MDSB44pfzP1REFYT3e/M/YzgwylWV8z+8zXEPw7fzPz2HPtl5z/M//JF9+MPd8z/rBVhbOLTzPzH7KJQm+vM/eXkFA0H48z9PW4aBbwP0P24IiYjqEPQ/zAmOQ+oe9D+Magwjnj30P3pUgeygNPQ/A/K8zB4N9D/NyL4HK+rzPxtNI+jm7vM/Wvt3uQzy8z+aMbCXJQb0PxYh2qINEPQ/cz2EYG4f9D8EXG8dDwb0P1oM5mwbB/Q/q9IPvTMI9D8rVTt1xv7zP23pk/IT/vM/3Qn3vSXn8z+bn7AxctzzP+W+OUwi1/M/AMYoeSU59D8ptmrYJUL0PwCykS7sW/Q/OWcwG0RM9D+Qpj8F3Dr0P6b3UfN6JPQ/AUmVBE0W9D/DFDnpuTT0P4K3nuT38fM/AuQ/pkpZ9D/1iM64SDT0PzfXwOauJvQ/7eQVyG0x9D8qOFi6QBz0P+QIerUYNfQ/9Qt0/U9U9D+VKPqhjIH0PxIr2T+hZ/Q/fTjQ9OZc9D/VFyD2uTP0P51XrDy5I/Q/SW3J4pcn9D9WeqPeuS30P64KvkzYOfQ/AJ5R/L8t9D9no5quZDn0PzPLORHIRfQ/q0Tzmfpi9D8fvjm2EYP0P8k5Hh2VifQ/oC3PMe4e9D9m/faT1Bf0P2a8dh6A/PM/hjS0Jx7z8z/HJBtplB/0P+P8eczEJPQ/viGrGMkh9D+BMjdwDSr0PyEsn7faPvQ/NqQ3653p8z/bZaZ/l9nzP/Orkf+qHvQ/m7lLfvcJ9D+DA0w/4gD0P34TJQzL/PM/QKMneaje8z/eRYMCkq7zP+KrXaWUvfM/9lr5iBvI8z+R/siMtPjzP53GAVCt+PM/AGuhx/D58z/ajPs1aQf0P6LGtwhLG/Q/YWqcv9lA9D/rtVUDjkX0PwZAtiHbPfQ/wRlswgMd9D8swd358wX0P+mSyGve7/M/91m1D9Hu8z9amFc+LQr0P0py57htB/Q/tFf07HgT9D+XA8Vm4urzP3XuM+lR4vM/8v5Zwkn38z+GDGlgPdjzP5tDTGNtyPM/q3ZOwua+8z/xYqrN1ebzPxVrLVR1mfM/143PV5CW8z9jxDttbJDzP7+EejOlfPM/DEaJimt18z+Z22Cb44DzP0pnM08OefM/jZ8kyXN38z+EmDbwH0PzP9RwbIc/afM/fOUSENaI8z/adtzC73fzP3YHPxPdZvM/ERMFrGJZ8z+ao7IvGFfzPyK8fdaSZfM/+qYdYXFf8z8DlCKI4F7zP1MGpGMia/M/dgeFXQOG8z/Ql50ZEZHzP1WBrr4XlfM/IAxBrWy08z+m1CIr56TzP8eREglv1fM/z5Xro+Hz8z/GwvV05fDzP46e9jLe5fM/55YK8V/38z8EDCzsjuPzP6r02nb68/M/HVVzStvu8z/t+CSS6gX0P138tLm+AfQ/L+77VlUS9D+7waib4xL0P6bdqNiXF/Q/NsPA74IT9D+1RkINXzf0P8fJN4ZpCfQ/roAcLwrW8z/iUrzEd+LzPytfyKN23vM/VjCUVW/O8z9p2j14+u3zPywXpXJq5/M/sETzHIb98z/+/4zvXwP0P+p80il/EfQ/aUi05ov78z9aXifNo8zzP4AR+gxu2fM/oByJI7yo8z83gogNIZ/zP1Oi5XwcmfM/DNCzewqD8z+5Cf2LxarzP6z1jhu0y/M/YqMKzEWu8z9q9U4lVqHzP1xBaqzUlfM/MUbWoIWb8z9baeggKpLzP2MPgrWplPM/oPM1g56g8z/yT12re5rzP3KSKCHjjvM/JLPP4V3c8z9eE5KQ3rLzP4uW8t8vufM/FoWwtp/T8z9z5rJdn9fzPxyl35rXC/Q/K3q6A69U9D9LXFMzwGX0P7d+l04NS/Q/FOOQ+7ZW9D9WXNY754X0P1MQQz/OgvQ/EOYpmyCG9D8g/5SaCo30P11qfj8qufQ/Qayo9kLJ9D9Unk7oTdD0P8xQ1qmhsvQ/Os4LrA629D/t6woumY/0P76juXJDvvQ/I2mMyRvQ9D8VVwO0PMj0P6zvh1Ymw/Q/MY+1lZ/59D+6lvuicv/0Px2DzG4OOPU/2XIgF1wp9T987IDqUmL1P5mOng8jV/U/fDmq4ZoE9T/zuVSJGRv1P75KZ9K1NPU/jz/JY1gw9T9h7aYMREr1PzGtN+RNGPU/dyNFD0na9D+7ruUsQuL0P90GTqaeCPU/dFUxBV/y9D9ZsuxOD8X0P+SbsfvhqvQ/qeivQWnh9D8TckPGX/X0P0lNuM9Ew/Q/gdZ8MD/E9D8pgX1j5dD0P6lMYTbi3PQ/xLaIxxnb9D/lHZpnhOD0P12jgUR1ofQ/rgLo3xSa9D+FwWnqPK/0P5BtGZalq/Q/QbboPESc9D8330ReF6b0P4sERDfCbvQ/nfMNHS1j9D/1Mh35Iij0P9RVqE4qMPQ/+SotzwIu9D9JCkir5yT0P8n/3GJyEPQ/ZJR4I94G9D+9WCbb7ObzP+lFrg0o7PM/ENX/kHTc8z+FEIgmMLPzP+scjAaUoPM/QJpWIVSY8z81EvoSfpDzP/+kX70TsvM/DkUVNkmo8z9NdwWHyqTzP8MRuu8YmvM/si7LhC+q8z9wbVZ+vbLzPwvaQqj7mvM/h/ukC1yK8z/a7KsRFLTzP+XgXzgP4fM/s/sufT/t8z9D9S8/mNfzP2NDSc9GzvM/WWQMWBKl8z/MKFuG1ZTzP1NPLifVjPM/DrDcvcXL8z9uz6sDQPfzP++8I14F+fM/09NWgjn78z/aU0dR1A/0PwH8RyItFfQ/QinhOnok9D+QWtZ7qx/0P8eMjO4JJ/Q/C763jqMs9D89l7QATSL0PyrBPzyNF/Q/wwTqCZIl9D9H4pRQWCf0P/TZTnjOFfQ/CabvL5Tp8z8pui28Y93zP6lhawoS2fM/OcUm6jDC8z9280/ESqDzP69FISaCwPM/PtbWHfLC8z9+E1d/jpfzP3mllIHXffM/NHvjk4Jw8z9yzBao3HzzPz55tvc9nvM/ffUNXQet8z+RTWdCDrDzP7LGjMHgs/M/ZAT35T+D8z/2qML6zGXzPxlveqiHffM/E5+tcBl78z+S+Y6FkFTzPyCbXtRGS/M/RzgurblQ8z+vHePyyUfzP2W/IwBgU/M/17S/nqxb8z92zrl/213zP/UUvt56YvM/IkW+76hZ8z/W5sz/1nLzP7Upx1xQZPM/ClgPSJtd8z+eXna9JFzzP3H66+UJZfM/VZI6cdJj8z/pyDN9horzP0NLLSZGjvM/4t0qAJ6D8z8vNogU/4bzP5qqctQ7g/M/boESRY+Z8z8vOYKjHZXzPyfKdeSphPM/+cYIOaZx8z+rc7oXRGrzP/e9LIZ9ZfM/AcYq06eK8z965p13aJjzPyArt/AcfPM/hHpGVT+G8z8hvPJVfY/zP+6sAbWGmfM/0ZOr20GR8z9OS/8cj6TzPzQSkEkhh/M/Kusz2RqB8z/d+LxtOIzzP1WddsAsgPM/Z3UZOseW8z/KEdjG0oPzPw6FOUeIn/M/B5SPHcep8z9KxtvzHKrzP0FOgLBJsvM/tygpjMzT8z85Ig3cTs7zP0Oq5+XArfM/rI6zU7648z90/97ne8rzPw2zDha+t/M/9unB5WSe8z8em8gF+63zP8bT1W3dsvM/U7Vb0Ey08z/qGUsJcL3zP+O/++zM1fM/45/P/wy78z8fEcBFa5rzPy+UgZ8vp/M/ic60PuC68z+5FBTJgbbzP/n3ibvvsPM/Z3cJprWi8z8ysBBj6oXzP3uDmJpYnvM/FgeM7aap8z+y4x6Dt5PzP5I9b3KknPM/W9umMTZ78z986iC/bn7zPxVnQnosgvM/T0OpRm1/8z/kGFW0zZHzP1d1E43jgvM/+coBfFVg8z+vDBhnJ17zP4nyOfmFa/M/hfZ7e7pi8z8uEyUhv1vzP2YJttxNVfM/rZeJWLls8z/Sp6spe1jzP0VZdcEvTPM/EYku9oxd8z86sxrISG7zP1WvJZyQWvM/EYSlr6hZ8z/z+mnQo2LzP6Yw3UuuZPM/M1hR1Oxv8z+yq6yV/HLzP3FRN6yQdfM/6VSvRz168z/dykekg5fzPyXX0E83hfM/9OLATat18z+Ja8PBpHLzP4lsW/bUhvM/072mY46N8z/FYQQCiIzzPxbHoo1RdvM/BEbeTCN28z9wX5m9FF3zP6KxIxgRXvM/+ulsxdVp8z9x/GiKPVjzPzZ9/fFASfM/OV01BYBY8z+NSLTwIkjzP4Bbiaw6Z/M/bLYnrR9e8z8JzL+Bs2LzP+9TLU91ZPM/xqDsACdX8z8myR7MaFTzP28/4ERgTPM/Iqzvf0U/8z/QgKbl9VTzP606H3IzTvM/CyKfnfcu8z8rZhR/jz3zP7XFqawdPPM/uzStvYg98z+Lf4NpkS/zP+buj54QIPM/Ita6Bm4c8z89fdA3giLzP7UajBZ0CfM/Po7EXAoa8z/WjlDtvRTzP6XT7T/QEvM/bugnB6Ie8z+tSY8ozCPzP/kCtBkzIvM/0PIcZPUZ8z+fLSUYgTHzP3l3MOjJMPM/tJ9ByMcr8z80hT9n6yzzP7Bqdxg0DvM/Ro8TwPYC8z8wrCTX+wXzP9OmRHfo/PI/h91JlhoD8z/6G05YcSHzP6I3MYebI/M/0rFEgZEl8z8dhr1V2wnzP2vQnLBbHPM/9o23KPAf8z8qtAQ3xBHzP5HnYHo8FPM/G94z9L8g8z/t1xpLUSjzP6qzk8PcNPM/vmh1Fuo68z8stf2UBT3zP48QTFlbRPM/dLpC4q9O8z9HhFNnvWLzPxO5GzREY/M/rH9S+XeI8z+zbjl0wpDzP4uctPEnmPM/Lrma1NOX8z+93Gk7uZvzP1xoMpoj4fM/5kamsXXu8z8O+k9pkOzzP1O7vwIr8fM/5Xu4u6L08z+m/nRZxubzP1CjfnyM9PM/Fqp6ucvk8z/+zfo54KnzP4GWHNgo5PM/j7xOsLXm8z8GlZFOpuPzP3CrU2TjvfM/T8uGNL+48z/tMvllo7zzP6GnpQAd0PM/bBJ2gRvK8z/thF/LBr3zP4oRwZOcvvM/o66YvDDD8z++3WWJ4tTzPyscRGZi0/M/FGULr+S88z+tUz4w25nzPzwtZd1cm/M/oGvk7TSC8z8TNzWx8oDzP4Wgon9PoPM/A7Kx2FeZ8z8Pz/MF93jzP6sHQeAoP/M/VyNMvXA28z9B3eYFLUTzP+UBDu6MR/M/698vKQFD8z+lWamJ73HzP+mvH+Fog/M/y9ndeSeZ8z8R47Bt/KTzP8vUvIRHfPM/v+nB7YR48z9r4Uq6d4LzPzXJ3aDMhvM/t29oAOOE8z/Ryo7ZeX3zP3JUPvbFZfM/pFyAgipY8z9Fw230pm3zPx2+5zWCdPM/zSIWAid68z8CyElsSl/zPycDLlg9YPM/cjR108Nc8z+rQ8BJ12XzP07IWG3hbPM/Whh6QxJI8z+5lGmmbk3zP5CLx859J/M/nXLkTMUu8z/LrPiOGD/zP2JMVqpXQPM/ZSv1cG838z9ypizEJSzzP+/ZdeZ6MPM//hsAaDM+8z/mCZI6ETrzP7c44Z7TTfM/0YF0bFdR8z/PrIlBZVrzPxZby155WfM/SSPHr1BX8z/aA+Mpo2DzP9z3u82RbPM/35q7L2d28z9fd4WJKobzP/NTqf+HhvM/ExzrURyK8z/jHyFJxYTzP4CDuvd5ffM/lN1i1dSC8z+LI10WNJTzP2Y7LT4DpfM/AbM462yr8z8ZQnKPZLvzP5mQ47l/rPM/NLdiGLa/8z8045sgQ67zP0o54PwkqvM/fIAW+F208z9N6CY9C8fzPzIqIZuCzvM/wV5M0i7q8z8XBs0WcfXzP/LjjXzO8vM/H97uH64E9D+LJPOzKeLzP3BWNrqzzvM/llYvHgPF8z9kxS5Fcr/zPzRDlanYuPM/bMFAg9XC8z/DoX42OLvzPxyXTx01xfM/5WLbWRXG8z9/iqjc/L3zP0sj45qKvvM/LRlhNAa+8z8j5xRFR6/zP7caO/ngvvM/P50iNyzC8z+BK8Ya37bzP4ITgX/rl/M/FRRpgCKU8z8RVdB9J4TzP9CrljhmhvM/3sIfYrKK8z8dccbeNZnzP1Y4uOxWp/M/1gJOobai8z8KBT2jF4vzP3fzFuhYj/M/vpAuaBZ+8z+zYlhGJoHzPxZ5BoCQffM/DQqBXYJf8z/mwhSt/oLzP1AwWRnmcPM/NuwdIONs8z+AlHSlunHzP4DxxTnIavM/cY6KkKVp8z8MSLnou3jzP0tNK1CMhvM/kuJonb6C8z/GKVJxWILzPxG1yGVVh/M/0dUnMmeT8z/i4ej1r6/zPxox0j22ovM/ZzaPE/yQ8z8QIARMbZnzP3DCClaVq/M/1YWY4uPM8z+Ciy9nGM7zP0CcU5wpzPM/7kZB0o/J8z8xpwZ/Tb3zP33qvYDMxPM/d7VY+/7O8z+RGK8NX9fzP18UMcCf1vM/xrUX8obV8z/9zCG9g8HzP5Ibexf7xfM/W3wh/iPN8z9LfqSwZrjzP4IRqi4rzfM/dPM75xHJ8z+8J6W7SOPzP5E0B81d9fM/6SvKwqHt8z88+IFkF9fzPzHbVi5PxPM/lGodNLi38z+xRARPW93zP5TIWrxJ9/M/wwVzl7jw8z+QlqVcm9fzP5J1gRR/6/M/D3bHTNgD9D96fm3VgwT0P7kIGwEABvQ/srDivMnr8z+qPI/jFw30P+7fMWfyLPQ/jXbzWw8v9D9WzFLeu0T0P2ubuOS8NfQ/y1RiLVQ59D9ViERbCC30P98PrbLLHPQ/pG8s9l4X9D+UZFB/hx30P0JWuSkdEPQ/zVoVVVkH9D+FLOQgfQL0P++KDe3B6vM/vQ3ZIcnh8z8BXymlMM3zP56Y/GJq4/M/KXMkuWDe8z/EBRGvF+DzP++B+b3r1PM/boDUaczQ8z/EfGX+yLXzP2czQfakn/M/7QqYk42m8z9tcAOXoqzzPwIAnjZLivM/g8XEgABx8z/Uq4qKF43zP//NlkBWmvM/EjepZpCR8z9OvTfp6nvzP0+NOsNAZvM/x0CYDApu8z+cmwSIcFjzP/wJ/fh6VfM/PxBpbcA98z+1RdA8WzPzP97wIT3xN/M/8QOV/Cov8z8DIghopC7zP3Ud2jVzVPM/kApizdJS8z+PGD0fEWjzP9aOvZfxZ/M/ceLOAQpp8z/ua4C6slXzPzAnQlVENPM/5RVe6ndH8z/FYfsYWFLzPwRmmykiX/M/niyTgoZp8z8D8Hoq7nrzP9MrCyG8evM/ipOhKuVz8z+TX79SNozzP7ZYOvVeofM/Jm3McBG68z+sOQn8fZHzP3Yjhsn3g/M/24nC5wKF8z+MbuWr63XzP1kpo0+IaPM/s4FGLDpU8z/qMUwPMGbzP86ZnRLGefM/ca6Vgy198z/jVKYzOobzP+B5kYHsf/M/QVqyUYOd8z+mY62rPrPzPyUGAhqdn/M/rzojszOh8z97QhJCE5PzPzw4IKm/jPM/kmhKSkWR8z/tVuceSJvzP/ku77DAm/M/HjQRyN6L8z+QUq36eIXzP+dwMEnoh/M/fj3wtI6M8z9AvdGdIH/zP2BT6PtsfvM/Go4Jmaxx8z/WsYzQc2nzPwFBrd72dvM/6UGuZ2xZ8z8JGMLxElbzP8Bf688qVfM/EmRij0JQ8z/Ktu+vaFTzP0roEOQiYvM/J9va/J9n8z/6aNf61l7zPyzXwNAnZvM/2YHF9Ipq8z+8rVjCs2PzP76teO6MYPM/V4clD/lH8z8dYUKT9zbzP4tqKdq9JPM/cNd0g3ov8z/FbEmL+xrzP7lJ5FikLfM/VVYvxyYw8z+9S+Fz4DLzP3W9rLlbLfM/QGgdlgU58z+lAfG7Hz3zP8uPuzEVQPM/4x6m35NV8z8QeRQk4k/zPxpyq1MpQfM/KUppRlhv8z/1LdZxWlzzP7qgZ5GQUvM/E7gM3ZBh8z/8/1RxYWzzP3TgV4ykXvM/rte/VOxe8z8F6FJWy2PzPw044w+pWvM/gJc+IuB/8z/cdtdaLpDzP6xkNKo4ifM/ojFQerue8z8UyUzS86XzP4IhYuHOsvM/YeMtUcCw8z+AVZZ4kbbzP34wEKf/xvM//LOtvuLi8z9hIMLJkPbzP2Osstvd7vM/iZUNuPbn8z/umJJVDPDzP83kEdcXGfQ/B1ofnUsh9D81QS4gGhL0P/mZ9670DPQ/GTS2lzHx8z9XxRaZzurzPwNUB6hR7PM/PZA396TI8z9l1r+JkcbzPxICWw9Gw/M/fXDpsIbC8z8MTFNp3srzP7OiUSFD0PM/FJIzu2XF8z+XMwI0ArzzP0vA2rrRxvM/iuS+bKaf8z+FPv21dIzzP6DjsiPtfPM/gAxpV1te8z+WoLMNHVzzP3x54kUpVfM/Sh+/k9pT8z/9zqKVbWHzPzskZVJuYvM/NZc7g6tL8z+dz76TUT3zPyZTh9bnO/M/Hh86p/cz8z/neC3YlCXzP60VIlF4+fI/TquMY4zk8j+i8Ci36OTyP5OmECDI3vI/4I8LSCff8j8Lu1LVmuHyP64/DKQK/fI/MTQ5+G788j/fb3yrqfPyP5/GMBsT7PI/1H2jazf68j/HnXybN+ryPyfCVtwMA/M/xLkf5v0G8z8reZxxwxHzPyU30lbTDfM/859jOFEM8z+15+TCXAbzP7Kcls9YGPM/WVvljFUb8z8sv//3Vz7zP/1XfBmcPvM/Zzel9IdU8z+ccP+mWD7zP09NqhzvL/M/4QjsZGYX8z+Jx+PVTyTzPyUBWkDyNvM/3xCflJhB8z8qCFJFkmPzP2bQafBTcvM/+cLox2yQ8z8SxbTgdZjzPzrgVuh7ivM/PnsSlHub8z/yHraCK7bzP6XJ/joSofM/lT1dXoSa8z8kzjFfgZPzPxdKTF4ykvM/HotDorqT8z8Ocs7xC6bzP6o/YsQclvM/TpfRLv3B8z93Bk3KYb7zP4x3083HvfM/juZa9WG78z9ertkUR9bzP6vK+yEpwfM/e6jehXrI8z8O4Y7/OK3zP6fBwH/AqvM/1q1zXQCa8z8vJ5lalJPzP3rlqnkPlfM/YXvno9mv8z/zDmSdj6/zP3NjIaTmrPM/y81cbby08z+zQrCBz47zP3kK7Q+KjvM/AJJgu0Z+8z8mm3eOM6DzP3pfQaezqfM/wcnHFjSa8z8FJBf+xHnzP818KQW5dPM/ViZmpqx08z8FXwOuW4DzP9p/C/gHePM/cFahw4ph8z8Wr91yPU7zP/Mnw+BDVfM/351OEoIs8z+tYuQmSlPzP0Ti5tezUfM/5SudTatY8z983ao5iULzPwRlt9JfXvM/J4Nd8cRX8z8Vlq0omVPzP5DA8ou2UvM/DgXDIMVM8z8yysLsWXLzPwuplwsQlvM/w0ljUlar8z+Q3dkks63zPwfPq1zErvM/gC2IGP2m8z/JxZCaDbvzP3HHjxk0vPM/n7QVPoLh8z9Dv/L4Pb/zPxR2cw9y0vM/Dy2Wosr78z//7LNQwfHzP5d31cjO8fM/NEJ6j0Dx8z9J9hjVHu/zPwycPeq4+fM/Em94yu738z9CoMMRzvbzP4svnzOs4fM/XZ81xK3n8z/fLi2f7LzzP5OBOY9jtfM/BGdLkkvK8z8ZXeBdLsvzP2nz1g4qqPM/QC4i/Siu8z9Vg+X9FbLzP9TMs9fqs/M/7WI7c+2q8z8wVZbIiJLzPwcmB9GHevM/RjSGomRW8z9SSA1e+0HzPwTvkJQ/I/M/NkHMgYcz8z8MbffWzE/zP4S8ClNRRfM/LntVa4Mc8z8weE/cSifzP3ACz8N9IPM/p8Vfc3D68j8ES6KSGgbzP0Cz+kV+HPM/akgCnAAo8z/JOEE0QyXzPxMuHOr9MfM/YGcLx/k98z8rRmu77UPzPwWohC8+ZfM/J0cMgiJZ8z8+5aZZhmPzP+xbFogmZvM/MUxI9xxZ8z8tfM79FHPzP01wYwPrePM/DxCsTcZ58z/tplb2lmzzPynPl09UcvM/fuerqC2O8z8xKfVNcaHzP03Dq+rUoPM/8jtDkZme8z9xkSBj057zP2E32uPAqfM/nptb6mmj8z93Dw/IaH/zP55+jA1nhvM/MR++jeCF8z/5mPME9XvzPynuX+Arc/M/LbRnPjpl8z+9B5SCZ23zP+pItq3BY/M/nejQryFn8z+ZkUPgSWXzPxUtukymZfM/rwlIshxi8z8LFMaJ+GHzPwUg5eZkRvM/rgUFvjtH8z9h6PwwwU7zPx6DopWtVfM/eu9or5I/8z/Dnz0lXyfzP+Wc5iFDL/M/T423rpVF8z9Csjsd9UHzP/FMloyTO/M/e4lthL0g8z8CrYlERwXzP/tHHxXD/vI/2Ts218L68j/HRlazA/jyP9pDSkSh+/I/Y2MwC2Hv8j8ynbZ1lPryPycUw71P7/I/cdcxdNvr8j/067CTT+ryPxzHzgyk8PI/jb1Xubcf8z836FrpFw7zP9P9VyrOFvM/kf77KccW8z9V2y0bzxjzP1FVm0vVAfM/N1u+Xa8D8z9affRSfADzP3+lPTrFD/M/VXhT9RUU8z+rITm/ZgPzPxYUo3StD/M/EOxxUhIV8z+JYx5OjxLzP1qd3hfZPPM/J+xybB4g8z8qp6RFwSfzPzVGIOqhK/M//ahpZbEt8z+/njbUxjPzPzGNq5uEMPM/59v5NOM28z9A4fubG0XzPxGwvo4IZPM/KpJ2rWt48z+UaFEp2GLzPyqnlengYvM/5ScvuVZo8z/uoYhn/3HzPyRWYho9ZvM/o+KfphxM8z+Tu9zINlDzPwZphVuyOvM/+lWhi7Qt8z8rXdS73z7zP1Of7YXGPfM/2+aZvIsu8z91VG9inDHzPzM+2eBxL/M/QnzF4cE28z/X3y2zUjPzP+3x7AkbJ/M/LzpssN0t8z9G//sU1S3zP4kiTsAM/PI/1XiFGw3+8j8UlTPVcf7yP12xv0Y2//I/tgaz8CkI8z/VQSRuc/zyPzIhNIrP+fI/rx0pAAT68j9EALRnwu7yPwqO67YAyPI/YrBPDTG38j8CqaVPSsHyP8tQ6XoIwvI/TcSfdNi38j8FQ2X23b3yP4AwyUxKwvI/u6MwUTqu8j/bJnfP2MryPwRGwQRo3vI/HwTJexrg8j++wrbjldXyP+dDmOSG8vI/FwYksXX48j+5l9SFp/jyP13zId0X6vI/lX0xUz3n8j9SYAZNSOryP6ooMsQ16/I/T2BgYpjq8j+hNlWT/+fyP0dWpj907PI/c1R2zb/g8j/OS1zL893yP4AxJgIc3PI/bCIK9qzb8j/1AkSQfuTyPydJdMuT8/I/zw2m6gz78j8sZppmwPjyP1/Wo/mx+PI/h2U//wD88j9xovv15vzyP7eAGOhC/PI/VdRJbUr78j9ff8DrOwPzP2bS4qKoAfM/zut8g0EK8z8m3r14JvTyPyH/GHsK5vI/xKmE063h8j/heS/V6eDyP57Cb7DXxvI/gHJ5fiLB8j+kRmu/ksPyP8o2mcM2yPI/aueQPMPD8j+LzXp5OcryP1fmYfKX0/I/IPs6MVLP8j/EASY6N8vyP37IgrpvxvI/6/ILpLTV8j9md1nWYvXyPywS4BaF9PI/CR8fSlkC8z/ptC/xB/3yPx3epX7s8PI/FZFBUa3o8j8QjNCLnujyP+s+cfnc8fI/in31zUr38j/RRbNjduryPzQrZKJU8PI/NQ1UJIP/8j8rCOH0FezyP6rjXjiv8PI/V4nco3X38j/CB17UN+3yP0lWiL/18PI/EuP3x2v18j+E/nxelfDyP4TtIc2/8PI/XW03Bjj18j/V3PTJYvjyP7aogQcC+vI/vWNuI0n68j/Z3OqmzPjyPys1awbSEfM/RThTHakS8z/WNhhkzirzPxdhavjRMfM/Lo5CqyRQ8z9KE1UH9UTzP3Ymv5TnZvM/gnDTLO1T8z8mp5T6M1PzPywCn8RRVvM/18Nl03hU8z+qDYeKVVvzP+Z2eVQeVfM/lV1jy/NV8z8v8jBs9XPzP1B8x5KXfPM/om7fSL1o8z8qEjfoeGLzP3FYSRWXXPM/rRxSw8ho8z9bqbUGom3zP0rsZ4hIePM/OtargjGb8z9LlaieLqjzPxfLM4g7pvM/q/lMROO58z+dtV1K3rPzP3+c7lYjsPM/r/WUKhy18z++rAu8hLXzPzOnnCqNjfM/6QAvuT+U8z/pBU2fXYHzP6AF0ilmlPM/3uLndvJu8z8d4kKIhGfzP0lmDhkKPvM/r4ETHdlV8z+MRMAQ8V7zPyJlbyKWXfM/wnfDkGdj8z9mnXRG+mPzP8GSfJWdafM/wqZzReNz8z+NpwEyT1LzPyYdeFlcRPM/fA8mXgFM8z88SbzxbmbzP5sIBAQIXvM/hDeykjhO8z/j6vDN5VrzPw5yWY9WTfM/NF6CddEu8z+Tq0/mtiXzPy0qzKXTLvM/LfXMNqQV8z9kiASqRRrzPwmSH/hGFfM/N5AZ2UoZ8z97KwTrUxHzP8YXikJxGfM/lT7n4lwY8z/90ygDWhzzP4H1g/QBCfM/SaDnEacM8z8rQST0yQ/zP1/xGwHiNfM/xNh1guMZ8z9zWYVxxRvzP9xx60BUF/M/+V9IcbYo8z85+VHaSy7zP6/rJyBoMPM/bIIO6dIn8z+lWLy0pDPzP314rcP2QfM/ww+RCvFf8z9eNIZMCkrzP1+mnpoIUvM/XwyIPA9L8z+NHpLchUXzP0n/hbFvQfM/juE7pDI88z86A7NweDrzP0Ss0ETcOPM/J6vr7iU78z/x8e8D5ErzPw1nOSKiVfM/3mrJhj9L8z+z2w9Ji23zP35piH4mhvM/Ri3P0BOE8z/nYrFXQILzPx9NoT5Bg/M/Fy6rETSH8z/yKLJgBXbzPzZE4FTBZfM/xwEkOO9o8z9Sc76u+nTzP68PItoGffM/Oc3n6YFv8z8HAjs5G23zP8YbsS04Y/M/vh20+slV8z9Pb3+p/0/zP2TrFsVcRPM/18sk2ydW8z+Wk9UstXjzP7xFfK3hevM/6q5nIl+J8z9/wfB3S4fzP/dIqmROl/M/0+N1a56V8z82M9i58bHzPx3Vy2PLrfM/r62F6Zay8z9Jauu6eJ/zP/HZ/4y9nPM/ih8yRKi88z/KRysZsZrzP/5bNrgGg/M/xgV0xyme8z8GPwPYHbXzPxzvTZ8Br/M/y6LpCaat8z80fJqRRbvzPznQZNtJqfM/ryJmRgHI8z8Dax9VYbHzP711Pn+/sPM/cIcYr2Wp8z9plcyQoKLzP1Gn6EdhsfM/1SCUlCmv8z+PAuIxabDzPz9MMzszzvM/Yl2ohmKy8z9p2sm8zZnzP419t84Hl/M/ZCUEAfGQ8z/e2TfCKJfzP3A4pLsBj/M/NZ+ZInSL8z96pyXDpXfzP2QmW5HnhfM/c9TAbIaN8z+kWmQpqIvzPwqKN/DmhvM/OzN/GxZu8z/WUZ/ifW3zP0fT1556bPM/5n1jDIRV8z88h6lkYjrzP01Fc2MdP/M/aYeZepVB8z8kKh5GGUjzPyI/hCKRUvM/WhCLRLM78z/tehQULUDzP+Ljl/MYOvM/f5YcO2Y48z+OZURUIEDzP/BVMSDlP/M/OhIkljBL8z8l/ZrP4ErzP9HLgj2uMPM/5MLZPjIh8z9NqpS/xijzPzq8W16DKfM/HTNfW1Ys8z/h4OJxGCnzP6mblFoAU/M/NMJ/f0Bk8z/yFp7k1GrzPzJ5IAQCa/M/Qb0fUCtp8z/iozzT4mrzP9Dtw9UddPM/BgZvRpOB8z/2ibuUNI/zP23Kr7h4lPM/BpmSR6+S8z8wIii/a6PzP5eeFXXwo/M/afFyvimg8z//55Fg4pPzPwsOg3cfj/M/kfJQjXmM8z/rhJIDsZXzP2rtUSMJqfM/HIXV4aat8z9uzfrVL63zPxMiLE6JnfM/VTNrD0+d8z+frGtUS67zP0avxuq+sPM//Buj3EKw8z+qkUXP5KPzP+14PXEMqfM/EYnCdX228z8FrI3Ocq/zP7nDD9UFgfM/axMejeqG8z8rIq9d+37zP0+2NZkge/M/W0yytc558z/TGJy3tX3zP9dBGDUsffM/cR2AtBZl8z+EOUWu5l/zPxGey5aLWfM/Gw47PoRc8z8igKKRu1XzP7wDKD7sW/M/6ZWMdDhf8z/Up2pt/1rzP+WXcq4UXvM/BZ7ueZ1a8z8fxaufplLzP0eoBmvDTvM/SXnjTEZP8z8wQxb1+V7zP2IoOEZoX/M/Iwl9bHNf8z+qOhIqkEzzP1GuJsioSfM//XTda9RB8z+QkmGg5VvzPxO1D3ZvXPM/Yl1nOmFB8z8vkufk/TzzP7KK//yLPvM/NovF5M438z9AADHwhDzzP1Qzl6OOKvM/4O+IQsIr8z9LXhNfyCfzP1ss7TWzGvM/oK4H0YQh8z8VHaXzFyPzP+3aNJKaLvM/JpUciP0r8z/TGvNXAy/zP188R70aN/M/G2/FgG4y8z9Nx5nEKzHzP2NIgN7jJ/M/kRQSOoEm8z90RoDfzjrzP2GKpanKKvM/kv88giA68z/tFHVUzy/zP8Fn91wUOfM/wRvdb5o18z9FhtMF6UPzPxOXIkoiV/M/cSJqzxhc8z+iJv1PEUDzP238K26DRPM/y/uXW4Fg8z80NO+OpmTzP27HY84qb/M/NP5HXPdt8z9SR1ka0XjzP2y+6wVthfM/D2rewf6P8z/WH8DvdqLzPwf7RE5mt/M/Fjf6Pq638z+WqXUKnLHzPwD2XrctvPM/mQsUd/yz8z/LUXWII63zPzZgakX1nfM/0/QXZFWZ8z+KIfvyHKHzP2vRJ0U+ovM/17B/fA6k8z/wYy9acJ/zPzz/jJOToPM/9pI5B9KR8z/6E0SltY/zP292Gqwch/M/3W/r7bCK8z/yJMdRxn3zP8v/fa8wa/M/tAAn5MBn8z+tCtXEcVzzPxqryTLKW/M/aSVWAtlK8z+MkOZwhGLzP7BSmNokT/M/C6ZHquJH8z/VquyfrC3zPy3bokBQLvM/zMHXz60x8z8LNM7fqx3zP4eXIyRgBvM/bTWPv3cJ8z8gp8T8UAfzPwTWmmWe9fI/glVNkrX68j8vJdeB1vPyP8tYfAlr8vI/N5r9bOvw8j9SM1HiI/zyP/7kEfxn//I/AULcEmQH8z+F1fzgwfDyP5QbxHHO8/I/h10xMbvw8j8BbqREyejyP8aOsiDf7fI/lUBccR7x8j8ZzmBybe/yP2qNR2hh6vI/qkpWInrs8j/W1aXSa/byP4DzBJ5A9vI/2c477Vjw8j9AwzflxdTyP7cG+ZYn1fI/+ngkFVLV8j8TbJ+yWtjyP2/Mvsjr0fI/1S1CVCm78j+AWXQ2WMHyP5JM8Wpwy/I/WeCUAN7f8j95bW18l+PyP5EQgFyt4/I/u+HYdD7i8j93Z8uX3OryPzuI3qLk5PI/fr2YNFPh8j9UO+2uYOXyP08GuSDt+vI/ZInehvvt8j8BSq3X3OvyP4k/wXhj/PI/K9OBZ+r88j9KAFTngADzP9Js/VQeAfM/9e8gSmYJ8z9sPZmtkw3zP0seM81BC/M/KmqmYdQI8z9AVO4RxwjzPxUZlUgeEvM/PaOI5/IU8z+yKJvNhC7zP1oAHoA6SfM/Ei9410pQ8z9xdiTZklLzPz8pr864XvM/NIVr4chw8z9Pwmn6WWrzP3C4z7+TavM/Mq0ei8FR8z9QMSR8TVnzP4+9Sd8NafM/PgctO0lm8z/mRjsMy1zzP2eJoO9edvM/pNfhT69/8z/1q99KPHLzP1J7y/qvZ/M/UELeg9h88z8H6+QLkYzzP+4sclL6ePM//b6e0WKM8z/X+OHYp4nzP3z0X2s4kvM/WQjpvbSH8z8Da6XG8n/zPyr3UzOogfM/kz0BKqaM8z/fAHXhY47zP+0mUrh3f/M/ffsyEWF98z+PF6dXrmXzP9dFQIVLV/M/6tOeFlFQ8z9+/0rKS1vzP7d+wouYa/M/9rm/pOpZ8z8MjScjlWjzP17kQLPpa/M/EZ74NqZt8z8cwn8qAX/zPxkn7PnKb/M/wsmL4f578z+JyLAByIzzP/2rqcQcdPM/1EG7eP918z+nGzZImnLzP6Qe5mXrb/M/kkhoVq5d8z9UPyH7AFrzP/0+F8ubWfM/n92/aRpI8z/1DzeFL03zP1GZcJasSfM/UlUEzPZQ8z/30imnqGLzP52nHjfUaPM/pBhKDJ1p8z91XCz9eWvzP5lxgJqvavM/RJpCgk1o8z/mnO6cxXDzP7qY177/aPM/TE/S1mFq8z8UBe6JcWXzP2tgOAtmVfM/HruYfl9a8z9DeqzHbkzzPxLFfSQ+UfM/jl83OwFV8z/Ni5inVkDzPw1U/+IdRfM/VkunE8s08z+yzseKQyzzP5vntDmnL/M/MstfAvQp8z9BCH4pMyLzP89YLZMsGvM/AhUTLDwg8z/KXyrdXCHzP6P4DPTcKfM/9K50OFoh8z/nedlLJxvzPyA5GG0hEvM/IrUS9eAB8z9uW4x0ufvyP39vFIn39fI/pifgGV7n8j+ka6HkteXyP9LeKrmB5fI/WqFWjLfl8j8h+dxng/ryPwCSUTpn/fI/1o0voRH98j/hVtNaW/byPwJ4/xLX7PI/S81/Ylzx8j/jKB8QRe3yP5NemPCj4fI//twMrW3c8j/q+PUp29PyPwygG4+vyfI/ni8JelPY8j/6S7MOvtryPypWbl8Y2vI/oCxQ/A7h8j+jHzd4LuvyP+rBvIRFCvM/uuC9gFsI8z/hD07I8QLzP9kx7VyO9/I/C1j3cMb98j/ZlGom4wTzP3XTViaRBfM/I44m6E0I8z/w+T+HuwTzP/GUORUFB/M/2V540C4I8z9qCRCZOBvzP6orHAj0HPM/tC8wcV4d8z+hBDdvTQrzP2PP81hwBfM/RpGz6AX78j+7Fw/YoPnyPx7CEGmp+fI/+/Tpt2Dy8j+jFsPGNfjyP37Ik4TQ/fI/usK3z+/+8j+LeM9f0QbzP0p7wt+2BvM/Rxl9jOsG8z/OZ3BdLgDzP+4qPLm5/fI/ZYau8uD68j9G6V44WPnyPwCDKWqG2PI/vh1IysbY8j+kR+/Yz9ryPyNEOZOH2/I/LMJVzTrc8j+J796z9ujyP03n0iAr7fI/akMejgjx8j8VA11SBeryP/GV+K3y9/I/TX1ln60U8z+gqcQhNP3yP4U6/t3H9/I/7igzQq7+8j8+XvSU5/byP5ou5U1H/PI/pxzBdqgW8z/8EXkw2BzzP0DH5veuIfM/GgZHFSwo8z+z0NsJAybzP4G6RSl9J/M/53SnlMon8z8ycwNKtSnzP3Qj7UCsJfM/1XV2+94i8z+k+kEsoyTzP8Yd3P6KK/M/V84fo2cm8z+AEtpSnCTzP3nytMJSOfM/O7gRj+498z8cma0oQUHzP78h/K4lSPM/zxj+IwpI8z8CtwdUNDTzP17AQY0YL/M/YNDzrxgw8z/3m2p8fzfzP7ZVTvUXJ/M/ZAxQJGcN8z9iOuOUVxDzP1fK8KtgEPM/yYfQSloS8z+DQvu5HBbzPy7unNEQEfM/PHfX9O0A8z8z0aOhGgXzPydFx0F7/PI/BhP38jP38j+0XErc/PTyP+XT/IxS8vI/llp1PNsO8z8gMXIttwbzP5HElI6FD/M/kWRoJMkJ8z+qH/HsyQ7zP71b9mKiEfM/y8K8xScY8z811sCEQBfzP5N+ZpSlCvM/5XZTAhUM8z/kvAOjkwPzP/JKqz57/fI/SxkXjngD8z8Hj8itxQfzPyZeOM1EDPM/44S5dkYQ8z8Rz+y5uwnzP+OgOataDPM/wulmdOMU8z+9wZ8EBxbzP4a0mPZhGPM/esdHozsU8z/zAh0rhxjzP9tbuPfIFfM/u0hFZzgW8z/NefdayRPzP5GDpL3bG/M/7KUn+T0Z8z/ztiAEgxnzP8fYQgVtG/M/CcnsnsIH8z+LwUn3Hg/zPz8bs0FlDfM/pGF2hhcX8z/EUY0LWA3zPw4kDDwMDPM/VYKZqWkJ8z/HXTxTKgHzPxEYxVIBAPM/pFtVZx0B8z99N1ZXhQLzP/vxAhBYD/M/DLFO3qAG8z+EYPz3hwDzPznXb2oyA/M/wLs8k7788j9AWjLSbwDzP+M36aSsAvM/fqOkb7T88j+FlYhn0PzyP/2/kJz4+PI/laaInwn38j+QU4PyRfTyP7KpSY2Y9/I/ta9iVB798j9cRNlpcPzyP6l4ClsX9PI/HozkZE/78j9hzUBd7BLzP0uzT17bDfM/VgMHIIsJ8z8S3E5QugTzP1ZneuXuBfM/OupQzSH58j9tvGPFsAXzP1xcs4qCBPM/huIod+wH8z/amwxMwQ/zP5dToET/DfM/sj8aPBgK8z/sXTMmRBLzPwBH0TE9B/M/brZdPTYO8z/8SNRJZhbzPyLX5+UZGPM/aiAnkpIb8z+mDbF7sx7zP2ayN5sMGfM/M8rr3/oc8z9nvOrazSDzP9l+KppyJvM/YZlWcaom8z9jh3kcmCbzP/97xHc+LfM/ccDjZwsq8z9S7gvjQSjzPxNzhCDHLPM/25qwLyEu8z81/p2nuR3zP6z68EiyHPM/0JpuuJ0a8z/BKKbJNhzzP4GILD8MGvM/huMzKQ4d8z/PYQz2DRTzP75+F7FNEvM/MSWfxOoN8z9VqfRSvQ/zP8Sbdt+6C/M/f+xWjwER8z8pWSfHBQ3zPwmyNPqVDvM/v3sRPlka8z/rWpIDIBbzP5MjMqXPD/M//BCkvYYL8z/WEyOISAjzPyVimLiZDvM/zwX6QHAM8z+gFSXS/QPzP64kleLn//I/aWvS6fr98j/TAcLVr/ryP36pet5t+/I/nSrL89D38j8gNrwgzPLyP1Hf3Lls6/I/l6rDCNbp8j90AiixMOHyP8QPotup4/I/ihZow73e8j/XR2HPou/yP7lQjKKa6vI/iVofWIDq8j+OeahabuvyPx28WLqR6PI//vllRo3p8j/wHyr2HOjyP9VHz9yC8/I/cauISi7v8j8XYcOK5+jyP/sf2QMM5fI/wumfASvW8j/zGf1zBtTyPxrhg+Fx0fI/AQLVWDbM8j9B7csmqc3yP7mBbrexyfI/OrW+zq7H8j/ORsLfhcvyP4KnLyubzfI/JNPX+bPL8j8dB9VGkM7yP+WOomZwy/I/W03jzRfN8j9VaX0a9cvyP4ZhChRWz/I/YFGUbELI8j+7JBUp/MryP5bH3l+/xfI/TZz/pkHL8j9uZ9NTEr/yP6t1ASE6u/I/C773d2298j+zdaX5WsHyP/wXIc05xPI/EJLnhsrF8j8LhY1f4MvyPwE24FLWv/I/mSXGHmrA8j8qC8IxKsDyP8FYvid+w/I/FxCVGfzE8j9Uf9wKlsPyP8UB12yVyPI/taHeioXK8j8+xvSm28XyP8VujS57w/I/J6yk5QnE8j8gFG935cnyP1sIwIO3xvI//BL1vdLb8j9/uBRq6+LyPxcB+8Sd5fI/vNHmb4jm8j8uqcAwW+XyP57iZiSb5/I/0ry8fszn8j9h176ca/HyP2tcvdaB9vI/Mfl6ET308j+9IGAfVOryP8VXJuxG7/I/BVkWuRTx8j/yNUTHROzyP3LjzVaq6fI/Cq6dsYLq8j+B47TcMN/yPwR9RjXx3vI/T4usDXPc8j8zSPWzXd7yPxK/Xztg2fI/isF/ZajS8j+dD5FAMdfyP7BtmrkG0/I/HlHI/Bba8j8CzPoizebyP6qDBeWE7/I/BsI0hZPv8j8Nb53sJe3yP0b2vgKl9fI/7wNO/33h8j/UIIxaudPyPzAlqQMhy/I/i3whHiXI8j8gIAnyXMzyP06G4b1az/I/dolGarjh8j/NDJVwwNzyP1fPmSDS4PI/9WgxVb7j8j88x77tAO7yP+rVmSZf8PI/RnpmunTy8j/BqgzgN/7yP5awSg6R/vI/aWQqDKD68j9+JXGA8P7yP40bx3hmCvM/hRk8360J8z9/c90eJw3zP8DpO2wuFPM/muUFK0Aa8z+9//bJpRjzP8axPN3qGfM/lar5iiwW8z+EzgRzIhTzP3ntoEPxEPM/dmSyAlQQ8z8TwxiyvQnzP7wzNOjyA/M/UGELC6cP8z9fdJPuGRTzP6KcLlYzGvM/wdTzQZkX8z/yHN8ntBjzP9FbjboKHPM//g6ivb0L8z8BA4aIWQrzPy+5fAK4CPM/o7jLRQAN8z8TA9HGxwTzP0tXtAT6B/M/gzek6dEH8z/ddq9ZQf7yP3G9N04dA/M/0qHjFIYF8z/uaxdQQgnzP35+OgXEAfM/OxdUy30B8z8CHgHP/ALzP4z3gV9TAPM/Md4cF40B8z9i6kouwAjzP4/oBTl9BfM/HLk3bxQM8z9bTBbqcgbzP2MXGx7FAfM/vl6kiBYJ8z8+te5efQnzPyX3qNJkCPM/7lxM69YE8z856FP1nAzzP44Qzzm9CfM/hSt4W5kO8z/p9sdhYAzzP4vycYjOC/M/9zdvyUUL8z8QvtMUOgjzP+0QMS5aBvM/dNu4Ubb98j+Qvx0ViP/yP3KTDPny+PI/ZcNA3ET28j/Az0gQzv3yP4L8NF2Q/PI/tH+a373/8j/yORDIfvbyP8Hv7BhU+PI/7QX7wmb38j+Dp+E+l/fyPwpljrPn9/I/Etn2+Mjy8j+7qzHfR+jyPyL4cd+A8fI/tO6utFns8j981oosf+XyP382BPeU4fI/B3+3Aw7X8j/aPgcTgNvyP3viUfja4fI/VBq0ngbg8j+5iJPvnNryP83knh0B3fI/UleCPnPd8j8XLARxc+LyPxmJgx/o4fI/8YSWK33l8j8eLRU7O+jyP9f///0U8PI/bCxYQD318j+0HojDmvHyP71XC2pb9PI/QAYBqCX88j8G+jWo//byP4EClE7/9vI/nZsbnCnz8j+mxPueW//yPz+gzCu5+PI/jiiDfu8A8z8RctDJawHzP2EGTyYDCfM/pXc6nf0G8z+UbTpGwwfzP8Il1i6QAvM/ZSrfc6IL8z+s3T9g0QvzP1NZAWpQEPM/9njMyPwW8z8mh2sHcxnzP2IRvXaLHPM/1mmYLcoc8z++8YVuuSXzPyuaG+SsK/M/udoFex0t8z8DlAt5bynzP8u4AJpIIPM/uxfy+Pco8z+wxohTAC3zP3H1XT/YIfM/v0aGJI8j8z/aQniGMyTzP3OzBl+kJ/M/jaM6gB0c8z+BgQWJqRXzPwtypz0FF/M/s//4Y48b8z/5O5izph7zP7UJYg9WJvM/tHJ6Cson8z+rtrnm8ijzPzcJOcJrH/M/4censWce8z/j1gK+ViXzP32S0f+NIfM/szSIPkAZ8z9rMRzwQhvzP/rNdxS7H/M/OTsN+Qoi8z+gRfKDmxvzP8Brk4H2EfM/oJyEf4oR8z8NU9NN4wPzP04eFkUz+fI/ZKwLEz308j/mKZsa6vTyPzsYyYLt9/I/zTMT3crr8j8OJxWOpu7yPxP7mWIn+vI/",
           "dtype": "f8",
           "shape": "2415"
          },
          "bdata": "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",
          "dtype": "f8"
         },
         "yaxis": "y"
        }
       ],
       "layout": {
        "autosize": true,
        "legend": {
         "tracegroupgap": 0
        },
        "margin": {
         "t": 60
        },
        "template": {
         "data": {
          "bar": [
           {
            "error_x": {
             "color": "#2a3f5f"
            },
            "error_y": {
             "color": "#2a3f5f"
            },
            "marker": {
             "line": {
              "color": "#E5ECF6",
              "width": 0.5
             },
             "pattern": {
              "fillmode": "overlay",
              "size": 10,
              "solidity": 0.2
             }
            },
            "type": "bar"
           }
          ],
          "barpolar": [
           {
            "marker": {
             "line": {
              "color": "#E5ECF6",
              "width": 0.5
             },
             "pattern": {
              "fillmode": "overlay",
              "size": 10,
              "solidity": 0.2
             }
            },
            "type": "barpolar"
           }
          ],
          "carpet": [
           {
            "aaxis": {
             "endlinecolor": "#2a3f5f",
             "gridcolor": "white",
             "linecolor": "white",
             "minorgridcolor": "white",
             "startlinecolor": "#2a3f5f"
            },
            "baxis": {
             "endlinecolor": "#2a3f5f",
             "gridcolor": "white",
             "linecolor": "white",
             "minorgridcolor": "white",
             "startlinecolor": "#2a3f5f"
            },
            "type": "carpet"
           }
          ],
          "choropleth": [
           {
            "colorbar": {
             "outlinewidth": 0,
             "ticks": ""
            },
            "type": "choropleth"
           }
          ],
          "contour": [
           {
            "colorbar": {
             "outlinewidth": 0,
             "ticks": ""
            },
            "colorscale": [
             [
              0,
              "#0d0887"
             ],
             [
              0.1111111111111111,
              "#46039f"
             ],
             [
              0.2222222222222222,
              "#7201a8"
             ],
             [
              0.3333333333333333,
              "#9c179e"
             ],
             [
              0.4444444444444444,
              "#bd3786"
             ],
             [
              0.5555555555555556,
              "#d8576b"
             ],
             [
              0.6666666666666666,
              "#ed7953"
             ],
             [
              0.7777777777777778,
              "#fb9f3a"
             ],
             [
              0.8888888888888888,
              "#fdca26"
             ],
             [
              1,
              "#f0f921"
             ]
            ],
            "type": "contour"
           }
          ],
          "contourcarpet": [
           {
            "colorbar": {
             "outlinewidth": 0,
             "ticks": ""
            },
            "type": "contourcarpet"
           }
          ],
          "heatmap": [
           {
            "colorbar": {
             "outlinewidth": 0,
             "ticks": ""
            },
            "colorscale": [
             [
              0,
              "#0d0887"
             ],
             [
              0.1111111111111111,
              "#46039f"
             ],
             [
              0.2222222222222222,
              "#7201a8"
             ],
             [
              0.3333333333333333,
              "#9c179e"
             ],
             [
              0.4444444444444444,
              "#bd3786"
             ],
             [
              0.5555555555555556,
              "#d8576b"
             ],
             [
              0.6666666666666666,
              "#ed7953"
             ],
             [
              0.7777777777777778,
              "#fb9f3a"
             ],
             [
              0.8888888888888888,
              "#fdca26"
             ],
             [
              1,
              "#f0f921"
             ]
            ],
            "type": "heatmap"
           }
          ],
          "histogram": [
           {
            "marker": {
             "pattern": {
              "fillmode": "overlay",
              "size": 10,
              "solidity": 0.2
             }
            },
            "type": "histogram"
           }
          ],
          "histogram2d": [
           {
            "colorbar": {
             "outlinewidth": 0,
             "ticks": ""
            },
            "colorscale": [
             [
              0,
              "#0d0887"
             ],
             [
              0.1111111111111111,
              "#46039f"
             ],
             [
              0.2222222222222222,
              "#7201a8"
             ],
             [
              0.3333333333333333,
              "#9c179e"
             ],
             [
              0.4444444444444444,
              "#bd3786"
             ],
             [
              0.5555555555555556,
              "#d8576b"
             ],
             [
              0.6666666666666666,
              "#ed7953"
             ],
             [
              0.7777777777777778,
              "#fb9f3a"
             ],
             [
              0.8888888888888888,
              "#fdca26"
             ],
             [
              1,
              "#f0f921"
             ]
            ],
            "type": "histogram2d"
           }
          ],
          "histogram2dcontour": [
           {
            "colorbar": {
             "outlinewidth": 0,
             "ticks": ""
            },
            "colorscale": [
             [
              0,
              "#0d0887"
             ],
             [
              0.1111111111111111,
              "#46039f"
             ],
             [
              0.2222222222222222,
              "#7201a8"
             ],
             [
              0.3333333333333333,
              "#9c179e"
             ],
             [
              0.4444444444444444,
              "#bd3786"
             ],
             [
              0.5555555555555556,
              "#d8576b"
             ],
             [
              0.6666666666666666,
              "#ed7953"
             ],
             [
              0.7777777777777778,
              "#fb9f3a"
             ],
             [
              0.8888888888888888,
              "#fdca26"
             ],
             [
              1,
              "#f0f921"
             ]
            ],
            "type": "histogram2dcontour"
           }
          ],
          "mesh3d": [
           {
            "colorbar": {
             "outlinewidth": 0,
             "ticks": ""
            },
            "type": "mesh3d"
           }
          ],
          "parcoords": [
           {
            "line": {
             "colorbar": {
              "outlinewidth": 0,
              "ticks": ""
             }
            },
            "type": "parcoords"
           }
          ],
          "pie": [
           {
            "automargin": true,
            "type": "pie"
           }
          ],
          "scatter": [
           {
            "fillpattern": {
             "fillmode": "overlay",
             "size": 10,
             "solidity": 0.2
            },
            "type": "scatter"
           }
          ],
          "scatter3d": [
           {
            "line": {
             "colorbar": {
              "outlinewidth": 0,
              "ticks": ""
             }
            },
            "marker": {
             "colorbar": {
              "outlinewidth": 0,
              "ticks": ""
             }
            },
            "type": "scatter3d"
           }
          ],
          "scattercarpet": [
           {
            "marker": {
             "colorbar": {
              "outlinewidth": 0,
              "ticks": ""
             }
            },
            "type": "scattercarpet"
           }
          ],
          "scattergeo": [
           {
            "marker": {
             "colorbar": {
              "outlinewidth": 0,
              "ticks": ""
             }
            },
            "type": "scattergeo"
           }
          ],
          "scattergl": [
           {
            "marker": {
             "colorbar": {
              "outlinewidth": 0,
              "ticks": ""
             }
            },
            "type": "scattergl"
           }
          ],
          "scattermap": [
           {
            "marker": {
             "colorbar": {
              "outlinewidth": 0,
              "ticks": ""
             }
            },
            "type": "scattermap"
           }
          ],
          "scattermapbox": [
           {
            "marker": {
             "colorbar": {
              "outlinewidth": 0,
              "ticks": ""
             }
            },
            "type": "scattermapbox"
           }
          ],
          "scatterpolar": [
           {
            "marker": {
             "colorbar": {
              "outlinewidth": 0,
              "ticks": ""
             }
            },
            "type": "scatterpolar"
           }
          ],
          "scatterpolargl": [
           {
            "marker": {
             "colorbar": {
              "outlinewidth": 0,
              "ticks": ""
             }
            },
            "type": "scatterpolargl"
           }
          ],
          "scatterternary": [
           {
            "marker": {
             "colorbar": {
              "outlinewidth": 0,
              "ticks": ""
             }
            },
            "type": "scatterternary"
           }
          ],
          "surface": [
           {
            "colorbar": {
             "outlinewidth": 0,
             "ticks": ""
            },
            "colorscale": [
             [
              0,
              "#0d0887"
             ],
             [
              0.1111111111111111,
              "#46039f"
             ],
             [
              0.2222222222222222,
              "#7201a8"
             ],
             [
              0.3333333333333333,
              "#9c179e"
             ],
             [
              0.4444444444444444,
              "#bd3786"
             ],
             [
              0.5555555555555556,
              "#d8576b"
             ],
             [
              0.6666666666666666,
              "#ed7953"
             ],
             [
              0.7777777777777778,
              "#fb9f3a"
             ],
             [
              0.8888888888888888,
              "#fdca26"
             ],
             [
              1,
              "#f0f921"
             ]
            ],
            "type": "surface"
           }
          ],
          "table": [
           {
            "cells": {
             "fill": {
              "color": "#EBF0F8"
             },
             "line": {
              "color": "white"
             }
            },
            "header": {
             "fill": {
              "color": "#C8D4E3"
             },
             "line": {
              "color": "white"
             }
            },
            "type": "table"
           }
          ]
         },
         "layout": {
          "annotationdefaults": {
           "arrowcolor": "#2a3f5f",
           "arrowhead": 0,
           "arrowwidth": 1
          },
          "autotypenumbers": "strict",
          "coloraxis": {
           "colorbar": {
            "outlinewidth": 0,
            "ticks": ""
           }
          },
          "colorscale": {
           "diverging": [
            [
             0,
             "#8e0152"
            ],
            [
             0.1,
             "#c51b7d"
            ],
            [
             0.2,
             "#de77ae"
            ],
            [
             0.3,
             "#f1b6da"
            ],
            [
             0.4,
             "#fde0ef"
            ],
            [
             0.5,
             "#f7f7f7"
            ],
            [
             0.6,
             "#e6f5d0"
            ],
            [
             0.7,
             "#b8e186"
            ],
            [
             0.8,
             "#7fbc41"
            ],
            [
             0.9,
             "#4d9221"
            ],
            [
             1,
             "#276419"
            ]
           ],
           "sequential": [
            [
             0,
             "#0d0887"
            ],
            [
             0.1111111111111111,
             "#46039f"
            ],
            [
             0.2222222222222222,
             "#7201a8"
            ],
            [
             0.3333333333333333,
             "#9c179e"
            ],
            [
             0.4444444444444444,
             "#bd3786"
            ],
            [
             0.5555555555555556,
             "#d8576b"
            ],
            [
             0.6666666666666666,
             "#ed7953"
            ],
            [
             0.7777777777777778,
             "#fb9f3a"
            ],
            [
             0.8888888888888888,
             "#fdca26"
            ],
            [
             1,
             "#f0f921"
            ]
           ],
           "sequentialminus": [
            [
             0,
             "#0d0887"
            ],
            [
             0.1111111111111111,
             "#46039f"
            ],
            [
             0.2222222222222222,
             "#7201a8"
            ],
            [
             0.3333333333333333,
             "#9c179e"
            ],
            [
             0.4444444444444444,
             "#bd3786"
            ],
            [
             0.5555555555555556,
             "#d8576b"
            ],
            [
             0.6666666666666666,
             "#ed7953"
            ],
            [
             0.7777777777777778,
             "#fb9f3a"
            ],
            [
             0.8888888888888888,
             "#fdca26"
            ],
            [
             1,
             "#f0f921"
            ]
           ]
          },
          "colorway": [
           "#636efa",
           "#EF553B",
           "#00cc96",
           "#ab63fa",
           "#FFA15A",
           "#19d3f3",
           "#FF6692",
           "#B6E880",
           "#FF97FF",
           "#FECB52"
          ],
          "font": {
           "color": "#2a3f5f"
          },
          "geo": {
           "bgcolor": "white",
           "lakecolor": "white",
           "landcolor": "#E5ECF6",
           "showlakes": true,
           "showland": true,
           "subunitcolor": "white"
          },
          "hoverlabel": {
           "align": "left"
          },
          "hovermode": "closest",
          "mapbox": {
           "style": "light"
          },
          "paper_bgcolor": "white",
          "plot_bgcolor": "#E5ECF6",
          "polar": {
           "angularaxis": {
            "gridcolor": "white",
            "linecolor": "white",
            "ticks": ""
           },
           "bgcolor": "#E5ECF6",
           "radialaxis": {
            "gridcolor": "white",
            "linecolor": "white",
            "ticks": ""
           }
          },
          "scene": {
           "xaxis": {
            "backgroundcolor": "#E5ECF6",
            "gridcolor": "white",
            "gridwidth": 2,
            "linecolor": "white",
            "showbackground": true,
            "ticks": "",
            "zerolinecolor": "white"
           },
           "yaxis": {
            "backgroundcolor": "#E5ECF6",
            "gridcolor": "white",
            "gridwidth": 2,
            "linecolor": "white",
            "showbackground": true,
            "ticks": "",
            "zerolinecolor": "white"
           },
           "zaxis": {
            "backgroundcolor": "#E5ECF6",
            "gridcolor": "white",
            "gridwidth": 2,
            "linecolor": "white",
            "showbackground": true,
            "ticks": "",
            "zerolinecolor": "white"
           }
          },
          "shapedefaults": {
           "line": {
            "color": "#2a3f5f"
           }
          },
          "ternary": {
           "aaxis": {
            "gridcolor": "white",
            "linecolor": "white",
            "ticks": ""
           },
           "baxis": {
            "gridcolor": "white",
            "linecolor": "white",
            "ticks": ""
           },
           "bgcolor": "#E5ECF6",
           "caxis": {
            "gridcolor": "white",
            "linecolor": "white",
            "ticks": ""
           }
          },
          "title": {
           "x": 0.05
          },
          "xaxis": {
           "automargin": true,
           "gridcolor": "white",
           "linecolor": "white",
           "ticks": "",
           "title": {
            "standoff": 15
           },
           "zerolinecolor": "white",
           "zerolinewidth": 2
          },
          "yaxis": {
           "automargin": true,
           "gridcolor": "white",
           "linecolor": "white",
           "ticks": "",
           "title": {
            "standoff": 15
           },
           "zerolinecolor": "white",
           "zerolinewidth": 2
          }
         }
        },
        "xaxis": {
         "anchor": "y",
         "autorange": true,
         "domain": [
          0,
          1
         ],
         "range": [
          -151.5177203902286,
          2890.845843847326
         ],
         "title": {
          "text": "straight line distance"
         },
         "type": "linear"
        },
        "yaxis": {
         "anchor": "x",
         "autorange": true,
         "domain": [
          0,
          1
         ],
         "range": [
          0.8987568984321982,
          2.4079024217031626
         ],
         "title": {
          "text": "detour ratio"
         },
         "type": "linear"
        }
       }
      },
      "image/png": "[encoded data removed]"
     },
     "metadata": {},
     "output_type": "display_data"
    }
   ],
   "source": [
    "import plotly.express as px\n",
    "import pandas as pd\n",
    "df = pd.DataFrame(data={'straight line distance': straight_distance,\n",
    "                        'detour ratio': detour_ratio,\n",
    "                        'route': route})\n",
    "fig = px.scatter(df, x='straight line distance', y='detour ratio', hover_data='route', trendline='rolling', trendline_options=dict(window=30), opacity=0.2)\n",
    "fig.show()"
   ]
  },
  {
   "cell_type": "markdown",
   "id": "55d18e04-f25b-47e4-a020-e0c22dc8faef",
   "metadata": {},
   "source": [
    "The rolling average is usually just under 1.2, especially for longer straight-line distances. In applications where one needs to approximate the driving distance but finding the shortest path is not practical, multiplying the straight-line distance by 1.2 is a decent approximation. Of course, it all depends on how accurate you need that estimate to be!"
   ]
  }
 ],
 "metadata": {
  "kernelspec": {
   "display_name": "Python 3 (ipykernel)",
   "language": "python",
   "name": "python3"
  },
  "language_info": {
   "codemirror_mode": {
    "name": "ipython",
    "version": 3
   },
   "file_extension": ".py",
   "mimetype": "text/x-python",
   "name": "python",
   "nbconvert_exporter": "python",
   "pygments_lexer": "ipython3",
   "version": "3.12.3"
  }
 },
 "nbformat": 4,
 "nbformat_minor": 5
}
